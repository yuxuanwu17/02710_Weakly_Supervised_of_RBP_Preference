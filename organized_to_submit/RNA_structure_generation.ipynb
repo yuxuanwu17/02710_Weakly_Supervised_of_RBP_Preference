{
 "cells": [
  {
   "cell_type": "code",
   "execution_count": 20,
   "id": "a1a86478-b1a6-4d44-a7d8-66965b64d2ac",
   "metadata": {},
   "outputs": [],
   "source": [
    "import os\n",
    "from pathlib import Path\n",
    "import re\n",
    "import subprocess"
   ]
  },
  {
   "cell_type": "code",
   "execution_count": 21,
   "id": "734b9b8b-82a6-4c6f-aa8f-f075e9b2b8e0",
   "metadata": {},
   "outputs": [],
   "source": [
    "def clean(file_path):\n",
    "    with open(file_path, 'r') as f:\n",
    "        results = f.readlines()\n",
    "    \n",
    "    for i in range(len(results)):\n",
    "        num = i + 1\n",
    "        if (num % 3 == 0):\n",
    "            results[i] = re.split(' ', results[i])[0] + '\\n'\n",
    "\n",
    "    with open(file_path, 'w') as f:\n",
    "        [f.writelines(i) for i in results]\n",
    "        \n",
    "def file_sep(file_path, path, train_attribute):\n",
    "    with open(file_path, 'r') as f:\n",
    "        count = 0\n",
    "        to_write = []\n",
    "        for index, line in enumerate(f.readlines()):\n",
    "            print(index)\n",
    "            to_write.append(line)\n",
    "            count += 1\n",
    "            if count >= 3:\n",
    "                with open(f'{path}{train_attribute}tmp.out', 'w') as f_out:\n",
    "                    for i in to_write:\n",
    "                        f_out.write(i)\n",
    "                count = 0\n",
    "                to_write = []\n",
    "                rna_structure_out = subprocess.getoutput(f\"python3 rnaCovert.py {path}{train_attribute}tmp.out -T element_string\")\n",
    "                with open(f'{path}{train_attribute}sequence_structures_forgi.out', 'a') as f_write:\n",
    "                    f_write.write(rna_structure_out)\n",
    "                    f_write.write(\"\\n\\n\\n\")\n",
    "                    f_write.write(\"========================================\")\n",
    "                    f_write.write(\"\\n\\n\\n\")"
   ]
  },
  {
   "cell_type": "code",
   "execution_count": null,
   "id": "a2f39044-4f13-4b4d-8594-8836b892a190",
   "metadata": {},
   "outputs": [],
   "source": [
    "datasets = sorted([str(p) for p in Path(\"../iDeepS/datasets/clip\").iterdir()])\n",
    "train_attribute = \"/30000/training_sample_0/\"\n",
    "test_attribute = \"/30000/test_sample_0/\"\n",
    "\n",
    "for path in datasets:\n",
    "    with open(f\"{path}{train_attribute}sequence_structures_forgi.out\") as f:\n",
    "        print(path)\n",
    "        print(len(f.readlines()))"
   ]
  },
  {
   "cell_type": "code",
   "execution_count": null,
   "id": "a3bbdcd7-55b9-4582-8f79-edc2f1a8baa3",
   "metadata": {},
   "outputs": [],
   "source": [
    "# datasets = sorted([str(p) for p in Path(\"../iDeepS/datasets/clip\").iterdir\n",
    "datasets = [\n",
    "    \"../iDeepS/datasets/clip/10_PARCLIP_ELAVL1A_hg19\",\n",
    "    # \"../iDeepS/datasets/clip/26_PARCLIP_TAF15_hg19\"\n",
    "]\n",
    "\n",
    "train_attribute = \"/30000/training_sample_0/\"\n",
    "test_attribute = \"/30000/test_sample_0/\"\n",
    "\n",
    "for path in datasets:\n",
    "    os.system(f\"gunzip -dk {path}{train_attribute}sequences.fa.gz\")\n",
    "    os.system(f\"RNAfold {path}{train_attribute}sequences.fa --noPS > {path}{train_attribute}sequence_structures.out\")\n",
    "    clean(f\"{path}{train_attribute}sequence_structures.out\")\n",
    "    file_sep(f\"{path}{train_attribute}sequence_structures.out\", path, train_attribute)\n",
    "    # os.system(f\"python3 rnaCovert.py {path}{train_attribute}sequence_structures.out -T element_string >{path}{train_attribute}sequence_structures_token.out\")\n"
   ]
  },
  {
   "cell_type": "code",
   "execution_count": null,
   "id": "5916829d-9439-4f26-ab63-ddbf3bc64fb7",
   "metadata": {},
   "outputs": [],
   "source": []
  }
 ],
 "metadata": {
  "kernelspec": {
   "display_name": "Python 3 (ipykernel)",
   "language": "python",
   "name": "python3"
  },
  "language_info": {
   "codemirror_mode": {
    "name": "ipython",
    "version": 3
   },
   "file_extension": ".py",
   "mimetype": "text/x-python",
   "name": "python",
   "nbconvert_exporter": "python",
   "pygments_lexer": "ipython3",
   "version": "3.9.7"
  }
 },
 "nbformat": 4,
 "nbformat_minor": 5
}

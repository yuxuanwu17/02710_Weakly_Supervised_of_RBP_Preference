{
 "cells": [
  {
   "cell_type": "code",
   "execution_count": 4,
   "id": "722178ed-e1c5-4348-ac97-144cf339b538",
   "metadata": {},
   "outputs": [],
   "source": [
    "import pandas as pd\n",
    "import numpy as np\n",
    "\n",
    "import torch\n",
    "import torch.nn as nn\n",
    "import torch.nn.utils.rnn as rnn_utils\n",
    "from torch.utils.data import DataLoader, Dataset\n",
    "import torch.optim as optim\n",
    "from torch.optim import lr_scheduler\n",
    "import torch.nn.utils as utils\n",
    "\n",
    "import gzip\n",
    "import os\n",
    "# os.environ['CUDA_LAUNCH_BLOCKING'] = '1'\n",
    "\n",
    "from torchsummaryX import summary\n",
    "import pytorch_warmup as warmup\n",
    "\n",
    "from tqdm import tqdm\n",
    "from sklearn.metrics import roc_auc_score\n",
    "\n",
    "from dataloader import *\n",
    "from model import *"
   ]
  },
  {
   "cell_type": "code",
   "execution_count": 5,
   "id": "33c1f01f-2acb-463a-aaf7-1fc4cc489a85",
   "metadata": {
    "id": "33c1f01f-2acb-463a-aaf7-1fc4cc489a85"
   },
   "outputs": [
    {
     "name": "stdout",
     "output_type": "stream",
     "text": [
      "torch.Size([1, 13, 40, 4]) torch.Size([1, 2]) torch.Size([1, 13, 40, 6])\n"
     ]
    }
   ],
   "source": [
    "path = '../iDeepS/datasets/clip/11_CLIPSEQ_ELAVL1_hg19'\n",
    "\n",
    "instance_length = 40\n",
    "instance_stride = 5\n",
    "\n",
    "batch_size = 1\n",
    "epochs = 20\n",
    "lr = 5e-4\n",
    "weight_decay = 1e-5\n",
    "\n",
    "train_data_path = path + \"/30000/training_sample_0/sequences.fa.gz\"\n",
    "valid_data_path = path + \"/30000/test_sample_0/sequences.fa.gz\"\n",
    "train_structure_path = path + \"/30000/training_sample_0/sequence_structures_forgi.out\"\n",
    "validate_structure_path = path + \"/30000/test_sample_0/sequence_structures_forgi.out\"\n",
    "\n",
    "train_data = LibriSamplesWithStructure(train_data_path, train_structure_path)\n",
    "valid_data = LibriSamplesWithStructure(valid_data_path, validate_structure_path)\n",
    "\n",
    "train_loader = torch.utils.data.DataLoader(train_data, batch_size = batch_size, shuffle=True)\n",
    "valid_loader = torch.utils.data.DataLoader(valid_data, batch_size = batch_size, shuffle=True)\n",
    "\n",
    "for x, y, structure in train_loader:\n",
    "    print(x.shape, y.shape, structure.shape)\n",
    "    break"
   ]
  },
  {
   "cell_type": "code",
   "execution_count": 6,
   "id": "ZwbrkD9MtjyT",
   "metadata": {
    "colab": {
     "base_uri": "https://localhost:8080/"
    },
    "id": "ZwbrkD9MtjyT",
    "outputId": "85591642-c170-4a5b-cc85-7f815fbe072c"
   },
   "outputs": [
    {
     "name": "stderr",
     "output_type": "stream",
     "text": [
      "/home/yifan/Desktop/genomics/projects/model/model.py:141: UserWarning: Implicit dimension choice for softmax has been deprecated. Change the call to include dim=X as an argument.\n",
      "  gated_attention = self.softmax(gated_attention)  # torch.Size([1, 13])\n"
     ]
    },
    {
     "name": "stdout",
     "output_type": "stream",
     "text": [
      "Validation Accuracy 87.6600%, Auc Score 0.9040%\n"
     ]
    },
    {
     "name": "stderr",
     "output_type": "stream",
     "text": [
      "/home/yifan/Desktop/genomics/projects/model/model.py:141: UserWarning: Implicit dimension choice for softmax has been deprecated. Change the call to include dim=X as an argument.\n",
      "  gated_attention = self.softmax(gated_attention)  # torch.Size([1, 13])\n"
     ]
    },
    {
     "name": "stdout",
     "output_type": "stream",
     "text": [
      "Validation Accuracy 87.6400%, Auc Score 0.9036%\n"
     ]
    },
    {
     "name": "stderr",
     "output_type": "stream",
     "text": [
      "/home/yifan/Desktop/genomics/projects/model/model.py:141: UserWarning: Implicit dimension choice for softmax has been deprecated. Change the call to include dim=X as an argument.\n",
      "  gated_attention = self.softmax(gated_attention)  # torch.Size([1, 13])\n"
     ]
    },
    {
     "name": "stdout",
     "output_type": "stream",
     "text": [
      "Validation Accuracy 87.9400%, Auc Score 0.9047%\n"
     ]
    },
    {
     "name": "stderr",
     "output_type": "stream",
     "text": [
      "/home/yifan/Desktop/genomics/projects/model/model.py:141: UserWarning: Implicit dimension choice for softmax has been deprecated. Change the call to include dim=X as an argument.\n",
      "  gated_attention = self.softmax(gated_attention)  # torch.Size([1, 13])\n"
     ]
    },
    {
     "name": "stdout",
     "output_type": "stream",
     "text": [
      "Validation Accuracy 87.8100%, Auc Score 0.9039%\n"
     ]
    },
    {
     "name": "stderr",
     "output_type": "stream",
     "text": [
      "/home/yifan/Desktop/genomics/projects/model/model.py:141: UserWarning: Implicit dimension choice for softmax has been deprecated. Change the call to include dim=X as an argument.\n",
      "  gated_attention = self.softmax(gated_attention)  # torch.Size([1, 13])\n"
     ]
    },
    {
     "name": "stdout",
     "output_type": "stream",
     "text": [
      "Validation Accuracy 87.9200%, Auc Score 0.9043%\n"
     ]
    },
    {
     "name": "stderr",
     "output_type": "stream",
     "text": [
      "/home/yifan/Desktop/genomics/projects/model/model.py:141: UserWarning: Implicit dimension choice for softmax has been deprecated. Change the call to include dim=X as an argument.\n",
      "  gated_attention = self.softmax(gated_attention)  # torch.Size([1, 13])\n"
     ]
    },
    {
     "name": "stdout",
     "output_type": "stream",
     "text": [
      "Validation Accuracy 87.8400%, Auc Score 0.9040%\n"
     ]
    },
    {
     "name": "stderr",
     "output_type": "stream",
     "text": [
      "/home/yifan/Desktop/genomics/projects/model/model.py:141: UserWarning: Implicit dimension choice for softmax has been deprecated. Change the call to include dim=X as an argument.\n",
      "  gated_attention = self.softmax(gated_attention)  # torch.Size([1, 13])\n"
     ]
    },
    {
     "name": "stdout",
     "output_type": "stream",
     "text": [
      "Validation Accuracy 87.4900%, Auc Score 0.9050%\n"
     ]
    },
    {
     "name": "stderr",
     "output_type": "stream",
     "text": [
      "/home/yifan/Desktop/genomics/projects/model/model.py:141: UserWarning: Implicit dimension choice for softmax has been deprecated. Change the call to include dim=X as an argument.\n",
      "  gated_attention = self.softmax(gated_attention)  # torch.Size([1, 13])\n"
     ]
    },
    {
     "name": "stdout",
     "output_type": "stream",
     "text": [
      "Validation Accuracy 87.3200%, Auc Score 0.9048%\n"
     ]
    },
    {
     "name": "stderr",
     "output_type": "stream",
     "text": [
      "/home/yifan/Desktop/genomics/projects/model/model.py:141: UserWarning: Implicit dimension choice for softmax has been deprecated. Change the call to include dim=X as an argument.\n",
      "  gated_attention = self.softmax(gated_attention)  # torch.Size([1, 13])\n"
     ]
    },
    {
     "name": "stdout",
     "output_type": "stream",
     "text": [
      "Validation Accuracy 87.7300%, Auc Score 0.9048%\n"
     ]
    },
    {
     "name": "stderr",
     "output_type": "stream",
     "text": [
      "/home/yifan/Desktop/genomics/projects/model/model.py:141: UserWarning: Implicit dimension choice for softmax has been deprecated. Change the call to include dim=X as an argument.\n",
      "  gated_attention = self.softmax(gated_attention)  # torch.Size([1, 13])\n"
     ]
    },
    {
     "name": "stdout",
     "output_type": "stream",
     "text": [
      "Validation Accuracy 87.9400%, Auc Score 0.9053%\n"
     ]
    },
    {
     "name": "stderr",
     "output_type": "stream",
     "text": [
      "/home/yifan/Desktop/genomics/projects/model/model.py:141: UserWarning: Implicit dimension choice for softmax has been deprecated. Change the call to include dim=X as an argument.\n",
      "  gated_attention = self.softmax(gated_attention)  # torch.Size([1, 13])\n"
     ]
    },
    {
     "name": "stdout",
     "output_type": "stream",
     "text": [
      "Validation Accuracy 87.9500%, Auc Score 0.9055%\n"
     ]
    },
    {
     "name": "stderr",
     "output_type": "stream",
     "text": [
      "/home/yifan/Desktop/genomics/projects/model/model.py:141: UserWarning: Implicit dimension choice for softmax has been deprecated. Change the call to include dim=X as an argument.\n",
      "  gated_attention = self.softmax(gated_attention)  # torch.Size([1, 13])\n"
     ]
    },
    {
     "name": "stdout",
     "output_type": "stream",
     "text": [
      "Validation Accuracy 87.8900%, Auc Score 0.9049%\n"
     ]
    },
    {
     "name": "stderr",
     "output_type": "stream",
     "text": [
      "/home/yifan/Desktop/genomics/projects/model/model.py:141: UserWarning: Implicit dimension choice for softmax has been deprecated. Change the call to include dim=X as an argument.\n",
      "  gated_attention = self.softmax(gated_attention)  # torch.Size([1, 13])\n"
     ]
    },
    {
     "name": "stdout",
     "output_type": "stream",
     "text": [
      "Validation Accuracy 88.0200%, Auc Score 0.9054%\n"
     ]
    },
    {
     "name": "stderr",
     "output_type": "stream",
     "text": [
      "/home/yifan/Desktop/genomics/projects/model/model.py:141: UserWarning: Implicit dimension choice for softmax has been deprecated. Change the call to include dim=X as an argument.\n",
      "  gated_attention = self.softmax(gated_attention)  # torch.Size([1, 13])\n"
     ]
    },
    {
     "name": "stdout",
     "output_type": "stream",
     "text": [
      "Validation Accuracy 87.8300%, Auc Score 0.9055%\n"
     ]
    },
    {
     "name": "stderr",
     "output_type": "stream",
     "text": [
      "/home/yifan/Desktop/genomics/projects/model/model.py:141: UserWarning: Implicit dimension choice for softmax has been deprecated. Change the call to include dim=X as an argument.\n",
      "  gated_attention = self.softmax(gated_attention)  # torch.Size([1, 13])\n"
     ]
    },
    {
     "name": "stdout",
     "output_type": "stream",
     "text": [
      "Validation Accuracy 88.0400%, Auc Score 0.9057%\n"
     ]
    },
    {
     "name": "stderr",
     "output_type": "stream",
     "text": [
      "/home/yifan/Desktop/genomics/projects/model/model.py:141: UserWarning: Implicit dimension choice for softmax has been deprecated. Change the call to include dim=X as an argument.\n",
      "  gated_attention = self.softmax(gated_attention)  # torch.Size([1, 13])\n"
     ]
    },
    {
     "name": "stdout",
     "output_type": "stream",
     "text": [
      "Validation Accuracy 88.1800%, Auc Score 0.9065%\n"
     ]
    },
    {
     "name": "stderr",
     "output_type": "stream",
     "text": [
      "/home/yifan/Desktop/genomics/projects/model/model.py:141: UserWarning: Implicit dimension choice for softmax has been deprecated. Change the call to include dim=X as an argument.\n",
      "  gated_attention = self.softmax(gated_attention)  # torch.Size([1, 13])\n"
     ]
    },
    {
     "name": "stdout",
     "output_type": "stream",
     "text": [
      "Validation Accuracy 88.1800%, Auc Score 0.9064%\n"
     ]
    },
    {
     "name": "stderr",
     "output_type": "stream",
     "text": [
      "/home/yifan/Desktop/genomics/projects/model/model.py:141: UserWarning: Implicit dimension choice for softmax has been deprecated. Change the call to include dim=X as an argument.\n",
      "  gated_attention = self.softmax(gated_attention)  # torch.Size([1, 13])\n"
     ]
    },
    {
     "name": "stdout",
     "output_type": "stream",
     "text": [
      "Validation Accuracy 88.1600%, Auc Score 0.9064%\n"
     ]
    },
    {
     "name": "stderr",
     "output_type": "stream",
     "text": [
      "/home/yifan/Desktop/genomics/projects/model/model.py:141: UserWarning: Implicit dimension choice for softmax has been deprecated. Change the call to include dim=X as an argument.\n",
      "  gated_attention = self.softmax(gated_attention)  # torch.Size([1, 13])\n"
     ]
    },
    {
     "name": "stdout",
     "output_type": "stream",
     "text": [
      "Validation Accuracy 88.1400%, Auc Score 0.9061%\n"
     ]
    },
    {
     "name": "stderr",
     "output_type": "stream",
     "text": [
      "/home/yifan/Desktop/genomics/projects/model/model.py:141: UserWarning: Implicit dimension choice for softmax has been deprecated. Change the call to include dim=X as an argument.\n",
      "  gated_attention = self.softmax(gated_attention)  # torch.Size([1, 13])\n"
     ]
    },
    {
     "name": "stdout",
     "output_type": "stream",
     "text": [
      "Validation Accuracy 88.1200%, Auc Score 0.9061%\n"
     ]
    }
   ],
   "source": [
    "attention_to_plot = [333, 3447, 6235, 6235, 9390, 1661, 7096, 1406, 124, 5254]\n",
    "attention_data_dict = {}\n",
    "for i in attention_to_plot:\n",
    "    attention_data_dict[i] = []\n",
    "\n",
    "model = WeakRMwithStructure().cuda()\n",
    "optimizer = optim.Adam(model.parameters(), lr=lr, weight_decay=0.005)\n",
    "criterion = nn.BCELoss(weight=torch.tensor([0.8, 0.2])).cuda()\n",
    "num_steps = len(train_loader) * epochs\n",
    "scheduler = torch.optim.lr_scheduler.CosineAnnealingLR(optimizer, T_max=num_steps)\n",
    "warmup_scheduler = warmup.RAdamWarmup(optimizer)\n",
    "\n",
    "\n",
    "for epoch in range(1, epochs + 1):\n",
    "        # training\n",
    "        model.train()\n",
    "        num_correct = 0\n",
    "        total_loss = 0\n",
    "        for i, (x, y, structure) in enumerate(train_loader):\n",
    "            # print(i)\n",
    "            optimizer.zero_grad()\n",
    "\n",
    "            x = x.float().cuda()\n",
    "            y = y.float().cuda()\n",
    "            structure = structure.float().cuda()\n",
    "            \n",
    "            outputs, _ = model(x, structure[:, :13, :, :])\n",
    "\n",
    "            loss = criterion(outputs[0], y[0])\n",
    "\n",
    "            outputs = torch.argmax(outputs)\n",
    "\n",
    "            num_correct += int((outputs == torch.argmax(y)).sum())\n",
    "            total_loss += loss\n",
    "\n",
    "            loss.backward()\n",
    "            optimizer.step()\n",
    "            with warmup_scheduler.dampening():\n",
    "                scheduler.step()\n",
    "\n",
    "        print_content =\"Epoch {}/{}: Train Acc {:.04f}%, Train Loss {:.04f}, Learning Rate {:.04f}\".format(\n",
    "            epoch,\n",
    "            epochs,\n",
    "            100 * num_correct / (len(train_loader) * batch_size),\n",
    "            float(total_loss / len(train_loader)),\n",
    "            float(optimizer.param_groups[0]['lr'])\n",
    "        )\n",
    "\n",
    "#         print(print_content)\n",
    "        train_acc =  100 * num_correct / (len(train_loader) * batch_size)\n",
    "        train_loss = float(total_loss / len(train_loader))\n",
    "        learn_rate = float(optimizer.param_groups[0]['lr'])\n",
    "\n",
    "        # eval\n",
    "        model.eval()\n",
    "\n",
    "        num_correct = 0\n",
    "        total_loss = 0\n",
    "        predictions =[]\n",
    "        labels = []\n",
    "        for i, (x, y, structure) in enumerate(valid_loader):\n",
    "            x = x.float().cuda()\n",
    "            y = y.float().cuda()\n",
    "            structure = structure.float().cuda()\n",
    "            \n",
    "            with torch.no_grad():\n",
    "                outputs_probs, attention = model(x, structure[:, :13, :, :])\n",
    "                \n",
    "            outputs = torch.argmax(outputs_probs)\n",
    "\n",
    "            num_correct += int((outputs == torch.argmax(y)).sum())\n",
    "            total_loss += loss\n",
    "\n",
    "            predictions.append(outputs_probs.detach().cpu().numpy()[0])\n",
    "            labels.append(torch.argmax(y).detach().cpu().numpy())\n",
    "            \n",
    "            if i in attention_to_plot:\n",
    "                attention_data_dict[i].append(attention)\n",
    "                \n",
    "        dev_acc = 100 * num_correct / len(valid_loader)\n",
    "        dev_loss = total_loss / len(valid_loader)\n",
    "\n",
    "        auc_score = roc_auc_score(np.array(labels).flatten(), np.array(predictions)[:, 1])\n",
    "        print(\"Validation Accuracy {:.04f}%, Auc Score {:.04f}%\".format(dev_acc, auc_score))\n",
    "        \n",
    "        torch.save(model.state_dict(), f\"epoch{epoch}.m\")\n"
   ]
  },
  {
   "cell_type": "code",
   "execution_count": 7,
   "id": "3543bbf6-a00c-441c-8bdf-61ef9ee7e293",
   "metadata": {},
   "outputs": [
    {
     "data": {
      "text/plain": [
       "dict_keys([333, 3447, 6235, 9390, 1661, 7096, 1406, 124, 5254])"
      ]
     },
     "execution_count": 7,
     "metadata": {},
     "output_type": "execute_result"
    }
   ],
   "source": [
    "attention_data_dict.keys()"
   ]
  },
  {
   "cell_type": "code",
   "execution_count": 13,
   "id": "bc8af5da-a144-4c4c-88de-0041615b485a",
   "metadata": {},
   "outputs": [],
   "source": [
    "for k, v in attention_data_dict.items():\n",
    "    new_v = []\n",
    "    for i in v:\n",
    "        new_v.append(i.cpu().numpy())\n",
    "    attention_data_dict[k] = np.array(new_v)"
   ]
  },
  {
   "cell_type": "code",
   "execution_count": 26,
   "id": "bada51f6-ef24-49c8-b9f3-40a1cac8efee",
   "metadata": {},
   "outputs": [],
   "source": [
    "import seaborn as sns\n",
    "import matplotlib.pyplot as plt\n",
    "sns.set(rc = {'figure.figsize':(13, 20)})"
   ]
  },
  {
   "cell_type": "code",
   "execution_count": 27,
   "id": "570b4841-99c0-43c0-b8d8-111872b763f2",
   "metadata": {},
   "outputs": [
    {
     "data": {
      "text/plain": [
       "<Figure size 936x1440 with 0 Axes>"
      ]
     },
     "metadata": {},
     "output_type": "display_data"
    }
   ],
   "source": [
    "for i in attention_data_dict.keys():\n",
    "    fig = sns.heatmap(attention_data_dict[i].squeeze()).get_figure()\n",
    "    fig.savefig(f\"{i}.png\")\n",
    "    plt.clf()"
   ]
  },
  {
   "cell_type": "code",
   "execution_count": null,
   "id": "384036ab-24fd-4b21-86bf-650889e040ba",
   "metadata": {},
   "outputs": [],
   "source": []
  }
 ],
 "metadata": {
  "accelerator": "GPU",
  "colab": {
   "collapsed_sections": [],
   "name": "main_fanfan.ipynb",
   "provenance": []
  },
  "kernelspec": {
   "display_name": "Python 3 (ipykernel)",
   "language": "python",
   "name": "python3"
  },
  "language_info": {
   "codemirror_mode": {
    "name": "ipython",
    "version": 3
   },
   "file_extension": ".py",
   "mimetype": "text/x-python",
   "name": "python",
   "nbconvert_exporter": "python",
   "pygments_lexer": "ipython3",
   "version": "3.9.7"
  }
 },
 "nbformat": 4,
 "nbformat_minor": 5
}

{
 "cells": [
  {
   "cell_type": "code",
   "execution_count": 2,
   "id": "722178ed-e1c5-4348-ac97-144cf339b538",
   "metadata": {},
   "outputs": [],
   "source": [
    "import torch\n",
    "import torch.nn as nn\n",
    "import torch.nn.utils.rnn as rnn_utils\n",
    "from torch.utils.data import DataLoader, Dataset\n",
    "import torch.optim as optim\n",
    "from torch.optim import lr_scheduler\n",
    "import torch.nn.utils as utils\n",
    "\n",
    "import pandas as pd\n",
    "import numpy as np\n",
    "import gzip\n",
    "import os\n",
    "from torchsummaryX import summary\n",
    "import pytorch_warmup as warmup\n",
    "from pathlib import Path\n",
    "from tqdm import tqdm\n",
    "from sklearn.metrics import roc_auc_score\n",
    "import wandb\n",
    "\n",
    "from dataloader import *\n",
    "from model import *"
   ]
  },
  {
   "cell_type": "code",
   "execution_count": 3,
   "id": "bf737abd-a739-4774-9103-41613d0a7dba",
   "metadata": {},
   "outputs": [],
   "source": [
    "paths = ['../iDeepS/datasets/clip/10_PARCLIP_ELAVL1A_hg19',\n",
    " '../iDeepS/datasets/clip/11_CLIPSEQ_ELAVL1_hg19',\n",
    " '../iDeepS/datasets/clip/12_PARCLIP_EWSR1_hg19',\n",
    " '../iDeepS/datasets/clip/13_PARCLIP_FUS_hg19',\n",
    " '../iDeepS/datasets/clip/14_PARCLIP_FUS_mut_hg19',\n",
    " '../iDeepS/datasets/clip/15_PARCLIP_IGF2BP123_hg19',\n",
    " '../iDeepS/datasets/clip/16_ICLIP_hnRNPC_Hela_iCLIP_all_clusters',\n",
    " '../iDeepS/datasets/clip/17_ICLIP_HNRNPC_hg19',\n",
    " '../iDeepS/datasets/clip/18_ICLIP_hnRNPL_Hela_group_3975_all-hnRNPL-Hela-hg19_sum_G_hg19--ensembl59_from_2337-2339-741_bedGraph-cDNA-hits-in-genome',\n",
    " '../iDeepS/datasets/clip/19_ICLIP_hnRNPL_U266_group_3986_all-hnRNPL-U266-hg19_sum_G_hg19--ensembl59_from_2485_bedGraph-cDNA-hits-in-genome',\n",
    " '../iDeepS/datasets/clip/1_PARCLIP_AGO1234_hg19',\n",
    " '../iDeepS/datasets/clip/20_ICLIP_hnRNPlike_U266_group_4000_all-hnRNPLlike-U266-hg19_sum_G_hg19--ensembl59_from_2342-2486_bedGraph-cDNA-hits-in-genome',\n",
    " '../iDeepS/datasets/clip/21_PARCLIP_MOV10_Sievers_hg19',\n",
    " '../iDeepS/datasets/clip/22_ICLIP_NSUN2_293_group_4007_all-NSUN2-293-hg19_sum_G_hg19--ensembl59_from_3137-3202_bedGraph-cDNA-hits-in-genome',\n",
    " '../iDeepS/datasets/clip/23_PARCLIP_PUM2_hg19',\n",
    " '../iDeepS/datasets/clip/24_PARCLIP_QKI_hg19',\n",
    " '../iDeepS/datasets/clip/25_CLIPSEQ_SFRS1_hg19',\n",
    " '../iDeepS/datasets/clip/26_PARCLIP_TAF15_hg19',\n",
    " '../iDeepS/datasets/clip/27_ICLIP_TDP43_hg19',\n",
    " '../iDeepS/datasets/clip/28_ICLIP_TIA1_hg19',\n",
    " '../iDeepS/datasets/clip/29_ICLIP_TIAL1_hg19',\n",
    " '../iDeepS/datasets/clip/2_PARCLIP_AGO2MNASE_hg19',\n",
    " '../iDeepS/datasets/clip/30_ICLIP_U2AF65_Hela_iCLIP_ctrl_all_clusters',\n",
    " '../iDeepS/datasets/clip/31_ICLIP_U2AF65_Hela_iCLIP_ctrl+kd_all_clusters',\n",
    " '../iDeepS/datasets/clip/3_HITSCLIP_Ago2_binding_clusters',\n",
    " '../iDeepS/datasets/clip/4_HITSCLIP_Ago2_binding_clusters_2',\n",
    " '../iDeepS/datasets/clip/5_CLIPSEQ_AGO2_hg19',\n",
    " '../iDeepS/datasets/clip/6_CLIP-seq-eIF4AIII_1',\n",
    " '../iDeepS/datasets/clip/7_CLIP-seq-eIF4AIII_2',\n",
    " '../iDeepS/datasets/clip/8_PARCLIP_ELAVL1_hg19',\n",
    " '../iDeepS/datasets/clip/9_PARCLIP_ELAVL1MNASE_hg19']\n",
    "\n",
    "instance_length = 40\n",
    "instance_stride = 5\n",
    "\n",
    "batch_size = 1\n",
    "epochs = 20\n",
    "lr = 5e-4\n",
    "weight_decay = 1e-5"
   ]
  },
  {
   "cell_type": "code",
   "execution_count": 4,
   "id": "eb3d1db5-d9c9-44ee-a21d-b27e5e29c170",
   "metadata": {},
   "outputs": [],
   "source": [
    "def train(path):\n",
    "    print(f\"start running {path}\")\n",
    "    \n",
    "    wandb.init(project=\"02710\", entity=\"fanfanwu9898\",name = \"WEAKRM\" + p.split(\"/\")[-1].split(\"_\")[0])\n",
    "    wandb.config = {\n",
    "      \"learning_rate\": lr,\n",
    "      \"epochs\": epochs,\n",
    "      \"batch_size\": batch_size,\n",
    "      \"instance_length\" : instance_length,\n",
    "      \"instance_stride\" : instance_stride,\n",
    "      \"decay\": weight_decay\n",
    "    }\n",
    "    \n",
    "\n",
    "    train_data_path = path + \"/30000/training_sample_0/sequences.fa.gz\"\n",
    "    valid_data_path = path + \"/30000/test_sample_0/sequences.fa.gz\"\n",
    "    train_data = LibriSamples(train_data_path)\n",
    "    valid_data = LibriSamples(valid_data_path)\n",
    "\n",
    "    train_loader = torch.utils.data.DataLoader(train_data, batch_size = batch_size, shuffle=True)\n",
    "    valid_loader = torch.utils.data.DataLoader(valid_data, batch_size = batch_size, shuffle=True)\n",
    "    \n",
    "    model = WeakRM().cuda()\n",
    "    # model = WSCNN().cuda()\n",
    "    optimizer = optim.Adam(model.parameters(), lr=lr, weight_decay=weight_decay)\n",
    "    criterion = nn.BCELoss(weight=torch.tensor([0.8, 0.2])).cuda()\n",
    "    num_steps = len(train_loader) * epochs\n",
    "    scheduler = torch.optim.lr_scheduler.CosineAnnealingLR(optimizer, T_max=num_steps)\n",
    "    warmup_scheduler = warmup.RAdamWarmup(optimizer)\n",
    "\n",
    "    for epoch in range(1, epochs + 1):\n",
    "        # training\n",
    "        model.train()\n",
    "        num_correct = 0\n",
    "        total_loss = 0\n",
    "        for i, (x, y) in enumerate(train_loader):\n",
    "            optimizer.zero_grad()\n",
    "\n",
    "            x = x.float().cuda()\n",
    "            y = y.float().cuda()\n",
    "\n",
    "            outputs, _ = model(x)\n",
    "\n",
    "            loss = criterion(outputs[0], y[0])\n",
    "\n",
    "            outputs = torch.argmax(outputs)\n",
    "\n",
    "            num_correct += int((outputs == torch.argmax(y)).sum())\n",
    "            total_loss += loss\n",
    "\n",
    "            loss.backward()\n",
    "            optimizer.step()\n",
    "            with warmup_scheduler.dampening():\n",
    "                scheduler.step()\n",
    "\n",
    "#         print_content =\"Epoch {}/{}: Train Acc {:.04f}%, Train Loss {:.04f}, Learning Rate {:.04f}\".format(\n",
    "#             epoch,\n",
    "#             epochs,\n",
    "#             100 * num_correct / (len(train_loader) * batch_size),\n",
    "#             float(total_loss / len(train_loader)),\n",
    "#             float(optimizer.param_groups[0]['lr'])\n",
    "#         )\n",
    "\n",
    "#         print(print_content)\n",
    "        train_acc =  100 * num_correct / (len(train_loader) * batch_size)\n",
    "        train_loss = float(total_loss / len(train_loader))\n",
    "        learn_rate = float(optimizer.param_groups[0]['lr'])\n",
    "\n",
    "        # eval\n",
    "        model.eval()\n",
    "\n",
    "        num_correct = 0\n",
    "        total_loss = 0\n",
    "        predictions =[]\n",
    "        labels = []\n",
    "        for i, (x, y) in enumerate(valid_loader):\n",
    "            x = x.float().cuda()\n",
    "            y = y.float().cuda()\n",
    "\n",
    "            with torch.no_grad():\n",
    "                outputs_probs,_ = model(x)\n",
    "\n",
    "            outputs = torch.argmax(outputs_probs)\n",
    "\n",
    "            num_correct += int((outputs == torch.argmax(y)).sum())\n",
    "            total_loss += loss\n",
    "\n",
    "            predictions.append(outputs_probs.detach().cpu().numpy()[0])\n",
    "            labels.append(torch.argmax(y).detach().cpu().numpy())\n",
    "\n",
    "        dev_acc = 100 * num_correct / len(valid_loader)\n",
    "        dev_loss = total_loss / len(valid_loader)\n",
    "\n",
    "        auc_score = roc_auc_score(np.array(labels).flatten(), np.array(predictions)[:, 1])\n",
    "        # print(\"Validation Accuracy {:.04f}%, Auc Score {:.04f}%\".format(dev_acc, auc_score))\n",
    "        \n",
    "        wandb.log({\"Train Acc:\":train_acc, \"Train loss:\": train_loss, \"Test Acc \":dev_acc,\n",
    "                   \"Test loss\":dev_loss, \"auROC\":auc_score, \"lr\":lr})"
   ]
  },
  {
   "cell_type": "code",
   "execution_count": 5,
   "id": "f27d8c5d-923d-43ba-8e8d-e05c7cae986b",
   "metadata": {},
   "outputs": [
    {
     "name": "stdout",
     "output_type": "stream",
     "text": [
      "start running ../iDeepS/datasets/clip/10_PARCLIP_ELAVL1A_hg19\n"
     ]
    },
    {
     "name": "stderr",
     "output_type": "stream",
     "text": [
      "\u001b[34m\u001b[1mwandb\u001b[0m: Currently logged in as: \u001b[33mfanfanwu9898\u001b[0m (use `wandb login --relogin` to force relogin)\n"
     ]
    },
    {
     "data": {
      "text/html": [
       "wandb version 0.12.16 is available!  To upgrade, please run:\n",
       " $ pip install wandb --upgrade"
      ],
      "text/plain": [
       "<IPython.core.display.HTML object>"
      ]
     },
     "metadata": {},
     "output_type": "display_data"
    },
    {
     "data": {
      "text/html": [
       "Tracking run with wandb version 0.12.11"
      ],
      "text/plain": [
       "<IPython.core.display.HTML object>"
      ]
     },
     "metadata": {},
     "output_type": "display_data"
    },
    {
     "data": {
      "text/html": [
       "Run data is saved locally in <code>/home/yifan/Desktop/genomics/projects/model/wandb/run-20220508_152126-16cee088</code>"
      ],
      "text/plain": [
       "<IPython.core.display.HTML object>"
      ]
     },
     "metadata": {},
     "output_type": "display_data"
    },
    {
     "data": {
      "text/html": [
       "Syncing run <strong><a href=\"https://wandb.ai/fanfanwu9898/02710/runs/16cee088\" target=\"_blank\">WEAKRM10</a></strong> to <a href=\"https://wandb.ai/fanfanwu9898/02710\" target=\"_blank\">Weights & Biases</a> (<a href=\"https://wandb.me/run\" target=\"_blank\">docs</a>)<br/>"
      ],
      "text/plain": [
       "<IPython.core.display.HTML object>"
      ]
     },
     "metadata": {},
     "output_type": "display_data"
    },
    {
     "name": "stderr",
     "output_type": "stream",
     "text": [
      "/home/yifan/Desktop/genomics/projects/model/model.py:63: UserWarning: Implicit dimension choice for softmax has been deprecated. Change the call to include dim=X as an argument.\n",
      "  gated_attention = self.softmax(gated_attention)  # torch.Size([1, 13])\n",
      "/home/yifan/Desktop/genomics/projects/model/model.py:63: UserWarning: Implicit dimension choice for softmax has been deprecated. Change the call to include dim=X as an argument.\n",
      "  gated_attention = self.softmax(gated_attention)  # torch.Size([1, 13])\n",
      "/home/yifan/Desktop/genomics/projects/model/model.py:63: UserWarning: Implicit dimension choice for softmax has been deprecated. Change the call to include dim=X as an argument.\n",
      "  gated_attention = self.softmax(gated_attention)  # torch.Size([1, 13])\n",
      "/home/yifan/Desktop/genomics/projects/model/model.py:63: UserWarning: Implicit dimension choice for softmax has been deprecated. Change the call to include dim=X as an argument.\n",
      "  gated_attention = self.softmax(gated_attention)  # torch.Size([1, 13])\n",
      "/home/yifan/Desktop/genomics/projects/model/model.py:63: UserWarning: Implicit dimension choice for softmax has been deprecated. Change the call to include dim=X as an argument.\n",
      "  gated_attention = self.softmax(gated_attention)  # torch.Size([1, 13])\n",
      "/home/yifan/Desktop/genomics/projects/model/model.py:63: UserWarning: Implicit dimension choice for softmax has been deprecated. Change the call to include dim=X as an argument.\n",
      "  gated_attention = self.softmax(gated_attention)  # torch.Size([1, 13])\n",
      "/home/yifan/Desktop/genomics/projects/model/model.py:63: UserWarning: Implicit dimension choice for softmax has been deprecated. Change the call to include dim=X as an argument.\n",
      "  gated_attention = self.softmax(gated_attention)  # torch.Size([1, 13])\n",
      "/home/yifan/Desktop/genomics/projects/model/model.py:63: UserWarning: Implicit dimension choice for softmax has been deprecated. Change the call to include dim=X as an argument.\n",
      "  gated_attention = self.softmax(gated_attention)  # torch.Size([1, 13])\n",
      "/home/yifan/Desktop/genomics/projects/model/model.py:63: UserWarning: Implicit dimension choice for softmax has been deprecated. Change the call to include dim=X as an argument.\n",
      "  gated_attention = self.softmax(gated_attention)  # torch.Size([1, 13])\n",
      "/home/yifan/Desktop/genomics/projects/model/model.py:63: UserWarning: Implicit dimension choice for softmax has been deprecated. Change the call to include dim=X as an argument.\n",
      "  gated_attention = self.softmax(gated_attention)  # torch.Size([1, 13])\n",
      "/home/yifan/Desktop/genomics/projects/model/model.py:63: UserWarning: Implicit dimension choice for softmax has been deprecated. Change the call to include dim=X as an argument.\n",
      "  gated_attention = self.softmax(gated_attention)  # torch.Size([1, 13])\n",
      "/home/yifan/Desktop/genomics/projects/model/model.py:63: UserWarning: Implicit dimension choice for softmax has been deprecated. Change the call to include dim=X as an argument.\n",
      "  gated_attention = self.softmax(gated_attention)  # torch.Size([1, 13])\n",
      "/home/yifan/Desktop/genomics/projects/model/model.py:63: UserWarning: Implicit dimension choice for softmax has been deprecated. Change the call to include dim=X as an argument.\n",
      "  gated_attention = self.softmax(gated_attention)  # torch.Size([1, 13])\n",
      "/home/yifan/Desktop/genomics/projects/model/model.py:63: UserWarning: Implicit dimension choice for softmax has been deprecated. Change the call to include dim=X as an argument.\n",
      "  gated_attention = self.softmax(gated_attention)  # torch.Size([1, 13])\n",
      "/home/yifan/Desktop/genomics/projects/model/model.py:63: UserWarning: Implicit dimension choice for softmax has been deprecated. Change the call to include dim=X as an argument.\n",
      "  gated_attention = self.softmax(gated_attention)  # torch.Size([1, 13])\n",
      "/home/yifan/Desktop/genomics/projects/model/model.py:63: UserWarning: Implicit dimension choice for softmax has been deprecated. Change the call to include dim=X as an argument.\n",
      "  gated_attention = self.softmax(gated_attention)  # torch.Size([1, 13])\n",
      "/home/yifan/Desktop/genomics/projects/model/model.py:63: UserWarning: Implicit dimension choice for softmax has been deprecated. Change the call to include dim=X as an argument.\n",
      "  gated_attention = self.softmax(gated_attention)  # torch.Size([1, 13])\n",
      "/home/yifan/Desktop/genomics/projects/model/model.py:63: UserWarning: Implicit dimension choice for softmax has been deprecated. Change the call to include dim=X as an argument.\n",
      "  gated_attention = self.softmax(gated_attention)  # torch.Size([1, 13])\n",
      "/home/yifan/Desktop/genomics/projects/model/model.py:63: UserWarning: Implicit dimension choice for softmax has been deprecated. Change the call to include dim=X as an argument.\n",
      "  gated_attention = self.softmax(gated_attention)  # torch.Size([1, 13])\n",
      "/home/yifan/Desktop/genomics/projects/model/model.py:63: UserWarning: Implicit dimension choice for softmax has been deprecated. Change the call to include dim=X as an argument.\n",
      "  gated_attention = self.softmax(gated_attention)  # torch.Size([1, 13])\n"
     ]
    },
    {
     "name": "stdout",
     "output_type": "stream",
     "text": [
      "start running ../iDeepS/datasets/clip/11_CLIPSEQ_ELAVL1_hg19\n"
     ]
    },
    {
     "data": {
      "text/html": [
       "Finishing last run (ID:16cee088) before initializing another..."
      ],
      "text/plain": [
       "<IPython.core.display.HTML object>"
      ]
     },
     "metadata": {},
     "output_type": "display_data"
    },
    {
     "name": "stdout",
     "output_type": "stream",
     "text": [
      "\n"
     ]
    },
    {
     "data": {
      "text/html": [
       "Waiting for W&B process to finish... <strong style=\"color:green\">(success).</strong>"
      ],
      "text/plain": [
       "<IPython.core.display.HTML object>"
      ]
     },
     "metadata": {},
     "output_type": "display_data"
    },
    {
     "data": {
      "application/vnd.jupyter.widget-view+json": {
       "model_id": "",
       "version_major": 2,
       "version_minor": 0
      },
      "text/plain": [
       "VBox(children=(Label(value='0.001 MB of 0.001 MB uploaded (0.000 MB deduped)\\r'), FloatProgress(value=1.0, max…"
      ]
     },
     "metadata": {},
     "output_type": "display_data"
    },
    {
     "data": {
      "text/html": [
       "<style>\n",
       "    table.wandb td:nth-child(1) { padding: 0 10px; text-align: right }\n",
       "    .wandb-row { display: flex; flex-direction: row; flex-wrap: wrap; width: 100% }\n",
       "    .wandb-col { display: flex; flex-direction: column; flex-basis: 100%; flex: 1; padding: 10px; }\n",
       "    </style>\n",
       "<div class=\"wandb-row\"><div class=\"wandb-col\"><h3>Run history:</h3><br/><table class=\"wandb\"><tr><td>Test Acc </td><td>▇▄██▁▇▆▇▅▄▄▃▃▁▂▂▂▂▂▂</td></tr><tr><td>Test loss</td><td>▁▁▃▁▇▁▁█▁▁▂▁▂▃▁▂▁▁▁▅</td></tr><tr><td>Train Acc:</td><td>▁▃▃▄▄▄▅▅▆▆▆▆▇▇▇█████</td></tr><tr><td>Train loss:</td><td>█▇▆▆▅▅▅▄▄▄▃▃▂▂▂▂▁▁▁▁</td></tr><tr><td>auROC</td><td>▆███▇▇▇▆▅▃▅▃▄▃▂▁▂▁▁▁</td></tr><tr><td>lr</td><td>▁▁▁▁▁▁▁▁▁▁▁▁▁▁▁▁▁▁▁▁</td></tr></table><br/></div><div class=\"wandb-col\"><h3>Run summary:</h3><br/><table class=\"wandb\"><tr><td>Test Acc </td><td>87.55</td></tr><tr><td>Test loss</td><td>0.15926</td></tr><tr><td>Train Acc:</td><td>91.07</td></tr><tr><td>Train loss:</td><td>0.11247</td></tr><tr><td>auROC</td><td>0.87868</td></tr><tr><td>lr</td><td>0.0005</td></tr></table><br/></div></div>"
      ],
      "text/plain": [
       "<IPython.core.display.HTML object>"
      ]
     },
     "metadata": {},
     "output_type": "display_data"
    },
    {
     "data": {
      "text/html": [
       "Synced <strong style=\"color:#cdcd00\">WEAKRM10</strong>: <a href=\"https://wandb.ai/fanfanwu9898/02710/runs/16cee088\" target=\"_blank\">https://wandb.ai/fanfanwu9898/02710/runs/16cee088</a><br/>Synced 6 W&B file(s), 0 media file(s), 0 artifact file(s) and 0 other file(s)"
      ],
      "text/plain": [
       "<IPython.core.display.HTML object>"
      ]
     },
     "metadata": {},
     "output_type": "display_data"
    },
    {
     "data": {
      "text/html": [
       "Find logs at: <code>./wandb/run-20220508_152126-16cee088/logs</code>"
      ],
      "text/plain": [
       "<IPython.core.display.HTML object>"
      ]
     },
     "metadata": {},
     "output_type": "display_data"
    },
    {
     "data": {
      "text/html": [
       "Successfully finished last run (ID:16cee088). Initializing new run:<br/>"
      ],
      "text/plain": [
       "<IPython.core.display.HTML object>"
      ]
     },
     "metadata": {},
     "output_type": "display_data"
    },
    {
     "data": {
      "text/html": [
       "wandb version 0.12.16 is available!  To upgrade, please run:\n",
       " $ pip install wandb --upgrade"
      ],
      "text/plain": [
       "<IPython.core.display.HTML object>"
      ]
     },
     "metadata": {},
     "output_type": "display_data"
    },
    {
     "data": {
      "text/html": [
       "Tracking run with wandb version 0.12.11"
      ],
      "text/plain": [
       "<IPython.core.display.HTML object>"
      ]
     },
     "metadata": {},
     "output_type": "display_data"
    },
    {
     "data": {
      "text/html": [
       "Run data is saved locally in <code>/home/yifan/Desktop/genomics/projects/model/wandb/run-20220508_155229-1h4dnu6m</code>"
      ],
      "text/plain": [
       "<IPython.core.display.HTML object>"
      ]
     },
     "metadata": {},
     "output_type": "display_data"
    },
    {
     "data": {
      "text/html": [
       "Syncing run <strong><a href=\"https://wandb.ai/fanfanwu9898/02710/runs/1h4dnu6m\" target=\"_blank\">WEAKRM11</a></strong> to <a href=\"https://wandb.ai/fanfanwu9898/02710\" target=\"_blank\">Weights & Biases</a> (<a href=\"https://wandb.me/run\" target=\"_blank\">docs</a>)<br/>"
      ],
      "text/plain": [
       "<IPython.core.display.HTML object>"
      ]
     },
     "metadata": {},
     "output_type": "display_data"
    },
    {
     "name": "stderr",
     "output_type": "stream",
     "text": [
      "/home/yifan/Desktop/genomics/projects/model/model.py:63: UserWarning: Implicit dimension choice for softmax has been deprecated. Change the call to include dim=X as an argument.\n",
      "  gated_attention = self.softmax(gated_attention)  # torch.Size([1, 13])\n",
      "/home/yifan/Desktop/genomics/projects/model/model.py:63: UserWarning: Implicit dimension choice for softmax has been deprecated. Change the call to include dim=X as an argument.\n",
      "  gated_attention = self.softmax(gated_attention)  # torch.Size([1, 13])\n",
      "/home/yifan/Desktop/genomics/projects/model/model.py:63: UserWarning: Implicit dimension choice for softmax has been deprecated. Change the call to include dim=X as an argument.\n",
      "  gated_attention = self.softmax(gated_attention)  # torch.Size([1, 13])\n",
      "/home/yifan/Desktop/genomics/projects/model/model.py:63: UserWarning: Implicit dimension choice for softmax has been deprecated. Change the call to include dim=X as an argument.\n",
      "  gated_attention = self.softmax(gated_attention)  # torch.Size([1, 13])\n",
      "/home/yifan/Desktop/genomics/projects/model/model.py:63: UserWarning: Implicit dimension choice for softmax has been deprecated. Change the call to include dim=X as an argument.\n",
      "  gated_attention = self.softmax(gated_attention)  # torch.Size([1, 13])\n",
      "/home/yifan/Desktop/genomics/projects/model/model.py:63: UserWarning: Implicit dimension choice for softmax has been deprecated. Change the call to include dim=X as an argument.\n",
      "  gated_attention = self.softmax(gated_attention)  # torch.Size([1, 13])\n",
      "/home/yifan/Desktop/genomics/projects/model/model.py:63: UserWarning: Implicit dimension choice for softmax has been deprecated. Change the call to include dim=X as an argument.\n",
      "  gated_attention = self.softmax(gated_attention)  # torch.Size([1, 13])\n",
      "/home/yifan/Desktop/genomics/projects/model/model.py:63: UserWarning: Implicit dimension choice for softmax has been deprecated. Change the call to include dim=X as an argument.\n",
      "  gated_attention = self.softmax(gated_attention)  # torch.Size([1, 13])\n",
      "/home/yifan/Desktop/genomics/projects/model/model.py:63: UserWarning: Implicit dimension choice for softmax has been deprecated. Change the call to include dim=X as an argument.\n",
      "  gated_attention = self.softmax(gated_attention)  # torch.Size([1, 13])\n",
      "/home/yifan/Desktop/genomics/projects/model/model.py:63: UserWarning: Implicit dimension choice for softmax has been deprecated. Change the call to include dim=X as an argument.\n",
      "  gated_attention = self.softmax(gated_attention)  # torch.Size([1, 13])\n",
      "/home/yifan/Desktop/genomics/projects/model/model.py:63: UserWarning: Implicit dimension choice for softmax has been deprecated. Change the call to include dim=X as an argument.\n",
      "  gated_attention = self.softmax(gated_attention)  # torch.Size([1, 13])\n",
      "/home/yifan/Desktop/genomics/projects/model/model.py:63: UserWarning: Implicit dimension choice for softmax has been deprecated. Change the call to include dim=X as an argument.\n",
      "  gated_attention = self.softmax(gated_attention)  # torch.Size([1, 13])\n",
      "/home/yifan/Desktop/genomics/projects/model/model.py:63: UserWarning: Implicit dimension choice for softmax has been deprecated. Change the call to include dim=X as an argument.\n",
      "  gated_attention = self.softmax(gated_attention)  # torch.Size([1, 13])\n",
      "/home/yifan/Desktop/genomics/projects/model/model.py:63: UserWarning: Implicit dimension choice for softmax has been deprecated. Change the call to include dim=X as an argument.\n",
      "  gated_attention = self.softmax(gated_attention)  # torch.Size([1, 13])\n",
      "/home/yifan/Desktop/genomics/projects/model/model.py:63: UserWarning: Implicit dimension choice for softmax has been deprecated. Change the call to include dim=X as an argument.\n",
      "  gated_attention = self.softmax(gated_attention)  # torch.Size([1, 13])\n",
      "/home/yifan/Desktop/genomics/projects/model/model.py:63: UserWarning: Implicit dimension choice for softmax has been deprecated. Change the call to include dim=X as an argument.\n",
      "  gated_attention = self.softmax(gated_attention)  # torch.Size([1, 13])\n",
      "/home/yifan/Desktop/genomics/projects/model/model.py:63: UserWarning: Implicit dimension choice for softmax has been deprecated. Change the call to include dim=X as an argument.\n",
      "  gated_attention = self.softmax(gated_attention)  # torch.Size([1, 13])\n",
      "/home/yifan/Desktop/genomics/projects/model/model.py:63: UserWarning: Implicit dimension choice for softmax has been deprecated. Change the call to include dim=X as an argument.\n",
      "  gated_attention = self.softmax(gated_attention)  # torch.Size([1, 13])\n",
      "/home/yifan/Desktop/genomics/projects/model/model.py:63: UserWarning: Implicit dimension choice for softmax has been deprecated. Change the call to include dim=X as an argument.\n",
      "  gated_attention = self.softmax(gated_attention)  # torch.Size([1, 13])\n",
      "/home/yifan/Desktop/genomics/projects/model/model.py:63: UserWarning: Implicit dimension choice for softmax has been deprecated. Change the call to include dim=X as an argument.\n",
      "  gated_attention = self.softmax(gated_attention)  # torch.Size([1, 13])\n"
     ]
    },
    {
     "name": "stdout",
     "output_type": "stream",
     "text": [
      "start running ../iDeepS/datasets/clip/12_PARCLIP_EWSR1_hg19\n"
     ]
    },
    {
     "data": {
      "text/html": [
       "Finishing last run (ID:1h4dnu6m) before initializing another..."
      ],
      "text/plain": [
       "<IPython.core.display.HTML object>"
      ]
     },
     "metadata": {},
     "output_type": "display_data"
    },
    {
     "name": "stdout",
     "output_type": "stream",
     "text": [
      "\n"
     ]
    },
    {
     "data": {
      "text/html": [
       "Waiting for W&B process to finish... <strong style=\"color:green\">(success).</strong>"
      ],
      "text/plain": [
       "<IPython.core.display.HTML object>"
      ]
     },
     "metadata": {},
     "output_type": "display_data"
    },
    {
     "data": {
      "application/vnd.jupyter.widget-view+json": {
       "model_id": "",
       "version_major": 2,
       "version_minor": 0
      },
      "text/plain": [
       "VBox(children=(Label(value='0.001 MB of 0.001 MB uploaded (0.000 MB deduped)\\r'), FloatProgress(value=1.0, max…"
      ]
     },
     "metadata": {},
     "output_type": "display_data"
    },
    {
     "data": {
      "text/html": [
       "<style>\n",
       "    table.wandb td:nth-child(1) { padding: 0 10px; text-align: right }\n",
       "    .wandb-row { display: flex; flex-direction: row; flex-wrap: wrap; width: 100% }\n",
       "    .wandb-col { display: flex; flex-direction: column; flex-basis: 100%; flex: 1; padding: 10px; }\n",
       "    </style>\n",
       "<div class=\"wandb-row\"><div class=\"wandb-col\"><h3>Run history:</h3><br/><table class=\"wandb\"><tr><td>Test Acc </td><td>▁█▂▇▇▇▆▇█▅▆▅▇▅▆▆▆▆▆▆</td></tr><tr><td>Test loss</td><td>▁▁▁▂▁▁▂█▁▁▁▂▅▁▁▁▁▁▁▂</td></tr><tr><td>Train Acc:</td><td>▁▃▃▃▄▄▅▅▅▆▆▆▇▇▇▇████</td></tr><tr><td>Train loss:</td><td>█▇▆▆▅▅▄▄▄▃▃▃▂▂▂▂▁▁▁▁</td></tr><tr><td>auROC</td><td>▆█▇▇▇▇▆▅▆▄▄▂▃▂▂▂▁▁▁▁</td></tr><tr><td>lr</td><td>▁▁▁▁▁▁▁▁▁▁▁▁▁▁▁▁▁▁▁▁</td></tr></table><br/></div><div class=\"wandb-col\"><h3>Run summary:</h3><br/><table class=\"wandb\"><tr><td>Test Acc </td><td>88.25</td></tr><tr><td>Test loss</td><td>0.07032</td></tr><tr><td>Train Acc:</td><td>94.13333</td></tr><tr><td>Train loss:</td><td>0.07445</td></tr><tr><td>auROC</td><td>0.90452</td></tr><tr><td>lr</td><td>0.0005</td></tr></table><br/></div></div>"
      ],
      "text/plain": [
       "<IPython.core.display.HTML object>"
      ]
     },
     "metadata": {},
     "output_type": "display_data"
    },
    {
     "data": {
      "text/html": [
       "Synced <strong style=\"color:#cdcd00\">WEAKRM11</strong>: <a href=\"https://wandb.ai/fanfanwu9898/02710/runs/1h4dnu6m\" target=\"_blank\">https://wandb.ai/fanfanwu9898/02710/runs/1h4dnu6m</a><br/>Synced 6 W&B file(s), 0 media file(s), 0 artifact file(s) and 0 other file(s)"
      ],
      "text/plain": [
       "<IPython.core.display.HTML object>"
      ]
     },
     "metadata": {},
     "output_type": "display_data"
    },
    {
     "data": {
      "text/html": [
       "Find logs at: <code>./wandb/run-20220508_155229-1h4dnu6m/logs</code>"
      ],
      "text/plain": [
       "<IPython.core.display.HTML object>"
      ]
     },
     "metadata": {},
     "output_type": "display_data"
    },
    {
     "data": {
      "text/html": [
       "Successfully finished last run (ID:1h4dnu6m). Initializing new run:<br/>"
      ],
      "text/plain": [
       "<IPython.core.display.HTML object>"
      ]
     },
     "metadata": {},
     "output_type": "display_data"
    },
    {
     "data": {
      "text/html": [
       "wandb version 0.12.16 is available!  To upgrade, please run:\n",
       " $ pip install wandb --upgrade"
      ],
      "text/plain": [
       "<IPython.core.display.HTML object>"
      ]
     },
     "metadata": {},
     "output_type": "display_data"
    },
    {
     "data": {
      "text/html": [
       "Tracking run with wandb version 0.12.11"
      ],
      "text/plain": [
       "<IPython.core.display.HTML object>"
      ]
     },
     "metadata": {},
     "output_type": "display_data"
    },
    {
     "data": {
      "text/html": [
       "Run data is saved locally in <code>/home/yifan/Desktop/genomics/projects/model/wandb/run-20220508_162341-gbcz3rmu</code>"
      ],
      "text/plain": [
       "<IPython.core.display.HTML object>"
      ]
     },
     "metadata": {},
     "output_type": "display_data"
    },
    {
     "data": {
      "text/html": [
       "Syncing run <strong><a href=\"https://wandb.ai/fanfanwu9898/02710/runs/gbcz3rmu\" target=\"_blank\">WEAKRM12</a></strong> to <a href=\"https://wandb.ai/fanfanwu9898/02710\" target=\"_blank\">Weights & Biases</a> (<a href=\"https://wandb.me/run\" target=\"_blank\">docs</a>)<br/>"
      ],
      "text/plain": [
       "<IPython.core.display.HTML object>"
      ]
     },
     "metadata": {},
     "output_type": "display_data"
    },
    {
     "name": "stderr",
     "output_type": "stream",
     "text": [
      "/home/yifan/Desktop/genomics/projects/model/model.py:63: UserWarning: Implicit dimension choice for softmax has been deprecated. Change the call to include dim=X as an argument.\n",
      "  gated_attention = self.softmax(gated_attention)  # torch.Size([1, 13])\n",
      "/home/yifan/Desktop/genomics/projects/model/model.py:63: UserWarning: Implicit dimension choice for softmax has been deprecated. Change the call to include dim=X as an argument.\n",
      "  gated_attention = self.softmax(gated_attention)  # torch.Size([1, 13])\n",
      "/home/yifan/Desktop/genomics/projects/model/model.py:63: UserWarning: Implicit dimension choice for softmax has been deprecated. Change the call to include dim=X as an argument.\n",
      "  gated_attention = self.softmax(gated_attention)  # torch.Size([1, 13])\n",
      "/home/yifan/Desktop/genomics/projects/model/model.py:63: UserWarning: Implicit dimension choice for softmax has been deprecated. Change the call to include dim=X as an argument.\n",
      "  gated_attention = self.softmax(gated_attention)  # torch.Size([1, 13])\n",
      "/home/yifan/Desktop/genomics/projects/model/model.py:63: UserWarning: Implicit dimension choice for softmax has been deprecated. Change the call to include dim=X as an argument.\n",
      "  gated_attention = self.softmax(gated_attention)  # torch.Size([1, 13])\n",
      "/home/yifan/Desktop/genomics/projects/model/model.py:63: UserWarning: Implicit dimension choice for softmax has been deprecated. Change the call to include dim=X as an argument.\n",
      "  gated_attention = self.softmax(gated_attention)  # torch.Size([1, 13])\n",
      "/home/yifan/Desktop/genomics/projects/model/model.py:63: UserWarning: Implicit dimension choice for softmax has been deprecated. Change the call to include dim=X as an argument.\n",
      "  gated_attention = self.softmax(gated_attention)  # torch.Size([1, 13])\n",
      "/home/yifan/Desktop/genomics/projects/model/model.py:63: UserWarning: Implicit dimension choice for softmax has been deprecated. Change the call to include dim=X as an argument.\n",
      "  gated_attention = self.softmax(gated_attention)  # torch.Size([1, 13])\n",
      "/home/yifan/Desktop/genomics/projects/model/model.py:63: UserWarning: Implicit dimension choice for softmax has been deprecated. Change the call to include dim=X as an argument.\n",
      "  gated_attention = self.softmax(gated_attention)  # torch.Size([1, 13])\n",
      "/home/yifan/Desktop/genomics/projects/model/model.py:63: UserWarning: Implicit dimension choice for softmax has been deprecated. Change the call to include dim=X as an argument.\n",
      "  gated_attention = self.softmax(gated_attention)  # torch.Size([1, 13])\n",
      "/home/yifan/Desktop/genomics/projects/model/model.py:63: UserWarning: Implicit dimension choice for softmax has been deprecated. Change the call to include dim=X as an argument.\n",
      "  gated_attention = self.softmax(gated_attention)  # torch.Size([1, 13])\n",
      "/home/yifan/Desktop/genomics/projects/model/model.py:63: UserWarning: Implicit dimension choice for softmax has been deprecated. Change the call to include dim=X as an argument.\n",
      "  gated_attention = self.softmax(gated_attention)  # torch.Size([1, 13])\n",
      "/home/yifan/Desktop/genomics/projects/model/model.py:63: UserWarning: Implicit dimension choice for softmax has been deprecated. Change the call to include dim=X as an argument.\n",
      "  gated_attention = self.softmax(gated_attention)  # torch.Size([1, 13])\n",
      "/home/yifan/Desktop/genomics/projects/model/model.py:63: UserWarning: Implicit dimension choice for softmax has been deprecated. Change the call to include dim=X as an argument.\n",
      "  gated_attention = self.softmax(gated_attention)  # torch.Size([1, 13])\n",
      "/home/yifan/Desktop/genomics/projects/model/model.py:63: UserWarning: Implicit dimension choice for softmax has been deprecated. Change the call to include dim=X as an argument.\n",
      "  gated_attention = self.softmax(gated_attention)  # torch.Size([1, 13])\n",
      "/home/yifan/Desktop/genomics/projects/model/model.py:63: UserWarning: Implicit dimension choice for softmax has been deprecated. Change the call to include dim=X as an argument.\n",
      "  gated_attention = self.softmax(gated_attention)  # torch.Size([1, 13])\n",
      "/home/yifan/Desktop/genomics/projects/model/model.py:63: UserWarning: Implicit dimension choice for softmax has been deprecated. Change the call to include dim=X as an argument.\n",
      "  gated_attention = self.softmax(gated_attention)  # torch.Size([1, 13])\n",
      "/home/yifan/Desktop/genomics/projects/model/model.py:63: UserWarning: Implicit dimension choice for softmax has been deprecated. Change the call to include dim=X as an argument.\n",
      "  gated_attention = self.softmax(gated_attention)  # torch.Size([1, 13])\n",
      "/home/yifan/Desktop/genomics/projects/model/model.py:63: UserWarning: Implicit dimension choice for softmax has been deprecated. Change the call to include dim=X as an argument.\n",
      "  gated_attention = self.softmax(gated_attention)  # torch.Size([1, 13])\n",
      "/home/yifan/Desktop/genomics/projects/model/model.py:63: UserWarning: Implicit dimension choice for softmax has been deprecated. Change the call to include dim=X as an argument.\n",
      "  gated_attention = self.softmax(gated_attention)  # torch.Size([1, 13])\n"
     ]
    },
    {
     "name": "stdout",
     "output_type": "stream",
     "text": [
      "start running ../iDeepS/datasets/clip/13_PARCLIP_FUS_hg19\n"
     ]
    },
    {
     "data": {
      "text/html": [
       "Finishing last run (ID:gbcz3rmu) before initializing another..."
      ],
      "text/plain": [
       "<IPython.core.display.HTML object>"
      ]
     },
     "metadata": {},
     "output_type": "display_data"
    },
    {
     "name": "stdout",
     "output_type": "stream",
     "text": [
      "\n"
     ]
    },
    {
     "data": {
      "text/html": [
       "Waiting for W&B process to finish... <strong style=\"color:green\">(success).</strong>"
      ],
      "text/plain": [
       "<IPython.core.display.HTML object>"
      ]
     },
     "metadata": {},
     "output_type": "display_data"
    },
    {
     "data": {
      "application/vnd.jupyter.widget-view+json": {
       "model_id": "",
       "version_major": 2,
       "version_minor": 0
      },
      "text/plain": [
       "VBox(children=(Label(value='0.001 MB of 0.001 MB uploaded (0.000 MB deduped)\\r'), FloatProgress(value=1.0, max…"
      ]
     },
     "metadata": {},
     "output_type": "display_data"
    },
    {
     "data": {
      "text/html": [
       "<style>\n",
       "    table.wandb td:nth-child(1) { padding: 0 10px; text-align: right }\n",
       "    .wandb-row { display: flex; flex-direction: row; flex-wrap: wrap; width: 100% }\n",
       "    .wandb-col { display: flex; flex-direction: column; flex-basis: 100%; flex: 1; padding: 10px; }\n",
       "    </style>\n",
       "<div class=\"wandb-row\"><div class=\"wandb-col\"><h3>Run history:</h3><br/><table class=\"wandb\"><tr><td>Test Acc </td><td>▁▃▇▃▆▆█▆▅▆▄▅▄▅▅▅▄▄▄▄</td></tr><tr><td>Test loss</td><td>▁▁▁▁▁▁▁▁▁▁▄▁▁▁█▁▁▂▁▃</td></tr><tr><td>Train Acc:</td><td>▁▃▄▄▄▅▅▅▅▆▆▆▇▇▇▇████</td></tr><tr><td>Train loss:</td><td>█▆▆▅▅▅▄▄▄▃▃▃▂▂▂▂▁▁▁▁</td></tr><tr><td>auROC</td><td>▁▃▇▆▇▇██▆▇▆▅▅▅▆▅▄▄▄▄</td></tr><tr><td>lr</td><td>▁▁▁▁▁▁▁▁▁▁▁▁▁▁▁▁▁▁▁▁</td></tr></table><br/></div><div class=\"wandb-col\"><h3>Run summary:</h3><br/><table class=\"wandb\"><tr><td>Test Acc </td><td>86.99</td></tr><tr><td>Test loss</td><td>0.53081</td></tr><tr><td>Train Acc:</td><td>91.59667</td></tr><tr><td>Train loss:</td><td>0.10897</td></tr><tr><td>auROC</td><td>0.89834</td></tr><tr><td>lr</td><td>0.0005</td></tr></table><br/></div></div>"
      ],
      "text/plain": [
       "<IPython.core.display.HTML object>"
      ]
     },
     "metadata": {},
     "output_type": "display_data"
    },
    {
     "data": {
      "text/html": [
       "Synced <strong style=\"color:#cdcd00\">WEAKRM12</strong>: <a href=\"https://wandb.ai/fanfanwu9898/02710/runs/gbcz3rmu\" target=\"_blank\">https://wandb.ai/fanfanwu9898/02710/runs/gbcz3rmu</a><br/>Synced 6 W&B file(s), 0 media file(s), 0 artifact file(s) and 0 other file(s)"
      ],
      "text/plain": [
       "<IPython.core.display.HTML object>"
      ]
     },
     "metadata": {},
     "output_type": "display_data"
    },
    {
     "data": {
      "text/html": [
       "Find logs at: <code>./wandb/run-20220508_162341-gbcz3rmu/logs</code>"
      ],
      "text/plain": [
       "<IPython.core.display.HTML object>"
      ]
     },
     "metadata": {},
     "output_type": "display_data"
    },
    {
     "data": {
      "text/html": [
       "Successfully finished last run (ID:gbcz3rmu). Initializing new run:<br/>"
      ],
      "text/plain": [
       "<IPython.core.display.HTML object>"
      ]
     },
     "metadata": {},
     "output_type": "display_data"
    },
    {
     "data": {
      "text/html": [
       "wandb version 0.12.16 is available!  To upgrade, please run:\n",
       " $ pip install wandb --upgrade"
      ],
      "text/plain": [
       "<IPython.core.display.HTML object>"
      ]
     },
     "metadata": {},
     "output_type": "display_data"
    },
    {
     "data": {
      "text/html": [
       "Tracking run with wandb version 0.12.11"
      ],
      "text/plain": [
       "<IPython.core.display.HTML object>"
      ]
     },
     "metadata": {},
     "output_type": "display_data"
    },
    {
     "data": {
      "text/html": [
       "Run data is saved locally in <code>/home/yifan/Desktop/genomics/projects/model/wandb/run-20220508_165454-3pkn9qfk</code>"
      ],
      "text/plain": [
       "<IPython.core.display.HTML object>"
      ]
     },
     "metadata": {},
     "output_type": "display_data"
    },
    {
     "data": {
      "text/html": [
       "Syncing run <strong><a href=\"https://wandb.ai/fanfanwu9898/02710/runs/3pkn9qfk\" target=\"_blank\">WEAKRM13</a></strong> to <a href=\"https://wandb.ai/fanfanwu9898/02710\" target=\"_blank\">Weights & Biases</a> (<a href=\"https://wandb.me/run\" target=\"_blank\">docs</a>)<br/>"
      ],
      "text/plain": [
       "<IPython.core.display.HTML object>"
      ]
     },
     "metadata": {},
     "output_type": "display_data"
    },
    {
     "name": "stderr",
     "output_type": "stream",
     "text": [
      "/home/yifan/Desktop/genomics/projects/model/model.py:63: UserWarning: Implicit dimension choice for softmax has been deprecated. Change the call to include dim=X as an argument.\n",
      "  gated_attention = self.softmax(gated_attention)  # torch.Size([1, 13])\n",
      "/home/yifan/Desktop/genomics/projects/model/model.py:63: UserWarning: Implicit dimension choice for softmax has been deprecated. Change the call to include dim=X as an argument.\n",
      "  gated_attention = self.softmax(gated_attention)  # torch.Size([1, 13])\n",
      "/home/yifan/Desktop/genomics/projects/model/model.py:63: UserWarning: Implicit dimension choice for softmax has been deprecated. Change the call to include dim=X as an argument.\n",
      "  gated_attention = self.softmax(gated_attention)  # torch.Size([1, 13])\n",
      "/home/yifan/Desktop/genomics/projects/model/model.py:63: UserWarning: Implicit dimension choice for softmax has been deprecated. Change the call to include dim=X as an argument.\n",
      "  gated_attention = self.softmax(gated_attention)  # torch.Size([1, 13])\n",
      "/home/yifan/Desktop/genomics/projects/model/model.py:63: UserWarning: Implicit dimension choice for softmax has been deprecated. Change the call to include dim=X as an argument.\n",
      "  gated_attention = self.softmax(gated_attention)  # torch.Size([1, 13])\n",
      "/home/yifan/Desktop/genomics/projects/model/model.py:63: UserWarning: Implicit dimension choice for softmax has been deprecated. Change the call to include dim=X as an argument.\n",
      "  gated_attention = self.softmax(gated_attention)  # torch.Size([1, 13])\n",
      "/home/yifan/Desktop/genomics/projects/model/model.py:63: UserWarning: Implicit dimension choice for softmax has been deprecated. Change the call to include dim=X as an argument.\n",
      "  gated_attention = self.softmax(gated_attention)  # torch.Size([1, 13])\n",
      "/home/yifan/Desktop/genomics/projects/model/model.py:63: UserWarning: Implicit dimension choice for softmax has been deprecated. Change the call to include dim=X as an argument.\n",
      "  gated_attention = self.softmax(gated_attention)  # torch.Size([1, 13])\n",
      "/home/yifan/Desktop/genomics/projects/model/model.py:63: UserWarning: Implicit dimension choice for softmax has been deprecated. Change the call to include dim=X as an argument.\n",
      "  gated_attention = self.softmax(gated_attention)  # torch.Size([1, 13])\n",
      "/home/yifan/Desktop/genomics/projects/model/model.py:63: UserWarning: Implicit dimension choice for softmax has been deprecated. Change the call to include dim=X as an argument.\n",
      "  gated_attention = self.softmax(gated_attention)  # torch.Size([1, 13])\n",
      "/home/yifan/Desktop/genomics/projects/model/model.py:63: UserWarning: Implicit dimension choice for softmax has been deprecated. Change the call to include dim=X as an argument.\n",
      "  gated_attention = self.softmax(gated_attention)  # torch.Size([1, 13])\n",
      "/home/yifan/Desktop/genomics/projects/model/model.py:63: UserWarning: Implicit dimension choice for softmax has been deprecated. Change the call to include dim=X as an argument.\n",
      "  gated_attention = self.softmax(gated_attention)  # torch.Size([1, 13])\n",
      "/home/yifan/Desktop/genomics/projects/model/model.py:63: UserWarning: Implicit dimension choice for softmax has been deprecated. Change the call to include dim=X as an argument.\n",
      "  gated_attention = self.softmax(gated_attention)  # torch.Size([1, 13])\n",
      "/home/yifan/Desktop/genomics/projects/model/model.py:63: UserWarning: Implicit dimension choice for softmax has been deprecated. Change the call to include dim=X as an argument.\n",
      "  gated_attention = self.softmax(gated_attention)  # torch.Size([1, 13])\n",
      "/home/yifan/Desktop/genomics/projects/model/model.py:63: UserWarning: Implicit dimension choice for softmax has been deprecated. Change the call to include dim=X as an argument.\n",
      "  gated_attention = self.softmax(gated_attention)  # torch.Size([1, 13])\n",
      "/home/yifan/Desktop/genomics/projects/model/model.py:63: UserWarning: Implicit dimension choice for softmax has been deprecated. Change the call to include dim=X as an argument.\n",
      "  gated_attention = self.softmax(gated_attention)  # torch.Size([1, 13])\n",
      "/home/yifan/Desktop/genomics/projects/model/model.py:63: UserWarning: Implicit dimension choice for softmax has been deprecated. Change the call to include dim=X as an argument.\n",
      "  gated_attention = self.softmax(gated_attention)  # torch.Size([1, 13])\n",
      "/home/yifan/Desktop/genomics/projects/model/model.py:63: UserWarning: Implicit dimension choice for softmax has been deprecated. Change the call to include dim=X as an argument.\n",
      "  gated_attention = self.softmax(gated_attention)  # torch.Size([1, 13])\n",
      "/home/yifan/Desktop/genomics/projects/model/model.py:63: UserWarning: Implicit dimension choice for softmax has been deprecated. Change the call to include dim=X as an argument.\n",
      "  gated_attention = self.softmax(gated_attention)  # torch.Size([1, 13])\n",
      "/home/yifan/Desktop/genomics/projects/model/model.py:63: UserWarning: Implicit dimension choice for softmax has been deprecated. Change the call to include dim=X as an argument.\n",
      "  gated_attention = self.softmax(gated_attention)  # torch.Size([1, 13])\n"
     ]
    },
    {
     "name": "stdout",
     "output_type": "stream",
     "text": [
      "start running ../iDeepS/datasets/clip/14_PARCLIP_FUS_mut_hg19\n"
     ]
    },
    {
     "data": {
      "text/html": [
       "Finishing last run (ID:3pkn9qfk) before initializing another..."
      ],
      "text/plain": [
       "<IPython.core.display.HTML object>"
      ]
     },
     "metadata": {},
     "output_type": "display_data"
    },
    {
     "name": "stdout",
     "output_type": "stream",
     "text": [
      "\n"
     ]
    },
    {
     "data": {
      "text/html": [
       "Waiting for W&B process to finish... <strong style=\"color:green\">(success).</strong>"
      ],
      "text/plain": [
       "<IPython.core.display.HTML object>"
      ]
     },
     "metadata": {},
     "output_type": "display_data"
    },
    {
     "data": {
      "application/vnd.jupyter.widget-view+json": {
       "model_id": "",
       "version_major": 2,
       "version_minor": 0
      },
      "text/plain": [
       "VBox(children=(Label(value='0.001 MB of 0.001 MB uploaded (0.000 MB deduped)\\r'), FloatProgress(value=1.0, max…"
      ]
     },
     "metadata": {},
     "output_type": "display_data"
    },
    {
     "data": {
      "text/html": [
       "<style>\n",
       "    table.wandb td:nth-child(1) { padding: 0 10px; text-align: right }\n",
       "    .wandb-row { display: flex; flex-direction: row; flex-wrap: wrap; width: 100% }\n",
       "    .wandb-col { display: flex; flex-direction: column; flex-basis: 100%; flex: 1; padding: 10px; }\n",
       "    </style>\n",
       "<div class=\"wandb-row\"><div class=\"wandb-col\"><h3>Run history:</h3><br/><table class=\"wandb\"><tr><td>Test Acc </td><td>▂█▄▄▇▇█▄▄▆▄▆▃▃▄▂▁▄▃▂</td></tr><tr><td>Test loss</td><td>▂▁▁▂█▁▄▁▇▁█▁▁▁▅▁▁▁▁▁</td></tr><tr><td>Train Acc:</td><td>▁▃▄▄▅▅▅▆▆▆▆▇▇▇▇▇████</td></tr><tr><td>Train loss:</td><td>█▆▅▅▅▄▄▄▄▃▃▃▂▂▂▁▁▁▁▁</td></tr><tr><td>auROC</td><td>▁▅▃▅█▆▇█▆▆▅▄▃▃▃▂▁▂▂▂</td></tr><tr><td>lr</td><td>▁▁▁▁▁▁▁▁▁▁▁▁▁▁▁▁▁▁▁▁</td></tr></table><br/></div><div class=\"wandb-col\"><h3>Run summary:</h3><br/><table class=\"wandb\"><tr><td>Test Acc </td><td>88.98</td></tr><tr><td>Test loss</td><td>0.0076</td></tr><tr><td>Train Acc:</td><td>93.33667</td></tr><tr><td>Train loss:</td><td>0.08919</td></tr><tr><td>auROC</td><td>0.92403</td></tr><tr><td>lr</td><td>0.0005</td></tr></table><br/></div></div>"
      ],
      "text/plain": [
       "<IPython.core.display.HTML object>"
      ]
     },
     "metadata": {},
     "output_type": "display_data"
    },
    {
     "data": {
      "text/html": [
       "Synced <strong style=\"color:#cdcd00\">WEAKRM13</strong>: <a href=\"https://wandb.ai/fanfanwu9898/02710/runs/3pkn9qfk\" target=\"_blank\">https://wandb.ai/fanfanwu9898/02710/runs/3pkn9qfk</a><br/>Synced 6 W&B file(s), 0 media file(s), 0 artifact file(s) and 0 other file(s)"
      ],
      "text/plain": [
       "<IPython.core.display.HTML object>"
      ]
     },
     "metadata": {},
     "output_type": "display_data"
    },
    {
     "data": {
      "text/html": [
       "Find logs at: <code>./wandb/run-20220508_165454-3pkn9qfk/logs</code>"
      ],
      "text/plain": [
       "<IPython.core.display.HTML object>"
      ]
     },
     "metadata": {},
     "output_type": "display_data"
    },
    {
     "data": {
      "text/html": [
       "Successfully finished last run (ID:3pkn9qfk). Initializing new run:<br/>"
      ],
      "text/plain": [
       "<IPython.core.display.HTML object>"
      ]
     },
     "metadata": {},
     "output_type": "display_data"
    },
    {
     "data": {
      "text/html": [
       "wandb version 0.12.16 is available!  To upgrade, please run:\n",
       " $ pip install wandb --upgrade"
      ],
      "text/plain": [
       "<IPython.core.display.HTML object>"
      ]
     },
     "metadata": {},
     "output_type": "display_data"
    },
    {
     "data": {
      "text/html": [
       "Tracking run with wandb version 0.12.11"
      ],
      "text/plain": [
       "<IPython.core.display.HTML object>"
      ]
     },
     "metadata": {},
     "output_type": "display_data"
    },
    {
     "data": {
      "text/html": [
       "Run data is saved locally in <code>/home/yifan/Desktop/genomics/projects/model/wandb/run-20220508_172701-3n79p8t6</code>"
      ],
      "text/plain": [
       "<IPython.core.display.HTML object>"
      ]
     },
     "metadata": {},
     "output_type": "display_data"
    },
    {
     "data": {
      "text/html": [
       "Syncing run <strong><a href=\"https://wandb.ai/fanfanwu9898/02710/runs/3n79p8t6\" target=\"_blank\">WEAKRM14</a></strong> to <a href=\"https://wandb.ai/fanfanwu9898/02710\" target=\"_blank\">Weights & Biases</a> (<a href=\"https://wandb.me/run\" target=\"_blank\">docs</a>)<br/>"
      ],
      "text/plain": [
       "<IPython.core.display.HTML object>"
      ]
     },
     "metadata": {},
     "output_type": "display_data"
    },
    {
     "name": "stderr",
     "output_type": "stream",
     "text": [
      "/home/yifan/Desktop/genomics/projects/model/model.py:63: UserWarning: Implicit dimension choice for softmax has been deprecated. Change the call to include dim=X as an argument.\n",
      "  gated_attention = self.softmax(gated_attention)  # torch.Size([1, 13])\n",
      "/home/yifan/Desktop/genomics/projects/model/model.py:63: UserWarning: Implicit dimension choice for softmax has been deprecated. Change the call to include dim=X as an argument.\n",
      "  gated_attention = self.softmax(gated_attention)  # torch.Size([1, 13])\n",
      "/home/yifan/Desktop/genomics/projects/model/model.py:63: UserWarning: Implicit dimension choice for softmax has been deprecated. Change the call to include dim=X as an argument.\n",
      "  gated_attention = self.softmax(gated_attention)  # torch.Size([1, 13])\n",
      "/home/yifan/Desktop/genomics/projects/model/model.py:63: UserWarning: Implicit dimension choice for softmax has been deprecated. Change the call to include dim=X as an argument.\n",
      "  gated_attention = self.softmax(gated_attention)  # torch.Size([1, 13])\n",
      "/home/yifan/Desktop/genomics/projects/model/model.py:63: UserWarning: Implicit dimension choice for softmax has been deprecated. Change the call to include dim=X as an argument.\n",
      "  gated_attention = self.softmax(gated_attention)  # torch.Size([1, 13])\n",
      "/home/yifan/Desktop/genomics/projects/model/model.py:63: UserWarning: Implicit dimension choice for softmax has been deprecated. Change the call to include dim=X as an argument.\n",
      "  gated_attention = self.softmax(gated_attention)  # torch.Size([1, 13])\n",
      "/home/yifan/Desktop/genomics/projects/model/model.py:63: UserWarning: Implicit dimension choice for softmax has been deprecated. Change the call to include dim=X as an argument.\n",
      "  gated_attention = self.softmax(gated_attention)  # torch.Size([1, 13])\n",
      "/home/yifan/Desktop/genomics/projects/model/model.py:63: UserWarning: Implicit dimension choice for softmax has been deprecated. Change the call to include dim=X as an argument.\n",
      "  gated_attention = self.softmax(gated_attention)  # torch.Size([1, 13])\n",
      "/home/yifan/Desktop/genomics/projects/model/model.py:63: UserWarning: Implicit dimension choice for softmax has been deprecated. Change the call to include dim=X as an argument.\n",
      "  gated_attention = self.softmax(gated_attention)  # torch.Size([1, 13])\n",
      "/home/yifan/Desktop/genomics/projects/model/model.py:63: UserWarning: Implicit dimension choice for softmax has been deprecated. Change the call to include dim=X as an argument.\n",
      "  gated_attention = self.softmax(gated_attention)  # torch.Size([1, 13])\n",
      "/home/yifan/Desktop/genomics/projects/model/model.py:63: UserWarning: Implicit dimension choice for softmax has been deprecated. Change the call to include dim=X as an argument.\n",
      "  gated_attention = self.softmax(gated_attention)  # torch.Size([1, 13])\n",
      "/home/yifan/Desktop/genomics/projects/model/model.py:63: UserWarning: Implicit dimension choice for softmax has been deprecated. Change the call to include dim=X as an argument.\n",
      "  gated_attention = self.softmax(gated_attention)  # torch.Size([1, 13])\n",
      "/home/yifan/Desktop/genomics/projects/model/model.py:63: UserWarning: Implicit dimension choice for softmax has been deprecated. Change the call to include dim=X as an argument.\n",
      "  gated_attention = self.softmax(gated_attention)  # torch.Size([1, 13])\n",
      "/home/yifan/Desktop/genomics/projects/model/model.py:63: UserWarning: Implicit dimension choice for softmax has been deprecated. Change the call to include dim=X as an argument.\n",
      "  gated_attention = self.softmax(gated_attention)  # torch.Size([1, 13])\n",
      "/home/yifan/Desktop/genomics/projects/model/model.py:63: UserWarning: Implicit dimension choice for softmax has been deprecated. Change the call to include dim=X as an argument.\n",
      "  gated_attention = self.softmax(gated_attention)  # torch.Size([1, 13])\n",
      "/home/yifan/Desktop/genomics/projects/model/model.py:63: UserWarning: Implicit dimension choice for softmax has been deprecated. Change the call to include dim=X as an argument.\n",
      "  gated_attention = self.softmax(gated_attention)  # torch.Size([1, 13])\n",
      "/home/yifan/Desktop/genomics/projects/model/model.py:63: UserWarning: Implicit dimension choice for softmax has been deprecated. Change the call to include dim=X as an argument.\n",
      "  gated_attention = self.softmax(gated_attention)  # torch.Size([1, 13])\n",
      "/home/yifan/Desktop/genomics/projects/model/model.py:63: UserWarning: Implicit dimension choice for softmax has been deprecated. Change the call to include dim=X as an argument.\n",
      "  gated_attention = self.softmax(gated_attention)  # torch.Size([1, 13])\n",
      "/home/yifan/Desktop/genomics/projects/model/model.py:63: UserWarning: Implicit dimension choice for softmax has been deprecated. Change the call to include dim=X as an argument.\n",
      "  gated_attention = self.softmax(gated_attention)  # torch.Size([1, 13])\n",
      "/home/yifan/Desktop/genomics/projects/model/model.py:63: UserWarning: Implicit dimension choice for softmax has been deprecated. Change the call to include dim=X as an argument.\n",
      "  gated_attention = self.softmax(gated_attention)  # torch.Size([1, 13])\n"
     ]
    },
    {
     "name": "stdout",
     "output_type": "stream",
     "text": [
      "start running ../iDeepS/datasets/clip/15_PARCLIP_IGF2BP123_hg19\n"
     ]
    },
    {
     "data": {
      "text/html": [
       "Finishing last run (ID:3n79p8t6) before initializing another..."
      ],
      "text/plain": [
       "<IPython.core.display.HTML object>"
      ]
     },
     "metadata": {},
     "output_type": "display_data"
    },
    {
     "name": "stdout",
     "output_type": "stream",
     "text": [
      "\n"
     ]
    },
    {
     "data": {
      "text/html": [
       "Waiting for W&B process to finish... <strong style=\"color:green\">(success).</strong>"
      ],
      "text/plain": [
       "<IPython.core.display.HTML object>"
      ]
     },
     "metadata": {},
     "output_type": "display_data"
    },
    {
     "data": {
      "application/vnd.jupyter.widget-view+json": {
       "model_id": "",
       "version_major": 2,
       "version_minor": 0
      },
      "text/plain": [
       "VBox(children=(Label(value='0.001 MB of 0.001 MB uploaded (0.000 MB deduped)\\r'), FloatProgress(value=1.0, max…"
      ]
     },
     "metadata": {},
     "output_type": "display_data"
    },
    {
     "data": {
      "text/html": [
       "<style>\n",
       "    table.wandb td:nth-child(1) { padding: 0 10px; text-align: right }\n",
       "    .wandb-row { display: flex; flex-direction: row; flex-wrap: wrap; width: 100% }\n",
       "    .wandb-col { display: flex; flex-direction: column; flex-basis: 100%; flex: 1; padding: 10px; }\n",
       "    </style>\n",
       "<div class=\"wandb-row\"><div class=\"wandb-col\"><h3>Run history:</h3><br/><table class=\"wandb\"><tr><td>Test Acc </td><td>▁▃▇█▇▄▅█▇▇▆▆▆▆▆▆▆▆▅▅</td></tr><tr><td>Test loss</td><td>▁▇▁█▁▁▁▁▁▁▁▁▂▁▅▁▁▁▂▁</td></tr><tr><td>Train Acc:</td><td>▁▃▄▄▅▅▅▅▆▆▆▇▇▇▇▇████</td></tr><tr><td>Train loss:</td><td>█▆▅▅▄▄▄▄▃▃▃▂▂▂▂▁▁▁▁▁</td></tr><tr><td>auROC</td><td>▁▅▇▆▇▇████▇▇▇▇▆▇▇▆▆▆</td></tr><tr><td>lr</td><td>▁▁▁▁▁▁▁▁▁▁▁▁▁▁▁▁▁▁▁▁</td></tr></table><br/></div><div class=\"wandb-col\"><h3>Run summary:</h3><br/><table class=\"wandb\"><tr><td>Test Acc </td><td>89.5</td></tr><tr><td>Test loss</td><td>0.00256</td></tr><tr><td>Train Acc:</td><td>94.12667</td></tr><tr><td>Train loss:</td><td>0.07659</td></tr><tr><td>auROC</td><td>0.94304</td></tr><tr><td>lr</td><td>0.0005</td></tr></table><br/></div></div>"
      ],
      "text/plain": [
       "<IPython.core.display.HTML object>"
      ]
     },
     "metadata": {},
     "output_type": "display_data"
    },
    {
     "data": {
      "text/html": [
       "Synced <strong style=\"color:#cdcd00\">WEAKRM14</strong>: <a href=\"https://wandb.ai/fanfanwu9898/02710/runs/3n79p8t6\" target=\"_blank\">https://wandb.ai/fanfanwu9898/02710/runs/3n79p8t6</a><br/>Synced 6 W&B file(s), 0 media file(s), 0 artifact file(s) and 0 other file(s)"
      ],
      "text/plain": [
       "<IPython.core.display.HTML object>"
      ]
     },
     "metadata": {},
     "output_type": "display_data"
    },
    {
     "data": {
      "text/html": [
       "Find logs at: <code>./wandb/run-20220508_172701-3n79p8t6/logs</code>"
      ],
      "text/plain": [
       "<IPython.core.display.HTML object>"
      ]
     },
     "metadata": {},
     "output_type": "display_data"
    },
    {
     "data": {
      "text/html": [
       "Successfully finished last run (ID:3n79p8t6). Initializing new run:<br/>"
      ],
      "text/plain": [
       "<IPython.core.display.HTML object>"
      ]
     },
     "metadata": {},
     "output_type": "display_data"
    },
    {
     "data": {
      "text/html": [
       "wandb version 0.12.16 is available!  To upgrade, please run:\n",
       " $ pip install wandb --upgrade"
      ],
      "text/plain": [
       "<IPython.core.display.HTML object>"
      ]
     },
     "metadata": {},
     "output_type": "display_data"
    },
    {
     "data": {
      "text/html": [
       "Tracking run with wandb version 0.12.11"
      ],
      "text/plain": [
       "<IPython.core.display.HTML object>"
      ]
     },
     "metadata": {},
     "output_type": "display_data"
    },
    {
     "data": {
      "text/html": [
       "Run data is saved locally in <code>/home/yifan/Desktop/genomics/projects/model/wandb/run-20220508_175600-1j8kfncb</code>"
      ],
      "text/plain": [
       "<IPython.core.display.HTML object>"
      ]
     },
     "metadata": {},
     "output_type": "display_data"
    },
    {
     "data": {
      "text/html": [
       "Syncing run <strong><a href=\"https://wandb.ai/fanfanwu9898/02710/runs/1j8kfncb\" target=\"_blank\">WEAKRM15</a></strong> to <a href=\"https://wandb.ai/fanfanwu9898/02710\" target=\"_blank\">Weights & Biases</a> (<a href=\"https://wandb.me/run\" target=\"_blank\">docs</a>)<br/>"
      ],
      "text/plain": [
       "<IPython.core.display.HTML object>"
      ]
     },
     "metadata": {},
     "output_type": "display_data"
    },
    {
     "name": "stderr",
     "output_type": "stream",
     "text": [
      "/home/yifan/Desktop/genomics/projects/model/model.py:63: UserWarning: Implicit dimension choice for softmax has been deprecated. Change the call to include dim=X as an argument.\n",
      "  gated_attention = self.softmax(gated_attention)  # torch.Size([1, 13])\n",
      "wandb: Network error (TransientError), entering retry loop.\n",
      "/home/yifan/Desktop/genomics/projects/model/model.py:63: UserWarning: Implicit dimension choice for softmax has been deprecated. Change the call to include dim=X as an argument.\n",
      "  gated_attention = self.softmax(gated_attention)  # torch.Size([1, 13])\n",
      "/home/yifan/Desktop/genomics/projects/model/model.py:63: UserWarning: Implicit dimension choice for softmax has been deprecated. Change the call to include dim=X as an argument.\n",
      "  gated_attention = self.softmax(gated_attention)  # torch.Size([1, 13])\n",
      "/home/yifan/Desktop/genomics/projects/model/model.py:63: UserWarning: Implicit dimension choice for softmax has been deprecated. Change the call to include dim=X as an argument.\n",
      "  gated_attention = self.softmax(gated_attention)  # torch.Size([1, 13])\n",
      "/home/yifan/Desktop/genomics/projects/model/model.py:63: UserWarning: Implicit dimension choice for softmax has been deprecated. Change the call to include dim=X as an argument.\n",
      "  gated_attention = self.softmax(gated_attention)  # torch.Size([1, 13])\n",
      "/home/yifan/Desktop/genomics/projects/model/model.py:63: UserWarning: Implicit dimension choice for softmax has been deprecated. Change the call to include dim=X as an argument.\n",
      "  gated_attention = self.softmax(gated_attention)  # torch.Size([1, 13])\n",
      "/home/yifan/Desktop/genomics/projects/model/model.py:63: UserWarning: Implicit dimension choice for softmax has been deprecated. Change the call to include dim=X as an argument.\n",
      "  gated_attention = self.softmax(gated_attention)  # torch.Size([1, 13])\n",
      "/home/yifan/Desktop/genomics/projects/model/model.py:63: UserWarning: Implicit dimension choice for softmax has been deprecated. Change the call to include dim=X as an argument.\n",
      "  gated_attention = self.softmax(gated_attention)  # torch.Size([1, 13])\n",
      "/home/yifan/Desktop/genomics/projects/model/model.py:63: UserWarning: Implicit dimension choice for softmax has been deprecated. Change the call to include dim=X as an argument.\n",
      "  gated_attention = self.softmax(gated_attention)  # torch.Size([1, 13])\n",
      "/home/yifan/Desktop/genomics/projects/model/model.py:63: UserWarning: Implicit dimension choice for softmax has been deprecated. Change the call to include dim=X as an argument.\n",
      "  gated_attention = self.softmax(gated_attention)  # torch.Size([1, 13])\n",
      "/home/yifan/Desktop/genomics/projects/model/model.py:63: UserWarning: Implicit dimension choice for softmax has been deprecated. Change the call to include dim=X as an argument.\n",
      "  gated_attention = self.softmax(gated_attention)  # torch.Size([1, 13])\n",
      "/home/yifan/Desktop/genomics/projects/model/model.py:63: UserWarning: Implicit dimension choice for softmax has been deprecated. Change the call to include dim=X as an argument.\n",
      "  gated_attention = self.softmax(gated_attention)  # torch.Size([1, 13])\n",
      "/home/yifan/Desktop/genomics/projects/model/model.py:63: UserWarning: Implicit dimension choice for softmax has been deprecated. Change the call to include dim=X as an argument.\n",
      "  gated_attention = self.softmax(gated_attention)  # torch.Size([1, 13])\n",
      "/home/yifan/Desktop/genomics/projects/model/model.py:63: UserWarning: Implicit dimension choice for softmax has been deprecated. Change the call to include dim=X as an argument.\n",
      "  gated_attention = self.softmax(gated_attention)  # torch.Size([1, 13])\n",
      "/home/yifan/Desktop/genomics/projects/model/model.py:63: UserWarning: Implicit dimension choice for softmax has been deprecated. Change the call to include dim=X as an argument.\n",
      "  gated_attention = self.softmax(gated_attention)  # torch.Size([1, 13])\n",
      "/home/yifan/Desktop/genomics/projects/model/model.py:63: UserWarning: Implicit dimension choice for softmax has been deprecated. Change the call to include dim=X as an argument.\n",
      "  gated_attention = self.softmax(gated_attention)  # torch.Size([1, 13])\n",
      "/home/yifan/Desktop/genomics/projects/model/model.py:63: UserWarning: Implicit dimension choice for softmax has been deprecated. Change the call to include dim=X as an argument.\n",
      "  gated_attention = self.softmax(gated_attention)  # torch.Size([1, 13])\n",
      "/home/yifan/Desktop/genomics/projects/model/model.py:63: UserWarning: Implicit dimension choice for softmax has been deprecated. Change the call to include dim=X as an argument.\n",
      "  gated_attention = self.softmax(gated_attention)  # torch.Size([1, 13])\n",
      "/home/yifan/Desktop/genomics/projects/model/model.py:63: UserWarning: Implicit dimension choice for softmax has been deprecated. Change the call to include dim=X as an argument.\n",
      "  gated_attention = self.softmax(gated_attention)  # torch.Size([1, 13])\n",
      "/home/yifan/Desktop/genomics/projects/model/model.py:63: UserWarning: Implicit dimension choice for softmax has been deprecated. Change the call to include dim=X as an argument.\n",
      "  gated_attention = self.softmax(gated_attention)  # torch.Size([1, 13])\n"
     ]
    },
    {
     "name": "stdout",
     "output_type": "stream",
     "text": [
      "start running ../iDeepS/datasets/clip/16_ICLIP_hnRNPC_Hela_iCLIP_all_clusters\n"
     ]
    },
    {
     "data": {
      "text/html": [
       "Finishing last run (ID:1j8kfncb) before initializing another..."
      ],
      "text/plain": [
       "<IPython.core.display.HTML object>"
      ]
     },
     "metadata": {},
     "output_type": "display_data"
    },
    {
     "name": "stdout",
     "output_type": "stream",
     "text": [
      "\n"
     ]
    },
    {
     "data": {
      "text/html": [
       "Waiting for W&B process to finish... <strong style=\"color:green\">(success).</strong>"
      ],
      "text/plain": [
       "<IPython.core.display.HTML object>"
      ]
     },
     "metadata": {},
     "output_type": "display_data"
    },
    {
     "data": {
      "application/vnd.jupyter.widget-view+json": {
       "model_id": "",
       "version_major": 2,
       "version_minor": 0
      },
      "text/plain": [
       "VBox(children=(Label(value='0.001 MB of 0.001 MB uploaded (0.000 MB deduped)\\r'), FloatProgress(value=1.0, max…"
      ]
     },
     "metadata": {},
     "output_type": "display_data"
    },
    {
     "data": {
      "text/html": [
       "<style>\n",
       "    table.wandb td:nth-child(1) { padding: 0 10px; text-align: right }\n",
       "    .wandb-row { display: flex; flex-direction: row; flex-wrap: wrap; width: 100% }\n",
       "    .wandb-col { display: flex; flex-direction: column; flex-basis: 100%; flex: 1; padding: 10px; }\n",
       "    </style>\n",
       "<div class=\"wandb-row\"><div class=\"wandb-col\"><h3>Run history:</h3><br/><table class=\"wandb\"><tr><td>Test Acc </td><td>████▇█▆▇▆▇▄▂▂▄▃▁▁▂▁▁</td></tr><tr><td>Test loss</td><td>▂▄▁▁▂▁▂▃▃▂▁▁▂▁█▁▁▆▁▁</td></tr><tr><td>Train Acc:</td><td>▁▁▁▁▂▃▂▃▄▄▄▅▆▆▆▇▇███</td></tr><tr><td>Train loss:</td><td>█▆▆▅▅▅▄▄▄▃▃▃▂▂▂▂▁▁▁▁</td></tr><tr><td>auROC</td><td>▁▄▇█▇▆█▆▆▅▆▄▅▄▅▄▄▄▄▄</td></tr><tr><td>lr</td><td>▁▁▁▁▁▁▁▁▁▁▁▁▁▁▁▁▁▁▁▁</td></tr></table><br/></div><div class=\"wandb-col\"><h3>Run summary:</h3><br/><table class=\"wandb\"><tr><td>Test Acc </td><td>78.41</td></tr><tr><td>Test loss</td><td>0.09181</td></tr><tr><td>Train Acc:</td><td>82.03</td></tr><tr><td>Train loss:</td><td>0.19377</td></tr><tr><td>auROC</td><td>0.70212</td></tr><tr><td>lr</td><td>0.0005</td></tr></table><br/></div></div>"
      ],
      "text/plain": [
       "<IPython.core.display.HTML object>"
      ]
     },
     "metadata": {},
     "output_type": "display_data"
    },
    {
     "data": {
      "text/html": [
       "Synced <strong style=\"color:#cdcd00\">WEAKRM15</strong>: <a href=\"https://wandb.ai/fanfanwu9898/02710/runs/1j8kfncb\" target=\"_blank\">https://wandb.ai/fanfanwu9898/02710/runs/1j8kfncb</a><br/>Synced 6 W&B file(s), 0 media file(s), 0 artifact file(s) and 0 other file(s)"
      ],
      "text/plain": [
       "<IPython.core.display.HTML object>"
      ]
     },
     "metadata": {},
     "output_type": "display_data"
    },
    {
     "data": {
      "text/html": [
       "Find logs at: <code>./wandb/run-20220508_175600-1j8kfncb/logs</code>"
      ],
      "text/plain": [
       "<IPython.core.display.HTML object>"
      ]
     },
     "metadata": {},
     "output_type": "display_data"
    },
    {
     "data": {
      "text/html": [
       "Successfully finished last run (ID:1j8kfncb). Initializing new run:<br/>"
      ],
      "text/plain": [
       "<IPython.core.display.HTML object>"
      ]
     },
     "metadata": {},
     "output_type": "display_data"
    },
    {
     "data": {
      "text/html": [
       "wandb version 0.12.16 is available!  To upgrade, please run:\n",
       " $ pip install wandb --upgrade"
      ],
      "text/plain": [
       "<IPython.core.display.HTML object>"
      ]
     },
     "metadata": {},
     "output_type": "display_data"
    },
    {
     "data": {
      "text/html": [
       "Tracking run with wandb version 0.12.11"
      ],
      "text/plain": [
       "<IPython.core.display.HTML object>"
      ]
     },
     "metadata": {},
     "output_type": "display_data"
    },
    {
     "data": {
      "text/html": [
       "Run data is saved locally in <code>/home/yifan/Desktop/genomics/projects/model/wandb/run-20220508_182152-5ot7l8wk</code>"
      ],
      "text/plain": [
       "<IPython.core.display.HTML object>"
      ]
     },
     "metadata": {},
     "output_type": "display_data"
    },
    {
     "data": {
      "text/html": [
       "Syncing run <strong><a href=\"https://wandb.ai/fanfanwu9898/02710/runs/5ot7l8wk\" target=\"_blank\">WEAKRM16</a></strong> to <a href=\"https://wandb.ai/fanfanwu9898/02710\" target=\"_blank\">Weights & Biases</a> (<a href=\"https://wandb.me/run\" target=\"_blank\">docs</a>)<br/>"
      ],
      "text/plain": [
       "<IPython.core.display.HTML object>"
      ]
     },
     "metadata": {},
     "output_type": "display_data"
    },
    {
     "name": "stderr",
     "output_type": "stream",
     "text": [
      "/home/yifan/Desktop/genomics/projects/model/model.py:63: UserWarning: Implicit dimension choice for softmax has been deprecated. Change the call to include dim=X as an argument.\n",
      "  gated_attention = self.softmax(gated_attention)  # torch.Size([1, 13])\n",
      "/home/yifan/Desktop/genomics/projects/model/model.py:63: UserWarning: Implicit dimension choice for softmax has been deprecated. Change the call to include dim=X as an argument.\n",
      "  gated_attention = self.softmax(gated_attention)  # torch.Size([1, 13])\n",
      "/home/yifan/Desktop/genomics/projects/model/model.py:63: UserWarning: Implicit dimension choice for softmax has been deprecated. Change the call to include dim=X as an argument.\n",
      "  gated_attention = self.softmax(gated_attention)  # torch.Size([1, 13])\n",
      "/home/yifan/Desktop/genomics/projects/model/model.py:63: UserWarning: Implicit dimension choice for softmax has been deprecated. Change the call to include dim=X as an argument.\n",
      "  gated_attention = self.softmax(gated_attention)  # torch.Size([1, 13])\n",
      "/home/yifan/Desktop/genomics/projects/model/model.py:63: UserWarning: Implicit dimension choice for softmax has been deprecated. Change the call to include dim=X as an argument.\n",
      "  gated_attention = self.softmax(gated_attention)  # torch.Size([1, 13])\n",
      "/home/yifan/Desktop/genomics/projects/model/model.py:63: UserWarning: Implicit dimension choice for softmax has been deprecated. Change the call to include dim=X as an argument.\n",
      "  gated_attention = self.softmax(gated_attention)  # torch.Size([1, 13])\n",
      "/home/yifan/Desktop/genomics/projects/model/model.py:63: UserWarning: Implicit dimension choice for softmax has been deprecated. Change the call to include dim=X as an argument.\n",
      "  gated_attention = self.softmax(gated_attention)  # torch.Size([1, 13])\n",
      "/home/yifan/Desktop/genomics/projects/model/model.py:63: UserWarning: Implicit dimension choice for softmax has been deprecated. Change the call to include dim=X as an argument.\n",
      "  gated_attention = self.softmax(gated_attention)  # torch.Size([1, 13])\n",
      "/home/yifan/Desktop/genomics/projects/model/model.py:63: UserWarning: Implicit dimension choice for softmax has been deprecated. Change the call to include dim=X as an argument.\n",
      "  gated_attention = self.softmax(gated_attention)  # torch.Size([1, 13])\n",
      "/home/yifan/Desktop/genomics/projects/model/model.py:63: UserWarning: Implicit dimension choice for softmax has been deprecated. Change the call to include dim=X as an argument.\n",
      "  gated_attention = self.softmax(gated_attention)  # torch.Size([1, 13])\n",
      "/home/yifan/Desktop/genomics/projects/model/model.py:63: UserWarning: Implicit dimension choice for softmax has been deprecated. Change the call to include dim=X as an argument.\n",
      "  gated_attention = self.softmax(gated_attention)  # torch.Size([1, 13])\n",
      "/home/yifan/Desktop/genomics/projects/model/model.py:63: UserWarning: Implicit dimension choice for softmax has been deprecated. Change the call to include dim=X as an argument.\n",
      "  gated_attention = self.softmax(gated_attention)  # torch.Size([1, 13])\n",
      "/home/yifan/Desktop/genomics/projects/model/model.py:63: UserWarning: Implicit dimension choice for softmax has been deprecated. Change the call to include dim=X as an argument.\n",
      "  gated_attention = self.softmax(gated_attention)  # torch.Size([1, 13])\n",
      "/home/yifan/Desktop/genomics/projects/model/model.py:63: UserWarning: Implicit dimension choice for softmax has been deprecated. Change the call to include dim=X as an argument.\n",
      "  gated_attention = self.softmax(gated_attention)  # torch.Size([1, 13])\n",
      "/home/yifan/Desktop/genomics/projects/model/model.py:63: UserWarning: Implicit dimension choice for softmax has been deprecated. Change the call to include dim=X as an argument.\n",
      "  gated_attention = self.softmax(gated_attention)  # torch.Size([1, 13])\n",
      "/home/yifan/Desktop/genomics/projects/model/model.py:63: UserWarning: Implicit dimension choice for softmax has been deprecated. Change the call to include dim=X as an argument.\n",
      "  gated_attention = self.softmax(gated_attention)  # torch.Size([1, 13])\n",
      "/home/yifan/Desktop/genomics/projects/model/model.py:63: UserWarning: Implicit dimension choice for softmax has been deprecated. Change the call to include dim=X as an argument.\n",
      "  gated_attention = self.softmax(gated_attention)  # torch.Size([1, 13])\n",
      "/home/yifan/Desktop/genomics/projects/model/model.py:63: UserWarning: Implicit dimension choice for softmax has been deprecated. Change the call to include dim=X as an argument.\n",
      "  gated_attention = self.softmax(gated_attention)  # torch.Size([1, 13])\n",
      "/home/yifan/Desktop/genomics/projects/model/model.py:63: UserWarning: Implicit dimension choice for softmax has been deprecated. Change the call to include dim=X as an argument.\n",
      "  gated_attention = self.softmax(gated_attention)  # torch.Size([1, 13])\n",
      "/home/yifan/Desktop/genomics/projects/model/model.py:63: UserWarning: Implicit dimension choice for softmax has been deprecated. Change the call to include dim=X as an argument.\n",
      "  gated_attention = self.softmax(gated_attention)  # torch.Size([1, 13])\n"
     ]
    },
    {
     "name": "stdout",
     "output_type": "stream",
     "text": [
      "start running ../iDeepS/datasets/clip/17_ICLIP_HNRNPC_hg19\n"
     ]
    },
    {
     "data": {
      "text/html": [
       "Finishing last run (ID:5ot7l8wk) before initializing another..."
      ],
      "text/plain": [
       "<IPython.core.display.HTML object>"
      ]
     },
     "metadata": {},
     "output_type": "display_data"
    },
    {
     "name": "stdout",
     "output_type": "stream",
     "text": [
      "\n"
     ]
    },
    {
     "data": {
      "text/html": [
       "Waiting for W&B process to finish... <strong style=\"color:green\">(success).</strong>"
      ],
      "text/plain": [
       "<IPython.core.display.HTML object>"
      ]
     },
     "metadata": {},
     "output_type": "display_data"
    },
    {
     "data": {
      "application/vnd.jupyter.widget-view+json": {
       "model_id": "",
       "version_major": 2,
       "version_minor": 0
      },
      "text/plain": [
       "VBox(children=(Label(value='0.001 MB of 0.001 MB uploaded (0.000 MB deduped)\\r'), FloatProgress(value=1.0, max…"
      ]
     },
     "metadata": {},
     "output_type": "display_data"
    },
    {
     "data": {
      "text/html": [
       "<style>\n",
       "    table.wandb td:nth-child(1) { padding: 0 10px; text-align: right }\n",
       "    .wandb-row { display: flex; flex-direction: row; flex-wrap: wrap; width: 100% }\n",
       "    .wandb-col { display: flex; flex-direction: column; flex-basis: 100%; flex: 1; padding: 10px; }\n",
       "    </style>\n",
       "<div class=\"wandb-row\"><div class=\"wandb-col\"><h3>Run history:</h3><br/><table class=\"wandb\"><tr><td>Test Acc </td><td>▁▅▆▆▇▆▇█▅▄█▆▄▅▅▅▅▄▅▅</td></tr><tr><td>Test loss</td><td>▁▁▁▁▁▁▁▁▂▂▁▁▅█▁▂▂▁▁▂</td></tr><tr><td>Train Acc:</td><td>▁▃▄▄▄▅▅▅▆▆▆▇▇▇▇█████</td></tr><tr><td>Train loss:</td><td>█▆▆▅▅▄▄▄▄▃▃▃▂▂▂▁▁▁▁▁</td></tr><tr><td>auROC</td><td>▂▅▆██▇▇▆▆▂▆▅▁▃▂▃▃▂▂▂</td></tr><tr><td>lr</td><td>▁▁▁▁▁▁▁▁▁▁▁▁▁▁▁▁▁▁▁▁</td></tr></table><br/></div><div class=\"wandb-col\"><h3>Run summary:</h3><br/><table class=\"wandb\"><tr><td>Test Acc </td><td>90.44</td></tr><tr><td>Test loss</td><td>0.01352</td></tr><tr><td>Train Acc:</td><td>93.75667</td></tr><tr><td>Train loss:</td><td>0.07909</td></tr><tr><td>auROC</td><td>0.94551</td></tr><tr><td>lr</td><td>0.0005</td></tr></table><br/></div></div>"
      ],
      "text/plain": [
       "<IPython.core.display.HTML object>"
      ]
     },
     "metadata": {},
     "output_type": "display_data"
    },
    {
     "data": {
      "text/html": [
       "Synced <strong style=\"color:#cdcd00\">WEAKRM16</strong>: <a href=\"https://wandb.ai/fanfanwu9898/02710/runs/5ot7l8wk\" target=\"_blank\">https://wandb.ai/fanfanwu9898/02710/runs/5ot7l8wk</a><br/>Synced 6 W&B file(s), 0 media file(s), 0 artifact file(s) and 0 other file(s)"
      ],
      "text/plain": [
       "<IPython.core.display.HTML object>"
      ]
     },
     "metadata": {},
     "output_type": "display_data"
    },
    {
     "data": {
      "text/html": [
       "Find logs at: <code>./wandb/run-20220508_182152-5ot7l8wk/logs</code>"
      ],
      "text/plain": [
       "<IPython.core.display.HTML object>"
      ]
     },
     "metadata": {},
     "output_type": "display_data"
    },
    {
     "data": {
      "text/html": [
       "Successfully finished last run (ID:5ot7l8wk). Initializing new run:<br/>"
      ],
      "text/plain": [
       "<IPython.core.display.HTML object>"
      ]
     },
     "metadata": {},
     "output_type": "display_data"
    },
    {
     "data": {
      "text/html": [
       "wandb version 0.12.16 is available!  To upgrade, please run:\n",
       " $ pip install wandb --upgrade"
      ],
      "text/plain": [
       "<IPython.core.display.HTML object>"
      ]
     },
     "metadata": {},
     "output_type": "display_data"
    },
    {
     "data": {
      "text/html": [
       "Tracking run with wandb version 0.12.11"
      ],
      "text/plain": [
       "<IPython.core.display.HTML object>"
      ]
     },
     "metadata": {},
     "output_type": "display_data"
    },
    {
     "data": {
      "text/html": [
       "Run data is saved locally in <code>/home/yifan/Desktop/genomics/projects/model/wandb/run-20220508_184723-7kvo3783</code>"
      ],
      "text/plain": [
       "<IPython.core.display.HTML object>"
      ]
     },
     "metadata": {},
     "output_type": "display_data"
    },
    {
     "data": {
      "text/html": [
       "Syncing run <strong><a href=\"https://wandb.ai/fanfanwu9898/02710/runs/7kvo3783\" target=\"_blank\">WEAKRM17</a></strong> to <a href=\"https://wandb.ai/fanfanwu9898/02710\" target=\"_blank\">Weights & Biases</a> (<a href=\"https://wandb.me/run\" target=\"_blank\">docs</a>)<br/>"
      ],
      "text/plain": [
       "<IPython.core.display.HTML object>"
      ]
     },
     "metadata": {},
     "output_type": "display_data"
    },
    {
     "name": "stderr",
     "output_type": "stream",
     "text": [
      "/home/yifan/Desktop/genomics/projects/model/model.py:63: UserWarning: Implicit dimension choice for softmax has been deprecated. Change the call to include dim=X as an argument.\n",
      "  gated_attention = self.softmax(gated_attention)  # torch.Size([1, 13])\n",
      "/home/yifan/Desktop/genomics/projects/model/model.py:63: UserWarning: Implicit dimension choice for softmax has been deprecated. Change the call to include dim=X as an argument.\n",
      "  gated_attention = self.softmax(gated_attention)  # torch.Size([1, 13])\n",
      "/home/yifan/Desktop/genomics/projects/model/model.py:63: UserWarning: Implicit dimension choice for softmax has been deprecated. Change the call to include dim=X as an argument.\n",
      "  gated_attention = self.softmax(gated_attention)  # torch.Size([1, 13])\n",
      "/home/yifan/Desktop/genomics/projects/model/model.py:63: UserWarning: Implicit dimension choice for softmax has been deprecated. Change the call to include dim=X as an argument.\n",
      "  gated_attention = self.softmax(gated_attention)  # torch.Size([1, 13])\n",
      "/home/yifan/Desktop/genomics/projects/model/model.py:63: UserWarning: Implicit dimension choice for softmax has been deprecated. Change the call to include dim=X as an argument.\n",
      "  gated_attention = self.softmax(gated_attention)  # torch.Size([1, 13])\n",
      "/home/yifan/Desktop/genomics/projects/model/model.py:63: UserWarning: Implicit dimension choice for softmax has been deprecated. Change the call to include dim=X as an argument.\n",
      "  gated_attention = self.softmax(gated_attention)  # torch.Size([1, 13])\n",
      "/home/yifan/Desktop/genomics/projects/model/model.py:63: UserWarning: Implicit dimension choice for softmax has been deprecated. Change the call to include dim=X as an argument.\n",
      "  gated_attention = self.softmax(gated_attention)  # torch.Size([1, 13])\n",
      "/home/yifan/Desktop/genomics/projects/model/model.py:63: UserWarning: Implicit dimension choice for softmax has been deprecated. Change the call to include dim=X as an argument.\n",
      "  gated_attention = self.softmax(gated_attention)  # torch.Size([1, 13])\n",
      "/home/yifan/Desktop/genomics/projects/model/model.py:63: UserWarning: Implicit dimension choice for softmax has been deprecated. Change the call to include dim=X as an argument.\n",
      "  gated_attention = self.softmax(gated_attention)  # torch.Size([1, 13])\n",
      "wandb: Network error (ReadTimeout), entering retry loop.\n",
      "/home/yifan/Desktop/genomics/projects/model/model.py:63: UserWarning: Implicit dimension choice for softmax has been deprecated. Change the call to include dim=X as an argument.\n",
      "  gated_attention = self.softmax(gated_attention)  # torch.Size([1, 13])\n",
      "/home/yifan/Desktop/genomics/projects/model/model.py:63: UserWarning: Implicit dimension choice for softmax has been deprecated. Change the call to include dim=X as an argument.\n",
      "  gated_attention = self.softmax(gated_attention)  # torch.Size([1, 13])\n",
      "/home/yifan/Desktop/genomics/projects/model/model.py:63: UserWarning: Implicit dimension choice for softmax has been deprecated. Change the call to include dim=X as an argument.\n",
      "  gated_attention = self.softmax(gated_attention)  # torch.Size([1, 13])\n",
      "/home/yifan/Desktop/genomics/projects/model/model.py:63: UserWarning: Implicit dimension choice for softmax has been deprecated. Change the call to include dim=X as an argument.\n",
      "  gated_attention = self.softmax(gated_attention)  # torch.Size([1, 13])\n",
      "/home/yifan/Desktop/genomics/projects/model/model.py:63: UserWarning: Implicit dimension choice for softmax has been deprecated. Change the call to include dim=X as an argument.\n",
      "  gated_attention = self.softmax(gated_attention)  # torch.Size([1, 13])\n",
      "/home/yifan/Desktop/genomics/projects/model/model.py:63: UserWarning: Implicit dimension choice for softmax has been deprecated. Change the call to include dim=X as an argument.\n",
      "  gated_attention = self.softmax(gated_attention)  # torch.Size([1, 13])\n",
      "/home/yifan/Desktop/genomics/projects/model/model.py:63: UserWarning: Implicit dimension choice for softmax has been deprecated. Change the call to include dim=X as an argument.\n",
      "  gated_attention = self.softmax(gated_attention)  # torch.Size([1, 13])\n",
      "/home/yifan/Desktop/genomics/projects/model/model.py:63: UserWarning: Implicit dimension choice for softmax has been deprecated. Change the call to include dim=X as an argument.\n",
      "  gated_attention = self.softmax(gated_attention)  # torch.Size([1, 13])\n",
      "/home/yifan/Desktop/genomics/projects/model/model.py:63: UserWarning: Implicit dimension choice for softmax has been deprecated. Change the call to include dim=X as an argument.\n",
      "  gated_attention = self.softmax(gated_attention)  # torch.Size([1, 13])\n",
      "/home/yifan/Desktop/genomics/projects/model/model.py:63: UserWarning: Implicit dimension choice for softmax has been deprecated. Change the call to include dim=X as an argument.\n",
      "  gated_attention = self.softmax(gated_attention)  # torch.Size([1, 13])\n",
      "/home/yifan/Desktop/genomics/projects/model/model.py:63: UserWarning: Implicit dimension choice for softmax has been deprecated. Change the call to include dim=X as an argument.\n",
      "  gated_attention = self.softmax(gated_attention)  # torch.Size([1, 13])\n"
     ]
    },
    {
     "name": "stdout",
     "output_type": "stream",
     "text": [
      "start running ../iDeepS/datasets/clip/18_ICLIP_hnRNPL_Hela_group_3975_all-hnRNPL-Hela-hg19_sum_G_hg19--ensembl59_from_2337-2339-741_bedGraph-cDNA-hits-in-genome\n"
     ]
    },
    {
     "data": {
      "text/html": [
       "Finishing last run (ID:7kvo3783) before initializing another..."
      ],
      "text/plain": [
       "<IPython.core.display.HTML object>"
      ]
     },
     "metadata": {},
     "output_type": "display_data"
    },
    {
     "name": "stdout",
     "output_type": "stream",
     "text": [
      "\n"
     ]
    },
    {
     "data": {
      "text/html": [
       "Waiting for W&B process to finish... <strong style=\"color:green\">(success).</strong>"
      ],
      "text/plain": [
       "<IPython.core.display.HTML object>"
      ]
     },
     "metadata": {},
     "output_type": "display_data"
    },
    {
     "data": {
      "application/vnd.jupyter.widget-view+json": {
       "model_id": "",
       "version_major": 2,
       "version_minor": 0
      },
      "text/plain": [
       "VBox(children=(Label(value='0.001 MB of 0.001 MB uploaded (0.000 MB deduped)\\r'), FloatProgress(value=1.0, max…"
      ]
     },
     "metadata": {},
     "output_type": "display_data"
    },
    {
     "data": {
      "text/html": [
       "<style>\n",
       "    table.wandb td:nth-child(1) { padding: 0 10px; text-align: right }\n",
       "    .wandb-row { display: flex; flex-direction: row; flex-wrap: wrap; width: 100% }\n",
       "    .wandb-col { display: flex; flex-direction: column; flex-basis: 100%; flex: 1; padding: 10px; }\n",
       "    </style>\n",
       "<div class=\"wandb-row\"><div class=\"wandb-col\"><h3>Run history:</h3><br/><table class=\"wandb\"><tr><td>Test Acc </td><td>▁▆▇███▇▇▇▇█▇▇▇▇▇▇▇▇▇</td></tr><tr><td>Test loss</td><td>▁▁▁▁▁█▁▁▁▁▁▁▁▄▁▁▁▁▁▁</td></tr><tr><td>Train Acc:</td><td>▁▃▄▄▅▅▅▆▆▆▆▆▇▇▇▇████</td></tr><tr><td>Train loss:</td><td>█▆▅▅▅▄▄▄▃▃▃▃▂▂▂▁▁▁▁▁</td></tr><tr><td>auROC</td><td>▁▇▇███▆▇▅▅▅▆▅▆▃▃▄▃▃▃</td></tr><tr><td>lr</td><td>▁▁▁▁▁▁▁▁▁▁▁▁▁▁▁▁▁▁▁▁</td></tr></table><br/></div><div class=\"wandb-col\"><h3>Run summary:</h3><br/><table class=\"wandb\"><tr><td>Test Acc </td><td>92.58</td></tr><tr><td>Test loss</td><td>0.16931</td></tr><tr><td>Train Acc:</td><td>95.83667</td></tr><tr><td>Train loss:</td><td>0.05457</td></tr><tr><td>auROC</td><td>0.96566</td></tr><tr><td>lr</td><td>0.0005</td></tr></table><br/></div></div>"
      ],
      "text/plain": [
       "<IPython.core.display.HTML object>"
      ]
     },
     "metadata": {},
     "output_type": "display_data"
    },
    {
     "data": {
      "text/html": [
       "Synced <strong style=\"color:#cdcd00\">WEAKRM17</strong>: <a href=\"https://wandb.ai/fanfanwu9898/02710/runs/7kvo3783\" target=\"_blank\">https://wandb.ai/fanfanwu9898/02710/runs/7kvo3783</a><br/>Synced 6 W&B file(s), 0 media file(s), 0 artifact file(s) and 0 other file(s)"
      ],
      "text/plain": [
       "<IPython.core.display.HTML object>"
      ]
     },
     "metadata": {},
     "output_type": "display_data"
    },
    {
     "data": {
      "text/html": [
       "Find logs at: <code>./wandb/run-20220508_184723-7kvo3783/logs</code>"
      ],
      "text/plain": [
       "<IPython.core.display.HTML object>"
      ]
     },
     "metadata": {},
     "output_type": "display_data"
    },
    {
     "data": {
      "text/html": [
       "Successfully finished last run (ID:7kvo3783). Initializing new run:<br/>"
      ],
      "text/plain": [
       "<IPython.core.display.HTML object>"
      ]
     },
     "metadata": {},
     "output_type": "display_data"
    },
    {
     "data": {
      "text/html": [
       "wandb version 0.12.16 is available!  To upgrade, please run:\n",
       " $ pip install wandb --upgrade"
      ],
      "text/plain": [
       "<IPython.core.display.HTML object>"
      ]
     },
     "metadata": {},
     "output_type": "display_data"
    },
    {
     "data": {
      "text/html": [
       "Tracking run with wandb version 0.12.11"
      ],
      "text/plain": [
       "<IPython.core.display.HTML object>"
      ]
     },
     "metadata": {},
     "output_type": "display_data"
    },
    {
     "data": {
      "text/html": [
       "Run data is saved locally in <code>/home/yifan/Desktop/genomics/projects/model/wandb/run-20220508_191244-2gczjgle</code>"
      ],
      "text/plain": [
       "<IPython.core.display.HTML object>"
      ]
     },
     "metadata": {},
     "output_type": "display_data"
    },
    {
     "data": {
      "text/html": [
       "Syncing run <strong><a href=\"https://wandb.ai/fanfanwu9898/02710/runs/2gczjgle\" target=\"_blank\">WEAKRM18</a></strong> to <a href=\"https://wandb.ai/fanfanwu9898/02710\" target=\"_blank\">Weights & Biases</a> (<a href=\"https://wandb.me/run\" target=\"_blank\">docs</a>)<br/>"
      ],
      "text/plain": [
       "<IPython.core.display.HTML object>"
      ]
     },
     "metadata": {},
     "output_type": "display_data"
    },
    {
     "name": "stderr",
     "output_type": "stream",
     "text": [
      "/home/yifan/Desktop/genomics/projects/model/model.py:63: UserWarning: Implicit dimension choice for softmax has been deprecated. Change the call to include dim=X as an argument.\n",
      "  gated_attention = self.softmax(gated_attention)  # torch.Size([1, 13])\n",
      "/home/yifan/Desktop/genomics/projects/model/model.py:63: UserWarning: Implicit dimension choice for softmax has been deprecated. Change the call to include dim=X as an argument.\n",
      "  gated_attention = self.softmax(gated_attention)  # torch.Size([1, 13])\n",
      "/home/yifan/Desktop/genomics/projects/model/model.py:63: UserWarning: Implicit dimension choice for softmax has been deprecated. Change the call to include dim=X as an argument.\n",
      "  gated_attention = self.softmax(gated_attention)  # torch.Size([1, 13])\n",
      "/home/yifan/Desktop/genomics/projects/model/model.py:63: UserWarning: Implicit dimension choice for softmax has been deprecated. Change the call to include dim=X as an argument.\n",
      "  gated_attention = self.softmax(gated_attention)  # torch.Size([1, 13])\n",
      "/home/yifan/Desktop/genomics/projects/model/model.py:63: UserWarning: Implicit dimension choice for softmax has been deprecated. Change the call to include dim=X as an argument.\n",
      "  gated_attention = self.softmax(gated_attention)  # torch.Size([1, 13])\n",
      "/home/yifan/Desktop/genomics/projects/model/model.py:63: UserWarning: Implicit dimension choice for softmax has been deprecated. Change the call to include dim=X as an argument.\n",
      "  gated_attention = self.softmax(gated_attention)  # torch.Size([1, 13])\n",
      "/home/yifan/Desktop/genomics/projects/model/model.py:63: UserWarning: Implicit dimension choice for softmax has been deprecated. Change the call to include dim=X as an argument.\n",
      "  gated_attention = self.softmax(gated_attention)  # torch.Size([1, 13])\n",
      "/home/yifan/Desktop/genomics/projects/model/model.py:63: UserWarning: Implicit dimension choice for softmax has been deprecated. Change the call to include dim=X as an argument.\n",
      "  gated_attention = self.softmax(gated_attention)  # torch.Size([1, 13])\n",
      "/home/yifan/Desktop/genomics/projects/model/model.py:63: UserWarning: Implicit dimension choice for softmax has been deprecated. Change the call to include dim=X as an argument.\n",
      "  gated_attention = self.softmax(gated_attention)  # torch.Size([1, 13])\n",
      "/home/yifan/Desktop/genomics/projects/model/model.py:63: UserWarning: Implicit dimension choice for softmax has been deprecated. Change the call to include dim=X as an argument.\n",
      "  gated_attention = self.softmax(gated_attention)  # torch.Size([1, 13])\n",
      "/home/yifan/Desktop/genomics/projects/model/model.py:63: UserWarning: Implicit dimension choice for softmax has been deprecated. Change the call to include dim=X as an argument.\n",
      "  gated_attention = self.softmax(gated_attention)  # torch.Size([1, 13])\n",
      "/home/yifan/Desktop/genomics/projects/model/model.py:63: UserWarning: Implicit dimension choice for softmax has been deprecated. Change the call to include dim=X as an argument.\n",
      "  gated_attention = self.softmax(gated_attention)  # torch.Size([1, 13])\n",
      "/home/yifan/Desktop/genomics/projects/model/model.py:63: UserWarning: Implicit dimension choice for softmax has been deprecated. Change the call to include dim=X as an argument.\n",
      "  gated_attention = self.softmax(gated_attention)  # torch.Size([1, 13])\n",
      "/home/yifan/Desktop/genomics/projects/model/model.py:63: UserWarning: Implicit dimension choice for softmax has been deprecated. Change the call to include dim=X as an argument.\n",
      "  gated_attention = self.softmax(gated_attention)  # torch.Size([1, 13])\n",
      "/home/yifan/Desktop/genomics/projects/model/model.py:63: UserWarning: Implicit dimension choice for softmax has been deprecated. Change the call to include dim=X as an argument.\n",
      "  gated_attention = self.softmax(gated_attention)  # torch.Size([1, 13])\n",
      "/home/yifan/Desktop/genomics/projects/model/model.py:63: UserWarning: Implicit dimension choice for softmax has been deprecated. Change the call to include dim=X as an argument.\n",
      "  gated_attention = self.softmax(gated_attention)  # torch.Size([1, 13])\n",
      "/home/yifan/Desktop/genomics/projects/model/model.py:63: UserWarning: Implicit dimension choice for softmax has been deprecated. Change the call to include dim=X as an argument.\n",
      "  gated_attention = self.softmax(gated_attention)  # torch.Size([1, 13])\n",
      "/home/yifan/Desktop/genomics/projects/model/model.py:63: UserWarning: Implicit dimension choice for softmax has been deprecated. Change the call to include dim=X as an argument.\n",
      "  gated_attention = self.softmax(gated_attention)  # torch.Size([1, 13])\n",
      "/home/yifan/Desktop/genomics/projects/model/model.py:63: UserWarning: Implicit dimension choice for softmax has been deprecated. Change the call to include dim=X as an argument.\n",
      "  gated_attention = self.softmax(gated_attention)  # torch.Size([1, 13])\n",
      "/home/yifan/Desktop/genomics/projects/model/model.py:63: UserWarning: Implicit dimension choice for softmax has been deprecated. Change the call to include dim=X as an argument.\n",
      "  gated_attention = self.softmax(gated_attention)  # torch.Size([1, 13])\n"
     ]
    },
    {
     "name": "stdout",
     "output_type": "stream",
     "text": [
      "start running ../iDeepS/datasets/clip/19_ICLIP_hnRNPL_U266_group_3986_all-hnRNPL-U266-hg19_sum_G_hg19--ensembl59_from_2485_bedGraph-cDNA-hits-in-genome\n"
     ]
    },
    {
     "data": {
      "text/html": [
       "Finishing last run (ID:2gczjgle) before initializing another..."
      ],
      "text/plain": [
       "<IPython.core.display.HTML object>"
      ]
     },
     "metadata": {},
     "output_type": "display_data"
    },
    {
     "name": "stdout",
     "output_type": "stream",
     "text": [
      "\n"
     ]
    },
    {
     "data": {
      "text/html": [
       "Waiting for W&B process to finish... <strong style=\"color:green\">(success).</strong>"
      ],
      "text/plain": [
       "<IPython.core.display.HTML object>"
      ]
     },
     "metadata": {},
     "output_type": "display_data"
    },
    {
     "data": {
      "application/vnd.jupyter.widget-view+json": {
       "model_id": "",
       "version_major": 2,
       "version_minor": 0
      },
      "text/plain": [
       "VBox(children=(Label(value='0.001 MB of 0.001 MB uploaded (0.000 MB deduped)\\r'), FloatProgress(value=1.0, max…"
      ]
     },
     "metadata": {},
     "output_type": "display_data"
    },
    {
     "data": {
      "text/html": [
       "<style>\n",
       "    table.wandb td:nth-child(1) { padding: 0 10px; text-align: right }\n",
       "    .wandb-row { display: flex; flex-direction: row; flex-wrap: wrap; width: 100% }\n",
       "    .wandb-col { display: flex; flex-direction: column; flex-basis: 100%; flex: 1; padding: 10px; }\n",
       "    </style>\n",
       "<div class=\"wandb-row\"><div class=\"wandb-col\"><h3>Run history:</h3><br/><table class=\"wandb\"><tr><td>Test Acc </td><td>▇▇██▇█▇▇▆▄▆▆▅▄▄▁▄▄▄▃</td></tr><tr><td>Test loss</td><td>▅▁▂▁▁▁▄▁█▁▁▁▁▂▂▄▃▁▁▂</td></tr><tr><td>Train Acc:</td><td>▁▂▂▃▃▃▃▄▄▅▅▆▆▇▇█████</td></tr><tr><td>Train loss:</td><td>█▇▆▆▅▅▅▄▄▄▃▃▃▂▂▂▁▁▁▁</td></tr><tr><td>auROC</td><td>▂▅█▆█▇▆▆▆▆▁▁▂▃▂▃▂▂▂▂</td></tr><tr><td>lr</td><td>▁▁▁▁▁▁▁▁▁▁▁▁▁▁▁▁▁▁▁▁</td></tr></table><br/></div><div class=\"wandb-col\"><h3>Run summary:</h3><br/><table class=\"wandb\"><tr><td>Test Acc </td><td>79.57</td></tr><tr><td>Test loss</td><td>0.21949</td></tr><tr><td>Train Acc:</td><td>82.8</td></tr><tr><td>Train loss:</td><td>0.19508</td></tr><tr><td>auROC</td><td>0.69953</td></tr><tr><td>lr</td><td>0.0005</td></tr></table><br/></div></div>"
      ],
      "text/plain": [
       "<IPython.core.display.HTML object>"
      ]
     },
     "metadata": {},
     "output_type": "display_data"
    },
    {
     "data": {
      "text/html": [
       "Synced <strong style=\"color:#cdcd00\">WEAKRM18</strong>: <a href=\"https://wandb.ai/fanfanwu9898/02710/runs/2gczjgle\" target=\"_blank\">https://wandb.ai/fanfanwu9898/02710/runs/2gczjgle</a><br/>Synced 6 W&B file(s), 0 media file(s), 0 artifact file(s) and 0 other file(s)"
      ],
      "text/plain": [
       "<IPython.core.display.HTML object>"
      ]
     },
     "metadata": {},
     "output_type": "display_data"
    },
    {
     "data": {
      "text/html": [
       "Find logs at: <code>./wandb/run-20220508_191244-2gczjgle/logs</code>"
      ],
      "text/plain": [
       "<IPython.core.display.HTML object>"
      ]
     },
     "metadata": {},
     "output_type": "display_data"
    },
    {
     "data": {
      "text/html": [
       "Successfully finished last run (ID:2gczjgle). Initializing new run:<br/>"
      ],
      "text/plain": [
       "<IPython.core.display.HTML object>"
      ]
     },
     "metadata": {},
     "output_type": "display_data"
    },
    {
     "data": {
      "text/html": [
       "wandb version 0.12.16 is available!  To upgrade, please run:\n",
       " $ pip install wandb --upgrade"
      ],
      "text/plain": [
       "<IPython.core.display.HTML object>"
      ]
     },
     "metadata": {},
     "output_type": "display_data"
    },
    {
     "data": {
      "text/html": [
       "Tracking run with wandb version 0.12.11"
      ],
      "text/plain": [
       "<IPython.core.display.HTML object>"
      ]
     },
     "metadata": {},
     "output_type": "display_data"
    },
    {
     "data": {
      "text/html": [
       "Run data is saved locally in <code>/home/yifan/Desktop/genomics/projects/model/wandb/run-20220508_193811-1r8iw0l6</code>"
      ],
      "text/plain": [
       "<IPython.core.display.HTML object>"
      ]
     },
     "metadata": {},
     "output_type": "display_data"
    },
    {
     "data": {
      "text/html": [
       "Syncing run <strong><a href=\"https://wandb.ai/fanfanwu9898/02710/runs/1r8iw0l6\" target=\"_blank\">WEAKRM19</a></strong> to <a href=\"https://wandb.ai/fanfanwu9898/02710\" target=\"_blank\">Weights & Biases</a> (<a href=\"https://wandb.me/run\" target=\"_blank\">docs</a>)<br/>"
      ],
      "text/plain": [
       "<IPython.core.display.HTML object>"
      ]
     },
     "metadata": {},
     "output_type": "display_data"
    },
    {
     "name": "stderr",
     "output_type": "stream",
     "text": [
      "/home/yifan/Desktop/genomics/projects/model/model.py:63: UserWarning: Implicit dimension choice for softmax has been deprecated. Change the call to include dim=X as an argument.\n",
      "  gated_attention = self.softmax(gated_attention)  # torch.Size([1, 13])\n",
      "/home/yifan/Desktop/genomics/projects/model/model.py:63: UserWarning: Implicit dimension choice for softmax has been deprecated. Change the call to include dim=X as an argument.\n",
      "  gated_attention = self.softmax(gated_attention)  # torch.Size([1, 13])\n",
      "/home/yifan/Desktop/genomics/projects/model/model.py:63: UserWarning: Implicit dimension choice for softmax has been deprecated. Change the call to include dim=X as an argument.\n",
      "  gated_attention = self.softmax(gated_attention)  # torch.Size([1, 13])\n",
      "/home/yifan/Desktop/genomics/projects/model/model.py:63: UserWarning: Implicit dimension choice for softmax has been deprecated. Change the call to include dim=X as an argument.\n",
      "  gated_attention = self.softmax(gated_attention)  # torch.Size([1, 13])\n",
      "/home/yifan/Desktop/genomics/projects/model/model.py:63: UserWarning: Implicit dimension choice for softmax has been deprecated. Change the call to include dim=X as an argument.\n",
      "  gated_attention = self.softmax(gated_attention)  # torch.Size([1, 13])\n",
      "/home/yifan/Desktop/genomics/projects/model/model.py:63: UserWarning: Implicit dimension choice for softmax has been deprecated. Change the call to include dim=X as an argument.\n",
      "  gated_attention = self.softmax(gated_attention)  # torch.Size([1, 13])\n",
      "/home/yifan/Desktop/genomics/projects/model/model.py:63: UserWarning: Implicit dimension choice for softmax has been deprecated. Change the call to include dim=X as an argument.\n",
      "  gated_attention = self.softmax(gated_attention)  # torch.Size([1, 13])\n",
      "/home/yifan/Desktop/genomics/projects/model/model.py:63: UserWarning: Implicit dimension choice for softmax has been deprecated. Change the call to include dim=X as an argument.\n",
      "  gated_attention = self.softmax(gated_attention)  # torch.Size([1, 13])\n",
      "/home/yifan/Desktop/genomics/projects/model/model.py:63: UserWarning: Implicit dimension choice for softmax has been deprecated. Change the call to include dim=X as an argument.\n",
      "  gated_attention = self.softmax(gated_attention)  # torch.Size([1, 13])\n",
      "/home/yifan/Desktop/genomics/projects/model/model.py:63: UserWarning: Implicit dimension choice for softmax has been deprecated. Change the call to include dim=X as an argument.\n",
      "  gated_attention = self.softmax(gated_attention)  # torch.Size([1, 13])\n",
      "/home/yifan/Desktop/genomics/projects/model/model.py:63: UserWarning: Implicit dimension choice for softmax has been deprecated. Change the call to include dim=X as an argument.\n",
      "  gated_attention = self.softmax(gated_attention)  # torch.Size([1, 13])\n",
      "/home/yifan/Desktop/genomics/projects/model/model.py:63: UserWarning: Implicit dimension choice for softmax has been deprecated. Change the call to include dim=X as an argument.\n",
      "  gated_attention = self.softmax(gated_attention)  # torch.Size([1, 13])\n",
      "/home/yifan/Desktop/genomics/projects/model/model.py:63: UserWarning: Implicit dimension choice for softmax has been deprecated. Change the call to include dim=X as an argument.\n",
      "  gated_attention = self.softmax(gated_attention)  # torch.Size([1, 13])\n",
      "/home/yifan/Desktop/genomics/projects/model/model.py:63: UserWarning: Implicit dimension choice for softmax has been deprecated. Change the call to include dim=X as an argument.\n",
      "  gated_attention = self.softmax(gated_attention)  # torch.Size([1, 13])\n",
      "/home/yifan/Desktop/genomics/projects/model/model.py:63: UserWarning: Implicit dimension choice for softmax has been deprecated. Change the call to include dim=X as an argument.\n",
      "  gated_attention = self.softmax(gated_attention)  # torch.Size([1, 13])\n",
      "/home/yifan/Desktop/genomics/projects/model/model.py:63: UserWarning: Implicit dimension choice for softmax has been deprecated. Change the call to include dim=X as an argument.\n",
      "  gated_attention = self.softmax(gated_attention)  # torch.Size([1, 13])\n",
      "/home/yifan/Desktop/genomics/projects/model/model.py:63: UserWarning: Implicit dimension choice for softmax has been deprecated. Change the call to include dim=X as an argument.\n",
      "  gated_attention = self.softmax(gated_attention)  # torch.Size([1, 13])\n",
      "/home/yifan/Desktop/genomics/projects/model/model.py:63: UserWarning: Implicit dimension choice for softmax has been deprecated. Change the call to include dim=X as an argument.\n",
      "  gated_attention = self.softmax(gated_attention)  # torch.Size([1, 13])\n",
      "/home/yifan/Desktop/genomics/projects/model/model.py:63: UserWarning: Implicit dimension choice for softmax has been deprecated. Change the call to include dim=X as an argument.\n",
      "  gated_attention = self.softmax(gated_attention)  # torch.Size([1, 13])\n",
      "/home/yifan/Desktop/genomics/projects/model/model.py:63: UserWarning: Implicit dimension choice for softmax has been deprecated. Change the call to include dim=X as an argument.\n",
      "  gated_attention = self.softmax(gated_attention)  # torch.Size([1, 13])\n"
     ]
    },
    {
     "name": "stdout",
     "output_type": "stream",
     "text": [
      "start running ../iDeepS/datasets/clip/1_PARCLIP_AGO1234_hg19\n"
     ]
    },
    {
     "data": {
      "text/html": [
       "Finishing last run (ID:1r8iw0l6) before initializing another..."
      ],
      "text/plain": [
       "<IPython.core.display.HTML object>"
      ]
     },
     "metadata": {},
     "output_type": "display_data"
    },
    {
     "name": "stdout",
     "output_type": "stream",
     "text": [
      "\n"
     ]
    },
    {
     "data": {
      "text/html": [
       "Waiting for W&B process to finish... <strong style=\"color:green\">(success).</strong>"
      ],
      "text/plain": [
       "<IPython.core.display.HTML object>"
      ]
     },
     "metadata": {},
     "output_type": "display_data"
    },
    {
     "data": {
      "application/vnd.jupyter.widget-view+json": {
       "model_id": "",
       "version_major": 2,
       "version_minor": 0
      },
      "text/plain": [
       "VBox(children=(Label(value='0.001 MB of 0.001 MB uploaded (0.000 MB deduped)\\r'), FloatProgress(value=1.0, max…"
      ]
     },
     "metadata": {},
     "output_type": "display_data"
    },
    {
     "data": {
      "text/html": [
       "<style>\n",
       "    table.wandb td:nth-child(1) { padding: 0 10px; text-align: right }\n",
       "    .wandb-row { display: flex; flex-direction: row; flex-wrap: wrap; width: 100% }\n",
       "    .wandb-col { display: flex; flex-direction: column; flex-basis: 100%; flex: 1; padding: 10px; }\n",
       "    </style>\n",
       "<div class=\"wandb-row\"><div class=\"wandb-col\"><h3>Run history:</h3><br/><table class=\"wandb\"><tr><td>Test Acc </td><td>▆▅▇██▇▇▇▇▇▇▄▄▁▃▂▂▃▂▂</td></tr><tr><td>Test loss</td><td>▁▁▁▃▂▂▂▂▁▃▁▁▃▂▁▆▄█▂▄</td></tr><tr><td>Train Acc:</td><td>▁▂▂▂▂▂▃▃▃▄▄▅▆▆▇▇▇███</td></tr><tr><td>Train loss:</td><td>█▇▆▆▆▅▅▅▄▄▃▃▃▂▂▂▁▁▁▁</td></tr><tr><td>auROC</td><td>▂▅▇███▇▅▇▆▄▄▃▂▂▃▁▁▁▁</td></tr><tr><td>lr</td><td>▁▁▁▁▁▁▁▁▁▁▁▁▁▁▁▁▁▁▁▁</td></tr></table><br/></div><div class=\"wandb-col\"><h3>Run summary:</h3><br/><table class=\"wandb\"><tr><td>Test Acc </td><td>79.78</td></tr><tr><td>Test loss</td><td>0.5918</td></tr><tr><td>Train Acc:</td><td>81.77667</td></tr><tr><td>Train loss:</td><td>0.20505</td></tr><tr><td>auROC</td><td>0.70321</td></tr><tr><td>lr</td><td>0.0005</td></tr></table><br/></div></div>"
      ],
      "text/plain": [
       "<IPython.core.display.HTML object>"
      ]
     },
     "metadata": {},
     "output_type": "display_data"
    },
    {
     "data": {
      "text/html": [
       "Synced <strong style=\"color:#cdcd00\">WEAKRM19</strong>: <a href=\"https://wandb.ai/fanfanwu9898/02710/runs/1r8iw0l6\" target=\"_blank\">https://wandb.ai/fanfanwu9898/02710/runs/1r8iw0l6</a><br/>Synced 6 W&B file(s), 0 media file(s), 0 artifact file(s) and 0 other file(s)"
      ],
      "text/plain": [
       "<IPython.core.display.HTML object>"
      ]
     },
     "metadata": {},
     "output_type": "display_data"
    },
    {
     "data": {
      "text/html": [
       "Find logs at: <code>./wandb/run-20220508_193811-1r8iw0l6/logs</code>"
      ],
      "text/plain": [
       "<IPython.core.display.HTML object>"
      ]
     },
     "metadata": {},
     "output_type": "display_data"
    },
    {
     "data": {
      "text/html": [
       "Successfully finished last run (ID:1r8iw0l6). Initializing new run:<br/>"
      ],
      "text/plain": [
       "<IPython.core.display.HTML object>"
      ]
     },
     "metadata": {},
     "output_type": "display_data"
    },
    {
     "data": {
      "text/html": [
       "wandb version 0.12.16 is available!  To upgrade, please run:\n",
       " $ pip install wandb --upgrade"
      ],
      "text/plain": [
       "<IPython.core.display.HTML object>"
      ]
     },
     "metadata": {},
     "output_type": "display_data"
    },
    {
     "data": {
      "text/html": [
       "Tracking run with wandb version 0.12.11"
      ],
      "text/plain": [
       "<IPython.core.display.HTML object>"
      ]
     },
     "metadata": {},
     "output_type": "display_data"
    },
    {
     "data": {
      "text/html": [
       "Run data is saved locally in <code>/home/yifan/Desktop/genomics/projects/model/wandb/run-20220508_200333-3mmmvr28</code>"
      ],
      "text/plain": [
       "<IPython.core.display.HTML object>"
      ]
     },
     "metadata": {},
     "output_type": "display_data"
    },
    {
     "data": {
      "text/html": [
       "Syncing run <strong><a href=\"https://wandb.ai/fanfanwu9898/02710/runs/3mmmvr28\" target=\"_blank\">WEAKRM1</a></strong> to <a href=\"https://wandb.ai/fanfanwu9898/02710\" target=\"_blank\">Weights & Biases</a> (<a href=\"https://wandb.me/run\" target=\"_blank\">docs</a>)<br/>"
      ],
      "text/plain": [
       "<IPython.core.display.HTML object>"
      ]
     },
     "metadata": {},
     "output_type": "display_data"
    },
    {
     "name": "stderr",
     "output_type": "stream",
     "text": [
      "/home/yifan/Desktop/genomics/projects/model/model.py:63: UserWarning: Implicit dimension choice for softmax has been deprecated. Change the call to include dim=X as an argument.\n",
      "  gated_attention = self.softmax(gated_attention)  # torch.Size([1, 13])\n",
      "/home/yifan/Desktop/genomics/projects/model/model.py:63: UserWarning: Implicit dimension choice for softmax has been deprecated. Change the call to include dim=X as an argument.\n",
      "  gated_attention = self.softmax(gated_attention)  # torch.Size([1, 13])\n",
      "/home/yifan/Desktop/genomics/projects/model/model.py:63: UserWarning: Implicit dimension choice for softmax has been deprecated. Change the call to include dim=X as an argument.\n",
      "  gated_attention = self.softmax(gated_attention)  # torch.Size([1, 13])\n",
      "/home/yifan/Desktop/genomics/projects/model/model.py:63: UserWarning: Implicit dimension choice for softmax has been deprecated. Change the call to include dim=X as an argument.\n",
      "  gated_attention = self.softmax(gated_attention)  # torch.Size([1, 13])\n",
      "/home/yifan/Desktop/genomics/projects/model/model.py:63: UserWarning: Implicit dimension choice for softmax has been deprecated. Change the call to include dim=X as an argument.\n",
      "  gated_attention = self.softmax(gated_attention)  # torch.Size([1, 13])\n",
      "/home/yifan/Desktop/genomics/projects/model/model.py:63: UserWarning: Implicit dimension choice for softmax has been deprecated. Change the call to include dim=X as an argument.\n",
      "  gated_attention = self.softmax(gated_attention)  # torch.Size([1, 13])\n",
      "/home/yifan/Desktop/genomics/projects/model/model.py:63: UserWarning: Implicit dimension choice for softmax has been deprecated. Change the call to include dim=X as an argument.\n",
      "  gated_attention = self.softmax(gated_attention)  # torch.Size([1, 13])\n",
      "/home/yifan/Desktop/genomics/projects/model/model.py:63: UserWarning: Implicit dimension choice for softmax has been deprecated. Change the call to include dim=X as an argument.\n",
      "  gated_attention = self.softmax(gated_attention)  # torch.Size([1, 13])\n",
      "/home/yifan/Desktop/genomics/projects/model/model.py:63: UserWarning: Implicit dimension choice for softmax has been deprecated. Change the call to include dim=X as an argument.\n",
      "  gated_attention = self.softmax(gated_attention)  # torch.Size([1, 13])\n",
      "/home/yifan/Desktop/genomics/projects/model/model.py:63: UserWarning: Implicit dimension choice for softmax has been deprecated. Change the call to include dim=X as an argument.\n",
      "  gated_attention = self.softmax(gated_attention)  # torch.Size([1, 13])\n",
      "/home/yifan/Desktop/genomics/projects/model/model.py:63: UserWarning: Implicit dimension choice for softmax has been deprecated. Change the call to include dim=X as an argument.\n",
      "  gated_attention = self.softmax(gated_attention)  # torch.Size([1, 13])\n",
      "/home/yifan/Desktop/genomics/projects/model/model.py:63: UserWarning: Implicit dimension choice for softmax has been deprecated. Change the call to include dim=X as an argument.\n",
      "  gated_attention = self.softmax(gated_attention)  # torch.Size([1, 13])\n",
      "/home/yifan/Desktop/genomics/projects/model/model.py:63: UserWarning: Implicit dimension choice for softmax has been deprecated. Change the call to include dim=X as an argument.\n",
      "  gated_attention = self.softmax(gated_attention)  # torch.Size([1, 13])\n",
      "/home/yifan/Desktop/genomics/projects/model/model.py:63: UserWarning: Implicit dimension choice for softmax has been deprecated. Change the call to include dim=X as an argument.\n",
      "  gated_attention = self.softmax(gated_attention)  # torch.Size([1, 13])\n",
      "/home/yifan/Desktop/genomics/projects/model/model.py:63: UserWarning: Implicit dimension choice for softmax has been deprecated. Change the call to include dim=X as an argument.\n",
      "  gated_attention = self.softmax(gated_attention)  # torch.Size([1, 13])\n",
      "/home/yifan/Desktop/genomics/projects/model/model.py:63: UserWarning: Implicit dimension choice for softmax has been deprecated. Change the call to include dim=X as an argument.\n",
      "  gated_attention = self.softmax(gated_attention)  # torch.Size([1, 13])\n",
      "/home/yifan/Desktop/genomics/projects/model/model.py:63: UserWarning: Implicit dimension choice for softmax has been deprecated. Change the call to include dim=X as an argument.\n",
      "  gated_attention = self.softmax(gated_attention)  # torch.Size([1, 13])\n",
      "/home/yifan/Desktop/genomics/projects/model/model.py:63: UserWarning: Implicit dimension choice for softmax has been deprecated. Change the call to include dim=X as an argument.\n",
      "  gated_attention = self.softmax(gated_attention)  # torch.Size([1, 13])\n",
      "/home/yifan/Desktop/genomics/projects/model/model.py:63: UserWarning: Implicit dimension choice for softmax has been deprecated. Change the call to include dim=X as an argument.\n",
      "  gated_attention = self.softmax(gated_attention)  # torch.Size([1, 13])\n",
      "/home/yifan/Desktop/genomics/projects/model/model.py:63: UserWarning: Implicit dimension choice for softmax has been deprecated. Change the call to include dim=X as an argument.\n",
      "  gated_attention = self.softmax(gated_attention)  # torch.Size([1, 13])\n"
     ]
    },
    {
     "name": "stdout",
     "output_type": "stream",
     "text": [
      "start running ../iDeepS/datasets/clip/20_ICLIP_hnRNPlike_U266_group_4000_all-hnRNPLlike-U266-hg19_sum_G_hg19--ensembl59_from_2342-2486_bedGraph-cDNA-hits-in-genome\n"
     ]
    },
    {
     "data": {
      "text/html": [
       "Finishing last run (ID:3mmmvr28) before initializing another..."
      ],
      "text/plain": [
       "<IPython.core.display.HTML object>"
      ]
     },
     "metadata": {},
     "output_type": "display_data"
    },
    {
     "name": "stdout",
     "output_type": "stream",
     "text": [
      "\n"
     ]
    },
    {
     "data": {
      "text/html": [
       "Waiting for W&B process to finish... <strong style=\"color:green\">(success).</strong>"
      ],
      "text/plain": [
       "<IPython.core.display.HTML object>"
      ]
     },
     "metadata": {},
     "output_type": "display_data"
    },
    {
     "data": {
      "application/vnd.jupyter.widget-view+json": {
       "model_id": "",
       "version_major": 2,
       "version_minor": 0
      },
      "text/plain": [
       "VBox(children=(Label(value='0.001 MB of 0.001 MB uploaded (0.000 MB deduped)\\r'), FloatProgress(value=1.0, max…"
      ]
     },
     "metadata": {},
     "output_type": "display_data"
    },
    {
     "data": {
      "text/html": [
       "<style>\n",
       "    table.wandb td:nth-child(1) { padding: 0 10px; text-align: right }\n",
       "    .wandb-row { display: flex; flex-direction: row; flex-wrap: wrap; width: 100% }\n",
       "    .wandb-col { display: flex; flex-direction: column; flex-basis: 100%; flex: 1; padding: 10px; }\n",
       "    </style>\n",
       "<div class=\"wandb-row\"><div class=\"wandb-col\"><h3>Run history:</h3><br/><table class=\"wandb\"><tr><td>Test Acc </td><td>▁▁▆▅▆▅▆▇█▁█▄█▅▄▄▃▂▂▃</td></tr><tr><td>Test loss</td><td>▄▄▆▁█▃▁▂▁▃▂▅▁▁▁▁▁▃▃▁</td></tr><tr><td>Train Acc:</td><td>▁▁▁▂▃▃▄▄▅▅▅▆▇▆▇█▇███</td></tr><tr><td>Train loss:</td><td>█▆▆▅▅▄▄▄▃▃▃▂▂▂▂▁▁▁▁▁</td></tr><tr><td>auROC</td><td>▁▅▆▇▇▇███▇██████████</td></tr><tr><td>lr</td><td>▁▁▁▁▁▁▁▁▁▁▁▁▁▁▁▁▁▁▁▁</td></tr></table><br/></div><div class=\"wandb-col\"><h3>Run summary:</h3><br/><table class=\"wandb\"><tr><td>Test Acc </td><td>80.35</td></tr><tr><td>Test loss</td><td>0.02411</td></tr><tr><td>Train Acc:</td><td>83.88333</td></tr><tr><td>Train loss:</td><td>0.17883</td></tr><tr><td>auROC</td><td>0.75779</td></tr><tr><td>lr</td><td>0.0005</td></tr></table><br/></div></div>"
      ],
      "text/plain": [
       "<IPython.core.display.HTML object>"
      ]
     },
     "metadata": {},
     "output_type": "display_data"
    },
    {
     "data": {
      "text/html": [
       "Synced <strong style=\"color:#cdcd00\">WEAKRM1</strong>: <a href=\"https://wandb.ai/fanfanwu9898/02710/runs/3mmmvr28\" target=\"_blank\">https://wandb.ai/fanfanwu9898/02710/runs/3mmmvr28</a><br/>Synced 6 W&B file(s), 0 media file(s), 0 artifact file(s) and 0 other file(s)"
      ],
      "text/plain": [
       "<IPython.core.display.HTML object>"
      ]
     },
     "metadata": {},
     "output_type": "display_data"
    },
    {
     "data": {
      "text/html": [
       "Find logs at: <code>./wandb/run-20220508_200333-3mmmvr28/logs</code>"
      ],
      "text/plain": [
       "<IPython.core.display.HTML object>"
      ]
     },
     "metadata": {},
     "output_type": "display_data"
    },
    {
     "data": {
      "text/html": [
       "Successfully finished last run (ID:3mmmvr28). Initializing new run:<br/>"
      ],
      "text/plain": [
       "<IPython.core.display.HTML object>"
      ]
     },
     "metadata": {},
     "output_type": "display_data"
    },
    {
     "data": {
      "text/html": [
       "wandb version 0.12.16 is available!  To upgrade, please run:\n",
       " $ pip install wandb --upgrade"
      ],
      "text/plain": [
       "<IPython.core.display.HTML object>"
      ]
     },
     "metadata": {},
     "output_type": "display_data"
    },
    {
     "data": {
      "text/html": [
       "Tracking run with wandb version 0.12.11"
      ],
      "text/plain": [
       "<IPython.core.display.HTML object>"
      ]
     },
     "metadata": {},
     "output_type": "display_data"
    },
    {
     "data": {
      "text/html": [
       "Run data is saved locally in <code>/home/yifan/Desktop/genomics/projects/model/wandb/run-20220508_203003-1jszcz65</code>"
      ],
      "text/plain": [
       "<IPython.core.display.HTML object>"
      ]
     },
     "metadata": {},
     "output_type": "display_data"
    },
    {
     "data": {
      "text/html": [
       "Syncing run <strong><a href=\"https://wandb.ai/fanfanwu9898/02710/runs/1jszcz65\" target=\"_blank\">WEAKRM20</a></strong> to <a href=\"https://wandb.ai/fanfanwu9898/02710\" target=\"_blank\">Weights & Biases</a> (<a href=\"https://wandb.me/run\" target=\"_blank\">docs</a>)<br/>"
      ],
      "text/plain": [
       "<IPython.core.display.HTML object>"
      ]
     },
     "metadata": {},
     "output_type": "display_data"
    },
    {
     "name": "stderr",
     "output_type": "stream",
     "text": [
      "/home/yifan/Desktop/genomics/projects/model/model.py:63: UserWarning: Implicit dimension choice for softmax has been deprecated. Change the call to include dim=X as an argument.\n",
      "  gated_attention = self.softmax(gated_attention)  # torch.Size([1, 13])\n",
      "/home/yifan/Desktop/genomics/projects/model/model.py:63: UserWarning: Implicit dimension choice for softmax has been deprecated. Change the call to include dim=X as an argument.\n",
      "  gated_attention = self.softmax(gated_attention)  # torch.Size([1, 13])\n",
      "/home/yifan/Desktop/genomics/projects/model/model.py:63: UserWarning: Implicit dimension choice for softmax has been deprecated. Change the call to include dim=X as an argument.\n",
      "  gated_attention = self.softmax(gated_attention)  # torch.Size([1, 13])\n",
      "/home/yifan/Desktop/genomics/projects/model/model.py:63: UserWarning: Implicit dimension choice for softmax has been deprecated. Change the call to include dim=X as an argument.\n",
      "  gated_attention = self.softmax(gated_attention)  # torch.Size([1, 13])\n",
      "/home/yifan/Desktop/genomics/projects/model/model.py:63: UserWarning: Implicit dimension choice for softmax has been deprecated. Change the call to include dim=X as an argument.\n",
      "  gated_attention = self.softmax(gated_attention)  # torch.Size([1, 13])\n",
      "/home/yifan/Desktop/genomics/projects/model/model.py:63: UserWarning: Implicit dimension choice for softmax has been deprecated. Change the call to include dim=X as an argument.\n",
      "  gated_attention = self.softmax(gated_attention)  # torch.Size([1, 13])\n",
      "/home/yifan/Desktop/genomics/projects/model/model.py:63: UserWarning: Implicit dimension choice for softmax has been deprecated. Change the call to include dim=X as an argument.\n",
      "  gated_attention = self.softmax(gated_attention)  # torch.Size([1, 13])\n",
      "/home/yifan/Desktop/genomics/projects/model/model.py:63: UserWarning: Implicit dimension choice for softmax has been deprecated. Change the call to include dim=X as an argument.\n",
      "  gated_attention = self.softmax(gated_attention)  # torch.Size([1, 13])\n",
      "/home/yifan/Desktop/genomics/projects/model/model.py:63: UserWarning: Implicit dimension choice for softmax has been deprecated. Change the call to include dim=X as an argument.\n",
      "  gated_attention = self.softmax(gated_attention)  # torch.Size([1, 13])\n",
      "/home/yifan/Desktop/genomics/projects/model/model.py:63: UserWarning: Implicit dimension choice for softmax has been deprecated. Change the call to include dim=X as an argument.\n",
      "  gated_attention = self.softmax(gated_attention)  # torch.Size([1, 13])\n",
      "/home/yifan/Desktop/genomics/projects/model/model.py:63: UserWarning: Implicit dimension choice for softmax has been deprecated. Change the call to include dim=X as an argument.\n",
      "  gated_attention = self.softmax(gated_attention)  # torch.Size([1, 13])\n",
      "/home/yifan/Desktop/genomics/projects/model/model.py:63: UserWarning: Implicit dimension choice for softmax has been deprecated. Change the call to include dim=X as an argument.\n",
      "  gated_attention = self.softmax(gated_attention)  # torch.Size([1, 13])\n",
      "/home/yifan/Desktop/genomics/projects/model/model.py:63: UserWarning: Implicit dimension choice for softmax has been deprecated. Change the call to include dim=X as an argument.\n",
      "  gated_attention = self.softmax(gated_attention)  # torch.Size([1, 13])\n",
      "/home/yifan/Desktop/genomics/projects/model/model.py:63: UserWarning: Implicit dimension choice for softmax has been deprecated. Change the call to include dim=X as an argument.\n",
      "  gated_attention = self.softmax(gated_attention)  # torch.Size([1, 13])\n",
      "/home/yifan/Desktop/genomics/projects/model/model.py:63: UserWarning: Implicit dimension choice for softmax has been deprecated. Change the call to include dim=X as an argument.\n",
      "  gated_attention = self.softmax(gated_attention)  # torch.Size([1, 13])\n",
      "/home/yifan/Desktop/genomics/projects/model/model.py:63: UserWarning: Implicit dimension choice for softmax has been deprecated. Change the call to include dim=X as an argument.\n",
      "  gated_attention = self.softmax(gated_attention)  # torch.Size([1, 13])\n",
      "/home/yifan/Desktop/genomics/projects/model/model.py:63: UserWarning: Implicit dimension choice for softmax has been deprecated. Change the call to include dim=X as an argument.\n",
      "  gated_attention = self.softmax(gated_attention)  # torch.Size([1, 13])\n",
      "/home/yifan/Desktop/genomics/projects/model/model.py:63: UserWarning: Implicit dimension choice for softmax has been deprecated. Change the call to include dim=X as an argument.\n",
      "  gated_attention = self.softmax(gated_attention)  # torch.Size([1, 13])\n",
      "/home/yifan/Desktop/genomics/projects/model/model.py:63: UserWarning: Implicit dimension choice for softmax has been deprecated. Change the call to include dim=X as an argument.\n",
      "  gated_attention = self.softmax(gated_attention)  # torch.Size([1, 13])\n",
      "/home/yifan/Desktop/genomics/projects/model/model.py:63: UserWarning: Implicit dimension choice for softmax has been deprecated. Change the call to include dim=X as an argument.\n",
      "  gated_attention = self.softmax(gated_attention)  # torch.Size([1, 13])\n"
     ]
    },
    {
     "name": "stdout",
     "output_type": "stream",
     "text": [
      "start running ../iDeepS/datasets/clip/21_PARCLIP_MOV10_Sievers_hg19\n"
     ]
    },
    {
     "data": {
      "text/html": [
       "Finishing last run (ID:1jszcz65) before initializing another..."
      ],
      "text/plain": [
       "<IPython.core.display.HTML object>"
      ]
     },
     "metadata": {},
     "output_type": "display_data"
    },
    {
     "name": "stdout",
     "output_type": "stream",
     "text": [
      "\n"
     ]
    },
    {
     "data": {
      "text/html": [
       "Waiting for W&B process to finish... <strong style=\"color:green\">(success).</strong>"
      ],
      "text/plain": [
       "<IPython.core.display.HTML object>"
      ]
     },
     "metadata": {},
     "output_type": "display_data"
    },
    {
     "data": {
      "application/vnd.jupyter.widget-view+json": {
       "model_id": "",
       "version_major": 2,
       "version_minor": 0
      },
      "text/plain": [
       "VBox(children=(Label(value='0.001 MB of 0.001 MB uploaded (0.000 MB deduped)\\r'), FloatProgress(value=1.0, max…"
      ]
     },
     "metadata": {},
     "output_type": "display_data"
    },
    {
     "data": {
      "text/html": [
       "<style>\n",
       "    table.wandb td:nth-child(1) { padding: 0 10px; text-align: right }\n",
       "    .wandb-row { display: flex; flex-direction: row; flex-wrap: wrap; width: 100% }\n",
       "    .wandb-col { display: flex; flex-direction: column; flex-basis: 100%; flex: 1; padding: 10px; }\n",
       "    </style>\n",
       "<div class=\"wandb-row\"><div class=\"wandb-col\"><h3>Run history:</h3><br/><table class=\"wandb\"><tr><td>Test Acc </td><td>▆▇▆██▇▇▅▅▅▄▃▂▅▅▄▁▂▁▁</td></tr><tr><td>Test loss</td><td>▂▅▁▃▂▂▂▂▆▂▄█▂▂▁▂▁▂▂▄</td></tr><tr><td>Train Acc:</td><td>▁▁▁▂▂▂▂▃▃▄▄▅▅▆▆▇▇▇█▇</td></tr><tr><td>Train loss:</td><td>█▇▆▆▆▅▅▅▄▄▃▃▃▂▂▂▁▁▁▁</td></tr><tr><td>auROC</td><td>▁▄▆▇██▇▇▇▅▅▄▅▃▄▄▃▃▃▃</td></tr><tr><td>lr</td><td>▁▁▁▁▁▁▁▁▁▁▁▁▁▁▁▁▁▁▁▁</td></tr></table><br/></div><div class=\"wandb-col\"><h3>Run summary:</h3><br/><table class=\"wandb\"><tr><td>Test Acc </td><td>79.12</td></tr><tr><td>Test loss</td><td>0.25652</td></tr><tr><td>Train Acc:</td><td>82.11</td></tr><tr><td>Train loss:</td><td>0.20291</td></tr><tr><td>auROC</td><td>0.65893</td></tr><tr><td>lr</td><td>0.0005</td></tr></table><br/></div></div>"
      ],
      "text/plain": [
       "<IPython.core.display.HTML object>"
      ]
     },
     "metadata": {},
     "output_type": "display_data"
    },
    {
     "data": {
      "text/html": [
       "Synced <strong style=\"color:#cdcd00\">WEAKRM20</strong>: <a href=\"https://wandb.ai/fanfanwu9898/02710/runs/1jszcz65\" target=\"_blank\">https://wandb.ai/fanfanwu9898/02710/runs/1jszcz65</a><br/>Synced 6 W&B file(s), 0 media file(s), 0 artifact file(s) and 0 other file(s)"
      ],
      "text/plain": [
       "<IPython.core.display.HTML object>"
      ]
     },
     "metadata": {},
     "output_type": "display_data"
    },
    {
     "data": {
      "text/html": [
       "Find logs at: <code>./wandb/run-20220508_203003-1jszcz65/logs</code>"
      ],
      "text/plain": [
       "<IPython.core.display.HTML object>"
      ]
     },
     "metadata": {},
     "output_type": "display_data"
    },
    {
     "data": {
      "text/html": [
       "Successfully finished last run (ID:1jszcz65). Initializing new run:<br/>"
      ],
      "text/plain": [
       "<IPython.core.display.HTML object>"
      ]
     },
     "metadata": {},
     "output_type": "display_data"
    },
    {
     "data": {
      "text/html": [
       "wandb version 0.12.16 is available!  To upgrade, please run:\n",
       " $ pip install wandb --upgrade"
      ],
      "text/plain": [
       "<IPython.core.display.HTML object>"
      ]
     },
     "metadata": {},
     "output_type": "display_data"
    },
    {
     "data": {
      "text/html": [
       "Tracking run with wandb version 0.12.11"
      ],
      "text/plain": [
       "<IPython.core.display.HTML object>"
      ]
     },
     "metadata": {},
     "output_type": "display_data"
    },
    {
     "data": {
      "text/html": [
       "Run data is saved locally in <code>/home/yifan/Desktop/genomics/projects/model/wandb/run-20220508_205714-niwagosv</code>"
      ],
      "text/plain": [
       "<IPython.core.display.HTML object>"
      ]
     },
     "metadata": {},
     "output_type": "display_data"
    },
    {
     "data": {
      "text/html": [
       "Syncing run <strong><a href=\"https://wandb.ai/fanfanwu9898/02710/runs/niwagosv\" target=\"_blank\">WEAKRM21</a></strong> to <a href=\"https://wandb.ai/fanfanwu9898/02710\" target=\"_blank\">Weights & Biases</a> (<a href=\"https://wandb.me/run\" target=\"_blank\">docs</a>)<br/>"
      ],
      "text/plain": [
       "<IPython.core.display.HTML object>"
      ]
     },
     "metadata": {},
     "output_type": "display_data"
    },
    {
     "name": "stderr",
     "output_type": "stream",
     "text": [
      "/home/yifan/Desktop/genomics/projects/model/model.py:63: UserWarning: Implicit dimension choice for softmax has been deprecated. Change the call to include dim=X as an argument.\n",
      "  gated_attention = self.softmax(gated_attention)  # torch.Size([1, 13])\n",
      "/home/yifan/Desktop/genomics/projects/model/model.py:63: UserWarning: Implicit dimension choice for softmax has been deprecated. Change the call to include dim=X as an argument.\n",
      "  gated_attention = self.softmax(gated_attention)  # torch.Size([1, 13])\n",
      "/home/yifan/Desktop/genomics/projects/model/model.py:63: UserWarning: Implicit dimension choice for softmax has been deprecated. Change the call to include dim=X as an argument.\n",
      "  gated_attention = self.softmax(gated_attention)  # torch.Size([1, 13])\n",
      "/home/yifan/Desktop/genomics/projects/model/model.py:63: UserWarning: Implicit dimension choice for softmax has been deprecated. Change the call to include dim=X as an argument.\n",
      "  gated_attention = self.softmax(gated_attention)  # torch.Size([1, 13])\n",
      "/home/yifan/Desktop/genomics/projects/model/model.py:63: UserWarning: Implicit dimension choice for softmax has been deprecated. Change the call to include dim=X as an argument.\n",
      "  gated_attention = self.softmax(gated_attention)  # torch.Size([1, 13])\n",
      "/home/yifan/Desktop/genomics/projects/model/model.py:63: UserWarning: Implicit dimension choice for softmax has been deprecated. Change the call to include dim=X as an argument.\n",
      "  gated_attention = self.softmax(gated_attention)  # torch.Size([1, 13])\n",
      "/home/yifan/Desktop/genomics/projects/model/model.py:63: UserWarning: Implicit dimension choice for softmax has been deprecated. Change the call to include dim=X as an argument.\n",
      "  gated_attention = self.softmax(gated_attention)  # torch.Size([1, 13])\n",
      "/home/yifan/Desktop/genomics/projects/model/model.py:63: UserWarning: Implicit dimension choice for softmax has been deprecated. Change the call to include dim=X as an argument.\n",
      "  gated_attention = self.softmax(gated_attention)  # torch.Size([1, 13])\n",
      "/home/yifan/Desktop/genomics/projects/model/model.py:63: UserWarning: Implicit dimension choice for softmax has been deprecated. Change the call to include dim=X as an argument.\n",
      "  gated_attention = self.softmax(gated_attention)  # torch.Size([1, 13])\n",
      "/home/yifan/Desktop/genomics/projects/model/model.py:63: UserWarning: Implicit dimension choice for softmax has been deprecated. Change the call to include dim=X as an argument.\n",
      "  gated_attention = self.softmax(gated_attention)  # torch.Size([1, 13])\n",
      "/home/yifan/Desktop/genomics/projects/model/model.py:63: UserWarning: Implicit dimension choice for softmax has been deprecated. Change the call to include dim=X as an argument.\n",
      "  gated_attention = self.softmax(gated_attention)  # torch.Size([1, 13])\n",
      "/home/yifan/Desktop/genomics/projects/model/model.py:63: UserWarning: Implicit dimension choice for softmax has been deprecated. Change the call to include dim=X as an argument.\n",
      "  gated_attention = self.softmax(gated_attention)  # torch.Size([1, 13])\n",
      "/home/yifan/Desktop/genomics/projects/model/model.py:63: UserWarning: Implicit dimension choice for softmax has been deprecated. Change the call to include dim=X as an argument.\n",
      "  gated_attention = self.softmax(gated_attention)  # torch.Size([1, 13])\n",
      "/home/yifan/Desktop/genomics/projects/model/model.py:63: UserWarning: Implicit dimension choice for softmax has been deprecated. Change the call to include dim=X as an argument.\n",
      "  gated_attention = self.softmax(gated_attention)  # torch.Size([1, 13])\n",
      "/home/yifan/Desktop/genomics/projects/model/model.py:63: UserWarning: Implicit dimension choice for softmax has been deprecated. Change the call to include dim=X as an argument.\n",
      "  gated_attention = self.softmax(gated_attention)  # torch.Size([1, 13])\n",
      "/home/yifan/Desktop/genomics/projects/model/model.py:63: UserWarning: Implicit dimension choice for softmax has been deprecated. Change the call to include dim=X as an argument.\n",
      "  gated_attention = self.softmax(gated_attention)  # torch.Size([1, 13])\n",
      "/home/yifan/Desktop/genomics/projects/model/model.py:63: UserWarning: Implicit dimension choice for softmax has been deprecated. Change the call to include dim=X as an argument.\n",
      "  gated_attention = self.softmax(gated_attention)  # torch.Size([1, 13])\n",
      "/home/yifan/Desktop/genomics/projects/model/model.py:63: UserWarning: Implicit dimension choice for softmax has been deprecated. Change the call to include dim=X as an argument.\n",
      "  gated_attention = self.softmax(gated_attention)  # torch.Size([1, 13])\n",
      "/home/yifan/Desktop/genomics/projects/model/model.py:63: UserWarning: Implicit dimension choice for softmax has been deprecated. Change the call to include dim=X as an argument.\n",
      "  gated_attention = self.softmax(gated_attention)  # torch.Size([1, 13])\n",
      "/home/yifan/Desktop/genomics/projects/model/model.py:63: UserWarning: Implicit dimension choice for softmax has been deprecated. Change the call to include dim=X as an argument.\n",
      "  gated_attention = self.softmax(gated_attention)  # torch.Size([1, 13])\n"
     ]
    },
    {
     "name": "stdout",
     "output_type": "stream",
     "text": [
      "start running ../iDeepS/datasets/clip/22_ICLIP_NSUN2_293_group_4007_all-NSUN2-293-hg19_sum_G_hg19--ensembl59_from_3137-3202_bedGraph-cDNA-hits-in-genome\n"
     ]
    },
    {
     "data": {
      "text/html": [
       "Finishing last run (ID:niwagosv) before initializing another..."
      ],
      "text/plain": [
       "<IPython.core.display.HTML object>"
      ]
     },
     "metadata": {},
     "output_type": "display_data"
    },
    {
     "name": "stdout",
     "output_type": "stream",
     "text": [
      "\n"
     ]
    },
    {
     "data": {
      "text/html": [
       "Waiting for W&B process to finish... <strong style=\"color:green\">(success).</strong>"
      ],
      "text/plain": [
       "<IPython.core.display.HTML object>"
      ]
     },
     "metadata": {},
     "output_type": "display_data"
    },
    {
     "data": {
      "application/vnd.jupyter.widget-view+json": {
       "model_id": "",
       "version_major": 2,
       "version_minor": 0
      },
      "text/plain": [
       "VBox(children=(Label(value='0.001 MB of 0.001 MB uploaded (0.000 MB deduped)\\r'), FloatProgress(value=1.0, max…"
      ]
     },
     "metadata": {},
     "output_type": "display_data"
    },
    {
     "data": {
      "text/html": [
       "<style>\n",
       "    table.wandb td:nth-child(1) { padding: 0 10px; text-align: right }\n",
       "    .wandb-row { display: flex; flex-direction: row; flex-wrap: wrap; width: 100% }\n",
       "    .wandb-col { display: flex; flex-direction: column; flex-basis: 100%; flex: 1; padding: 10px; }\n",
       "    </style>\n",
       "<div class=\"wandb-row\"><div class=\"wandb-col\"><h3>Run history:</h3><br/><table class=\"wandb\"><tr><td>Test Acc </td><td>▁▃▄▇▆▇▇▇▇▆█▅▄▇▅▄▄▂▃▃</td></tr><tr><td>Test loss</td><td>▁▁▄▆▃▄▂▂▁▅▄▂▁▅█▇▆█▆▄</td></tr><tr><td>Train Acc:</td><td>▁▁▂▃▃▃▄▄▅▅▆▆▆▇▇▇▇███</td></tr><tr><td>Train loss:</td><td>█▇▆▆▅▅▅▄▄▃▃▃▂▂▂▁▁▁▁▁</td></tr><tr><td>auROC</td><td>▁▂▆▇▇███▇▆▆▆▅▄▄▄▄▃▃▃</td></tr><tr><td>lr</td><td>▁▁▁▁▁▁▁▁▁▁▁▁▁▁▁▁▁▁▁▁</td></tr></table><br/></div><div class=\"wandb-col\"><h3>Run summary:</h3><br/><table class=\"wandb\"><tr><td>Test Acc </td><td>80.39</td></tr><tr><td>Test loss</td><td>0.13252</td></tr><tr><td>Train Acc:</td><td>84.40667</td></tr><tr><td>Train loss:</td><td>0.16474</td></tr><tr><td>auROC</td><td>0.8112</td></tr><tr><td>lr</td><td>0.0005</td></tr></table><br/></div></div>"
      ],
      "text/plain": [
       "<IPython.core.display.HTML object>"
      ]
     },
     "metadata": {},
     "output_type": "display_data"
    },
    {
     "data": {
      "text/html": [
       "Synced <strong style=\"color:#cdcd00\">WEAKRM21</strong>: <a href=\"https://wandb.ai/fanfanwu9898/02710/runs/niwagosv\" target=\"_blank\">https://wandb.ai/fanfanwu9898/02710/runs/niwagosv</a><br/>Synced 6 W&B file(s), 0 media file(s), 0 artifact file(s) and 0 other file(s)"
      ],
      "text/plain": [
       "<IPython.core.display.HTML object>"
      ]
     },
     "metadata": {},
     "output_type": "display_data"
    },
    {
     "data": {
      "text/html": [
       "Find logs at: <code>./wandb/run-20220508_205714-niwagosv/logs</code>"
      ],
      "text/plain": [
       "<IPython.core.display.HTML object>"
      ]
     },
     "metadata": {},
     "output_type": "display_data"
    },
    {
     "data": {
      "text/html": [
       "Successfully finished last run (ID:niwagosv). Initializing new run:<br/>"
      ],
      "text/plain": [
       "<IPython.core.display.HTML object>"
      ]
     },
     "metadata": {},
     "output_type": "display_data"
    },
    {
     "data": {
      "text/html": [
       "wandb version 0.12.16 is available!  To upgrade, please run:\n",
       " $ pip install wandb --upgrade"
      ],
      "text/plain": [
       "<IPython.core.display.HTML object>"
      ]
     },
     "metadata": {},
     "output_type": "display_data"
    },
    {
     "data": {
      "text/html": [
       "Tracking run with wandb version 0.12.11"
      ],
      "text/plain": [
       "<IPython.core.display.HTML object>"
      ]
     },
     "metadata": {},
     "output_type": "display_data"
    },
    {
     "data": {
      "text/html": [
       "Run data is saved locally in <code>/home/yifan/Desktop/genomics/projects/model/wandb/run-20220508_212306-15mkbce0</code>"
      ],
      "text/plain": [
       "<IPython.core.display.HTML object>"
      ]
     },
     "metadata": {},
     "output_type": "display_data"
    },
    {
     "data": {
      "text/html": [
       "Syncing run <strong><a href=\"https://wandb.ai/fanfanwu9898/02710/runs/15mkbce0\" target=\"_blank\">WEAKRM22</a></strong> to <a href=\"https://wandb.ai/fanfanwu9898/02710\" target=\"_blank\">Weights & Biases</a> (<a href=\"https://wandb.me/run\" target=\"_blank\">docs</a>)<br/>"
      ],
      "text/plain": [
       "<IPython.core.display.HTML object>"
      ]
     },
     "metadata": {},
     "output_type": "display_data"
    },
    {
     "name": "stderr",
     "output_type": "stream",
     "text": [
      "/home/yifan/Desktop/genomics/projects/model/model.py:63: UserWarning: Implicit dimension choice for softmax has been deprecated. Change the call to include dim=X as an argument.\n",
      "  gated_attention = self.softmax(gated_attention)  # torch.Size([1, 13])\n",
      "/home/yifan/Desktop/genomics/projects/model/model.py:63: UserWarning: Implicit dimension choice for softmax has been deprecated. Change the call to include dim=X as an argument.\n",
      "  gated_attention = self.softmax(gated_attention)  # torch.Size([1, 13])\n",
      "/home/yifan/Desktop/genomics/projects/model/model.py:63: UserWarning: Implicit dimension choice for softmax has been deprecated. Change the call to include dim=X as an argument.\n",
      "  gated_attention = self.softmax(gated_attention)  # torch.Size([1, 13])\n",
      "/home/yifan/Desktop/genomics/projects/model/model.py:63: UserWarning: Implicit dimension choice for softmax has been deprecated. Change the call to include dim=X as an argument.\n",
      "  gated_attention = self.softmax(gated_attention)  # torch.Size([1, 13])\n",
      "/home/yifan/Desktop/genomics/projects/model/model.py:63: UserWarning: Implicit dimension choice for softmax has been deprecated. Change the call to include dim=X as an argument.\n",
      "  gated_attention = self.softmax(gated_attention)  # torch.Size([1, 13])\n",
      "/home/yifan/Desktop/genomics/projects/model/model.py:63: UserWarning: Implicit dimension choice for softmax has been deprecated. Change the call to include dim=X as an argument.\n",
      "  gated_attention = self.softmax(gated_attention)  # torch.Size([1, 13])\n",
      "/home/yifan/Desktop/genomics/projects/model/model.py:63: UserWarning: Implicit dimension choice for softmax has been deprecated. Change the call to include dim=X as an argument.\n",
      "  gated_attention = self.softmax(gated_attention)  # torch.Size([1, 13])\n",
      "/home/yifan/Desktop/genomics/projects/model/model.py:63: UserWarning: Implicit dimension choice for softmax has been deprecated. Change the call to include dim=X as an argument.\n",
      "  gated_attention = self.softmax(gated_attention)  # torch.Size([1, 13])\n",
      "/home/yifan/Desktop/genomics/projects/model/model.py:63: UserWarning: Implicit dimension choice for softmax has been deprecated. Change the call to include dim=X as an argument.\n",
      "  gated_attention = self.softmax(gated_attention)  # torch.Size([1, 13])\n",
      "/home/yifan/Desktop/genomics/projects/model/model.py:63: UserWarning: Implicit dimension choice for softmax has been deprecated. Change the call to include dim=X as an argument.\n",
      "  gated_attention = self.softmax(gated_attention)  # torch.Size([1, 13])\n",
      "/home/yifan/Desktop/genomics/projects/model/model.py:63: UserWarning: Implicit dimension choice for softmax has been deprecated. Change the call to include dim=X as an argument.\n",
      "  gated_attention = self.softmax(gated_attention)  # torch.Size([1, 13])\n",
      "/home/yifan/Desktop/genomics/projects/model/model.py:63: UserWarning: Implicit dimension choice for softmax has been deprecated. Change the call to include dim=X as an argument.\n",
      "  gated_attention = self.softmax(gated_attention)  # torch.Size([1, 13])\n",
      "/home/yifan/Desktop/genomics/projects/model/model.py:63: UserWarning: Implicit dimension choice for softmax has been deprecated. Change the call to include dim=X as an argument.\n",
      "  gated_attention = self.softmax(gated_attention)  # torch.Size([1, 13])\n",
      "/home/yifan/Desktop/genomics/projects/model/model.py:63: UserWarning: Implicit dimension choice for softmax has been deprecated. Change the call to include dim=X as an argument.\n",
      "  gated_attention = self.softmax(gated_attention)  # torch.Size([1, 13])\n",
      "/home/yifan/Desktop/genomics/projects/model/model.py:63: UserWarning: Implicit dimension choice for softmax has been deprecated. Change the call to include dim=X as an argument.\n",
      "  gated_attention = self.softmax(gated_attention)  # torch.Size([1, 13])\n",
      "/home/yifan/Desktop/genomics/projects/model/model.py:63: UserWarning: Implicit dimension choice for softmax has been deprecated. Change the call to include dim=X as an argument.\n",
      "  gated_attention = self.softmax(gated_attention)  # torch.Size([1, 13])\n",
      "/home/yifan/Desktop/genomics/projects/model/model.py:63: UserWarning: Implicit dimension choice for softmax has been deprecated. Change the call to include dim=X as an argument.\n",
      "  gated_attention = self.softmax(gated_attention)  # torch.Size([1, 13])\n",
      "/home/yifan/Desktop/genomics/projects/model/model.py:63: UserWarning: Implicit dimension choice for softmax has been deprecated. Change the call to include dim=X as an argument.\n",
      "  gated_attention = self.softmax(gated_attention)  # torch.Size([1, 13])\n",
      "/home/yifan/Desktop/genomics/projects/model/model.py:63: UserWarning: Implicit dimension choice for softmax has been deprecated. Change the call to include dim=X as an argument.\n",
      "  gated_attention = self.softmax(gated_attention)  # torch.Size([1, 13])\n",
      "/home/yifan/Desktop/genomics/projects/model/model.py:63: UserWarning: Implicit dimension choice for softmax has been deprecated. Change the call to include dim=X as an argument.\n",
      "  gated_attention = self.softmax(gated_attention)  # torch.Size([1, 13])\n"
     ]
    },
    {
     "name": "stdout",
     "output_type": "stream",
     "text": [
      "start running ../iDeepS/datasets/clip/23_PARCLIP_PUM2_hg19\n"
     ]
    },
    {
     "data": {
      "text/html": [
       "Finishing last run (ID:15mkbce0) before initializing another..."
      ],
      "text/plain": [
       "<IPython.core.display.HTML object>"
      ]
     },
     "metadata": {},
     "output_type": "display_data"
    },
    {
     "name": "stdout",
     "output_type": "stream",
     "text": [
      "\n"
     ]
    },
    {
     "data": {
      "text/html": [
       "Waiting for W&B process to finish... <strong style=\"color:green\">(success).</strong>"
      ],
      "text/plain": [
       "<IPython.core.display.HTML object>"
      ]
     },
     "metadata": {},
     "output_type": "display_data"
    },
    {
     "data": {
      "application/vnd.jupyter.widget-view+json": {
       "model_id": "",
       "version_major": 2,
       "version_minor": 0
      },
      "text/plain": [
       "VBox(children=(Label(value='0.001 MB of 0.001 MB uploaded (0.000 MB deduped)\\r'), FloatProgress(value=1.0, max…"
      ]
     },
     "metadata": {},
     "output_type": "display_data"
    },
    {
     "data": {
      "text/html": [
       "<style>\n",
       "    table.wandb td:nth-child(1) { padding: 0 10px; text-align: right }\n",
       "    .wandb-row { display: flex; flex-direction: row; flex-wrap: wrap; width: 100% }\n",
       "    .wandb-col { display: flex; flex-direction: column; flex-basis: 100%; flex: 1; padding: 10px; }\n",
       "    </style>\n",
       "<div class=\"wandb-row\"><div class=\"wandb-col\"><h3>Run history:</h3><br/><table class=\"wandb\"><tr><td>Test Acc </td><td>▁▄▄█▇▆▇▇██▆█▇▅▇▆▇▇▆▆</td></tr><tr><td>Test loss</td><td>▂█▂▄▁▁▁▁▁▃▁▁▁▂▁▂▂▂▁▁</td></tr><tr><td>Train Acc:</td><td>▁▂▃▄▄▄▄▅▅▆▆▆▇▇▇▇████</td></tr><tr><td>Train loss:</td><td>█▆▆▅▅▄▄▄▄▃▃▃▂▂▂▂▁▁▁▁</td></tr><tr><td>auROC</td><td>▁▆▆███████▇▇▇▇▇▇▇▇▆▆</td></tr><tr><td>lr</td><td>▁▁▁▁▁▁▁▁▁▁▁▁▁▁▁▁▁▁▁▁</td></tr></table><br/></div><div class=\"wandb-col\"><h3>Run summary:</h3><br/><table class=\"wandb\"><tr><td>Test Acc </td><td>81.76</td></tr><tr><td>Test loss</td><td>0.00521</td></tr><tr><td>Train Acc:</td><td>85.85667</td></tr><tr><td>Train loss:</td><td>0.16056</td></tr><tr><td>auROC</td><td>0.80974</td></tr><tr><td>lr</td><td>0.0005</td></tr></table><br/></div></div>"
      ],
      "text/plain": [
       "<IPython.core.display.HTML object>"
      ]
     },
     "metadata": {},
     "output_type": "display_data"
    },
    {
     "data": {
      "text/html": [
       "Synced <strong style=\"color:#cdcd00\">WEAKRM22</strong>: <a href=\"https://wandb.ai/fanfanwu9898/02710/runs/15mkbce0\" target=\"_blank\">https://wandb.ai/fanfanwu9898/02710/runs/15mkbce0</a><br/>Synced 6 W&B file(s), 0 media file(s), 0 artifact file(s) and 0 other file(s)"
      ],
      "text/plain": [
       "<IPython.core.display.HTML object>"
      ]
     },
     "metadata": {},
     "output_type": "display_data"
    },
    {
     "data": {
      "text/html": [
       "Find logs at: <code>./wandb/run-20220508_212306-15mkbce0/logs</code>"
      ],
      "text/plain": [
       "<IPython.core.display.HTML object>"
      ]
     },
     "metadata": {},
     "output_type": "display_data"
    },
    {
     "data": {
      "text/html": [
       "Successfully finished last run (ID:15mkbce0). Initializing new run:<br/>"
      ],
      "text/plain": [
       "<IPython.core.display.HTML object>"
      ]
     },
     "metadata": {},
     "output_type": "display_data"
    },
    {
     "data": {
      "text/html": [
       "wandb version 0.12.16 is available!  To upgrade, please run:\n",
       " $ pip install wandb --upgrade"
      ],
      "text/plain": [
       "<IPython.core.display.HTML object>"
      ]
     },
     "metadata": {},
     "output_type": "display_data"
    },
    {
     "data": {
      "text/html": [
       "Tracking run with wandb version 0.12.11"
      ],
      "text/plain": [
       "<IPython.core.display.HTML object>"
      ]
     },
     "metadata": {},
     "output_type": "display_data"
    },
    {
     "data": {
      "text/html": [
       "Run data is saved locally in <code>/home/yifan/Desktop/genomics/projects/model/wandb/run-20220508_214942-24fkalwv</code>"
      ],
      "text/plain": [
       "<IPython.core.display.HTML object>"
      ]
     },
     "metadata": {},
     "output_type": "display_data"
    },
    {
     "data": {
      "text/html": [
       "Syncing run <strong><a href=\"https://wandb.ai/fanfanwu9898/02710/runs/24fkalwv\" target=\"_blank\">WEAKRM23</a></strong> to <a href=\"https://wandb.ai/fanfanwu9898/02710\" target=\"_blank\">Weights & Biases</a> (<a href=\"https://wandb.me/run\" target=\"_blank\">docs</a>)<br/>"
      ],
      "text/plain": [
       "<IPython.core.display.HTML object>"
      ]
     },
     "metadata": {},
     "output_type": "display_data"
    },
    {
     "name": "stderr",
     "output_type": "stream",
     "text": [
      "/home/yifan/Desktop/genomics/projects/model/model.py:63: UserWarning: Implicit dimension choice for softmax has been deprecated. Change the call to include dim=X as an argument.\n",
      "  gated_attention = self.softmax(gated_attention)  # torch.Size([1, 13])\n",
      "/home/yifan/Desktop/genomics/projects/model/model.py:63: UserWarning: Implicit dimension choice for softmax has been deprecated. Change the call to include dim=X as an argument.\n",
      "  gated_attention = self.softmax(gated_attention)  # torch.Size([1, 13])\n",
      "/home/yifan/Desktop/genomics/projects/model/model.py:63: UserWarning: Implicit dimension choice for softmax has been deprecated. Change the call to include dim=X as an argument.\n",
      "  gated_attention = self.softmax(gated_attention)  # torch.Size([1, 13])\n",
      "/home/yifan/Desktop/genomics/projects/model/model.py:63: UserWarning: Implicit dimension choice for softmax has been deprecated. Change the call to include dim=X as an argument.\n",
      "  gated_attention = self.softmax(gated_attention)  # torch.Size([1, 13])\n",
      "/home/yifan/Desktop/genomics/projects/model/model.py:63: UserWarning: Implicit dimension choice for softmax has been deprecated. Change the call to include dim=X as an argument.\n",
      "  gated_attention = self.softmax(gated_attention)  # torch.Size([1, 13])\n",
      "/home/yifan/Desktop/genomics/projects/model/model.py:63: UserWarning: Implicit dimension choice for softmax has been deprecated. Change the call to include dim=X as an argument.\n",
      "  gated_attention = self.softmax(gated_attention)  # torch.Size([1, 13])\n",
      "/home/yifan/Desktop/genomics/projects/model/model.py:63: UserWarning: Implicit dimension choice for softmax has been deprecated. Change the call to include dim=X as an argument.\n",
      "  gated_attention = self.softmax(gated_attention)  # torch.Size([1, 13])\n",
      "/home/yifan/Desktop/genomics/projects/model/model.py:63: UserWarning: Implicit dimension choice for softmax has been deprecated. Change the call to include dim=X as an argument.\n",
      "  gated_attention = self.softmax(gated_attention)  # torch.Size([1, 13])\n",
      "/home/yifan/Desktop/genomics/projects/model/model.py:63: UserWarning: Implicit dimension choice for softmax has been deprecated. Change the call to include dim=X as an argument.\n",
      "  gated_attention = self.softmax(gated_attention)  # torch.Size([1, 13])\n",
      "/home/yifan/Desktop/genomics/projects/model/model.py:63: UserWarning: Implicit dimension choice for softmax has been deprecated. Change the call to include dim=X as an argument.\n",
      "  gated_attention = self.softmax(gated_attention)  # torch.Size([1, 13])\n",
      "/home/yifan/Desktop/genomics/projects/model/model.py:63: UserWarning: Implicit dimension choice for softmax has been deprecated. Change the call to include dim=X as an argument.\n",
      "  gated_attention = self.softmax(gated_attention)  # torch.Size([1, 13])\n",
      "/home/yifan/Desktop/genomics/projects/model/model.py:63: UserWarning: Implicit dimension choice for softmax has been deprecated. Change the call to include dim=X as an argument.\n",
      "  gated_attention = self.softmax(gated_attention)  # torch.Size([1, 13])\n",
      "/home/yifan/Desktop/genomics/projects/model/model.py:63: UserWarning: Implicit dimension choice for softmax has been deprecated. Change the call to include dim=X as an argument.\n",
      "  gated_attention = self.softmax(gated_attention)  # torch.Size([1, 13])\n",
      "/home/yifan/Desktop/genomics/projects/model/model.py:63: UserWarning: Implicit dimension choice for softmax has been deprecated. Change the call to include dim=X as an argument.\n",
      "  gated_attention = self.softmax(gated_attention)  # torch.Size([1, 13])\n",
      "/home/yifan/Desktop/genomics/projects/model/model.py:63: UserWarning: Implicit dimension choice for softmax has been deprecated. Change the call to include dim=X as an argument.\n",
      "  gated_attention = self.softmax(gated_attention)  # torch.Size([1, 13])\n",
      "/home/yifan/Desktop/genomics/projects/model/model.py:63: UserWarning: Implicit dimension choice for softmax has been deprecated. Change the call to include dim=X as an argument.\n",
      "  gated_attention = self.softmax(gated_attention)  # torch.Size([1, 13])\n",
      "/home/yifan/Desktop/genomics/projects/model/model.py:63: UserWarning: Implicit dimension choice for softmax has been deprecated. Change the call to include dim=X as an argument.\n",
      "  gated_attention = self.softmax(gated_attention)  # torch.Size([1, 13])\n",
      "/home/yifan/Desktop/genomics/projects/model/model.py:63: UserWarning: Implicit dimension choice for softmax has been deprecated. Change the call to include dim=X as an argument.\n",
      "  gated_attention = self.softmax(gated_attention)  # torch.Size([1, 13])\n",
      "/home/yifan/Desktop/genomics/projects/model/model.py:63: UserWarning: Implicit dimension choice for softmax has been deprecated. Change the call to include dim=X as an argument.\n",
      "  gated_attention = self.softmax(gated_attention)  # torch.Size([1, 13])\n",
      "/home/yifan/Desktop/genomics/projects/model/model.py:63: UserWarning: Implicit dimension choice for softmax has been deprecated. Change the call to include dim=X as an argument.\n",
      "  gated_attention = self.softmax(gated_attention)  # torch.Size([1, 13])\n"
     ]
    },
    {
     "name": "stdout",
     "output_type": "stream",
     "text": [
      "start running ../iDeepS/datasets/clip/24_PARCLIP_QKI_hg19\n"
     ]
    },
    {
     "data": {
      "text/html": [
       "Finishing last run (ID:24fkalwv) before initializing another..."
      ],
      "text/plain": [
       "<IPython.core.display.HTML object>"
      ]
     },
     "metadata": {},
     "output_type": "display_data"
    },
    {
     "name": "stdout",
     "output_type": "stream",
     "text": [
      "\n"
     ]
    },
    {
     "data": {
      "text/html": [
       "Waiting for W&B process to finish... <strong style=\"color:green\">(success).</strong>"
      ],
      "text/plain": [
       "<IPython.core.display.HTML object>"
      ]
     },
     "metadata": {},
     "output_type": "display_data"
    },
    {
     "data": {
      "application/vnd.jupyter.widget-view+json": {
       "model_id": "",
       "version_major": 2,
       "version_minor": 0
      },
      "text/plain": [
       "VBox(children=(Label(value='0.001 MB of 0.001 MB uploaded (0.000 MB deduped)\\r'), FloatProgress(value=1.0, max…"
      ]
     },
     "metadata": {},
     "output_type": "display_data"
    },
    {
     "data": {
      "text/html": [
       "<style>\n",
       "    table.wandb td:nth-child(1) { padding: 0 10px; text-align: right }\n",
       "    .wandb-row { display: flex; flex-direction: row; flex-wrap: wrap; width: 100% }\n",
       "    .wandb-col { display: flex; flex-direction: column; flex-basis: 100%; flex: 1; padding: 10px; }\n",
       "    </style>\n",
       "<div class=\"wandb-row\"><div class=\"wandb-col\"><h3>Run history:</h3><br/><table class=\"wandb\"><tr><td>Test Acc </td><td>▃▁▃█▆▇▄▇▅▅▅▅▆▅▅▅▅▅▅▅</td></tr><tr><td>Test loss</td><td>█▁▁▁▂▁▁▂▁▂▁▅▂▁▁▁▁▁▁▁</td></tr><tr><td>Train Acc:</td><td>▁▄▅▅▅▅▆▆▆▆▆▇▇▇▇█████</td></tr><tr><td>Train loss:</td><td>█▅▅▄▄▄▄▃▃▃▃▂▂▂▂▁▁▁▁▁</td></tr><tr><td>auROC</td><td>▂▅█▇█▇▆▆▃▄▄▅▁▃▂▂▁▁▁▁</td></tr><tr><td>lr</td><td>▁▁▁▁▁▁▁▁▁▁▁▁▁▁▁▁▁▁▁▁</td></tr></table><br/></div><div class=\"wandb-col\"><h3>Run summary:</h3><br/><table class=\"wandb\"><tr><td>Test Acc </td><td>91.93</td></tr><tr><td>Test loss</td><td>0.00074</td></tr><tr><td>Train Acc:</td><td>95.6</td></tr><tr><td>Train loss:</td><td>0.06026</td></tr><tr><td>auROC</td><td>0.95248</td></tr><tr><td>lr</td><td>0.0005</td></tr></table><br/></div></div>"
      ],
      "text/plain": [
       "<IPython.core.display.HTML object>"
      ]
     },
     "metadata": {},
     "output_type": "display_data"
    },
    {
     "data": {
      "text/html": [
       "Synced <strong style=\"color:#cdcd00\">WEAKRM23</strong>: <a href=\"https://wandb.ai/fanfanwu9898/02710/runs/24fkalwv\" target=\"_blank\">https://wandb.ai/fanfanwu9898/02710/runs/24fkalwv</a><br/>Synced 6 W&B file(s), 0 media file(s), 0 artifact file(s) and 0 other file(s)"
      ],
      "text/plain": [
       "<IPython.core.display.HTML object>"
      ]
     },
     "metadata": {},
     "output_type": "display_data"
    },
    {
     "data": {
      "text/html": [
       "Find logs at: <code>./wandb/run-20220508_214942-24fkalwv/logs</code>"
      ],
      "text/plain": [
       "<IPython.core.display.HTML object>"
      ]
     },
     "metadata": {},
     "output_type": "display_data"
    },
    {
     "data": {
      "text/html": [
       "Successfully finished last run (ID:24fkalwv). Initializing new run:<br/>"
      ],
      "text/plain": [
       "<IPython.core.display.HTML object>"
      ]
     },
     "metadata": {},
     "output_type": "display_data"
    },
    {
     "data": {
      "text/html": [
       "wandb version 0.12.16 is available!  To upgrade, please run:\n",
       " $ pip install wandb --upgrade"
      ],
      "text/plain": [
       "<IPython.core.display.HTML object>"
      ]
     },
     "metadata": {},
     "output_type": "display_data"
    },
    {
     "data": {
      "text/html": [
       "Tracking run with wandb version 0.12.11"
      ],
      "text/plain": [
       "<IPython.core.display.HTML object>"
      ]
     },
     "metadata": {},
     "output_type": "display_data"
    },
    {
     "data": {
      "text/html": [
       "Run data is saved locally in <code>/home/yifan/Desktop/genomics/projects/model/wandb/run-20220508_221647-3v7h6dlq</code>"
      ],
      "text/plain": [
       "<IPython.core.display.HTML object>"
      ]
     },
     "metadata": {},
     "output_type": "display_data"
    },
    {
     "data": {
      "text/html": [
       "Syncing run <strong><a href=\"https://wandb.ai/fanfanwu9898/02710/runs/3v7h6dlq\" target=\"_blank\">WEAKRM24</a></strong> to <a href=\"https://wandb.ai/fanfanwu9898/02710\" target=\"_blank\">Weights & Biases</a> (<a href=\"https://wandb.me/run\" target=\"_blank\">docs</a>)<br/>"
      ],
      "text/plain": [
       "<IPython.core.display.HTML object>"
      ]
     },
     "metadata": {},
     "output_type": "display_data"
    },
    {
     "name": "stderr",
     "output_type": "stream",
     "text": [
      "/home/yifan/Desktop/genomics/projects/model/model.py:63: UserWarning: Implicit dimension choice for softmax has been deprecated. Change the call to include dim=X as an argument.\n",
      "  gated_attention = self.softmax(gated_attention)  # torch.Size([1, 13])\n",
      "/home/yifan/Desktop/genomics/projects/model/model.py:63: UserWarning: Implicit dimension choice for softmax has been deprecated. Change the call to include dim=X as an argument.\n",
      "  gated_attention = self.softmax(gated_attention)  # torch.Size([1, 13])\n",
      "/home/yifan/Desktop/genomics/projects/model/model.py:63: UserWarning: Implicit dimension choice for softmax has been deprecated. Change the call to include dim=X as an argument.\n",
      "  gated_attention = self.softmax(gated_attention)  # torch.Size([1, 13])\n",
      "/home/yifan/Desktop/genomics/projects/model/model.py:63: UserWarning: Implicit dimension choice for softmax has been deprecated. Change the call to include dim=X as an argument.\n",
      "  gated_attention = self.softmax(gated_attention)  # torch.Size([1, 13])\n",
      "/home/yifan/Desktop/genomics/projects/model/model.py:63: UserWarning: Implicit dimension choice for softmax has been deprecated. Change the call to include dim=X as an argument.\n",
      "  gated_attention = self.softmax(gated_attention)  # torch.Size([1, 13])\n",
      "/home/yifan/Desktop/genomics/projects/model/model.py:63: UserWarning: Implicit dimension choice for softmax has been deprecated. Change the call to include dim=X as an argument.\n",
      "  gated_attention = self.softmax(gated_attention)  # torch.Size([1, 13])\n",
      "/home/yifan/Desktop/genomics/projects/model/model.py:63: UserWarning: Implicit dimension choice for softmax has been deprecated. Change the call to include dim=X as an argument.\n",
      "  gated_attention = self.softmax(gated_attention)  # torch.Size([1, 13])\n",
      "/home/yifan/Desktop/genomics/projects/model/model.py:63: UserWarning: Implicit dimension choice for softmax has been deprecated. Change the call to include dim=X as an argument.\n",
      "  gated_attention = self.softmax(gated_attention)  # torch.Size([1, 13])\n",
      "/home/yifan/Desktop/genomics/projects/model/model.py:63: UserWarning: Implicit dimension choice for softmax has been deprecated. Change the call to include dim=X as an argument.\n",
      "  gated_attention = self.softmax(gated_attention)  # torch.Size([1, 13])\n",
      "/home/yifan/Desktop/genomics/projects/model/model.py:63: UserWarning: Implicit dimension choice for softmax has been deprecated. Change the call to include dim=X as an argument.\n",
      "  gated_attention = self.softmax(gated_attention)  # torch.Size([1, 13])\n",
      "/home/yifan/Desktop/genomics/projects/model/model.py:63: UserWarning: Implicit dimension choice for softmax has been deprecated. Change the call to include dim=X as an argument.\n",
      "  gated_attention = self.softmax(gated_attention)  # torch.Size([1, 13])\n",
      "/home/yifan/Desktop/genomics/projects/model/model.py:63: UserWarning: Implicit dimension choice for softmax has been deprecated. Change the call to include dim=X as an argument.\n",
      "  gated_attention = self.softmax(gated_attention)  # torch.Size([1, 13])\n",
      "/home/yifan/Desktop/genomics/projects/model/model.py:63: UserWarning: Implicit dimension choice for softmax has been deprecated. Change the call to include dim=X as an argument.\n",
      "  gated_attention = self.softmax(gated_attention)  # torch.Size([1, 13])\n",
      "/home/yifan/Desktop/genomics/projects/model/model.py:63: UserWarning: Implicit dimension choice for softmax has been deprecated. Change the call to include dim=X as an argument.\n",
      "  gated_attention = self.softmax(gated_attention)  # torch.Size([1, 13])\n",
      "/home/yifan/Desktop/genomics/projects/model/model.py:63: UserWarning: Implicit dimension choice for softmax has been deprecated. Change the call to include dim=X as an argument.\n",
      "  gated_attention = self.softmax(gated_attention)  # torch.Size([1, 13])\n",
      "/home/yifan/Desktop/genomics/projects/model/model.py:63: UserWarning: Implicit dimension choice for softmax has been deprecated. Change the call to include dim=X as an argument.\n",
      "  gated_attention = self.softmax(gated_attention)  # torch.Size([1, 13])\n",
      "/home/yifan/Desktop/genomics/projects/model/model.py:63: UserWarning: Implicit dimension choice for softmax has been deprecated. Change the call to include dim=X as an argument.\n",
      "  gated_attention = self.softmax(gated_attention)  # torch.Size([1, 13])\n",
      "/home/yifan/Desktop/genomics/projects/model/model.py:63: UserWarning: Implicit dimension choice for softmax has been deprecated. Change the call to include dim=X as an argument.\n",
      "  gated_attention = self.softmax(gated_attention)  # torch.Size([1, 13])\n",
      "/home/yifan/Desktop/genomics/projects/model/model.py:63: UserWarning: Implicit dimension choice for softmax has been deprecated. Change the call to include dim=X as an argument.\n",
      "  gated_attention = self.softmax(gated_attention)  # torch.Size([1, 13])\n",
      "/home/yifan/Desktop/genomics/projects/model/model.py:63: UserWarning: Implicit dimension choice for softmax has been deprecated. Change the call to include dim=X as an argument.\n",
      "  gated_attention = self.softmax(gated_attention)  # torch.Size([1, 13])\n"
     ]
    },
    {
     "name": "stdout",
     "output_type": "stream",
     "text": [
      "start running ../iDeepS/datasets/clip/25_CLIPSEQ_SFRS1_hg19\n"
     ]
    },
    {
     "data": {
      "text/html": [
       "Finishing last run (ID:3v7h6dlq) before initializing another..."
      ],
      "text/plain": [
       "<IPython.core.display.HTML object>"
      ]
     },
     "metadata": {},
     "output_type": "display_data"
    },
    {
     "name": "stdout",
     "output_type": "stream",
     "text": [
      "\n"
     ]
    },
    {
     "data": {
      "text/html": [
       "Waiting for W&B process to finish... <strong style=\"color:green\">(success).</strong>"
      ],
      "text/plain": [
       "<IPython.core.display.HTML object>"
      ]
     },
     "metadata": {},
     "output_type": "display_data"
    },
    {
     "data": {
      "application/vnd.jupyter.widget-view+json": {
       "model_id": "",
       "version_major": 2,
       "version_minor": 0
      },
      "text/plain": [
       "VBox(children=(Label(value='0.001 MB of 0.001 MB uploaded (0.000 MB deduped)\\r'), FloatProgress(value=1.0, max…"
      ]
     },
     "metadata": {},
     "output_type": "display_data"
    },
    {
     "data": {
      "text/html": [
       "<style>\n",
       "    table.wandb td:nth-child(1) { padding: 0 10px; text-align: right }\n",
       "    .wandb-row { display: flex; flex-direction: row; flex-wrap: wrap; width: 100% }\n",
       "    .wandb-col { display: flex; flex-direction: column; flex-basis: 100%; flex: 1; padding: 10px; }\n",
       "    </style>\n",
       "<div class=\"wandb-row\"><div class=\"wandb-col\"><h3>Run history:</h3><br/><table class=\"wandb\"><tr><td>Test Acc </td><td>▁▄▇▅▆█▂▇▆▇▆▆▅▆▆▇▇▆▆▆</td></tr><tr><td>Test loss</td><td>▃▂▁▁▁▁▁▁▁▁▁▁▁▁▁▁▁▁▁█</td></tr><tr><td>Train Acc:</td><td>▁▅▅▅▆▆▆▆▆▇▇▇▇▇▇█████</td></tr><tr><td>Train loss:</td><td>█▅▄▄▄▄▃▃▃▃▂▂▂▂▂▁▁▁▁▁</td></tr><tr><td>auROC</td><td>▁▅▄▅▆▆▅█▆▇▇▇▇▆▇▆▆▆▆▆</td></tr><tr><td>lr</td><td>▁▁▁▁▁▁▁▁▁▁▁▁▁▁▁▁▁▁▁▁</td></tr></table><br/></div><div class=\"wandb-col\"><h3>Run summary:</h3><br/><table class=\"wandb\"><tr><td>Test Acc </td><td>95.24</td></tr><tr><td>Test loss</td><td>0.29737</td></tr><tr><td>Train Acc:</td><td>97.47</td></tr><tr><td>Train loss:</td><td>0.04183</td></tr><tr><td>auROC</td><td>0.96359</td></tr><tr><td>lr</td><td>0.0005</td></tr></table><br/></div></div>"
      ],
      "text/plain": [
       "<IPython.core.display.HTML object>"
      ]
     },
     "metadata": {},
     "output_type": "display_data"
    },
    {
     "data": {
      "text/html": [
       "Synced <strong style=\"color:#cdcd00\">WEAKRM24</strong>: <a href=\"https://wandb.ai/fanfanwu9898/02710/runs/3v7h6dlq\" target=\"_blank\">https://wandb.ai/fanfanwu9898/02710/runs/3v7h6dlq</a><br/>Synced 6 W&B file(s), 0 media file(s), 0 artifact file(s) and 0 other file(s)"
      ],
      "text/plain": [
       "<IPython.core.display.HTML object>"
      ]
     },
     "metadata": {},
     "output_type": "display_data"
    },
    {
     "data": {
      "text/html": [
       "Find logs at: <code>./wandb/run-20220508_221647-3v7h6dlq/logs</code>"
      ],
      "text/plain": [
       "<IPython.core.display.HTML object>"
      ]
     },
     "metadata": {},
     "output_type": "display_data"
    },
    {
     "data": {
      "text/html": [
       "Successfully finished last run (ID:3v7h6dlq). Initializing new run:<br/>"
      ],
      "text/plain": [
       "<IPython.core.display.HTML object>"
      ]
     },
     "metadata": {},
     "output_type": "display_data"
    },
    {
     "data": {
      "text/html": [
       "wandb version 0.12.16 is available!  To upgrade, please run:\n",
       " $ pip install wandb --upgrade"
      ],
      "text/plain": [
       "<IPython.core.display.HTML object>"
      ]
     },
     "metadata": {},
     "output_type": "display_data"
    },
    {
     "data": {
      "text/html": [
       "Tracking run with wandb version 0.12.11"
      ],
      "text/plain": [
       "<IPython.core.display.HTML object>"
      ]
     },
     "metadata": {},
     "output_type": "display_data"
    },
    {
     "data": {
      "text/html": [
       "Run data is saved locally in <code>/home/yifan/Desktop/genomics/projects/model/wandb/run-20220508_224243-3414masb</code>"
      ],
      "text/plain": [
       "<IPython.core.display.HTML object>"
      ]
     },
     "metadata": {},
     "output_type": "display_data"
    },
    {
     "data": {
      "text/html": [
       "Syncing run <strong><a href=\"https://wandb.ai/fanfanwu9898/02710/runs/3414masb\" target=\"_blank\">WEAKRM25</a></strong> to <a href=\"https://wandb.ai/fanfanwu9898/02710\" target=\"_blank\">Weights & Biases</a> (<a href=\"https://wandb.me/run\" target=\"_blank\">docs</a>)<br/>"
      ],
      "text/plain": [
       "<IPython.core.display.HTML object>"
      ]
     },
     "metadata": {},
     "output_type": "display_data"
    },
    {
     "name": "stderr",
     "output_type": "stream",
     "text": [
      "/home/yifan/Desktop/genomics/projects/model/model.py:63: UserWarning: Implicit dimension choice for softmax has been deprecated. Change the call to include dim=X as an argument.\n",
      "  gated_attention = self.softmax(gated_attention)  # torch.Size([1, 13])\n",
      "/home/yifan/Desktop/genomics/projects/model/model.py:63: UserWarning: Implicit dimension choice for softmax has been deprecated. Change the call to include dim=X as an argument.\n",
      "  gated_attention = self.softmax(gated_attention)  # torch.Size([1, 13])\n",
      "/home/yifan/Desktop/genomics/projects/model/model.py:63: UserWarning: Implicit dimension choice for softmax has been deprecated. Change the call to include dim=X as an argument.\n",
      "  gated_attention = self.softmax(gated_attention)  # torch.Size([1, 13])\n",
      "/home/yifan/Desktop/genomics/projects/model/model.py:63: UserWarning: Implicit dimension choice for softmax has been deprecated. Change the call to include dim=X as an argument.\n",
      "  gated_attention = self.softmax(gated_attention)  # torch.Size([1, 13])\n",
      "/home/yifan/Desktop/genomics/projects/model/model.py:63: UserWarning: Implicit dimension choice for softmax has been deprecated. Change the call to include dim=X as an argument.\n",
      "  gated_attention = self.softmax(gated_attention)  # torch.Size([1, 13])\n",
      "/home/yifan/Desktop/genomics/projects/model/model.py:63: UserWarning: Implicit dimension choice for softmax has been deprecated. Change the call to include dim=X as an argument.\n",
      "  gated_attention = self.softmax(gated_attention)  # torch.Size([1, 13])\n",
      "/home/yifan/Desktop/genomics/projects/model/model.py:63: UserWarning: Implicit dimension choice for softmax has been deprecated. Change the call to include dim=X as an argument.\n",
      "  gated_attention = self.softmax(gated_attention)  # torch.Size([1, 13])\n",
      "/home/yifan/Desktop/genomics/projects/model/model.py:63: UserWarning: Implicit dimension choice for softmax has been deprecated. Change the call to include dim=X as an argument.\n",
      "  gated_attention = self.softmax(gated_attention)  # torch.Size([1, 13])\n",
      "/home/yifan/Desktop/genomics/projects/model/model.py:63: UserWarning: Implicit dimension choice for softmax has been deprecated. Change the call to include dim=X as an argument.\n",
      "  gated_attention = self.softmax(gated_attention)  # torch.Size([1, 13])\n",
      "/home/yifan/Desktop/genomics/projects/model/model.py:63: UserWarning: Implicit dimension choice for softmax has been deprecated. Change the call to include dim=X as an argument.\n",
      "  gated_attention = self.softmax(gated_attention)  # torch.Size([1, 13])\n",
      "/home/yifan/Desktop/genomics/projects/model/model.py:63: UserWarning: Implicit dimension choice for softmax has been deprecated. Change the call to include dim=X as an argument.\n",
      "  gated_attention = self.softmax(gated_attention)  # torch.Size([1, 13])\n",
      "/home/yifan/Desktop/genomics/projects/model/model.py:63: UserWarning: Implicit dimension choice for softmax has been deprecated. Change the call to include dim=X as an argument.\n",
      "  gated_attention = self.softmax(gated_attention)  # torch.Size([1, 13])\n",
      "/home/yifan/Desktop/genomics/projects/model/model.py:63: UserWarning: Implicit dimension choice for softmax has been deprecated. Change the call to include dim=X as an argument.\n",
      "  gated_attention = self.softmax(gated_attention)  # torch.Size([1, 13])\n",
      "/home/yifan/Desktop/genomics/projects/model/model.py:63: UserWarning: Implicit dimension choice for softmax has been deprecated. Change the call to include dim=X as an argument.\n",
      "  gated_attention = self.softmax(gated_attention)  # torch.Size([1, 13])\n",
      "/home/yifan/Desktop/genomics/projects/model/model.py:63: UserWarning: Implicit dimension choice for softmax has been deprecated. Change the call to include dim=X as an argument.\n",
      "  gated_attention = self.softmax(gated_attention)  # torch.Size([1, 13])\n",
      "/home/yifan/Desktop/genomics/projects/model/model.py:63: UserWarning: Implicit dimension choice for softmax has been deprecated. Change the call to include dim=X as an argument.\n",
      "  gated_attention = self.softmax(gated_attention)  # torch.Size([1, 13])\n",
      "/home/yifan/Desktop/genomics/projects/model/model.py:63: UserWarning: Implicit dimension choice for softmax has been deprecated. Change the call to include dim=X as an argument.\n",
      "  gated_attention = self.softmax(gated_attention)  # torch.Size([1, 13])\n",
      "/home/yifan/Desktop/genomics/projects/model/model.py:63: UserWarning: Implicit dimension choice for softmax has been deprecated. Change the call to include dim=X as an argument.\n",
      "  gated_attention = self.softmax(gated_attention)  # torch.Size([1, 13])\n",
      "/home/yifan/Desktop/genomics/projects/model/model.py:63: UserWarning: Implicit dimension choice for softmax has been deprecated. Change the call to include dim=X as an argument.\n",
      "  gated_attention = self.softmax(gated_attention)  # torch.Size([1, 13])\n",
      "/home/yifan/Desktop/genomics/projects/model/model.py:63: UserWarning: Implicit dimension choice for softmax has been deprecated. Change the call to include dim=X as an argument.\n",
      "  gated_attention = self.softmax(gated_attention)  # torch.Size([1, 13])\n"
     ]
    },
    {
     "name": "stdout",
     "output_type": "stream",
     "text": [
      "start running ../iDeepS/datasets/clip/26_PARCLIP_TAF15_hg19\n"
     ]
    },
    {
     "data": {
      "text/html": [
       "Finishing last run (ID:3414masb) before initializing another..."
      ],
      "text/plain": [
       "<IPython.core.display.HTML object>"
      ]
     },
     "metadata": {},
     "output_type": "display_data"
    },
    {
     "name": "stdout",
     "output_type": "stream",
     "text": [
      "\n"
     ]
    },
    {
     "data": {
      "text/html": [
       "Waiting for W&B process to finish... <strong style=\"color:green\">(success).</strong>"
      ],
      "text/plain": [
       "<IPython.core.display.HTML object>"
      ]
     },
     "metadata": {},
     "output_type": "display_data"
    },
    {
     "data": {
      "application/vnd.jupyter.widget-view+json": {
       "model_id": "",
       "version_major": 2,
       "version_minor": 0
      },
      "text/plain": [
       "VBox(children=(Label(value='0.001 MB of 0.001 MB uploaded (0.000 MB deduped)\\r'), FloatProgress(value=1.0, max…"
      ]
     },
     "metadata": {},
     "output_type": "display_data"
    },
    {
     "data": {
      "text/html": [
       "<style>\n",
       "    table.wandb td:nth-child(1) { padding: 0 10px; text-align: right }\n",
       "    .wandb-row { display: flex; flex-direction: row; flex-wrap: wrap; width: 100% }\n",
       "    .wandb-col { display: flex; flex-direction: column; flex-basis: 100%; flex: 1; padding: 10px; }\n",
       "    </style>\n",
       "<div class=\"wandb-row\"><div class=\"wandb-col\"><h3>Run history:</h3><br/><table class=\"wandb\"><tr><td>Test Acc </td><td>▁▆▇▅█▅▇▆▆▅▃▅▅▁▄▄▂▂▃▃</td></tr><tr><td>Test loss</td><td>▁▁█▃▃▂▂▁▁▁▇▁▁▁▆▁▁▁▁▁</td></tr><tr><td>Train Acc:</td><td>▁▃▄▄▅▅▅▆▆▆▇▆▇▇▇▇████</td></tr><tr><td>Train loss:</td><td>█▆▅▅▄▄▄▃▃▃▃▂▂▂▂▂▁▁▁▁</td></tr><tr><td>auROC</td><td>▁▅▅▆▇█▅▆▆▄▆▆▅▅▅▅▅▅▅▅</td></tr><tr><td>lr</td><td>▁▁▁▁▁▁▁▁▁▁▁▁▁▁▁▁▁▁▁▁</td></tr></table><br/></div><div class=\"wandb-col\"><h3>Run summary:</h3><br/><table class=\"wandb\"><tr><td>Test Acc </td><td>85.01</td></tr><tr><td>Test loss</td><td>2e-05</td></tr><tr><td>Train Acc:</td><td>90.22</td></tr><tr><td>Train loss:</td><td>0.11379</td></tr><tr><td>auROC</td><td>0.88169</td></tr><tr><td>lr</td><td>0.0005</td></tr></table><br/></div></div>"
      ],
      "text/plain": [
       "<IPython.core.display.HTML object>"
      ]
     },
     "metadata": {},
     "output_type": "display_data"
    },
    {
     "data": {
      "text/html": [
       "Synced <strong style=\"color:#cdcd00\">WEAKRM25</strong>: <a href=\"https://wandb.ai/fanfanwu9898/02710/runs/3414masb\" target=\"_blank\">https://wandb.ai/fanfanwu9898/02710/runs/3414masb</a><br/>Synced 6 W&B file(s), 0 media file(s), 0 artifact file(s) and 0 other file(s)"
      ],
      "text/plain": [
       "<IPython.core.display.HTML object>"
      ]
     },
     "metadata": {},
     "output_type": "display_data"
    },
    {
     "data": {
      "text/html": [
       "Find logs at: <code>./wandb/run-20220508_224243-3414masb/logs</code>"
      ],
      "text/plain": [
       "<IPython.core.display.HTML object>"
      ]
     },
     "metadata": {},
     "output_type": "display_data"
    },
    {
     "data": {
      "text/html": [
       "Successfully finished last run (ID:3414masb). Initializing new run:<br/>"
      ],
      "text/plain": [
       "<IPython.core.display.HTML object>"
      ]
     },
     "metadata": {},
     "output_type": "display_data"
    },
    {
     "data": {
      "text/html": [
       "wandb version 0.12.16 is available!  To upgrade, please run:\n",
       " $ pip install wandb --upgrade"
      ],
      "text/plain": [
       "<IPython.core.display.HTML object>"
      ]
     },
     "metadata": {},
     "output_type": "display_data"
    },
    {
     "data": {
      "text/html": [
       "Tracking run with wandb version 0.12.11"
      ],
      "text/plain": [
       "<IPython.core.display.HTML object>"
      ]
     },
     "metadata": {},
     "output_type": "display_data"
    },
    {
     "data": {
      "text/html": [
       "Run data is saved locally in <code>/home/yifan/Desktop/genomics/projects/model/wandb/run-20220508_230841-24jeilpn</code>"
      ],
      "text/plain": [
       "<IPython.core.display.HTML object>"
      ]
     },
     "metadata": {},
     "output_type": "display_data"
    },
    {
     "data": {
      "text/html": [
       "Syncing run <strong><a href=\"https://wandb.ai/fanfanwu9898/02710/runs/24jeilpn\" target=\"_blank\">WEAKRM26</a></strong> to <a href=\"https://wandb.ai/fanfanwu9898/02710\" target=\"_blank\">Weights & Biases</a> (<a href=\"https://wandb.me/run\" target=\"_blank\">docs</a>)<br/>"
      ],
      "text/plain": [
       "<IPython.core.display.HTML object>"
      ]
     },
     "metadata": {},
     "output_type": "display_data"
    },
    {
     "name": "stderr",
     "output_type": "stream",
     "text": [
      "/home/yifan/Desktop/genomics/projects/model/model.py:63: UserWarning: Implicit dimension choice for softmax has been deprecated. Change the call to include dim=X as an argument.\n",
      "  gated_attention = self.softmax(gated_attention)  # torch.Size([1, 13])\n",
      "/home/yifan/Desktop/genomics/projects/model/model.py:63: UserWarning: Implicit dimension choice for softmax has been deprecated. Change the call to include dim=X as an argument.\n",
      "  gated_attention = self.softmax(gated_attention)  # torch.Size([1, 13])\n",
      "/home/yifan/Desktop/genomics/projects/model/model.py:63: UserWarning: Implicit dimension choice for softmax has been deprecated. Change the call to include dim=X as an argument.\n",
      "  gated_attention = self.softmax(gated_attention)  # torch.Size([1, 13])\n",
      "/home/yifan/Desktop/genomics/projects/model/model.py:63: UserWarning: Implicit dimension choice for softmax has been deprecated. Change the call to include dim=X as an argument.\n",
      "  gated_attention = self.softmax(gated_attention)  # torch.Size([1, 13])\n",
      "/home/yifan/Desktop/genomics/projects/model/model.py:63: UserWarning: Implicit dimension choice for softmax has been deprecated. Change the call to include dim=X as an argument.\n",
      "  gated_attention = self.softmax(gated_attention)  # torch.Size([1, 13])\n",
      "/home/yifan/Desktop/genomics/projects/model/model.py:63: UserWarning: Implicit dimension choice for softmax has been deprecated. Change the call to include dim=X as an argument.\n",
      "  gated_attention = self.softmax(gated_attention)  # torch.Size([1, 13])\n",
      "/home/yifan/Desktop/genomics/projects/model/model.py:63: UserWarning: Implicit dimension choice for softmax has been deprecated. Change the call to include dim=X as an argument.\n",
      "  gated_attention = self.softmax(gated_attention)  # torch.Size([1, 13])\n",
      "/home/yifan/Desktop/genomics/projects/model/model.py:63: UserWarning: Implicit dimension choice for softmax has been deprecated. Change the call to include dim=X as an argument.\n",
      "  gated_attention = self.softmax(gated_attention)  # torch.Size([1, 13])\n",
      "/home/yifan/Desktop/genomics/projects/model/model.py:63: UserWarning: Implicit dimension choice for softmax has been deprecated. Change the call to include dim=X as an argument.\n",
      "  gated_attention = self.softmax(gated_attention)  # torch.Size([1, 13])\n",
      "/home/yifan/Desktop/genomics/projects/model/model.py:63: UserWarning: Implicit dimension choice for softmax has been deprecated. Change the call to include dim=X as an argument.\n",
      "  gated_attention = self.softmax(gated_attention)  # torch.Size([1, 13])\n",
      "/home/yifan/Desktop/genomics/projects/model/model.py:63: UserWarning: Implicit dimension choice for softmax has been deprecated. Change the call to include dim=X as an argument.\n",
      "  gated_attention = self.softmax(gated_attention)  # torch.Size([1, 13])\n",
      "/home/yifan/Desktop/genomics/projects/model/model.py:63: UserWarning: Implicit dimension choice for softmax has been deprecated. Change the call to include dim=X as an argument.\n",
      "  gated_attention = self.softmax(gated_attention)  # torch.Size([1, 13])\n",
      "/home/yifan/Desktop/genomics/projects/model/model.py:63: UserWarning: Implicit dimension choice for softmax has been deprecated. Change the call to include dim=X as an argument.\n",
      "  gated_attention = self.softmax(gated_attention)  # torch.Size([1, 13])\n",
      "/home/yifan/Desktop/genomics/projects/model/model.py:63: UserWarning: Implicit dimension choice for softmax has been deprecated. Change the call to include dim=X as an argument.\n",
      "  gated_attention = self.softmax(gated_attention)  # torch.Size([1, 13])\n",
      "/home/yifan/Desktop/genomics/projects/model/model.py:63: UserWarning: Implicit dimension choice for softmax has been deprecated. Change the call to include dim=X as an argument.\n",
      "  gated_attention = self.softmax(gated_attention)  # torch.Size([1, 13])\n",
      "/home/yifan/Desktop/genomics/projects/model/model.py:63: UserWarning: Implicit dimension choice for softmax has been deprecated. Change the call to include dim=X as an argument.\n",
      "  gated_attention = self.softmax(gated_attention)  # torch.Size([1, 13])\n",
      "/home/yifan/Desktop/genomics/projects/model/model.py:63: UserWarning: Implicit dimension choice for softmax has been deprecated. Change the call to include dim=X as an argument.\n",
      "  gated_attention = self.softmax(gated_attention)  # torch.Size([1, 13])\n",
      "/home/yifan/Desktop/genomics/projects/model/model.py:63: UserWarning: Implicit dimension choice for softmax has been deprecated. Change the call to include dim=X as an argument.\n",
      "  gated_attention = self.softmax(gated_attention)  # torch.Size([1, 13])\n",
      "/home/yifan/Desktop/genomics/projects/model/model.py:63: UserWarning: Implicit dimension choice for softmax has been deprecated. Change the call to include dim=X as an argument.\n",
      "  gated_attention = self.softmax(gated_attention)  # torch.Size([1, 13])\n",
      "/home/yifan/Desktop/genomics/projects/model/model.py:63: UserWarning: Implicit dimension choice for softmax has been deprecated. Change the call to include dim=X as an argument.\n",
      "  gated_attention = self.softmax(gated_attention)  # torch.Size([1, 13])\n"
     ]
    },
    {
     "name": "stdout",
     "output_type": "stream",
     "text": [
      "start running ../iDeepS/datasets/clip/27_ICLIP_TDP43_hg19\n"
     ]
    },
    {
     "data": {
      "text/html": [
       "Finishing last run (ID:24jeilpn) before initializing another..."
      ],
      "text/plain": [
       "<IPython.core.display.HTML object>"
      ]
     },
     "metadata": {},
     "output_type": "display_data"
    },
    {
     "name": "stdout",
     "output_type": "stream",
     "text": [
      "\n"
     ]
    },
    {
     "data": {
      "text/html": [
       "Waiting for W&B process to finish... <strong style=\"color:green\">(success).</strong>"
      ],
      "text/plain": [
       "<IPython.core.display.HTML object>"
      ]
     },
     "metadata": {},
     "output_type": "display_data"
    },
    {
     "data": {
      "application/vnd.jupyter.widget-view+json": {
       "model_id": "",
       "version_major": 2,
       "version_minor": 0
      },
      "text/plain": [
       "VBox(children=(Label(value='0.001 MB of 0.001 MB uploaded (0.000 MB deduped)\\r'), FloatProgress(value=1.0, max…"
      ]
     },
     "metadata": {},
     "output_type": "display_data"
    },
    {
     "data": {
      "text/html": [
       "<style>\n",
       "    table.wandb td:nth-child(1) { padding: 0 10px; text-align: right }\n",
       "    .wandb-row { display: flex; flex-direction: row; flex-wrap: wrap; width: 100% }\n",
       "    .wandb-col { display: flex; flex-direction: column; flex-basis: 100%; flex: 1; padding: 10px; }\n",
       "    </style>\n",
       "<div class=\"wandb-row\"><div class=\"wandb-col\"><h3>Run history:</h3><br/><table class=\"wandb\"><tr><td>Test Acc </td><td>▁▅▃▇▁▆█▃▇▄█▅▆▆▆▆▆▆▆▆</td></tr><tr><td>Test loss</td><td>█▂▃▁▂▂▁▃▁▂▁▁▂▁▁▁▁▁▅▁</td></tr><tr><td>Train Acc:</td><td>▁▄▄▄▄▅▅▅▆▆▆▇▇▇▇█████</td></tr><tr><td>Train loss:</td><td>█▆▅▅▅▄▄▄▃▃▃▃▂▂▂▁▁▁▁▁</td></tr><tr><td>auROC</td><td>▁▆▆██▇▇▆█▆▆▆▆▆▅▅▅▅▅▅</td></tr><tr><td>lr</td><td>▁▁▁▁▁▁▁▁▁▁▁▁▁▁▁▁▁▁▁▁</td></tr></table><br/></div><div class=\"wandb-col\"><h3>Run summary:</h3><br/><table class=\"wandb\"><tr><td>Test Acc </td><td>91.02</td></tr><tr><td>Test loss</td><td>0.00574</td></tr><tr><td>Train Acc:</td><td>95.58667</td></tr><tr><td>Train loss:</td><td>0.05884</td></tr><tr><td>auROC</td><td>0.94773</td></tr><tr><td>lr</td><td>0.0005</td></tr></table><br/></div></div>"
      ],
      "text/plain": [
       "<IPython.core.display.HTML object>"
      ]
     },
     "metadata": {},
     "output_type": "display_data"
    },
    {
     "data": {
      "text/html": [
       "Synced <strong style=\"color:#cdcd00\">WEAKRM26</strong>: <a href=\"https://wandb.ai/fanfanwu9898/02710/runs/24jeilpn\" target=\"_blank\">https://wandb.ai/fanfanwu9898/02710/runs/24jeilpn</a><br/>Synced 6 W&B file(s), 0 media file(s), 0 artifact file(s) and 0 other file(s)"
      ],
      "text/plain": [
       "<IPython.core.display.HTML object>"
      ]
     },
     "metadata": {},
     "output_type": "display_data"
    },
    {
     "data": {
      "text/html": [
       "Find logs at: <code>./wandb/run-20220508_230841-24jeilpn/logs</code>"
      ],
      "text/plain": [
       "<IPython.core.display.HTML object>"
      ]
     },
     "metadata": {},
     "output_type": "display_data"
    },
    {
     "data": {
      "text/html": [
       "Successfully finished last run (ID:24jeilpn). Initializing new run:<br/>"
      ],
      "text/plain": [
       "<IPython.core.display.HTML object>"
      ]
     },
     "metadata": {},
     "output_type": "display_data"
    },
    {
     "data": {
      "text/html": [
       "wandb version 0.12.16 is available!  To upgrade, please run:\n",
       " $ pip install wandb --upgrade"
      ],
      "text/plain": [
       "<IPython.core.display.HTML object>"
      ]
     },
     "metadata": {},
     "output_type": "display_data"
    },
    {
     "data": {
      "text/html": [
       "Tracking run with wandb version 0.12.11"
      ],
      "text/plain": [
       "<IPython.core.display.HTML object>"
      ]
     },
     "metadata": {},
     "output_type": "display_data"
    },
    {
     "data": {
      "text/html": [
       "Run data is saved locally in <code>/home/yifan/Desktop/genomics/projects/model/wandb/run-20220508_233401-22mxxnwm</code>"
      ],
      "text/plain": [
       "<IPython.core.display.HTML object>"
      ]
     },
     "metadata": {},
     "output_type": "display_data"
    },
    {
     "data": {
      "text/html": [
       "Syncing run <strong><a href=\"https://wandb.ai/fanfanwu9898/02710/runs/22mxxnwm\" target=\"_blank\">WEAKRM27</a></strong> to <a href=\"https://wandb.ai/fanfanwu9898/02710\" target=\"_blank\">Weights & Biases</a> (<a href=\"https://wandb.me/run\" target=\"_blank\">docs</a>)<br/>"
      ],
      "text/plain": [
       "<IPython.core.display.HTML object>"
      ]
     },
     "metadata": {},
     "output_type": "display_data"
    },
    {
     "name": "stderr",
     "output_type": "stream",
     "text": [
      "/home/yifan/Desktop/genomics/projects/model/model.py:63: UserWarning: Implicit dimension choice for softmax has been deprecated. Change the call to include dim=X as an argument.\n",
      "  gated_attention = self.softmax(gated_attention)  # torch.Size([1, 13])\n",
      "/home/yifan/Desktop/genomics/projects/model/model.py:63: UserWarning: Implicit dimension choice for softmax has been deprecated. Change the call to include dim=X as an argument.\n",
      "  gated_attention = self.softmax(gated_attention)  # torch.Size([1, 13])\n",
      "/home/yifan/Desktop/genomics/projects/model/model.py:63: UserWarning: Implicit dimension choice for softmax has been deprecated. Change the call to include dim=X as an argument.\n",
      "  gated_attention = self.softmax(gated_attention)  # torch.Size([1, 13])\n",
      "/home/yifan/Desktop/genomics/projects/model/model.py:63: UserWarning: Implicit dimension choice for softmax has been deprecated. Change the call to include dim=X as an argument.\n",
      "  gated_attention = self.softmax(gated_attention)  # torch.Size([1, 13])\n",
      "/home/yifan/Desktop/genomics/projects/model/model.py:63: UserWarning: Implicit dimension choice for softmax has been deprecated. Change the call to include dim=X as an argument.\n",
      "  gated_attention = self.softmax(gated_attention)  # torch.Size([1, 13])\n",
      "/home/yifan/Desktop/genomics/projects/model/model.py:63: UserWarning: Implicit dimension choice for softmax has been deprecated. Change the call to include dim=X as an argument.\n",
      "  gated_attention = self.softmax(gated_attention)  # torch.Size([1, 13])\n",
      "/home/yifan/Desktop/genomics/projects/model/model.py:63: UserWarning: Implicit dimension choice for softmax has been deprecated. Change the call to include dim=X as an argument.\n",
      "  gated_attention = self.softmax(gated_attention)  # torch.Size([1, 13])\n",
      "/home/yifan/Desktop/genomics/projects/model/model.py:63: UserWarning: Implicit dimension choice for softmax has been deprecated. Change the call to include dim=X as an argument.\n",
      "  gated_attention = self.softmax(gated_attention)  # torch.Size([1, 13])\n",
      "/home/yifan/Desktop/genomics/projects/model/model.py:63: UserWarning: Implicit dimension choice for softmax has been deprecated. Change the call to include dim=X as an argument.\n",
      "  gated_attention = self.softmax(gated_attention)  # torch.Size([1, 13])\n",
      "/home/yifan/Desktop/genomics/projects/model/model.py:63: UserWarning: Implicit dimension choice for softmax has been deprecated. Change the call to include dim=X as an argument.\n",
      "  gated_attention = self.softmax(gated_attention)  # torch.Size([1, 13])\n",
      "/home/yifan/Desktop/genomics/projects/model/model.py:63: UserWarning: Implicit dimension choice for softmax has been deprecated. Change the call to include dim=X as an argument.\n",
      "  gated_attention = self.softmax(gated_attention)  # torch.Size([1, 13])\n",
      "/home/yifan/Desktop/genomics/projects/model/model.py:63: UserWarning: Implicit dimension choice for softmax has been deprecated. Change the call to include dim=X as an argument.\n",
      "  gated_attention = self.softmax(gated_attention)  # torch.Size([1, 13])\n",
      "/home/yifan/Desktop/genomics/projects/model/model.py:63: UserWarning: Implicit dimension choice for softmax has been deprecated. Change the call to include dim=X as an argument.\n",
      "  gated_attention = self.softmax(gated_attention)  # torch.Size([1, 13])\n",
      "/home/yifan/Desktop/genomics/projects/model/model.py:63: UserWarning: Implicit dimension choice for softmax has been deprecated. Change the call to include dim=X as an argument.\n",
      "  gated_attention = self.softmax(gated_attention)  # torch.Size([1, 13])\n",
      "/home/yifan/Desktop/genomics/projects/model/model.py:63: UserWarning: Implicit dimension choice for softmax has been deprecated. Change the call to include dim=X as an argument.\n",
      "  gated_attention = self.softmax(gated_attention)  # torch.Size([1, 13])\n",
      "/home/yifan/Desktop/genomics/projects/model/model.py:63: UserWarning: Implicit dimension choice for softmax has been deprecated. Change the call to include dim=X as an argument.\n",
      "  gated_attention = self.softmax(gated_attention)  # torch.Size([1, 13])\n",
      "/home/yifan/Desktop/genomics/projects/model/model.py:63: UserWarning: Implicit dimension choice for softmax has been deprecated. Change the call to include dim=X as an argument.\n",
      "  gated_attention = self.softmax(gated_attention)  # torch.Size([1, 13])\n",
      "/home/yifan/Desktop/genomics/projects/model/model.py:63: UserWarning: Implicit dimension choice for softmax has been deprecated. Change the call to include dim=X as an argument.\n",
      "  gated_attention = self.softmax(gated_attention)  # torch.Size([1, 13])\n",
      "/home/yifan/Desktop/genomics/projects/model/model.py:63: UserWarning: Implicit dimension choice for softmax has been deprecated. Change the call to include dim=X as an argument.\n",
      "  gated_attention = self.softmax(gated_attention)  # torch.Size([1, 13])\n",
      "/home/yifan/Desktop/genomics/projects/model/model.py:63: UserWarning: Implicit dimension choice for softmax has been deprecated. Change the call to include dim=X as an argument.\n",
      "  gated_attention = self.softmax(gated_attention)  # torch.Size([1, 13])\n"
     ]
    },
    {
     "name": "stdout",
     "output_type": "stream",
     "text": [
      "start running ../iDeepS/datasets/clip/28_ICLIP_TIA1_hg19\n"
     ]
    },
    {
     "data": {
      "text/html": [
       "Finishing last run (ID:22mxxnwm) before initializing another..."
      ],
      "text/plain": [
       "<IPython.core.display.HTML object>"
      ]
     },
     "metadata": {},
     "output_type": "display_data"
    },
    {
     "name": "stdout",
     "output_type": "stream",
     "text": [
      "\n"
     ]
    },
    {
     "data": {
      "text/html": [
       "Waiting for W&B process to finish... <strong style=\"color:green\">(success).</strong>"
      ],
      "text/plain": [
       "<IPython.core.display.HTML object>"
      ]
     },
     "metadata": {},
     "output_type": "display_data"
    },
    {
     "data": {
      "application/vnd.jupyter.widget-view+json": {
       "model_id": "",
       "version_major": 2,
       "version_minor": 0
      },
      "text/plain": [
       "VBox(children=(Label(value='0.001 MB of 0.001 MB uploaded (0.000 MB deduped)\\r'), FloatProgress(value=1.0, max…"
      ]
     },
     "metadata": {},
     "output_type": "display_data"
    },
    {
     "data": {
      "text/html": [
       "<style>\n",
       "    table.wandb td:nth-child(1) { padding: 0 10px; text-align: right }\n",
       "    .wandb-row { display: flex; flex-direction: row; flex-wrap: wrap; width: 100% }\n",
       "    .wandb-col { display: flex; flex-direction: column; flex-basis: 100%; flex: 1; padding: 10px; }\n",
       "    </style>\n",
       "<div class=\"wandb-row\"><div class=\"wandb-col\"><h3>Run history:</h3><br/><table class=\"wandb\"><tr><td>Test Acc </td><td>▄▁█▅▆▆▁█▆▅▇▆█▆▇▅▆▆▆▆</td></tr><tr><td>Test loss</td><td>▁▁▁▁▁▂▁▁▁▁▃▁▁█▂▁▁▁▁▁</td></tr><tr><td>Train Acc:</td><td>▁▃▄▄▄▄▅▅▅▆▆▆▇▇▇▇████</td></tr><tr><td>Train loss:</td><td>█▆▆▅▅▅▄▄▄▃▃▃▂▂▂▁▁▁▁▁</td></tr><tr><td>auROC</td><td>▄▇█▆▇▇▄▇▆▅▄▃▆▃▃▁▁▁▁▁</td></tr><tr><td>lr</td><td>▁▁▁▁▁▁▁▁▁▁▁▁▁▁▁▁▁▁▁▁</td></tr></table><br/></div><div class=\"wandb-col\"><h3>Run summary:</h3><br/><table class=\"wandb\"><tr><td>Test Acc </td><td>90.9</td></tr><tr><td>Test loss</td><td>0.00973</td></tr><tr><td>Train Acc:</td><td>93.18333</td></tr><tr><td>Train loss:</td><td>0.09485</td></tr><tr><td>auROC</td><td>0.91728</td></tr><tr><td>lr</td><td>0.0005</td></tr></table><br/></div></div>"
      ],
      "text/plain": [
       "<IPython.core.display.HTML object>"
      ]
     },
     "metadata": {},
     "output_type": "display_data"
    },
    {
     "data": {
      "text/html": [
       "Synced <strong style=\"color:#cdcd00\">WEAKRM27</strong>: <a href=\"https://wandb.ai/fanfanwu9898/02710/runs/22mxxnwm\" target=\"_blank\">https://wandb.ai/fanfanwu9898/02710/runs/22mxxnwm</a><br/>Synced 6 W&B file(s), 0 media file(s), 0 artifact file(s) and 0 other file(s)"
      ],
      "text/plain": [
       "<IPython.core.display.HTML object>"
      ]
     },
     "metadata": {},
     "output_type": "display_data"
    },
    {
     "data": {
      "text/html": [
       "Find logs at: <code>./wandb/run-20220508_233401-22mxxnwm/logs</code>"
      ],
      "text/plain": [
       "<IPython.core.display.HTML object>"
      ]
     },
     "metadata": {},
     "output_type": "display_data"
    },
    {
     "data": {
      "text/html": [
       "Successfully finished last run (ID:22mxxnwm). Initializing new run:<br/>"
      ],
      "text/plain": [
       "<IPython.core.display.HTML object>"
      ]
     },
     "metadata": {},
     "output_type": "display_data"
    },
    {
     "data": {
      "text/html": [
       "wandb version 0.12.16 is available!  To upgrade, please run:\n",
       " $ pip install wandb --upgrade"
      ],
      "text/plain": [
       "<IPython.core.display.HTML object>"
      ]
     },
     "metadata": {},
     "output_type": "display_data"
    },
    {
     "data": {
      "text/html": [
       "Tracking run with wandb version 0.12.11"
      ],
      "text/plain": [
       "<IPython.core.display.HTML object>"
      ]
     },
     "metadata": {},
     "output_type": "display_data"
    },
    {
     "data": {
      "text/html": [
       "Run data is saved locally in <code>/home/yifan/Desktop/genomics/projects/model/wandb/run-20220509_000042-2irgqjz1</code>"
      ],
      "text/plain": [
       "<IPython.core.display.HTML object>"
      ]
     },
     "metadata": {},
     "output_type": "display_data"
    },
    {
     "data": {
      "text/html": [
       "Syncing run <strong><a href=\"https://wandb.ai/fanfanwu9898/02710/runs/2irgqjz1\" target=\"_blank\">WEAKRM28</a></strong> to <a href=\"https://wandb.ai/fanfanwu9898/02710\" target=\"_blank\">Weights & Biases</a> (<a href=\"https://wandb.me/run\" target=\"_blank\">docs</a>)<br/>"
      ],
      "text/plain": [
       "<IPython.core.display.HTML object>"
      ]
     },
     "metadata": {},
     "output_type": "display_data"
    },
    {
     "name": "stderr",
     "output_type": "stream",
     "text": [
      "/home/yifan/Desktop/genomics/projects/model/model.py:63: UserWarning: Implicit dimension choice for softmax has been deprecated. Change the call to include dim=X as an argument.\n",
      "  gated_attention = self.softmax(gated_attention)  # torch.Size([1, 13])\n",
      "/home/yifan/Desktop/genomics/projects/model/model.py:63: UserWarning: Implicit dimension choice for softmax has been deprecated. Change the call to include dim=X as an argument.\n",
      "  gated_attention = self.softmax(gated_attention)  # torch.Size([1, 13])\n",
      "/home/yifan/Desktop/genomics/projects/model/model.py:63: UserWarning: Implicit dimension choice for softmax has been deprecated. Change the call to include dim=X as an argument.\n",
      "  gated_attention = self.softmax(gated_attention)  # torch.Size([1, 13])\n",
      "/home/yifan/Desktop/genomics/projects/model/model.py:63: UserWarning: Implicit dimension choice for softmax has been deprecated. Change the call to include dim=X as an argument.\n",
      "  gated_attention = self.softmax(gated_attention)  # torch.Size([1, 13])\n",
      "/home/yifan/Desktop/genomics/projects/model/model.py:63: UserWarning: Implicit dimension choice for softmax has been deprecated. Change the call to include dim=X as an argument.\n",
      "  gated_attention = self.softmax(gated_attention)  # torch.Size([1, 13])\n",
      "/home/yifan/Desktop/genomics/projects/model/model.py:63: UserWarning: Implicit dimension choice for softmax has been deprecated. Change the call to include dim=X as an argument.\n",
      "  gated_attention = self.softmax(gated_attention)  # torch.Size([1, 13])\n",
      "/home/yifan/Desktop/genomics/projects/model/model.py:63: UserWarning: Implicit dimension choice for softmax has been deprecated. Change the call to include dim=X as an argument.\n",
      "  gated_attention = self.softmax(gated_attention)  # torch.Size([1, 13])\n",
      "/home/yifan/Desktop/genomics/projects/model/model.py:63: UserWarning: Implicit dimension choice for softmax has been deprecated. Change the call to include dim=X as an argument.\n",
      "  gated_attention = self.softmax(gated_attention)  # torch.Size([1, 13])\n",
      "/home/yifan/Desktop/genomics/projects/model/model.py:63: UserWarning: Implicit dimension choice for softmax has been deprecated. Change the call to include dim=X as an argument.\n",
      "  gated_attention = self.softmax(gated_attention)  # torch.Size([1, 13])\n",
      "/home/yifan/Desktop/genomics/projects/model/model.py:63: UserWarning: Implicit dimension choice for softmax has been deprecated. Change the call to include dim=X as an argument.\n",
      "  gated_attention = self.softmax(gated_attention)  # torch.Size([1, 13])\n",
      "/home/yifan/Desktop/genomics/projects/model/model.py:63: UserWarning: Implicit dimension choice for softmax has been deprecated. Change the call to include dim=X as an argument.\n",
      "  gated_attention = self.softmax(gated_attention)  # torch.Size([1, 13])\n",
      "/home/yifan/Desktop/genomics/projects/model/model.py:63: UserWarning: Implicit dimension choice for softmax has been deprecated. Change the call to include dim=X as an argument.\n",
      "  gated_attention = self.softmax(gated_attention)  # torch.Size([1, 13])\n",
      "/home/yifan/Desktop/genomics/projects/model/model.py:63: UserWarning: Implicit dimension choice for softmax has been deprecated. Change the call to include dim=X as an argument.\n",
      "  gated_attention = self.softmax(gated_attention)  # torch.Size([1, 13])\n",
      "/home/yifan/Desktop/genomics/projects/model/model.py:63: UserWarning: Implicit dimension choice for softmax has been deprecated. Change the call to include dim=X as an argument.\n",
      "  gated_attention = self.softmax(gated_attention)  # torch.Size([1, 13])\n",
      "/home/yifan/Desktop/genomics/projects/model/model.py:63: UserWarning: Implicit dimension choice for softmax has been deprecated. Change the call to include dim=X as an argument.\n",
      "  gated_attention = self.softmax(gated_attention)  # torch.Size([1, 13])\n",
      "/home/yifan/Desktop/genomics/projects/model/model.py:63: UserWarning: Implicit dimension choice for softmax has been deprecated. Change the call to include dim=X as an argument.\n",
      "  gated_attention = self.softmax(gated_attention)  # torch.Size([1, 13])\n",
      "wandb: Network error (ReadTimeout), entering retry loop.\n",
      "/home/yifan/Desktop/genomics/projects/model/model.py:63: UserWarning: Implicit dimension choice for softmax has been deprecated. Change the call to include dim=X as an argument.\n",
      "  gated_attention = self.softmax(gated_attention)  # torch.Size([1, 13])\n",
      "/home/yifan/Desktop/genomics/projects/model/model.py:63: UserWarning: Implicit dimension choice for softmax has been deprecated. Change the call to include dim=X as an argument.\n",
      "  gated_attention = self.softmax(gated_attention)  # torch.Size([1, 13])\n",
      "/home/yifan/Desktop/genomics/projects/model/model.py:63: UserWarning: Implicit dimension choice for softmax has been deprecated. Change the call to include dim=X as an argument.\n",
      "  gated_attention = self.softmax(gated_attention)  # torch.Size([1, 13])\n",
      "/home/yifan/Desktop/genomics/projects/model/model.py:63: UserWarning: Implicit dimension choice for softmax has been deprecated. Change the call to include dim=X as an argument.\n",
      "  gated_attention = self.softmax(gated_attention)  # torch.Size([1, 13])\n"
     ]
    },
    {
     "name": "stdout",
     "output_type": "stream",
     "text": [
      "start running ../iDeepS/datasets/clip/29_ICLIP_TIAL1_hg19\n"
     ]
    },
    {
     "data": {
      "text/html": [
       "Finishing last run (ID:2irgqjz1) before initializing another..."
      ],
      "text/plain": [
       "<IPython.core.display.HTML object>"
      ]
     },
     "metadata": {},
     "output_type": "display_data"
    },
    {
     "name": "stdout",
     "output_type": "stream",
     "text": [
      "\n"
     ]
    },
    {
     "data": {
      "text/html": [
       "Waiting for W&B process to finish... <strong style=\"color:green\">(success).</strong>"
      ],
      "text/plain": [
       "<IPython.core.display.HTML object>"
      ]
     },
     "metadata": {},
     "output_type": "display_data"
    },
    {
     "data": {
      "application/vnd.jupyter.widget-view+json": {
       "model_id": "",
       "version_major": 2,
       "version_minor": 0
      },
      "text/plain": [
       "VBox(children=(Label(value='0.001 MB of 0.001 MB uploaded (0.000 MB deduped)\\r'), FloatProgress(value=1.0, max…"
      ]
     },
     "metadata": {},
     "output_type": "display_data"
    },
    {
     "data": {
      "text/html": [
       "<style>\n",
       "    table.wandb td:nth-child(1) { padding: 0 10px; text-align: right }\n",
       "    .wandb-row { display: flex; flex-direction: row; flex-wrap: wrap; width: 100% }\n",
       "    .wandb-col { display: flex; flex-direction: column; flex-basis: 100%; flex: 1; padding: 10px; }\n",
       "    </style>\n",
       "<div class=\"wandb-row\"><div class=\"wandb-col\"><h3>Run history:</h3><br/><table class=\"wandb\"><tr><td>Test Acc </td><td>▂▁▄▄▇▇▇██▇███▇▇▆▆▆▆▆</td></tr><tr><td>Test loss</td><td>▇▁▁▂▁▆▄▁▁█▃▅▃▁▁▁▁▁▁▂</td></tr><tr><td>Train Acc:</td><td>▁▃▃▄▄▄▅▅▆▆▆▆▇▇▇█████</td></tr><tr><td>Train loss:</td><td>█▆▆▆▅▅▄▄▄▃▃▃▂▂▂▁▁▁▁▁</td></tr><tr><td>auROC</td><td>▁▃▃▅▆▇▇█▇▇▇▇▆▆▆▅▅▅▅▅</td></tr><tr><td>lr</td><td>▁▁▁▁▁▁▁▁▁▁▁▁▁▁▁▁▁▁▁▁</td></tr></table><br/></div><div class=\"wandb-col\"><h3>Run summary:</h3><br/><table class=\"wandb\"><tr><td>Test Acc </td><td>87.33</td></tr><tr><td>Test loss</td><td>0.06364</td></tr><tr><td>Train Acc:</td><td>90.86333</td></tr><tr><td>Train loss:</td><td>0.10667</td></tr><tr><td>auROC</td><td>0.91467</td></tr><tr><td>lr</td><td>0.0005</td></tr></table><br/></div></div>"
      ],
      "text/plain": [
       "<IPython.core.display.HTML object>"
      ]
     },
     "metadata": {},
     "output_type": "display_data"
    },
    {
     "data": {
      "text/html": [
       "Synced <strong style=\"color:#cdcd00\">WEAKRM28</strong>: <a href=\"https://wandb.ai/fanfanwu9898/02710/runs/2irgqjz1\" target=\"_blank\">https://wandb.ai/fanfanwu9898/02710/runs/2irgqjz1</a><br/>Synced 6 W&B file(s), 0 media file(s), 0 artifact file(s) and 0 other file(s)"
      ],
      "text/plain": [
       "<IPython.core.display.HTML object>"
      ]
     },
     "metadata": {},
     "output_type": "display_data"
    },
    {
     "data": {
      "text/html": [
       "Find logs at: <code>./wandb/run-20220509_000042-2irgqjz1/logs</code>"
      ],
      "text/plain": [
       "<IPython.core.display.HTML object>"
      ]
     },
     "metadata": {},
     "output_type": "display_data"
    },
    {
     "data": {
      "text/html": [
       "Successfully finished last run (ID:2irgqjz1). Initializing new run:<br/>"
      ],
      "text/plain": [
       "<IPython.core.display.HTML object>"
      ]
     },
     "metadata": {},
     "output_type": "display_data"
    },
    {
     "data": {
      "text/html": [
       "wandb version 0.12.16 is available!  To upgrade, please run:\n",
       " $ pip install wandb --upgrade"
      ],
      "text/plain": [
       "<IPython.core.display.HTML object>"
      ]
     },
     "metadata": {},
     "output_type": "display_data"
    },
    {
     "data": {
      "text/html": [
       "Tracking run with wandb version 0.12.11"
      ],
      "text/plain": [
       "<IPython.core.display.HTML object>"
      ]
     },
     "metadata": {},
     "output_type": "display_data"
    },
    {
     "data": {
      "text/html": [
       "Run data is saved locally in <code>/home/yifan/Desktop/genomics/projects/model/wandb/run-20220509_002733-2s25ba22</code>"
      ],
      "text/plain": [
       "<IPython.core.display.HTML object>"
      ]
     },
     "metadata": {},
     "output_type": "display_data"
    },
    {
     "data": {
      "text/html": [
       "Syncing run <strong><a href=\"https://wandb.ai/fanfanwu9898/02710/runs/2s25ba22\" target=\"_blank\">WEAKRM29</a></strong> to <a href=\"https://wandb.ai/fanfanwu9898/02710\" target=\"_blank\">Weights & Biases</a> (<a href=\"https://wandb.me/run\" target=\"_blank\">docs</a>)<br/>"
      ],
      "text/plain": [
       "<IPython.core.display.HTML object>"
      ]
     },
     "metadata": {},
     "output_type": "display_data"
    },
    {
     "name": "stderr",
     "output_type": "stream",
     "text": [
      "/home/yifan/Desktop/genomics/projects/model/model.py:63: UserWarning: Implicit dimension choice for softmax has been deprecated. Change the call to include dim=X as an argument.\n",
      "  gated_attention = self.softmax(gated_attention)  # torch.Size([1, 13])\n",
      "/home/yifan/Desktop/genomics/projects/model/model.py:63: UserWarning: Implicit dimension choice for softmax has been deprecated. Change the call to include dim=X as an argument.\n",
      "  gated_attention = self.softmax(gated_attention)  # torch.Size([1, 13])\n",
      "/home/yifan/Desktop/genomics/projects/model/model.py:63: UserWarning: Implicit dimension choice for softmax has been deprecated. Change the call to include dim=X as an argument.\n",
      "  gated_attention = self.softmax(gated_attention)  # torch.Size([1, 13])\n",
      "/home/yifan/Desktop/genomics/projects/model/model.py:63: UserWarning: Implicit dimension choice for softmax has been deprecated. Change the call to include dim=X as an argument.\n",
      "  gated_attention = self.softmax(gated_attention)  # torch.Size([1, 13])\n",
      "/home/yifan/Desktop/genomics/projects/model/model.py:63: UserWarning: Implicit dimension choice for softmax has been deprecated. Change the call to include dim=X as an argument.\n",
      "  gated_attention = self.softmax(gated_attention)  # torch.Size([1, 13])\n",
      "/home/yifan/Desktop/genomics/projects/model/model.py:63: UserWarning: Implicit dimension choice for softmax has been deprecated. Change the call to include dim=X as an argument.\n",
      "  gated_attention = self.softmax(gated_attention)  # torch.Size([1, 13])\n",
      "/home/yifan/Desktop/genomics/projects/model/model.py:63: UserWarning: Implicit dimension choice for softmax has been deprecated. Change the call to include dim=X as an argument.\n",
      "  gated_attention = self.softmax(gated_attention)  # torch.Size([1, 13])\n",
      "/home/yifan/Desktop/genomics/projects/model/model.py:63: UserWarning: Implicit dimension choice for softmax has been deprecated. Change the call to include dim=X as an argument.\n",
      "  gated_attention = self.softmax(gated_attention)  # torch.Size([1, 13])\n",
      "/home/yifan/Desktop/genomics/projects/model/model.py:63: UserWarning: Implicit dimension choice for softmax has been deprecated. Change the call to include dim=X as an argument.\n",
      "  gated_attention = self.softmax(gated_attention)  # torch.Size([1, 13])\n",
      "/home/yifan/Desktop/genomics/projects/model/model.py:63: UserWarning: Implicit dimension choice for softmax has been deprecated. Change the call to include dim=X as an argument.\n",
      "  gated_attention = self.softmax(gated_attention)  # torch.Size([1, 13])\n",
      "/home/yifan/Desktop/genomics/projects/model/model.py:63: UserWarning: Implicit dimension choice for softmax has been deprecated. Change the call to include dim=X as an argument.\n",
      "  gated_attention = self.softmax(gated_attention)  # torch.Size([1, 13])\n",
      "/home/yifan/Desktop/genomics/projects/model/model.py:63: UserWarning: Implicit dimension choice for softmax has been deprecated. Change the call to include dim=X as an argument.\n",
      "  gated_attention = self.softmax(gated_attention)  # torch.Size([1, 13])\n",
      "/home/yifan/Desktop/genomics/projects/model/model.py:63: UserWarning: Implicit dimension choice for softmax has been deprecated. Change the call to include dim=X as an argument.\n",
      "  gated_attention = self.softmax(gated_attention)  # torch.Size([1, 13])\n",
      "/home/yifan/Desktop/genomics/projects/model/model.py:63: UserWarning: Implicit dimension choice for softmax has been deprecated. Change the call to include dim=X as an argument.\n",
      "  gated_attention = self.softmax(gated_attention)  # torch.Size([1, 13])\n",
      "/home/yifan/Desktop/genomics/projects/model/model.py:63: UserWarning: Implicit dimension choice for softmax has been deprecated. Change the call to include dim=X as an argument.\n",
      "  gated_attention = self.softmax(gated_attention)  # torch.Size([1, 13])\n",
      "/home/yifan/Desktop/genomics/projects/model/model.py:63: UserWarning: Implicit dimension choice for softmax has been deprecated. Change the call to include dim=X as an argument.\n",
      "  gated_attention = self.softmax(gated_attention)  # torch.Size([1, 13])\n",
      "/home/yifan/Desktop/genomics/projects/model/model.py:63: UserWarning: Implicit dimension choice for softmax has been deprecated. Change the call to include dim=X as an argument.\n",
      "  gated_attention = self.softmax(gated_attention)  # torch.Size([1, 13])\n",
      "/home/yifan/Desktop/genomics/projects/model/model.py:63: UserWarning: Implicit dimension choice for softmax has been deprecated. Change the call to include dim=X as an argument.\n",
      "  gated_attention = self.softmax(gated_attention)  # torch.Size([1, 13])\n",
      "/home/yifan/Desktop/genomics/projects/model/model.py:63: UserWarning: Implicit dimension choice for softmax has been deprecated. Change the call to include dim=X as an argument.\n",
      "  gated_attention = self.softmax(gated_attention)  # torch.Size([1, 13])\n",
      "/home/yifan/Desktop/genomics/projects/model/model.py:63: UserWarning: Implicit dimension choice for softmax has been deprecated. Change the call to include dim=X as an argument.\n",
      "  gated_attention = self.softmax(gated_attention)  # torch.Size([1, 13])\n"
     ]
    },
    {
     "name": "stdout",
     "output_type": "stream",
     "text": [
      "start running ../iDeepS/datasets/clip/2_PARCLIP_AGO2MNASE_hg19\n"
     ]
    },
    {
     "data": {
      "text/html": [
       "Finishing last run (ID:2s25ba22) before initializing another..."
      ],
      "text/plain": [
       "<IPython.core.display.HTML object>"
      ]
     },
     "metadata": {},
     "output_type": "display_data"
    },
    {
     "name": "stdout",
     "output_type": "stream",
     "text": [
      "\n"
     ]
    },
    {
     "data": {
      "text/html": [
       "Waiting for W&B process to finish... <strong style=\"color:green\">(success).</strong>"
      ],
      "text/plain": [
       "<IPython.core.display.HTML object>"
      ]
     },
     "metadata": {},
     "output_type": "display_data"
    },
    {
     "data": {
      "application/vnd.jupyter.widget-view+json": {
       "model_id": "",
       "version_major": 2,
       "version_minor": 0
      },
      "text/plain": [
       "VBox(children=(Label(value='0.001 MB of 0.001 MB uploaded (0.000 MB deduped)\\r'), FloatProgress(value=1.0, max…"
      ]
     },
     "metadata": {},
     "output_type": "display_data"
    },
    {
     "data": {
      "text/html": [
       "<style>\n",
       "    table.wandb td:nth-child(1) { padding: 0 10px; text-align: right }\n",
       "    .wandb-row { display: flex; flex-direction: row; flex-wrap: wrap; width: 100% }\n",
       "    .wandb-col { display: flex; flex-direction: column; flex-basis: 100%; flex: 1; padding: 10px; }\n",
       "    </style>\n",
       "<div class=\"wandb-row\"><div class=\"wandb-col\"><h3>Run history:</h3><br/><table class=\"wandb\"><tr><td>Test Acc </td><td>▂▅▆▇▇█▅▁▂▃▇▇▃▄▅▃▃▃▃▃</td></tr><tr><td>Test loss</td><td>█▁▁▇▂▁▁▁▁▁▄▇▁▁▁▁▁▁▅▃</td></tr><tr><td>Train Acc:</td><td>▁▂▃▄▄▅▅▅▅▆▆▆▇▇▇▇████</td></tr><tr><td>Train loss:</td><td>█▇▆▅▅▅▄▄▄▃▃▃▂▂▂▁▁▁▁▁</td></tr><tr><td>auROC</td><td>▁▅▆▇▇██▇▇█▇▇▆▇▆▆▅▆▅▅</td></tr><tr><td>lr</td><td>▁▁▁▁▁▁▁▁▁▁▁▁▁▁▁▁▁▁▁▁</td></tr></table><br/></div><div class=\"wandb-col\"><h3>Run summary:</h3><br/><table class=\"wandb\"><tr><td>Test Acc </td><td>84.54</td></tr><tr><td>Test loss</td><td>0.1466</td></tr><tr><td>Train Acc:</td><td>90.27333</td></tr><tr><td>Train loss:</td><td>0.11364</td></tr><tr><td>auROC</td><td>0.87865</td></tr><tr><td>lr</td><td>0.0005</td></tr></table><br/></div></div>"
      ],
      "text/plain": [
       "<IPython.core.display.HTML object>"
      ]
     },
     "metadata": {},
     "output_type": "display_data"
    },
    {
     "data": {
      "text/html": [
       "Synced <strong style=\"color:#cdcd00\">WEAKRM29</strong>: <a href=\"https://wandb.ai/fanfanwu9898/02710/runs/2s25ba22\" target=\"_blank\">https://wandb.ai/fanfanwu9898/02710/runs/2s25ba22</a><br/>Synced 6 W&B file(s), 0 media file(s), 0 artifact file(s) and 0 other file(s)"
      ],
      "text/plain": [
       "<IPython.core.display.HTML object>"
      ]
     },
     "metadata": {},
     "output_type": "display_data"
    },
    {
     "data": {
      "text/html": [
       "Find logs at: <code>./wandb/run-20220509_002733-2s25ba22/logs</code>"
      ],
      "text/plain": [
       "<IPython.core.display.HTML object>"
      ]
     },
     "metadata": {},
     "output_type": "display_data"
    },
    {
     "data": {
      "text/html": [
       "Successfully finished last run (ID:2s25ba22). Initializing new run:<br/>"
      ],
      "text/plain": [
       "<IPython.core.display.HTML object>"
      ]
     },
     "metadata": {},
     "output_type": "display_data"
    },
    {
     "data": {
      "text/html": [
       "wandb version 0.12.16 is available!  To upgrade, please run:\n",
       " $ pip install wandb --upgrade"
      ],
      "text/plain": [
       "<IPython.core.display.HTML object>"
      ]
     },
     "metadata": {},
     "output_type": "display_data"
    },
    {
     "data": {
      "text/html": [
       "Tracking run with wandb version 0.12.11"
      ],
      "text/plain": [
       "<IPython.core.display.HTML object>"
      ]
     },
     "metadata": {},
     "output_type": "display_data"
    },
    {
     "data": {
      "text/html": [
       "Run data is saved locally in <code>/home/yifan/Desktop/genomics/projects/model/wandb/run-20220509_005438-tatv1rs8</code>"
      ],
      "text/plain": [
       "<IPython.core.display.HTML object>"
      ]
     },
     "metadata": {},
     "output_type": "display_data"
    },
    {
     "data": {
      "text/html": [
       "Syncing run <strong><a href=\"https://wandb.ai/fanfanwu9898/02710/runs/tatv1rs8\" target=\"_blank\">WEAKRM2</a></strong> to <a href=\"https://wandb.ai/fanfanwu9898/02710\" target=\"_blank\">Weights & Biases</a> (<a href=\"https://wandb.me/run\" target=\"_blank\">docs</a>)<br/>"
      ],
      "text/plain": [
       "<IPython.core.display.HTML object>"
      ]
     },
     "metadata": {},
     "output_type": "display_data"
    },
    {
     "name": "stderr",
     "output_type": "stream",
     "text": [
      "/home/yifan/Desktop/genomics/projects/model/model.py:63: UserWarning: Implicit dimension choice for softmax has been deprecated. Change the call to include dim=X as an argument.\n",
      "  gated_attention = self.softmax(gated_attention)  # torch.Size([1, 13])\n",
      "/home/yifan/Desktop/genomics/projects/model/model.py:63: UserWarning: Implicit dimension choice for softmax has been deprecated. Change the call to include dim=X as an argument.\n",
      "  gated_attention = self.softmax(gated_attention)  # torch.Size([1, 13])\n",
      "/home/yifan/Desktop/genomics/projects/model/model.py:63: UserWarning: Implicit dimension choice for softmax has been deprecated. Change the call to include dim=X as an argument.\n",
      "  gated_attention = self.softmax(gated_attention)  # torch.Size([1, 13])\n",
      "/home/yifan/Desktop/genomics/projects/model/model.py:63: UserWarning: Implicit dimension choice for softmax has been deprecated. Change the call to include dim=X as an argument.\n",
      "  gated_attention = self.softmax(gated_attention)  # torch.Size([1, 13])\n",
      "/home/yifan/Desktop/genomics/projects/model/model.py:63: UserWarning: Implicit dimension choice for softmax has been deprecated. Change the call to include dim=X as an argument.\n",
      "  gated_attention = self.softmax(gated_attention)  # torch.Size([1, 13])\n",
      "/home/yifan/Desktop/genomics/projects/model/model.py:63: UserWarning: Implicit dimension choice for softmax has been deprecated. Change the call to include dim=X as an argument.\n",
      "  gated_attention = self.softmax(gated_attention)  # torch.Size([1, 13])\n",
      "/home/yifan/Desktop/genomics/projects/model/model.py:63: UserWarning: Implicit dimension choice for softmax has been deprecated. Change the call to include dim=X as an argument.\n",
      "  gated_attention = self.softmax(gated_attention)  # torch.Size([1, 13])\n",
      "/home/yifan/Desktop/genomics/projects/model/model.py:63: UserWarning: Implicit dimension choice for softmax has been deprecated. Change the call to include dim=X as an argument.\n",
      "  gated_attention = self.softmax(gated_attention)  # torch.Size([1, 13])\n",
      "/home/yifan/Desktop/genomics/projects/model/model.py:63: UserWarning: Implicit dimension choice for softmax has been deprecated. Change the call to include dim=X as an argument.\n",
      "  gated_attention = self.softmax(gated_attention)  # torch.Size([1, 13])\n",
      "/home/yifan/Desktop/genomics/projects/model/model.py:63: UserWarning: Implicit dimension choice for softmax has been deprecated. Change the call to include dim=X as an argument.\n",
      "  gated_attention = self.softmax(gated_attention)  # torch.Size([1, 13])\n",
      "/home/yifan/Desktop/genomics/projects/model/model.py:63: UserWarning: Implicit dimension choice for softmax has been deprecated. Change the call to include dim=X as an argument.\n",
      "  gated_attention = self.softmax(gated_attention)  # torch.Size([1, 13])\n",
      "/home/yifan/Desktop/genomics/projects/model/model.py:63: UserWarning: Implicit dimension choice for softmax has been deprecated. Change the call to include dim=X as an argument.\n",
      "  gated_attention = self.softmax(gated_attention)  # torch.Size([1, 13])\n",
      "/home/yifan/Desktop/genomics/projects/model/model.py:63: UserWarning: Implicit dimension choice for softmax has been deprecated. Change the call to include dim=X as an argument.\n",
      "  gated_attention = self.softmax(gated_attention)  # torch.Size([1, 13])\n",
      "/home/yifan/Desktop/genomics/projects/model/model.py:63: UserWarning: Implicit dimension choice for softmax has been deprecated. Change the call to include dim=X as an argument.\n",
      "  gated_attention = self.softmax(gated_attention)  # torch.Size([1, 13])\n",
      "/home/yifan/Desktop/genomics/projects/model/model.py:63: UserWarning: Implicit dimension choice for softmax has been deprecated. Change the call to include dim=X as an argument.\n",
      "  gated_attention = self.softmax(gated_attention)  # torch.Size([1, 13])\n",
      "/home/yifan/Desktop/genomics/projects/model/model.py:63: UserWarning: Implicit dimension choice for softmax has been deprecated. Change the call to include dim=X as an argument.\n",
      "  gated_attention = self.softmax(gated_attention)  # torch.Size([1, 13])\n",
      "/home/yifan/Desktop/genomics/projects/model/model.py:63: UserWarning: Implicit dimension choice for softmax has been deprecated. Change the call to include dim=X as an argument.\n",
      "  gated_attention = self.softmax(gated_attention)  # torch.Size([1, 13])\n",
      "/home/yifan/Desktop/genomics/projects/model/model.py:63: UserWarning: Implicit dimension choice for softmax has been deprecated. Change the call to include dim=X as an argument.\n",
      "  gated_attention = self.softmax(gated_attention)  # torch.Size([1, 13])\n",
      "/home/yifan/Desktop/genomics/projects/model/model.py:63: UserWarning: Implicit dimension choice for softmax has been deprecated. Change the call to include dim=X as an argument.\n",
      "  gated_attention = self.softmax(gated_attention)  # torch.Size([1, 13])\n",
      "/home/yifan/Desktop/genomics/projects/model/model.py:63: UserWarning: Implicit dimension choice for softmax has been deprecated. Change the call to include dim=X as an argument.\n",
      "  gated_attention = self.softmax(gated_attention)  # torch.Size([1, 13])\n"
     ]
    },
    {
     "name": "stdout",
     "output_type": "stream",
     "text": [
      "start running ../iDeepS/datasets/clip/30_ICLIP_U2AF65_Hela_iCLIP_ctrl_all_clusters\n"
     ]
    },
    {
     "data": {
      "text/html": [
       "Finishing last run (ID:tatv1rs8) before initializing another..."
      ],
      "text/plain": [
       "<IPython.core.display.HTML object>"
      ]
     },
     "metadata": {},
     "output_type": "display_data"
    },
    {
     "name": "stdout",
     "output_type": "stream",
     "text": [
      "\n"
     ]
    },
    {
     "data": {
      "text/html": [
       "Waiting for W&B process to finish... <strong style=\"color:green\">(success).</strong>"
      ],
      "text/plain": [
       "<IPython.core.display.HTML object>"
      ]
     },
     "metadata": {},
     "output_type": "display_data"
    },
    {
     "data": {
      "application/vnd.jupyter.widget-view+json": {
       "model_id": "",
       "version_major": 2,
       "version_minor": 0
      },
      "text/plain": [
       "VBox(children=(Label(value='0.001 MB of 0.001 MB uploaded (0.000 MB deduped)\\r'), FloatProgress(value=1.0, max…"
      ]
     },
     "metadata": {},
     "output_type": "display_data"
    },
    {
     "data": {
      "text/html": [
       "<style>\n",
       "    table.wandb td:nth-child(1) { padding: 0 10px; text-align: right }\n",
       "    .wandb-row { display: flex; flex-direction: row; flex-wrap: wrap; width: 100% }\n",
       "    .wandb-col { display: flex; flex-direction: column; flex-basis: 100%; flex: 1; padding: 10px; }\n",
       "    </style>\n",
       "<div class=\"wandb-row\"><div class=\"wandb-col\"><h3>Run history:</h3><br/><table class=\"wandb\"><tr><td>Test Acc </td><td>▇▇▇▇█▇▇█▇▂▆▅▅▅▄▄▃▃▁▁</td></tr><tr><td>Test loss</td><td>▁▂▁▇▂▂▁█▂▂▇▁▂▁▁▁▁▆▇▁</td></tr><tr><td>Train Acc:</td><td>▁▃▃▃▃▃▃▃▃▃▄▃▅▆▆▆█▆▇█</td></tr><tr><td>Train loss:</td><td>█▇▆▆▆▅▅▅▄▄▃▃▂▂▂▁▁▁▁▁</td></tr><tr><td>auROC</td><td>▁▅▃▅███▇▇█▇▇▆▇▇▆▆▆▆▆</td></tr><tr><td>lr</td><td>▁▁▁▁▁▁▁▁▁▁▁▁▁▁▁▁▁▁▁▁</td></tr></table><br/></div><div class=\"wandb-col\"><h3>Run summary:</h3><br/><table class=\"wandb\"><tr><td>Test Acc </td><td>79.79</td></tr><tr><td>Test loss</td><td>0.07183</td></tr><tr><td>Train Acc:</td><td>80.21667</td></tr><tr><td>Train loss:</td><td>0.23177</td></tr><tr><td>auROC</td><td>0.6009</td></tr><tr><td>lr</td><td>0.0005</td></tr></table><br/></div></div>"
      ],
      "text/plain": [
       "<IPython.core.display.HTML object>"
      ]
     },
     "metadata": {},
     "output_type": "display_data"
    },
    {
     "data": {
      "text/html": [
       "Synced <strong style=\"color:#cdcd00\">WEAKRM2</strong>: <a href=\"https://wandb.ai/fanfanwu9898/02710/runs/tatv1rs8\" target=\"_blank\">https://wandb.ai/fanfanwu9898/02710/runs/tatv1rs8</a><br/>Synced 6 W&B file(s), 0 media file(s), 0 artifact file(s) and 0 other file(s)"
      ],
      "text/plain": [
       "<IPython.core.display.HTML object>"
      ]
     },
     "metadata": {},
     "output_type": "display_data"
    },
    {
     "data": {
      "text/html": [
       "Find logs at: <code>./wandb/run-20220509_005438-tatv1rs8/logs</code>"
      ],
      "text/plain": [
       "<IPython.core.display.HTML object>"
      ]
     },
     "metadata": {},
     "output_type": "display_data"
    },
    {
     "data": {
      "text/html": [
       "Successfully finished last run (ID:tatv1rs8). Initializing new run:<br/>"
      ],
      "text/plain": [
       "<IPython.core.display.HTML object>"
      ]
     },
     "metadata": {},
     "output_type": "display_data"
    },
    {
     "data": {
      "text/html": [
       "wandb version 0.12.16 is available!  To upgrade, please run:\n",
       " $ pip install wandb --upgrade"
      ],
      "text/plain": [
       "<IPython.core.display.HTML object>"
      ]
     },
     "metadata": {},
     "output_type": "display_data"
    },
    {
     "data": {
      "text/html": [
       "Tracking run with wandb version 0.12.11"
      ],
      "text/plain": [
       "<IPython.core.display.HTML object>"
      ]
     },
     "metadata": {},
     "output_type": "display_data"
    },
    {
     "data": {
      "text/html": [
       "Run data is saved locally in <code>/home/yifan/Desktop/genomics/projects/model/wandb/run-20220509_012233-2co3gvh7</code>"
      ],
      "text/plain": [
       "<IPython.core.display.HTML object>"
      ]
     },
     "metadata": {},
     "output_type": "display_data"
    },
    {
     "data": {
      "text/html": [
       "Syncing run <strong><a href=\"https://wandb.ai/fanfanwu9898/02710/runs/2co3gvh7\" target=\"_blank\">WEAKRM30</a></strong> to <a href=\"https://wandb.ai/fanfanwu9898/02710\" target=\"_blank\">Weights & Biases</a> (<a href=\"https://wandb.me/run\" target=\"_blank\">docs</a>)<br/>"
      ],
      "text/plain": [
       "<IPython.core.display.HTML object>"
      ]
     },
     "metadata": {},
     "output_type": "display_data"
    },
    {
     "name": "stderr",
     "output_type": "stream",
     "text": [
      "/home/yifan/Desktop/genomics/projects/model/model.py:63: UserWarning: Implicit dimension choice for softmax has been deprecated. Change the call to include dim=X as an argument.\n",
      "  gated_attention = self.softmax(gated_attention)  # torch.Size([1, 13])\n",
      "/home/yifan/Desktop/genomics/projects/model/model.py:63: UserWarning: Implicit dimension choice for softmax has been deprecated. Change the call to include dim=X as an argument.\n",
      "  gated_attention = self.softmax(gated_attention)  # torch.Size([1, 13])\n",
      "/home/yifan/Desktop/genomics/projects/model/model.py:63: UserWarning: Implicit dimension choice for softmax has been deprecated. Change the call to include dim=X as an argument.\n",
      "  gated_attention = self.softmax(gated_attention)  # torch.Size([1, 13])\n",
      "/home/yifan/Desktop/genomics/projects/model/model.py:63: UserWarning: Implicit dimension choice for softmax has been deprecated. Change the call to include dim=X as an argument.\n",
      "  gated_attention = self.softmax(gated_attention)  # torch.Size([1, 13])\n",
      "/home/yifan/Desktop/genomics/projects/model/model.py:63: UserWarning: Implicit dimension choice for softmax has been deprecated. Change the call to include dim=X as an argument.\n",
      "  gated_attention = self.softmax(gated_attention)  # torch.Size([1, 13])\n",
      "/home/yifan/Desktop/genomics/projects/model/model.py:63: UserWarning: Implicit dimension choice for softmax has been deprecated. Change the call to include dim=X as an argument.\n",
      "  gated_attention = self.softmax(gated_attention)  # torch.Size([1, 13])\n",
      "/home/yifan/Desktop/genomics/projects/model/model.py:63: UserWarning: Implicit dimension choice for softmax has been deprecated. Change the call to include dim=X as an argument.\n",
      "  gated_attention = self.softmax(gated_attention)  # torch.Size([1, 13])\n",
      "/home/yifan/Desktop/genomics/projects/model/model.py:63: UserWarning: Implicit dimension choice for softmax has been deprecated. Change the call to include dim=X as an argument.\n",
      "  gated_attention = self.softmax(gated_attention)  # torch.Size([1, 13])\n",
      "/home/yifan/Desktop/genomics/projects/model/model.py:63: UserWarning: Implicit dimension choice for softmax has been deprecated. Change the call to include dim=X as an argument.\n",
      "  gated_attention = self.softmax(gated_attention)  # torch.Size([1, 13])\n",
      "/home/yifan/Desktop/genomics/projects/model/model.py:63: UserWarning: Implicit dimension choice for softmax has been deprecated. Change the call to include dim=X as an argument.\n",
      "  gated_attention = self.softmax(gated_attention)  # torch.Size([1, 13])\n",
      "/home/yifan/Desktop/genomics/projects/model/model.py:63: UserWarning: Implicit dimension choice for softmax has been deprecated. Change the call to include dim=X as an argument.\n",
      "  gated_attention = self.softmax(gated_attention)  # torch.Size([1, 13])\n",
      "/home/yifan/Desktop/genomics/projects/model/model.py:63: UserWarning: Implicit dimension choice for softmax has been deprecated. Change the call to include dim=X as an argument.\n",
      "  gated_attention = self.softmax(gated_attention)  # torch.Size([1, 13])\n",
      "/home/yifan/Desktop/genomics/projects/model/model.py:63: UserWarning: Implicit dimension choice for softmax has been deprecated. Change the call to include dim=X as an argument.\n",
      "  gated_attention = self.softmax(gated_attention)  # torch.Size([1, 13])\n",
      "/home/yifan/Desktop/genomics/projects/model/model.py:63: UserWarning: Implicit dimension choice for softmax has been deprecated. Change the call to include dim=X as an argument.\n",
      "  gated_attention = self.softmax(gated_attention)  # torch.Size([1, 13])\n",
      "/home/yifan/Desktop/genomics/projects/model/model.py:63: UserWarning: Implicit dimension choice for softmax has been deprecated. Change the call to include dim=X as an argument.\n",
      "  gated_attention = self.softmax(gated_attention)  # torch.Size([1, 13])\n",
      "/home/yifan/Desktop/genomics/projects/model/model.py:63: UserWarning: Implicit dimension choice for softmax has been deprecated. Change the call to include dim=X as an argument.\n",
      "  gated_attention = self.softmax(gated_attention)  # torch.Size([1, 13])\n",
      "/home/yifan/Desktop/genomics/projects/model/model.py:63: UserWarning: Implicit dimension choice for softmax has been deprecated. Change the call to include dim=X as an argument.\n",
      "  gated_attention = self.softmax(gated_attention)  # torch.Size([1, 13])\n",
      "/home/yifan/Desktop/genomics/projects/model/model.py:63: UserWarning: Implicit dimension choice for softmax has been deprecated. Change the call to include dim=X as an argument.\n",
      "  gated_attention = self.softmax(gated_attention)  # torch.Size([1, 13])\n",
      "/home/yifan/Desktop/genomics/projects/model/model.py:63: UserWarning: Implicit dimension choice for softmax has been deprecated. Change the call to include dim=X as an argument.\n",
      "  gated_attention = self.softmax(gated_attention)  # torch.Size([1, 13])\n",
      "/home/yifan/Desktop/genomics/projects/model/model.py:63: UserWarning: Implicit dimension choice for softmax has been deprecated. Change the call to include dim=X as an argument.\n",
      "  gated_attention = self.softmax(gated_attention)  # torch.Size([1, 13])\n"
     ]
    },
    {
     "name": "stdout",
     "output_type": "stream",
     "text": [
      "start running ../iDeepS/datasets/clip/31_ICLIP_U2AF65_Hela_iCLIP_ctrl+kd_all_clusters\n"
     ]
    },
    {
     "data": {
      "text/html": [
       "Finishing last run (ID:2co3gvh7) before initializing another..."
      ],
      "text/plain": [
       "<IPython.core.display.HTML object>"
      ]
     },
     "metadata": {},
     "output_type": "display_data"
    },
    {
     "name": "stdout",
     "output_type": "stream",
     "text": [
      "\n"
     ]
    },
    {
     "data": {
      "text/html": [
       "Waiting for W&B process to finish... <strong style=\"color:green\">(success).</strong>"
      ],
      "text/plain": [
       "<IPython.core.display.HTML object>"
      ]
     },
     "metadata": {},
     "output_type": "display_data"
    },
    {
     "data": {
      "application/vnd.jupyter.widget-view+json": {
       "model_id": "",
       "version_major": 2,
       "version_minor": 0
      },
      "text/plain": [
       "VBox(children=(Label(value='0.001 MB of 0.001 MB uploaded (0.000 MB deduped)\\r'), FloatProgress(value=1.0, max…"
      ]
     },
     "metadata": {},
     "output_type": "display_data"
    },
    {
     "data": {
      "text/html": [
       "<style>\n",
       "    table.wandb td:nth-child(1) { padding: 0 10px; text-align: right }\n",
       "    .wandb-row { display: flex; flex-direction: row; flex-wrap: wrap; width: 100% }\n",
       "    .wandb-col { display: flex; flex-direction: column; flex-basis: 100%; flex: 1; padding: 10px; }\n",
       "    </style>\n",
       "<div class=\"wandb-row\"><div class=\"wandb-col\"><h3>Run history:</h3><br/><table class=\"wandb\"><tr><td>Test Acc </td><td>▁▅▆▅▇▇▇▆▇█▇▇▇▆▆▇▇▆▇▇</td></tr><tr><td>Test loss</td><td>▁▂▂▁▁█▁▁▁▂▁▁▁▂▁▁▁▁▁▁</td></tr><tr><td>Train Acc:</td><td>▁▃▄▄▅▅▆▆▆▆▇▇▇▇▇█████</td></tr><tr><td>Train loss:</td><td>█▆▅▅▄▄▄▃▃▃▃▂▂▂▂▁▁▁▁▁</td></tr><tr><td>auROC</td><td>▁▅▇▆▇▇███▇▇▇▇▇▆▇▇▇▇▇</td></tr><tr><td>lr</td><td>▁▁▁▁▁▁▁▁▁▁▁▁▁▁▁▁▁▁▁▁</td></tr></table><br/></div><div class=\"wandb-col\"><h3>Run summary:</h3><br/><table class=\"wandb\"><tr><td>Test Acc </td><td>88.57</td></tr><tr><td>Test loss</td><td>0.00159</td></tr><tr><td>Train Acc:</td><td>93.21667</td></tr><tr><td>Train loss:</td><td>0.08338</td></tr><tr><td>auROC</td><td>0.93017</td></tr><tr><td>lr</td><td>0.0005</td></tr></table><br/></div></div>"
      ],
      "text/plain": [
       "<IPython.core.display.HTML object>"
      ]
     },
     "metadata": {},
     "output_type": "display_data"
    },
    {
     "data": {
      "text/html": [
       "Synced <strong style=\"color:#cdcd00\">WEAKRM30</strong>: <a href=\"https://wandb.ai/fanfanwu9898/02710/runs/2co3gvh7\" target=\"_blank\">https://wandb.ai/fanfanwu9898/02710/runs/2co3gvh7</a><br/>Synced 6 W&B file(s), 0 media file(s), 0 artifact file(s) and 0 other file(s)"
      ],
      "text/plain": [
       "<IPython.core.display.HTML object>"
      ]
     },
     "metadata": {},
     "output_type": "display_data"
    },
    {
     "data": {
      "text/html": [
       "Find logs at: <code>./wandb/run-20220509_012233-2co3gvh7/logs</code>"
      ],
      "text/plain": [
       "<IPython.core.display.HTML object>"
      ]
     },
     "metadata": {},
     "output_type": "display_data"
    },
    {
     "data": {
      "text/html": [
       "Successfully finished last run (ID:2co3gvh7). Initializing new run:<br/>"
      ],
      "text/plain": [
       "<IPython.core.display.HTML object>"
      ]
     },
     "metadata": {},
     "output_type": "display_data"
    },
    {
     "data": {
      "text/html": [
       "wandb version 0.12.16 is available!  To upgrade, please run:\n",
       " $ pip install wandb --upgrade"
      ],
      "text/plain": [
       "<IPython.core.display.HTML object>"
      ]
     },
     "metadata": {},
     "output_type": "display_data"
    },
    {
     "data": {
      "text/html": [
       "Tracking run with wandb version 0.12.11"
      ],
      "text/plain": [
       "<IPython.core.display.HTML object>"
      ]
     },
     "metadata": {},
     "output_type": "display_data"
    },
    {
     "data": {
      "text/html": [
       "Run data is saved locally in <code>/home/yifan/Desktop/genomics/projects/model/wandb/run-20220509_015503-2hgi23g5</code>"
      ],
      "text/plain": [
       "<IPython.core.display.HTML object>"
      ]
     },
     "metadata": {},
     "output_type": "display_data"
    },
    {
     "data": {
      "text/html": [
       "Syncing run <strong><a href=\"https://wandb.ai/fanfanwu9898/02710/runs/2hgi23g5\" target=\"_blank\">WEAKRM31</a></strong> to <a href=\"https://wandb.ai/fanfanwu9898/02710\" target=\"_blank\">Weights & Biases</a> (<a href=\"https://wandb.me/run\" target=\"_blank\">docs</a>)<br/>"
      ],
      "text/plain": [
       "<IPython.core.display.HTML object>"
      ]
     },
     "metadata": {},
     "output_type": "display_data"
    },
    {
     "name": "stderr",
     "output_type": "stream",
     "text": [
      "/home/yifan/Desktop/genomics/projects/model/model.py:63: UserWarning: Implicit dimension choice for softmax has been deprecated. Change the call to include dim=X as an argument.\n",
      "  gated_attention = self.softmax(gated_attention)  # torch.Size([1, 13])\n",
      "/home/yifan/Desktop/genomics/projects/model/model.py:63: UserWarning: Implicit dimension choice for softmax has been deprecated. Change the call to include dim=X as an argument.\n",
      "  gated_attention = self.softmax(gated_attention)  # torch.Size([1, 13])\n",
      "/home/yifan/Desktop/genomics/projects/model/model.py:63: UserWarning: Implicit dimension choice for softmax has been deprecated. Change the call to include dim=X as an argument.\n",
      "  gated_attention = self.softmax(gated_attention)  # torch.Size([1, 13])\n",
      "/home/yifan/Desktop/genomics/projects/model/model.py:63: UserWarning: Implicit dimension choice for softmax has been deprecated. Change the call to include dim=X as an argument.\n",
      "  gated_attention = self.softmax(gated_attention)  # torch.Size([1, 13])\n",
      "/home/yifan/Desktop/genomics/projects/model/model.py:63: UserWarning: Implicit dimension choice for softmax has been deprecated. Change the call to include dim=X as an argument.\n",
      "  gated_attention = self.softmax(gated_attention)  # torch.Size([1, 13])\n",
      "/home/yifan/Desktop/genomics/projects/model/model.py:63: UserWarning: Implicit dimension choice for softmax has been deprecated. Change the call to include dim=X as an argument.\n",
      "  gated_attention = self.softmax(gated_attention)  # torch.Size([1, 13])\n",
      "/home/yifan/Desktop/genomics/projects/model/model.py:63: UserWarning: Implicit dimension choice for softmax has been deprecated. Change the call to include dim=X as an argument.\n",
      "  gated_attention = self.softmax(gated_attention)  # torch.Size([1, 13])\n",
      "/home/yifan/Desktop/genomics/projects/model/model.py:63: UserWarning: Implicit dimension choice for softmax has been deprecated. Change the call to include dim=X as an argument.\n",
      "  gated_attention = self.softmax(gated_attention)  # torch.Size([1, 13])\n",
      "/home/yifan/Desktop/genomics/projects/model/model.py:63: UserWarning: Implicit dimension choice for softmax has been deprecated. Change the call to include dim=X as an argument.\n",
      "  gated_attention = self.softmax(gated_attention)  # torch.Size([1, 13])\n",
      "/home/yifan/Desktop/genomics/projects/model/model.py:63: UserWarning: Implicit dimension choice for softmax has been deprecated. Change the call to include dim=X as an argument.\n",
      "  gated_attention = self.softmax(gated_attention)  # torch.Size([1, 13])\n",
      "/home/yifan/Desktop/genomics/projects/model/model.py:63: UserWarning: Implicit dimension choice for softmax has been deprecated. Change the call to include dim=X as an argument.\n",
      "  gated_attention = self.softmax(gated_attention)  # torch.Size([1, 13])\n",
      "/home/yifan/Desktop/genomics/projects/model/model.py:63: UserWarning: Implicit dimension choice for softmax has been deprecated. Change the call to include dim=X as an argument.\n",
      "  gated_attention = self.softmax(gated_attention)  # torch.Size([1, 13])\n",
      "/home/yifan/Desktop/genomics/projects/model/model.py:63: UserWarning: Implicit dimension choice for softmax has been deprecated. Change the call to include dim=X as an argument.\n",
      "  gated_attention = self.softmax(gated_attention)  # torch.Size([1, 13])\n",
      "/home/yifan/Desktop/genomics/projects/model/model.py:63: UserWarning: Implicit dimension choice for softmax has been deprecated. Change the call to include dim=X as an argument.\n",
      "  gated_attention = self.softmax(gated_attention)  # torch.Size([1, 13])\n",
      "/home/yifan/Desktop/genomics/projects/model/model.py:63: UserWarning: Implicit dimension choice for softmax has been deprecated. Change the call to include dim=X as an argument.\n",
      "  gated_attention = self.softmax(gated_attention)  # torch.Size([1, 13])\n",
      "/home/yifan/Desktop/genomics/projects/model/model.py:63: UserWarning: Implicit dimension choice for softmax has been deprecated. Change the call to include dim=X as an argument.\n",
      "  gated_attention = self.softmax(gated_attention)  # torch.Size([1, 13])\n",
      "/home/yifan/Desktop/genomics/projects/model/model.py:63: UserWarning: Implicit dimension choice for softmax has been deprecated. Change the call to include dim=X as an argument.\n",
      "  gated_attention = self.softmax(gated_attention)  # torch.Size([1, 13])\n",
      "/home/yifan/Desktop/genomics/projects/model/model.py:63: UserWarning: Implicit dimension choice for softmax has been deprecated. Change the call to include dim=X as an argument.\n",
      "  gated_attention = self.softmax(gated_attention)  # torch.Size([1, 13])\n",
      "/home/yifan/Desktop/genomics/projects/model/model.py:63: UserWarning: Implicit dimension choice for softmax has been deprecated. Change the call to include dim=X as an argument.\n",
      "  gated_attention = self.softmax(gated_attention)  # torch.Size([1, 13])\n",
      "/home/yifan/Desktop/genomics/projects/model/model.py:63: UserWarning: Implicit dimension choice for softmax has been deprecated. Change the call to include dim=X as an argument.\n",
      "  gated_attention = self.softmax(gated_attention)  # torch.Size([1, 13])\n"
     ]
    },
    {
     "name": "stdout",
     "output_type": "stream",
     "text": [
      "start running ../iDeepS/datasets/clip/3_HITSCLIP_Ago2_binding_clusters\n"
     ]
    },
    {
     "data": {
      "text/html": [
       "Finishing last run (ID:2hgi23g5) before initializing another..."
      ],
      "text/plain": [
       "<IPython.core.display.HTML object>"
      ]
     },
     "metadata": {},
     "output_type": "display_data"
    },
    {
     "name": "stdout",
     "output_type": "stream",
     "text": [
      "\n"
     ]
    },
    {
     "data": {
      "text/html": [
       "Waiting for W&B process to finish... <strong style=\"color:green\">(success).</strong>"
      ],
      "text/plain": [
       "<IPython.core.display.HTML object>"
      ]
     },
     "metadata": {},
     "output_type": "display_data"
    },
    {
     "data": {
      "application/vnd.jupyter.widget-view+json": {
       "model_id": "",
       "version_major": 2,
       "version_minor": 0
      },
      "text/plain": [
       "VBox(children=(Label(value='0.001 MB of 0.001 MB uploaded (0.000 MB deduped)\\r'), FloatProgress(value=1.0, max…"
      ]
     },
     "metadata": {},
     "output_type": "display_data"
    },
    {
     "data": {
      "text/html": [
       "<style>\n",
       "    table.wandb td:nth-child(1) { padding: 0 10px; text-align: right }\n",
       "    .wandb-row { display: flex; flex-direction: row; flex-wrap: wrap; width: 100% }\n",
       "    .wandb-col { display: flex; flex-direction: column; flex-basis: 100%; flex: 1; padding: 10px; }\n",
       "    </style>\n",
       "<div class=\"wandb-row\"><div class=\"wandb-col\"><h3>Run history:</h3><br/><table class=\"wandb\"><tr><td>Test Acc </td><td>▁▁▇▄▇▇▇▇▇██▇▇▇▇▇▇▇▇▇</td></tr><tr><td>Test loss</td><td>▁▁▃▁▃▁▁▂▁▂▁▁█▁▁▁▁▁▁▃</td></tr><tr><td>Train Acc:</td><td>▁▃▄▄▅▅▅▆▆▆▆▇▇▇▇█████</td></tr><tr><td>Train loss:</td><td>█▆▅▅▅▄▄▄▃▃▃▂▂▂▂▁▁▁▁▁</td></tr><tr><td>auROC</td><td>▁▅▇▇██▇▇▇██▇▇▇▇▇▇▆▆▆</td></tr><tr><td>lr</td><td>▁▁▁▁▁▁▁▁▁▁▁▁▁▁▁▁▁▁▁▁</td></tr></table><br/></div><div class=\"wandb-col\"><h3>Run summary:</h3><br/><table class=\"wandb\"><tr><td>Test Acc </td><td>87.97</td></tr><tr><td>Test loss</td><td>0.28922</td></tr><tr><td>Train Acc:</td><td>92.49333</td></tr><tr><td>Train loss:</td><td>0.09123</td></tr><tr><td>auROC</td><td>0.92357</td></tr><tr><td>lr</td><td>0.0005</td></tr></table><br/></div></div>"
      ],
      "text/plain": [
       "<IPython.core.display.HTML object>"
      ]
     },
     "metadata": {},
     "output_type": "display_data"
    },
    {
     "data": {
      "text/html": [
       "Synced <strong style=\"color:#cdcd00\">WEAKRM31</strong>: <a href=\"https://wandb.ai/fanfanwu9898/02710/runs/2hgi23g5\" target=\"_blank\">https://wandb.ai/fanfanwu9898/02710/runs/2hgi23g5</a><br/>Synced 6 W&B file(s), 0 media file(s), 0 artifact file(s) and 0 other file(s)"
      ],
      "text/plain": [
       "<IPython.core.display.HTML object>"
      ]
     },
     "metadata": {},
     "output_type": "display_data"
    },
    {
     "data": {
      "text/html": [
       "Find logs at: <code>./wandb/run-20220509_015503-2hgi23g5/logs</code>"
      ],
      "text/plain": [
       "<IPython.core.display.HTML object>"
      ]
     },
     "metadata": {},
     "output_type": "display_data"
    },
    {
     "data": {
      "text/html": [
       "Successfully finished last run (ID:2hgi23g5). Initializing new run:<br/>"
      ],
      "text/plain": [
       "<IPython.core.display.HTML object>"
      ]
     },
     "metadata": {},
     "output_type": "display_data"
    },
    {
     "data": {
      "text/html": [
       "wandb version 0.12.16 is available!  To upgrade, please run:\n",
       " $ pip install wandb --upgrade"
      ],
      "text/plain": [
       "<IPython.core.display.HTML object>"
      ]
     },
     "metadata": {},
     "output_type": "display_data"
    },
    {
     "data": {
      "text/html": [
       "Tracking run with wandb version 0.12.11"
      ],
      "text/plain": [
       "<IPython.core.display.HTML object>"
      ]
     },
     "metadata": {},
     "output_type": "display_data"
    },
    {
     "data": {
      "text/html": [
       "Run data is saved locally in <code>/home/yifan/Desktop/genomics/projects/model/wandb/run-20220509_022654-2m6c404k</code>"
      ],
      "text/plain": [
       "<IPython.core.display.HTML object>"
      ]
     },
     "metadata": {},
     "output_type": "display_data"
    },
    {
     "data": {
      "text/html": [
       "Syncing run <strong><a href=\"https://wandb.ai/fanfanwu9898/02710/runs/2m6c404k\" target=\"_blank\">WEAKRM3</a></strong> to <a href=\"https://wandb.ai/fanfanwu9898/02710\" target=\"_blank\">Weights & Biases</a> (<a href=\"https://wandb.me/run\" target=\"_blank\">docs</a>)<br/>"
      ],
      "text/plain": [
       "<IPython.core.display.HTML object>"
      ]
     },
     "metadata": {},
     "output_type": "display_data"
    },
    {
     "name": "stderr",
     "output_type": "stream",
     "text": [
      "/home/yifan/Desktop/genomics/projects/model/model.py:63: UserWarning: Implicit dimension choice for softmax has been deprecated. Change the call to include dim=X as an argument.\n",
      "  gated_attention = self.softmax(gated_attention)  # torch.Size([1, 13])\n",
      "/home/yifan/Desktop/genomics/projects/model/model.py:63: UserWarning: Implicit dimension choice for softmax has been deprecated. Change the call to include dim=X as an argument.\n",
      "  gated_attention = self.softmax(gated_attention)  # torch.Size([1, 13])\n",
      "/home/yifan/Desktop/genomics/projects/model/model.py:63: UserWarning: Implicit dimension choice for softmax has been deprecated. Change the call to include dim=X as an argument.\n",
      "  gated_attention = self.softmax(gated_attention)  # torch.Size([1, 13])\n",
      "/home/yifan/Desktop/genomics/projects/model/model.py:63: UserWarning: Implicit dimension choice for softmax has been deprecated. Change the call to include dim=X as an argument.\n",
      "  gated_attention = self.softmax(gated_attention)  # torch.Size([1, 13])\n",
      "/home/yifan/Desktop/genomics/projects/model/model.py:63: UserWarning: Implicit dimension choice for softmax has been deprecated. Change the call to include dim=X as an argument.\n",
      "  gated_attention = self.softmax(gated_attention)  # torch.Size([1, 13])\n",
      "/home/yifan/Desktop/genomics/projects/model/model.py:63: UserWarning: Implicit dimension choice for softmax has been deprecated. Change the call to include dim=X as an argument.\n",
      "  gated_attention = self.softmax(gated_attention)  # torch.Size([1, 13])\n",
      "/home/yifan/Desktop/genomics/projects/model/model.py:63: UserWarning: Implicit dimension choice for softmax has been deprecated. Change the call to include dim=X as an argument.\n",
      "  gated_attention = self.softmax(gated_attention)  # torch.Size([1, 13])\n",
      "/home/yifan/Desktop/genomics/projects/model/model.py:63: UserWarning: Implicit dimension choice for softmax has been deprecated. Change the call to include dim=X as an argument.\n",
      "  gated_attention = self.softmax(gated_attention)  # torch.Size([1, 13])\n",
      "/home/yifan/Desktop/genomics/projects/model/model.py:63: UserWarning: Implicit dimension choice for softmax has been deprecated. Change the call to include dim=X as an argument.\n",
      "  gated_attention = self.softmax(gated_attention)  # torch.Size([1, 13])\n",
      "/home/yifan/Desktop/genomics/projects/model/model.py:63: UserWarning: Implicit dimension choice for softmax has been deprecated. Change the call to include dim=X as an argument.\n",
      "  gated_attention = self.softmax(gated_attention)  # torch.Size([1, 13])\n",
      "/home/yifan/Desktop/genomics/projects/model/model.py:63: UserWarning: Implicit dimension choice for softmax has been deprecated. Change the call to include dim=X as an argument.\n",
      "  gated_attention = self.softmax(gated_attention)  # torch.Size([1, 13])\n",
      "/home/yifan/Desktop/genomics/projects/model/model.py:63: UserWarning: Implicit dimension choice for softmax has been deprecated. Change the call to include dim=X as an argument.\n",
      "  gated_attention = self.softmax(gated_attention)  # torch.Size([1, 13])\n",
      "/home/yifan/Desktop/genomics/projects/model/model.py:63: UserWarning: Implicit dimension choice for softmax has been deprecated. Change the call to include dim=X as an argument.\n",
      "  gated_attention = self.softmax(gated_attention)  # torch.Size([1, 13])\n",
      "/home/yifan/Desktop/genomics/projects/model/model.py:63: UserWarning: Implicit dimension choice for softmax has been deprecated. Change the call to include dim=X as an argument.\n",
      "  gated_attention = self.softmax(gated_attention)  # torch.Size([1, 13])\n",
      "/home/yifan/Desktop/genomics/projects/model/model.py:63: UserWarning: Implicit dimension choice for softmax has been deprecated. Change the call to include dim=X as an argument.\n",
      "  gated_attention = self.softmax(gated_attention)  # torch.Size([1, 13])\n",
      "/home/yifan/Desktop/genomics/projects/model/model.py:63: UserWarning: Implicit dimension choice for softmax has been deprecated. Change the call to include dim=X as an argument.\n",
      "  gated_attention = self.softmax(gated_attention)  # torch.Size([1, 13])\n",
      "/home/yifan/Desktop/genomics/projects/model/model.py:63: UserWarning: Implicit dimension choice for softmax has been deprecated. Change the call to include dim=X as an argument.\n",
      "  gated_attention = self.softmax(gated_attention)  # torch.Size([1, 13])\n",
      "/home/yifan/Desktop/genomics/projects/model/model.py:63: UserWarning: Implicit dimension choice for softmax has been deprecated. Change the call to include dim=X as an argument.\n",
      "  gated_attention = self.softmax(gated_attention)  # torch.Size([1, 13])\n",
      "/home/yifan/Desktop/genomics/projects/model/model.py:63: UserWarning: Implicit dimension choice for softmax has been deprecated. Change the call to include dim=X as an argument.\n",
      "  gated_attention = self.softmax(gated_attention)  # torch.Size([1, 13])\n",
      "/home/yifan/Desktop/genomics/projects/model/model.py:63: UserWarning: Implicit dimension choice for softmax has been deprecated. Change the call to include dim=X as an argument.\n",
      "  gated_attention = self.softmax(gated_attention)  # torch.Size([1, 13])\n"
     ]
    },
    {
     "name": "stdout",
     "output_type": "stream",
     "text": [
      "start running ../iDeepS/datasets/clip/4_HITSCLIP_Ago2_binding_clusters_2\n"
     ]
    },
    {
     "data": {
      "text/html": [
       "Finishing last run (ID:2m6c404k) before initializing another..."
      ],
      "text/plain": [
       "<IPython.core.display.HTML object>"
      ]
     },
     "metadata": {},
     "output_type": "display_data"
    },
    {
     "name": "stdout",
     "output_type": "stream",
     "text": [
      "\n"
     ]
    },
    {
     "data": {
      "text/html": [
       "Waiting for W&B process to finish... <strong style=\"color:green\">(success).</strong>"
      ],
      "text/plain": [
       "<IPython.core.display.HTML object>"
      ]
     },
     "metadata": {},
     "output_type": "display_data"
    },
    {
     "data": {
      "application/vnd.jupyter.widget-view+json": {
       "model_id": "",
       "version_major": 2,
       "version_minor": 0
      },
      "text/plain": [
       "VBox(children=(Label(value='0.001 MB of 0.001 MB uploaded (0.000 MB deduped)\\r'), FloatProgress(value=1.0, max…"
      ]
     },
     "metadata": {},
     "output_type": "display_data"
    },
    {
     "data": {
      "text/html": [
       "<style>\n",
       "    table.wandb td:nth-child(1) { padding: 0 10px; text-align: right }\n",
       "    .wandb-row { display: flex; flex-direction: row; flex-wrap: wrap; width: 100% }\n",
       "    .wandb-col { display: flex; flex-direction: column; flex-basis: 100%; flex: 1; padding: 10px; }\n",
       "    </style>\n",
       "<div class=\"wandb-row\"><div class=\"wandb-col\"><h3>Run history:</h3><br/><table class=\"wandb\"><tr><td>Test Acc </td><td>▆▆▅▇▇▇▅█▁▅▆▇▇▂▄▆▆▆▅▆</td></tr><tr><td>Test loss</td><td>▁█▅▁▁▁▁▁▃▁▁▇▄▄▁▁▃▂▂▁</td></tr><tr><td>Train Acc:</td><td>▁▃▃▄▄▅▅▅▆▆▆▆▇▇▇▇████</td></tr><tr><td>Train loss:</td><td>█▆▅▅▄▄▄▃▃▃▃▂▂▂▂▁▁▁▁▁</td></tr><tr><td>auROC</td><td>▁▆▆▆█▇▆▆▆▅▆▅▆▅▅▅▅▅▅▅</td></tr><tr><td>lr</td><td>▁▁▁▁▁▁▁▁▁▁▁▁▁▁▁▁▁▁▁▁</td></tr></table><br/></div><div class=\"wandb-col\"><h3>Run summary:</h3><br/><table class=\"wandb\"><tr><td>Test Acc </td><td>84.73</td></tr><tr><td>Test loss</td><td>0.01118</td></tr><tr><td>Train Acc:</td><td>89.86333</td></tr><tr><td>Train loss:</td><td>0.12025</td></tr><tr><td>auROC</td><td>0.85549</td></tr><tr><td>lr</td><td>0.0005</td></tr></table><br/></div></div>"
      ],
      "text/plain": [
       "<IPython.core.display.HTML object>"
      ]
     },
     "metadata": {},
     "output_type": "display_data"
    },
    {
     "data": {
      "text/html": [
       "Synced <strong style=\"color:#cdcd00\">WEAKRM3</strong>: <a href=\"https://wandb.ai/fanfanwu9898/02710/runs/2m6c404k\" target=\"_blank\">https://wandb.ai/fanfanwu9898/02710/runs/2m6c404k</a><br/>Synced 6 W&B file(s), 0 media file(s), 0 artifact file(s) and 0 other file(s)"
      ],
      "text/plain": [
       "<IPython.core.display.HTML object>"
      ]
     },
     "metadata": {},
     "output_type": "display_data"
    },
    {
     "data": {
      "text/html": [
       "Find logs at: <code>./wandb/run-20220509_022654-2m6c404k/logs</code>"
      ],
      "text/plain": [
       "<IPython.core.display.HTML object>"
      ]
     },
     "metadata": {},
     "output_type": "display_data"
    },
    {
     "data": {
      "text/html": [
       "Successfully finished last run (ID:2m6c404k). Initializing new run:<br/>"
      ],
      "text/plain": [
       "<IPython.core.display.HTML object>"
      ]
     },
     "metadata": {},
     "output_type": "display_data"
    },
    {
     "data": {
      "text/html": [
       "wandb version 0.12.16 is available!  To upgrade, please run:\n",
       " $ pip install wandb --upgrade"
      ],
      "text/plain": [
       "<IPython.core.display.HTML object>"
      ]
     },
     "metadata": {},
     "output_type": "display_data"
    },
    {
     "data": {
      "text/html": [
       "Tracking run with wandb version 0.12.11"
      ],
      "text/plain": [
       "<IPython.core.display.HTML object>"
      ]
     },
     "metadata": {},
     "output_type": "display_data"
    },
    {
     "data": {
      "text/html": [
       "Run data is saved locally in <code>/home/yifan/Desktop/genomics/projects/model/wandb/run-20220509_025717-3grew1df</code>"
      ],
      "text/plain": [
       "<IPython.core.display.HTML object>"
      ]
     },
     "metadata": {},
     "output_type": "display_data"
    },
    {
     "data": {
      "text/html": [
       "Syncing run <strong><a href=\"https://wandb.ai/fanfanwu9898/02710/runs/3grew1df\" target=\"_blank\">WEAKRM4</a></strong> to <a href=\"https://wandb.ai/fanfanwu9898/02710\" target=\"_blank\">Weights & Biases</a> (<a href=\"https://wandb.me/run\" target=\"_blank\">docs</a>)<br/>"
      ],
      "text/plain": [
       "<IPython.core.display.HTML object>"
      ]
     },
     "metadata": {},
     "output_type": "display_data"
    },
    {
     "name": "stderr",
     "output_type": "stream",
     "text": [
      "/home/yifan/Desktop/genomics/projects/model/model.py:63: UserWarning: Implicit dimension choice for softmax has been deprecated. Change the call to include dim=X as an argument.\n",
      "  gated_attention = self.softmax(gated_attention)  # torch.Size([1, 13])\n",
      "/home/yifan/Desktop/genomics/projects/model/model.py:63: UserWarning: Implicit dimension choice for softmax has been deprecated. Change the call to include dim=X as an argument.\n",
      "  gated_attention = self.softmax(gated_attention)  # torch.Size([1, 13])\n",
      "/home/yifan/Desktop/genomics/projects/model/model.py:63: UserWarning: Implicit dimension choice for softmax has been deprecated. Change the call to include dim=X as an argument.\n",
      "  gated_attention = self.softmax(gated_attention)  # torch.Size([1, 13])\n",
      "/home/yifan/Desktop/genomics/projects/model/model.py:63: UserWarning: Implicit dimension choice for softmax has been deprecated. Change the call to include dim=X as an argument.\n",
      "  gated_attention = self.softmax(gated_attention)  # torch.Size([1, 13])\n",
      "/home/yifan/Desktop/genomics/projects/model/model.py:63: UserWarning: Implicit dimension choice for softmax has been deprecated. Change the call to include dim=X as an argument.\n",
      "  gated_attention = self.softmax(gated_attention)  # torch.Size([1, 13])\n",
      "/home/yifan/Desktop/genomics/projects/model/model.py:63: UserWarning: Implicit dimension choice for softmax has been deprecated. Change the call to include dim=X as an argument.\n",
      "  gated_attention = self.softmax(gated_attention)  # torch.Size([1, 13])\n",
      "/home/yifan/Desktop/genomics/projects/model/model.py:63: UserWarning: Implicit dimension choice for softmax has been deprecated. Change the call to include dim=X as an argument.\n",
      "  gated_attention = self.softmax(gated_attention)  # torch.Size([1, 13])\n",
      "/home/yifan/Desktop/genomics/projects/model/model.py:63: UserWarning: Implicit dimension choice for softmax has been deprecated. Change the call to include dim=X as an argument.\n",
      "  gated_attention = self.softmax(gated_attention)  # torch.Size([1, 13])\n",
      "/home/yifan/Desktop/genomics/projects/model/model.py:63: UserWarning: Implicit dimension choice for softmax has been deprecated. Change the call to include dim=X as an argument.\n",
      "  gated_attention = self.softmax(gated_attention)  # torch.Size([1, 13])\n",
      "/home/yifan/Desktop/genomics/projects/model/model.py:63: UserWarning: Implicit dimension choice for softmax has been deprecated. Change the call to include dim=X as an argument.\n",
      "  gated_attention = self.softmax(gated_attention)  # torch.Size([1, 13])\n",
      "/home/yifan/Desktop/genomics/projects/model/model.py:63: UserWarning: Implicit dimension choice for softmax has been deprecated. Change the call to include dim=X as an argument.\n",
      "  gated_attention = self.softmax(gated_attention)  # torch.Size([1, 13])\n",
      "/home/yifan/Desktop/genomics/projects/model/model.py:63: UserWarning: Implicit dimension choice for softmax has been deprecated. Change the call to include dim=X as an argument.\n",
      "  gated_attention = self.softmax(gated_attention)  # torch.Size([1, 13])\n",
      "/home/yifan/Desktop/genomics/projects/model/model.py:63: UserWarning: Implicit dimension choice for softmax has been deprecated. Change the call to include dim=X as an argument.\n",
      "  gated_attention = self.softmax(gated_attention)  # torch.Size([1, 13])\n",
      "/home/yifan/Desktop/genomics/projects/model/model.py:63: UserWarning: Implicit dimension choice for softmax has been deprecated. Change the call to include dim=X as an argument.\n",
      "  gated_attention = self.softmax(gated_attention)  # torch.Size([1, 13])\n",
      "/home/yifan/Desktop/genomics/projects/model/model.py:63: UserWarning: Implicit dimension choice for softmax has been deprecated. Change the call to include dim=X as an argument.\n",
      "  gated_attention = self.softmax(gated_attention)  # torch.Size([1, 13])\n",
      "/home/yifan/Desktop/genomics/projects/model/model.py:63: UserWarning: Implicit dimension choice for softmax has been deprecated. Change the call to include dim=X as an argument.\n",
      "  gated_attention = self.softmax(gated_attention)  # torch.Size([1, 13])\n",
      "/home/yifan/Desktop/genomics/projects/model/model.py:63: UserWarning: Implicit dimension choice for softmax has been deprecated. Change the call to include dim=X as an argument.\n",
      "  gated_attention = self.softmax(gated_attention)  # torch.Size([1, 13])\n",
      "/home/yifan/Desktop/genomics/projects/model/model.py:63: UserWarning: Implicit dimension choice for softmax has been deprecated. Change the call to include dim=X as an argument.\n",
      "  gated_attention = self.softmax(gated_attention)  # torch.Size([1, 13])\n",
      "/home/yifan/Desktop/genomics/projects/model/model.py:63: UserWarning: Implicit dimension choice for softmax has been deprecated. Change the call to include dim=X as an argument.\n",
      "  gated_attention = self.softmax(gated_attention)  # torch.Size([1, 13])\n",
      "/home/yifan/Desktop/genomics/projects/model/model.py:63: UserWarning: Implicit dimension choice for softmax has been deprecated. Change the call to include dim=X as an argument.\n",
      "  gated_attention = self.softmax(gated_attention)  # torch.Size([1, 13])\n"
     ]
    },
    {
     "name": "stdout",
     "output_type": "stream",
     "text": [
      "start running ../iDeepS/datasets/clip/5_CLIPSEQ_AGO2_hg19\n"
     ]
    },
    {
     "data": {
      "text/html": [
       "Finishing last run (ID:3grew1df) before initializing another..."
      ],
      "text/plain": [
       "<IPython.core.display.HTML object>"
      ]
     },
     "metadata": {},
     "output_type": "display_data"
    },
    {
     "name": "stdout",
     "output_type": "stream",
     "text": [
      "\n"
     ]
    },
    {
     "data": {
      "text/html": [
       "Waiting for W&B process to finish... <strong style=\"color:green\">(success).</strong>"
      ],
      "text/plain": [
       "<IPython.core.display.HTML object>"
      ]
     },
     "metadata": {},
     "output_type": "display_data"
    },
    {
     "data": {
      "application/vnd.jupyter.widget-view+json": {
       "model_id": "",
       "version_major": 2,
       "version_minor": 0
      },
      "text/plain": [
       "VBox(children=(Label(value='0.001 MB of 0.001 MB uploaded (0.000 MB deduped)\\r'), FloatProgress(value=1.0, max…"
      ]
     },
     "metadata": {},
     "output_type": "display_data"
    },
    {
     "data": {
      "text/html": [
       "<style>\n",
       "    table.wandb td:nth-child(1) { padding: 0 10px; text-align: right }\n",
       "    .wandb-row { display: flex; flex-direction: row; flex-wrap: wrap; width: 100% }\n",
       "    .wandb-col { display: flex; flex-direction: column; flex-basis: 100%; flex: 1; padding: 10px; }\n",
       "    </style>\n",
       "<div class=\"wandb-row\"><div class=\"wandb-col\"><h3>Run history:</h3><br/><table class=\"wandb\"><tr><td>Test Acc </td><td>▃▁▇▇▆▆▇▆▅▅█▇█▄▇▄▅▅▅▄</td></tr><tr><td>Test loss</td><td>█▅▁▁▁▅▂▁▁▁▂▄▁▁▁▃▃▂▁▅</td></tr><tr><td>Train Acc:</td><td>▁▃▄▄▅▅▅▆▆▆▆▇▇▇▇█████</td></tr><tr><td>Train loss:</td><td>█▆▅▄▄▄▄▃▃▃▃▂▂▂▂▁▁▁▁▁</td></tr><tr><td>auROC</td><td>▁▃▅▇█▇█▆▅▇▇▄▅▆▅▅▅▅▅▅</td></tr><tr><td>lr</td><td>▁▁▁▁▁▁▁▁▁▁▁▁▁▁▁▁▁▁▁▁</td></tr></table><br/></div><div class=\"wandb-col\"><h3>Run summary:</h3><br/><table class=\"wandb\"><tr><td>Test Acc </td><td>84.63</td></tr><tr><td>Test loss</td><td>0.41945</td></tr><tr><td>Train Acc:</td><td>89.59</td></tr><tr><td>Train loss:</td><td>0.12057</td></tr><tr><td>auROC</td><td>0.86311</td></tr><tr><td>lr</td><td>0.0005</td></tr></table><br/></div></div>"
      ],
      "text/plain": [
       "<IPython.core.display.HTML object>"
      ]
     },
     "metadata": {},
     "output_type": "display_data"
    },
    {
     "data": {
      "text/html": [
       "Synced <strong style=\"color:#cdcd00\">WEAKRM4</strong>: <a href=\"https://wandb.ai/fanfanwu9898/02710/runs/3grew1df\" target=\"_blank\">https://wandb.ai/fanfanwu9898/02710/runs/3grew1df</a><br/>Synced 6 W&B file(s), 0 media file(s), 0 artifact file(s) and 0 other file(s)"
      ],
      "text/plain": [
       "<IPython.core.display.HTML object>"
      ]
     },
     "metadata": {},
     "output_type": "display_data"
    },
    {
     "data": {
      "text/html": [
       "Find logs at: <code>./wandb/run-20220509_025717-3grew1df/logs</code>"
      ],
      "text/plain": [
       "<IPython.core.display.HTML object>"
      ]
     },
     "metadata": {},
     "output_type": "display_data"
    },
    {
     "data": {
      "text/html": [
       "Successfully finished last run (ID:3grew1df). Initializing new run:<br/>"
      ],
      "text/plain": [
       "<IPython.core.display.HTML object>"
      ]
     },
     "metadata": {},
     "output_type": "display_data"
    },
    {
     "data": {
      "text/html": [
       "wandb version 0.12.16 is available!  To upgrade, please run:\n",
       " $ pip install wandb --upgrade"
      ],
      "text/plain": [
       "<IPython.core.display.HTML object>"
      ]
     },
     "metadata": {},
     "output_type": "display_data"
    },
    {
     "data": {
      "text/html": [
       "Tracking run with wandb version 0.12.11"
      ],
      "text/plain": [
       "<IPython.core.display.HTML object>"
      ]
     },
     "metadata": {},
     "output_type": "display_data"
    },
    {
     "data": {
      "text/html": [
       "Run data is saved locally in <code>/home/yifan/Desktop/genomics/projects/model/wandb/run-20220509_032754-a54tjl0t</code>"
      ],
      "text/plain": [
       "<IPython.core.display.HTML object>"
      ]
     },
     "metadata": {},
     "output_type": "display_data"
    },
    {
     "data": {
      "text/html": [
       "Syncing run <strong><a href=\"https://wandb.ai/fanfanwu9898/02710/runs/a54tjl0t\" target=\"_blank\">WEAKRM5</a></strong> to <a href=\"https://wandb.ai/fanfanwu9898/02710\" target=\"_blank\">Weights & Biases</a> (<a href=\"https://wandb.me/run\" target=\"_blank\">docs</a>)<br/>"
      ],
      "text/plain": [
       "<IPython.core.display.HTML object>"
      ]
     },
     "metadata": {},
     "output_type": "display_data"
    },
    {
     "name": "stderr",
     "output_type": "stream",
     "text": [
      "/home/yifan/Desktop/genomics/projects/model/model.py:63: UserWarning: Implicit dimension choice for softmax has been deprecated. Change the call to include dim=X as an argument.\n",
      "  gated_attention = self.softmax(gated_attention)  # torch.Size([1, 13])\n",
      "/home/yifan/Desktop/genomics/projects/model/model.py:63: UserWarning: Implicit dimension choice for softmax has been deprecated. Change the call to include dim=X as an argument.\n",
      "  gated_attention = self.softmax(gated_attention)  # torch.Size([1, 13])\n",
      "/home/yifan/Desktop/genomics/projects/model/model.py:63: UserWarning: Implicit dimension choice for softmax has been deprecated. Change the call to include dim=X as an argument.\n",
      "  gated_attention = self.softmax(gated_attention)  # torch.Size([1, 13])\n",
      "/home/yifan/Desktop/genomics/projects/model/model.py:63: UserWarning: Implicit dimension choice for softmax has been deprecated. Change the call to include dim=X as an argument.\n",
      "  gated_attention = self.softmax(gated_attention)  # torch.Size([1, 13])\n",
      "/home/yifan/Desktop/genomics/projects/model/model.py:63: UserWarning: Implicit dimension choice for softmax has been deprecated. Change the call to include dim=X as an argument.\n",
      "  gated_attention = self.softmax(gated_attention)  # torch.Size([1, 13])\n",
      "/home/yifan/Desktop/genomics/projects/model/model.py:63: UserWarning: Implicit dimension choice for softmax has been deprecated. Change the call to include dim=X as an argument.\n",
      "  gated_attention = self.softmax(gated_attention)  # torch.Size([1, 13])\n",
      "/home/yifan/Desktop/genomics/projects/model/model.py:63: UserWarning: Implicit dimension choice for softmax has been deprecated. Change the call to include dim=X as an argument.\n",
      "  gated_attention = self.softmax(gated_attention)  # torch.Size([1, 13])\n",
      "/home/yifan/Desktop/genomics/projects/model/model.py:63: UserWarning: Implicit dimension choice for softmax has been deprecated. Change the call to include dim=X as an argument.\n",
      "  gated_attention = self.softmax(gated_attention)  # torch.Size([1, 13])\n",
      "/home/yifan/Desktop/genomics/projects/model/model.py:63: UserWarning: Implicit dimension choice for softmax has been deprecated. Change the call to include dim=X as an argument.\n",
      "  gated_attention = self.softmax(gated_attention)  # torch.Size([1, 13])\n",
      "/home/yifan/Desktop/genomics/projects/model/model.py:63: UserWarning: Implicit dimension choice for softmax has been deprecated. Change the call to include dim=X as an argument.\n",
      "  gated_attention = self.softmax(gated_attention)  # torch.Size([1, 13])\n",
      "/home/yifan/Desktop/genomics/projects/model/model.py:63: UserWarning: Implicit dimension choice for softmax has been deprecated. Change the call to include dim=X as an argument.\n",
      "  gated_attention = self.softmax(gated_attention)  # torch.Size([1, 13])\n",
      "/home/yifan/Desktop/genomics/projects/model/model.py:63: UserWarning: Implicit dimension choice for softmax has been deprecated. Change the call to include dim=X as an argument.\n",
      "  gated_attention = self.softmax(gated_attention)  # torch.Size([1, 13])\n",
      "/home/yifan/Desktop/genomics/projects/model/model.py:63: UserWarning: Implicit dimension choice for softmax has been deprecated. Change the call to include dim=X as an argument.\n",
      "  gated_attention = self.softmax(gated_attention)  # torch.Size([1, 13])\n",
      "/home/yifan/Desktop/genomics/projects/model/model.py:63: UserWarning: Implicit dimension choice for softmax has been deprecated. Change the call to include dim=X as an argument.\n",
      "  gated_attention = self.softmax(gated_attention)  # torch.Size([1, 13])\n",
      "/home/yifan/Desktop/genomics/projects/model/model.py:63: UserWarning: Implicit dimension choice for softmax has been deprecated. Change the call to include dim=X as an argument.\n",
      "  gated_attention = self.softmax(gated_attention)  # torch.Size([1, 13])\n",
      "/home/yifan/Desktop/genomics/projects/model/model.py:63: UserWarning: Implicit dimension choice for softmax has been deprecated. Change the call to include dim=X as an argument.\n",
      "  gated_attention = self.softmax(gated_attention)  # torch.Size([1, 13])\n",
      "/home/yifan/Desktop/genomics/projects/model/model.py:63: UserWarning: Implicit dimension choice for softmax has been deprecated. Change the call to include dim=X as an argument.\n",
      "  gated_attention = self.softmax(gated_attention)  # torch.Size([1, 13])\n",
      "/home/yifan/Desktop/genomics/projects/model/model.py:63: UserWarning: Implicit dimension choice for softmax has been deprecated. Change the call to include dim=X as an argument.\n",
      "  gated_attention = self.softmax(gated_attention)  # torch.Size([1, 13])\n",
      "/home/yifan/Desktop/genomics/projects/model/model.py:63: UserWarning: Implicit dimension choice for softmax has been deprecated. Change the call to include dim=X as an argument.\n",
      "  gated_attention = self.softmax(gated_attention)  # torch.Size([1, 13])\n",
      "/home/yifan/Desktop/genomics/projects/model/model.py:63: UserWarning: Implicit dimension choice for softmax has been deprecated. Change the call to include dim=X as an argument.\n",
      "  gated_attention = self.softmax(gated_attention)  # torch.Size([1, 13])\n"
     ]
    },
    {
     "name": "stdout",
     "output_type": "stream",
     "text": [
      "start running ../iDeepS/datasets/clip/6_CLIP-seq-eIF4AIII_1\n"
     ]
    },
    {
     "data": {
      "text/html": [
       "Finishing last run (ID:a54tjl0t) before initializing another..."
      ],
      "text/plain": [
       "<IPython.core.display.HTML object>"
      ]
     },
     "metadata": {},
     "output_type": "display_data"
    },
    {
     "name": "stdout",
     "output_type": "stream",
     "text": [
      "\n"
     ]
    },
    {
     "data": {
      "text/html": [
       "Waiting for W&B process to finish... <strong style=\"color:green\">(success).</strong>"
      ],
      "text/plain": [
       "<IPython.core.display.HTML object>"
      ]
     },
     "metadata": {},
     "output_type": "display_data"
    },
    {
     "data": {
      "application/vnd.jupyter.widget-view+json": {
       "model_id": "",
       "version_major": 2,
       "version_minor": 0
      },
      "text/plain": [
       "VBox(children=(Label(value='0.001 MB of 0.001 MB uploaded (0.000 MB deduped)\\r'), FloatProgress(value=1.0, max…"
      ]
     },
     "metadata": {},
     "output_type": "display_data"
    },
    {
     "data": {
      "text/html": [
       "<style>\n",
       "    table.wandb td:nth-child(1) { padding: 0 10px; text-align: right }\n",
       "    .wandb-row { display: flex; flex-direction: row; flex-wrap: wrap; width: 100% }\n",
       "    .wandb-col { display: flex; flex-direction: column; flex-basis: 100%; flex: 1; padding: 10px; }\n",
       "    </style>\n",
       "<div class=\"wandb-row\"><div class=\"wandb-col\"><h3>Run history:</h3><br/><table class=\"wandb\"><tr><td>Test Acc </td><td>████████████▇▄▁▃▃▁▃▃</td></tr><tr><td>Test loss</td><td>▂█▂▂▇▅█▂▂▃▂▃▂▃▁▂▁▁▁▅</td></tr><tr><td>Train Acc:</td><td>▁▁▁▁▁▁▁▁▁▁▂▂▄▅▁▄▅▆█▇</td></tr><tr><td>Train loss:</td><td>█▇▇▆▆▆▅▅▄▄▄▃▃▂▂▂▁▁▁▁</td></tr><tr><td>auROC</td><td>▆▇██▇▇▅▅▅▄▅▃▄▂▂▁▁▁▁▁</td></tr><tr><td>lr</td><td>▁▁▁▁▁▁▁▁▁▁▁▁▁▁▁▁▁▁▁▁</td></tr></table><br/></div><div class=\"wandb-col\"><h3>Run summary:</h3><br/><table class=\"wandb\"><tr><td>Test Acc </td><td>79.84</td></tr><tr><td>Test loss</td><td>0.5563</td></tr><tr><td>Train Acc:</td><td>80.14333</td></tr><tr><td>Train loss:</td><td>0.22919</td></tr><tr><td>auROC</td><td>0.61299</td></tr><tr><td>lr</td><td>0.0005</td></tr></table><br/></div></div>"
      ],
      "text/plain": [
       "<IPython.core.display.HTML object>"
      ]
     },
     "metadata": {},
     "output_type": "display_data"
    },
    {
     "data": {
      "text/html": [
       "Synced <strong style=\"color:#cdcd00\">WEAKRM5</strong>: <a href=\"https://wandb.ai/fanfanwu9898/02710/runs/a54tjl0t\" target=\"_blank\">https://wandb.ai/fanfanwu9898/02710/runs/a54tjl0t</a><br/>Synced 6 W&B file(s), 0 media file(s), 0 artifact file(s) and 0 other file(s)"
      ],
      "text/plain": [
       "<IPython.core.display.HTML object>"
      ]
     },
     "metadata": {},
     "output_type": "display_data"
    },
    {
     "data": {
      "text/html": [
       "Find logs at: <code>./wandb/run-20220509_032754-a54tjl0t/logs</code>"
      ],
      "text/plain": [
       "<IPython.core.display.HTML object>"
      ]
     },
     "metadata": {},
     "output_type": "display_data"
    },
    {
     "data": {
      "text/html": [
       "Successfully finished last run (ID:a54tjl0t). Initializing new run:<br/>"
      ],
      "text/plain": [
       "<IPython.core.display.HTML object>"
      ]
     },
     "metadata": {},
     "output_type": "display_data"
    },
    {
     "data": {
      "text/html": [
       "wandb version 0.12.16 is available!  To upgrade, please run:\n",
       " $ pip install wandb --upgrade"
      ],
      "text/plain": [
       "<IPython.core.display.HTML object>"
      ]
     },
     "metadata": {},
     "output_type": "display_data"
    },
    {
     "data": {
      "text/html": [
       "Tracking run with wandb version 0.12.11"
      ],
      "text/plain": [
       "<IPython.core.display.HTML object>"
      ]
     },
     "metadata": {},
     "output_type": "display_data"
    },
    {
     "data": {
      "text/html": [
       "Run data is saved locally in <code>/home/yifan/Desktop/genomics/projects/model/wandb/run-20220509_035757-q9vs4qdd</code>"
      ],
      "text/plain": [
       "<IPython.core.display.HTML object>"
      ]
     },
     "metadata": {},
     "output_type": "display_data"
    },
    {
     "data": {
      "text/html": [
       "Syncing run <strong><a href=\"https://wandb.ai/fanfanwu9898/02710/runs/q9vs4qdd\" target=\"_blank\">WEAKRM6</a></strong> to <a href=\"https://wandb.ai/fanfanwu9898/02710\" target=\"_blank\">Weights & Biases</a> (<a href=\"https://wandb.me/run\" target=\"_blank\">docs</a>)<br/>"
      ],
      "text/plain": [
       "<IPython.core.display.HTML object>"
      ]
     },
     "metadata": {},
     "output_type": "display_data"
    },
    {
     "name": "stderr",
     "output_type": "stream",
     "text": [
      "/home/yifan/Desktop/genomics/projects/model/model.py:63: UserWarning: Implicit dimension choice for softmax has been deprecated. Change the call to include dim=X as an argument.\n",
      "  gated_attention = self.softmax(gated_attention)  # torch.Size([1, 13])\n",
      "/home/yifan/Desktop/genomics/projects/model/model.py:63: UserWarning: Implicit dimension choice for softmax has been deprecated. Change the call to include dim=X as an argument.\n",
      "  gated_attention = self.softmax(gated_attention)  # torch.Size([1, 13])\n",
      "/home/yifan/Desktop/genomics/projects/model/model.py:63: UserWarning: Implicit dimension choice for softmax has been deprecated. Change the call to include dim=X as an argument.\n",
      "  gated_attention = self.softmax(gated_attention)  # torch.Size([1, 13])\n",
      "/home/yifan/Desktop/genomics/projects/model/model.py:63: UserWarning: Implicit dimension choice for softmax has been deprecated. Change the call to include dim=X as an argument.\n",
      "  gated_attention = self.softmax(gated_attention)  # torch.Size([1, 13])\n",
      "/home/yifan/Desktop/genomics/projects/model/model.py:63: UserWarning: Implicit dimension choice for softmax has been deprecated. Change the call to include dim=X as an argument.\n",
      "  gated_attention = self.softmax(gated_attention)  # torch.Size([1, 13])\n",
      "/home/yifan/Desktop/genomics/projects/model/model.py:63: UserWarning: Implicit dimension choice for softmax has been deprecated. Change the call to include dim=X as an argument.\n",
      "  gated_attention = self.softmax(gated_attention)  # torch.Size([1, 13])\n",
      "/home/yifan/Desktop/genomics/projects/model/model.py:63: UserWarning: Implicit dimension choice for softmax has been deprecated. Change the call to include dim=X as an argument.\n",
      "  gated_attention = self.softmax(gated_attention)  # torch.Size([1, 13])\n",
      "/home/yifan/Desktop/genomics/projects/model/model.py:63: UserWarning: Implicit dimension choice for softmax has been deprecated. Change the call to include dim=X as an argument.\n",
      "  gated_attention = self.softmax(gated_attention)  # torch.Size([1, 13])\n",
      "/home/yifan/Desktop/genomics/projects/model/model.py:63: UserWarning: Implicit dimension choice for softmax has been deprecated. Change the call to include dim=X as an argument.\n",
      "  gated_attention = self.softmax(gated_attention)  # torch.Size([1, 13])\n",
      "/home/yifan/Desktop/genomics/projects/model/model.py:63: UserWarning: Implicit dimension choice for softmax has been deprecated. Change the call to include dim=X as an argument.\n",
      "  gated_attention = self.softmax(gated_attention)  # torch.Size([1, 13])\n",
      "/home/yifan/Desktop/genomics/projects/model/model.py:63: UserWarning: Implicit dimension choice for softmax has been deprecated. Change the call to include dim=X as an argument.\n",
      "  gated_attention = self.softmax(gated_attention)  # torch.Size([1, 13])\n",
      "/home/yifan/Desktop/genomics/projects/model/model.py:63: UserWarning: Implicit dimension choice for softmax has been deprecated. Change the call to include dim=X as an argument.\n",
      "  gated_attention = self.softmax(gated_attention)  # torch.Size([1, 13])\n",
      "/home/yifan/Desktop/genomics/projects/model/model.py:63: UserWarning: Implicit dimension choice for softmax has been deprecated. Change the call to include dim=X as an argument.\n",
      "  gated_attention = self.softmax(gated_attention)  # torch.Size([1, 13])\n",
      "/home/yifan/Desktop/genomics/projects/model/model.py:63: UserWarning: Implicit dimension choice for softmax has been deprecated. Change the call to include dim=X as an argument.\n",
      "  gated_attention = self.softmax(gated_attention)  # torch.Size([1, 13])\n",
      "/home/yifan/Desktop/genomics/projects/model/model.py:63: UserWarning: Implicit dimension choice for softmax has been deprecated. Change the call to include dim=X as an argument.\n",
      "  gated_attention = self.softmax(gated_attention)  # torch.Size([1, 13])\n",
      "/home/yifan/Desktop/genomics/projects/model/model.py:63: UserWarning: Implicit dimension choice for softmax has been deprecated. Change the call to include dim=X as an argument.\n",
      "  gated_attention = self.softmax(gated_attention)  # torch.Size([1, 13])\n",
      "/home/yifan/Desktop/genomics/projects/model/model.py:63: UserWarning: Implicit dimension choice for softmax has been deprecated. Change the call to include dim=X as an argument.\n",
      "  gated_attention = self.softmax(gated_attention)  # torch.Size([1, 13])\n",
      "/home/yifan/Desktop/genomics/projects/model/model.py:63: UserWarning: Implicit dimension choice for softmax has been deprecated. Change the call to include dim=X as an argument.\n",
      "  gated_attention = self.softmax(gated_attention)  # torch.Size([1, 13])\n",
      "/home/yifan/Desktop/genomics/projects/model/model.py:63: UserWarning: Implicit dimension choice for softmax has been deprecated. Change the call to include dim=X as an argument.\n",
      "  gated_attention = self.softmax(gated_attention)  # torch.Size([1, 13])\n",
      "/home/yifan/Desktop/genomics/projects/model/model.py:63: UserWarning: Implicit dimension choice for softmax has been deprecated. Change the call to include dim=X as an argument.\n",
      "  gated_attention = self.softmax(gated_attention)  # torch.Size([1, 13])\n"
     ]
    },
    {
     "name": "stdout",
     "output_type": "stream",
     "text": [
      "start running ../iDeepS/datasets/clip/7_CLIP-seq-eIF4AIII_2\n"
     ]
    },
    {
     "data": {
      "text/html": [
       "Finishing last run (ID:q9vs4qdd) before initializing another..."
      ],
      "text/plain": [
       "<IPython.core.display.HTML object>"
      ]
     },
     "metadata": {},
     "output_type": "display_data"
    },
    {
     "name": "stdout",
     "output_type": "stream",
     "text": [
      "\n"
     ]
    },
    {
     "data": {
      "text/html": [
       "Waiting for W&B process to finish... <strong style=\"color:green\">(success).</strong>"
      ],
      "text/plain": [
       "<IPython.core.display.HTML object>"
      ]
     },
     "metadata": {},
     "output_type": "display_data"
    },
    {
     "data": {
      "application/vnd.jupyter.widget-view+json": {
       "model_id": "",
       "version_major": 2,
       "version_minor": 0
      },
      "text/plain": [
       "VBox(children=(Label(value='0.001 MB of 0.001 MB uploaded (0.000 MB deduped)\\r'), FloatProgress(value=1.0, max…"
      ]
     },
     "metadata": {},
     "output_type": "display_data"
    },
    {
     "data": {
      "text/html": [
       "<style>\n",
       "    table.wandb td:nth-child(1) { padding: 0 10px; text-align: right }\n",
       "    .wandb-row { display: flex; flex-direction: row; flex-wrap: wrap; width: 100% }\n",
       "    .wandb-col { display: flex; flex-direction: column; flex-basis: 100%; flex: 1; padding: 10px; }\n",
       "    </style>\n",
       "<div class=\"wandb-row\"><div class=\"wandb-col\"><h3>Run history:</h3><br/><table class=\"wandb\"><tr><td>Test Acc </td><td>▁██▆█▇▅▇█▇▆▇▇▇▇▇▇▇▇▇</td></tr><tr><td>Test loss</td><td>▃▁█▁▁▁▁▂▁▁▁▁▁▁▁▁▁▁▁▁</td></tr><tr><td>Train Acc:</td><td>▁▃▄▄▄▅▅▅▆▆▆▇▇▇▇█████</td></tr><tr><td>Train loss:</td><td>█▆▅▅▄▄▄▃▃▃▂▂▂▂▂▁▁▁▁▁</td></tr><tr><td>auROC</td><td>▂█▆▇█▇▅▅▅▃▃▄▂▂▂▁▁▁▁▁</td></tr><tr><td>lr</td><td>▁▁▁▁▁▁▁▁▁▁▁▁▁▁▁▁▁▁▁▁</td></tr></table><br/></div><div class=\"wandb-col\"><h3>Run summary:</h3><br/><table class=\"wandb\"><tr><td>Test Acc </td><td>90.42</td></tr><tr><td>Test loss</td><td>6e-05</td></tr><tr><td>Train Acc:</td><td>97.48</td></tr><tr><td>Train loss:</td><td>0.034</td></tr><tr><td>auROC</td><td>0.94165</td></tr><tr><td>lr</td><td>0.0005</td></tr></table><br/></div></div>"
      ],
      "text/plain": [
       "<IPython.core.display.HTML object>"
      ]
     },
     "metadata": {},
     "output_type": "display_data"
    },
    {
     "data": {
      "text/html": [
       "Synced <strong style=\"color:#cdcd00\">WEAKRM6</strong>: <a href=\"https://wandb.ai/fanfanwu9898/02710/runs/q9vs4qdd\" target=\"_blank\">https://wandb.ai/fanfanwu9898/02710/runs/q9vs4qdd</a><br/>Synced 6 W&B file(s), 0 media file(s), 0 artifact file(s) and 0 other file(s)"
      ],
      "text/plain": [
       "<IPython.core.display.HTML object>"
      ]
     },
     "metadata": {},
     "output_type": "display_data"
    },
    {
     "data": {
      "text/html": [
       "Find logs at: <code>./wandb/run-20220509_035757-q9vs4qdd/logs</code>"
      ],
      "text/plain": [
       "<IPython.core.display.HTML object>"
      ]
     },
     "metadata": {},
     "output_type": "display_data"
    },
    {
     "data": {
      "text/html": [
       "Successfully finished last run (ID:q9vs4qdd). Initializing new run:<br/>"
      ],
      "text/plain": [
       "<IPython.core.display.HTML object>"
      ]
     },
     "metadata": {},
     "output_type": "display_data"
    },
    {
     "data": {
      "text/html": [
       "wandb version 0.12.16 is available!  To upgrade, please run:\n",
       " $ pip install wandb --upgrade"
      ],
      "text/plain": [
       "<IPython.core.display.HTML object>"
      ]
     },
     "metadata": {},
     "output_type": "display_data"
    },
    {
     "data": {
      "text/html": [
       "Tracking run with wandb version 0.12.11"
      ],
      "text/plain": [
       "<IPython.core.display.HTML object>"
      ]
     },
     "metadata": {},
     "output_type": "display_data"
    },
    {
     "data": {
      "text/html": [
       "Run data is saved locally in <code>/home/yifan/Desktop/genomics/projects/model/wandb/run-20220509_042804-9sslwqyl</code>"
      ],
      "text/plain": [
       "<IPython.core.display.HTML object>"
      ]
     },
     "metadata": {},
     "output_type": "display_data"
    },
    {
     "data": {
      "text/html": [
       "Syncing run <strong><a href=\"https://wandb.ai/fanfanwu9898/02710/runs/9sslwqyl\" target=\"_blank\">WEAKRM7</a></strong> to <a href=\"https://wandb.ai/fanfanwu9898/02710\" target=\"_blank\">Weights & Biases</a> (<a href=\"https://wandb.me/run\" target=\"_blank\">docs</a>)<br/>"
      ],
      "text/plain": [
       "<IPython.core.display.HTML object>"
      ]
     },
     "metadata": {},
     "output_type": "display_data"
    },
    {
     "name": "stderr",
     "output_type": "stream",
     "text": [
      "/home/yifan/Desktop/genomics/projects/model/model.py:63: UserWarning: Implicit dimension choice for softmax has been deprecated. Change the call to include dim=X as an argument.\n",
      "  gated_attention = self.softmax(gated_attention)  # torch.Size([1, 13])\n",
      "/home/yifan/Desktop/genomics/projects/model/model.py:63: UserWarning: Implicit dimension choice for softmax has been deprecated. Change the call to include dim=X as an argument.\n",
      "  gated_attention = self.softmax(gated_attention)  # torch.Size([1, 13])\n",
      "/home/yifan/Desktop/genomics/projects/model/model.py:63: UserWarning: Implicit dimension choice for softmax has been deprecated. Change the call to include dim=X as an argument.\n",
      "  gated_attention = self.softmax(gated_attention)  # torch.Size([1, 13])\n",
      "/home/yifan/Desktop/genomics/projects/model/model.py:63: UserWarning: Implicit dimension choice for softmax has been deprecated. Change the call to include dim=X as an argument.\n",
      "  gated_attention = self.softmax(gated_attention)  # torch.Size([1, 13])\n",
      "/home/yifan/Desktop/genomics/projects/model/model.py:63: UserWarning: Implicit dimension choice for softmax has been deprecated. Change the call to include dim=X as an argument.\n",
      "  gated_attention = self.softmax(gated_attention)  # torch.Size([1, 13])\n",
      "/home/yifan/Desktop/genomics/projects/model/model.py:63: UserWarning: Implicit dimension choice for softmax has been deprecated. Change the call to include dim=X as an argument.\n",
      "  gated_attention = self.softmax(gated_attention)  # torch.Size([1, 13])\n",
      "/home/yifan/Desktop/genomics/projects/model/model.py:63: UserWarning: Implicit dimension choice for softmax has been deprecated. Change the call to include dim=X as an argument.\n",
      "  gated_attention = self.softmax(gated_attention)  # torch.Size([1, 13])\n",
      "/home/yifan/Desktop/genomics/projects/model/model.py:63: UserWarning: Implicit dimension choice for softmax has been deprecated. Change the call to include dim=X as an argument.\n",
      "  gated_attention = self.softmax(gated_attention)  # torch.Size([1, 13])\n",
      "/home/yifan/Desktop/genomics/projects/model/model.py:63: UserWarning: Implicit dimension choice for softmax has been deprecated. Change the call to include dim=X as an argument.\n",
      "  gated_attention = self.softmax(gated_attention)  # torch.Size([1, 13])\n",
      "/home/yifan/Desktop/genomics/projects/model/model.py:63: UserWarning: Implicit dimension choice for softmax has been deprecated. Change the call to include dim=X as an argument.\n",
      "  gated_attention = self.softmax(gated_attention)  # torch.Size([1, 13])\n",
      "/home/yifan/Desktop/genomics/projects/model/model.py:63: UserWarning: Implicit dimension choice for softmax has been deprecated. Change the call to include dim=X as an argument.\n",
      "  gated_attention = self.softmax(gated_attention)  # torch.Size([1, 13])\n",
      "/home/yifan/Desktop/genomics/projects/model/model.py:63: UserWarning: Implicit dimension choice for softmax has been deprecated. Change the call to include dim=X as an argument.\n",
      "  gated_attention = self.softmax(gated_attention)  # torch.Size([1, 13])\n",
      "/home/yifan/Desktop/genomics/projects/model/model.py:63: UserWarning: Implicit dimension choice for softmax has been deprecated. Change the call to include dim=X as an argument.\n",
      "  gated_attention = self.softmax(gated_attention)  # torch.Size([1, 13])\n",
      "/home/yifan/Desktop/genomics/projects/model/model.py:63: UserWarning: Implicit dimension choice for softmax has been deprecated. Change the call to include dim=X as an argument.\n",
      "  gated_attention = self.softmax(gated_attention)  # torch.Size([1, 13])\n",
      "/home/yifan/Desktop/genomics/projects/model/model.py:63: UserWarning: Implicit dimension choice for softmax has been deprecated. Change the call to include dim=X as an argument.\n",
      "  gated_attention = self.softmax(gated_attention)  # torch.Size([1, 13])\n",
      "/home/yifan/Desktop/genomics/projects/model/model.py:63: UserWarning: Implicit dimension choice for softmax has been deprecated. Change the call to include dim=X as an argument.\n",
      "  gated_attention = self.softmax(gated_attention)  # torch.Size([1, 13])\n",
      "/home/yifan/Desktop/genomics/projects/model/model.py:63: UserWarning: Implicit dimension choice for softmax has been deprecated. Change the call to include dim=X as an argument.\n",
      "  gated_attention = self.softmax(gated_attention)  # torch.Size([1, 13])\n",
      "wandb: Network error (ReadTimeout), entering retry loop.\n",
      "/home/yifan/Desktop/genomics/projects/model/model.py:63: UserWarning: Implicit dimension choice for softmax has been deprecated. Change the call to include dim=X as an argument.\n",
      "  gated_attention = self.softmax(gated_attention)  # torch.Size([1, 13])\n",
      "/home/yifan/Desktop/genomics/projects/model/model.py:63: UserWarning: Implicit dimension choice for softmax has been deprecated. Change the call to include dim=X as an argument.\n",
      "  gated_attention = self.softmax(gated_attention)  # torch.Size([1, 13])\n",
      "/home/yifan/Desktop/genomics/projects/model/model.py:63: UserWarning: Implicit dimension choice for softmax has been deprecated. Change the call to include dim=X as an argument.\n",
      "  gated_attention = self.softmax(gated_attention)  # torch.Size([1, 13])\n"
     ]
    },
    {
     "name": "stdout",
     "output_type": "stream",
     "text": [
      "start running ../iDeepS/datasets/clip/8_PARCLIP_ELAVL1_hg19\n"
     ]
    },
    {
     "data": {
      "text/html": [
       "Finishing last run (ID:9sslwqyl) before initializing another..."
      ],
      "text/plain": [
       "<IPython.core.display.HTML object>"
      ]
     },
     "metadata": {},
     "output_type": "display_data"
    },
    {
     "name": "stdout",
     "output_type": "stream",
     "text": [
      "\n"
     ]
    },
    {
     "data": {
      "text/html": [
       "Waiting for W&B process to finish... <strong style=\"color:green\">(success).</strong>"
      ],
      "text/plain": [
       "<IPython.core.display.HTML object>"
      ]
     },
     "metadata": {},
     "output_type": "display_data"
    },
    {
     "data": {
      "application/vnd.jupyter.widget-view+json": {
       "model_id": "",
       "version_major": 2,
       "version_minor": 0
      },
      "text/plain": [
       "VBox(children=(Label(value='0.001 MB of 0.001 MB uploaded (0.000 MB deduped)\\r'), FloatProgress(value=1.0, max…"
      ]
     },
     "metadata": {},
     "output_type": "display_data"
    },
    {
     "data": {
      "text/html": [
       "<style>\n",
       "    table.wandb td:nth-child(1) { padding: 0 10px; text-align: right }\n",
       "    .wandb-row { display: flex; flex-direction: row; flex-wrap: wrap; width: 100% }\n",
       "    .wandb-col { display: flex; flex-direction: column; flex-basis: 100%; flex: 1; padding: 10px; }\n",
       "    </style>\n",
       "<div class=\"wandb-row\"><div class=\"wandb-col\"><h3>Run history:</h3><br/><table class=\"wandb\"><tr><td>Test Acc </td><td>▅▁█▅▇▆▅▂▆▅▆▆▄▆▆▆▆▆▆▆</td></tr><tr><td>Test loss</td><td>▁▁▁▁█▁▁▁▁▁▁▃▁▁▁▁▁▂▁▁</td></tr><tr><td>Train Acc:</td><td>▁▃▄▄▅▅▅▆▆▆▇▇▇▇██████</td></tr><tr><td>Train loss:</td><td>█▆▅▅▄▄▄▃▃▃▂▂▂▂▂▁▁▁▁▁</td></tr><tr><td>auROC</td><td>▁▃█▇▆▆▂▃▄▃▅▄▂▄▂▄▃▂▂▂</td></tr><tr><td>lr</td><td>▁▁▁▁▁▁▁▁▁▁▁▁▁▁▁▁▁▁▁▁</td></tr></table><br/></div><div class=\"wandb-col\"><h3>Run summary:</h3><br/><table class=\"wandb\"><tr><td>Test Acc </td><td>91.07</td></tr><tr><td>Test loss</td><td>2e-05</td></tr><tr><td>Train Acc:</td><td>96.9</td></tr><tr><td>Train loss:</td><td>0.04198</td></tr><tr><td>auROC</td><td>0.95299</td></tr><tr><td>lr</td><td>0.0005</td></tr></table><br/></div></div>"
      ],
      "text/plain": [
       "<IPython.core.display.HTML object>"
      ]
     },
     "metadata": {},
     "output_type": "display_data"
    },
    {
     "data": {
      "text/html": [
       "Synced <strong style=\"color:#cdcd00\">WEAKRM7</strong>: <a href=\"https://wandb.ai/fanfanwu9898/02710/runs/9sslwqyl\" target=\"_blank\">https://wandb.ai/fanfanwu9898/02710/runs/9sslwqyl</a><br/>Synced 6 W&B file(s), 0 media file(s), 0 artifact file(s) and 0 other file(s)"
      ],
      "text/plain": [
       "<IPython.core.display.HTML object>"
      ]
     },
     "metadata": {},
     "output_type": "display_data"
    },
    {
     "data": {
      "text/html": [
       "Find logs at: <code>./wandb/run-20220509_042804-9sslwqyl/logs</code>"
      ],
      "text/plain": [
       "<IPython.core.display.HTML object>"
      ]
     },
     "metadata": {},
     "output_type": "display_data"
    },
    {
     "data": {
      "text/html": [
       "Successfully finished last run (ID:9sslwqyl). Initializing new run:<br/>"
      ],
      "text/plain": [
       "<IPython.core.display.HTML object>"
      ]
     },
     "metadata": {},
     "output_type": "display_data"
    },
    {
     "data": {
      "text/html": [
       "wandb version 0.12.16 is available!  To upgrade, please run:\n",
       " $ pip install wandb --upgrade"
      ],
      "text/plain": [
       "<IPython.core.display.HTML object>"
      ]
     },
     "metadata": {},
     "output_type": "display_data"
    },
    {
     "data": {
      "text/html": [
       "Tracking run with wandb version 0.12.11"
      ],
      "text/plain": [
       "<IPython.core.display.HTML object>"
      ]
     },
     "metadata": {},
     "output_type": "display_data"
    },
    {
     "data": {
      "text/html": [
       "Run data is saved locally in <code>/home/yifan/Desktop/genomics/projects/model/wandb/run-20220509_045808-36xc26f3</code>"
      ],
      "text/plain": [
       "<IPython.core.display.HTML object>"
      ]
     },
     "metadata": {},
     "output_type": "display_data"
    },
    {
     "data": {
      "text/html": [
       "Syncing run <strong><a href=\"https://wandb.ai/fanfanwu9898/02710/runs/36xc26f3\" target=\"_blank\">WEAKRM8</a></strong> to <a href=\"https://wandb.ai/fanfanwu9898/02710\" target=\"_blank\">Weights & Biases</a> (<a href=\"https://wandb.me/run\" target=\"_blank\">docs</a>)<br/>"
      ],
      "text/plain": [
       "<IPython.core.display.HTML object>"
      ]
     },
     "metadata": {},
     "output_type": "display_data"
    },
    {
     "name": "stderr",
     "output_type": "stream",
     "text": [
      "/home/yifan/Desktop/genomics/projects/model/model.py:63: UserWarning: Implicit dimension choice for softmax has been deprecated. Change the call to include dim=X as an argument.\n",
      "  gated_attention = self.softmax(gated_attention)  # torch.Size([1, 13])\n",
      "/home/yifan/Desktop/genomics/projects/model/model.py:63: UserWarning: Implicit dimension choice for softmax has been deprecated. Change the call to include dim=X as an argument.\n",
      "  gated_attention = self.softmax(gated_attention)  # torch.Size([1, 13])\n",
      "/home/yifan/Desktop/genomics/projects/model/model.py:63: UserWarning: Implicit dimension choice for softmax has been deprecated. Change the call to include dim=X as an argument.\n",
      "  gated_attention = self.softmax(gated_attention)  # torch.Size([1, 13])\n",
      "/home/yifan/Desktop/genomics/projects/model/model.py:63: UserWarning: Implicit dimension choice for softmax has been deprecated. Change the call to include dim=X as an argument.\n",
      "  gated_attention = self.softmax(gated_attention)  # torch.Size([1, 13])\n",
      "/home/yifan/Desktop/genomics/projects/model/model.py:63: UserWarning: Implicit dimension choice for softmax has been deprecated. Change the call to include dim=X as an argument.\n",
      "  gated_attention = self.softmax(gated_attention)  # torch.Size([1, 13])\n",
      "/home/yifan/Desktop/genomics/projects/model/model.py:63: UserWarning: Implicit dimension choice for softmax has been deprecated. Change the call to include dim=X as an argument.\n",
      "  gated_attention = self.softmax(gated_attention)  # torch.Size([1, 13])\n",
      "wandb: Network error (ReadTimeout), entering retry loop.\n",
      "/home/yifan/Desktop/genomics/projects/model/model.py:63: UserWarning: Implicit dimension choice for softmax has been deprecated. Change the call to include dim=X as an argument.\n",
      "  gated_attention = self.softmax(gated_attention)  # torch.Size([1, 13])\n",
      "/home/yifan/Desktop/genomics/projects/model/model.py:63: UserWarning: Implicit dimension choice for softmax has been deprecated. Change the call to include dim=X as an argument.\n",
      "  gated_attention = self.softmax(gated_attention)  # torch.Size([1, 13])\n",
      "/home/yifan/Desktop/genomics/projects/model/model.py:63: UserWarning: Implicit dimension choice for softmax has been deprecated. Change the call to include dim=X as an argument.\n",
      "  gated_attention = self.softmax(gated_attention)  # torch.Size([1, 13])\n",
      "/home/yifan/Desktop/genomics/projects/model/model.py:63: UserWarning: Implicit dimension choice for softmax has been deprecated. Change the call to include dim=X as an argument.\n",
      "  gated_attention = self.softmax(gated_attention)  # torch.Size([1, 13])\n",
      "/home/yifan/Desktop/genomics/projects/model/model.py:63: UserWarning: Implicit dimension choice for softmax has been deprecated. Change the call to include dim=X as an argument.\n",
      "  gated_attention = self.softmax(gated_attention)  # torch.Size([1, 13])\n",
      "/home/yifan/Desktop/genomics/projects/model/model.py:63: UserWarning: Implicit dimension choice for softmax has been deprecated. Change the call to include dim=X as an argument.\n",
      "  gated_attention = self.softmax(gated_attention)  # torch.Size([1, 13])\n",
      "/home/yifan/Desktop/genomics/projects/model/model.py:63: UserWarning: Implicit dimension choice for softmax has been deprecated. Change the call to include dim=X as an argument.\n",
      "  gated_attention = self.softmax(gated_attention)  # torch.Size([1, 13])\n",
      "/home/yifan/Desktop/genomics/projects/model/model.py:63: UserWarning: Implicit dimension choice for softmax has been deprecated. Change the call to include dim=X as an argument.\n",
      "  gated_attention = self.softmax(gated_attention)  # torch.Size([1, 13])\n",
      "/home/yifan/Desktop/genomics/projects/model/model.py:63: UserWarning: Implicit dimension choice for softmax has been deprecated. Change the call to include dim=X as an argument.\n",
      "  gated_attention = self.softmax(gated_attention)  # torch.Size([1, 13])\n",
      "/home/yifan/Desktop/genomics/projects/model/model.py:63: UserWarning: Implicit dimension choice for softmax has been deprecated. Change the call to include dim=X as an argument.\n",
      "  gated_attention = self.softmax(gated_attention)  # torch.Size([1, 13])\n",
      "/home/yifan/Desktop/genomics/projects/model/model.py:63: UserWarning: Implicit dimension choice for softmax has been deprecated. Change the call to include dim=X as an argument.\n",
      "  gated_attention = self.softmax(gated_attention)  # torch.Size([1, 13])\n",
      "/home/yifan/Desktop/genomics/projects/model/model.py:63: UserWarning: Implicit dimension choice for softmax has been deprecated. Change the call to include dim=X as an argument.\n",
      "  gated_attention = self.softmax(gated_attention)  # torch.Size([1, 13])\n",
      "/home/yifan/Desktop/genomics/projects/model/model.py:63: UserWarning: Implicit dimension choice for softmax has been deprecated. Change the call to include dim=X as an argument.\n",
      "  gated_attention = self.softmax(gated_attention)  # torch.Size([1, 13])\n",
      "/home/yifan/Desktop/genomics/projects/model/model.py:63: UserWarning: Implicit dimension choice for softmax has been deprecated. Change the call to include dim=X as an argument.\n",
      "  gated_attention = self.softmax(gated_attention)  # torch.Size([1, 13])\n"
     ]
    },
    {
     "name": "stdout",
     "output_type": "stream",
     "text": [
      "start running ../iDeepS/datasets/clip/9_PARCLIP_ELAVL1MNASE_hg19\n"
     ]
    },
    {
     "data": {
      "text/html": [
       "Finishing last run (ID:36xc26f3) before initializing another..."
      ],
      "text/plain": [
       "<IPython.core.display.HTML object>"
      ]
     },
     "metadata": {},
     "output_type": "display_data"
    },
    {
     "name": "stdout",
     "output_type": "stream",
     "text": [
      "\n"
     ]
    },
    {
     "data": {
      "text/html": [
       "Waiting for W&B process to finish... <strong style=\"color:green\">(success).</strong>"
      ],
      "text/plain": [
       "<IPython.core.display.HTML object>"
      ]
     },
     "metadata": {},
     "output_type": "display_data"
    },
    {
     "data": {
      "application/vnd.jupyter.widget-view+json": {
       "model_id": "",
       "version_major": 2,
       "version_minor": 0
      },
      "text/plain": [
       "VBox(children=(Label(value='0.001 MB of 0.001 MB uploaded (0.000 MB deduped)\\r'), FloatProgress(value=1.0, max…"
      ]
     },
     "metadata": {},
     "output_type": "display_data"
    },
    {
     "data": {
      "text/html": [
       "<style>\n",
       "    table.wandb td:nth-child(1) { padding: 0 10px; text-align: right }\n",
       "    .wandb-row { display: flex; flex-direction: row; flex-wrap: wrap; width: 100% }\n",
       "    .wandb-col { display: flex; flex-direction: column; flex-basis: 100%; flex: 1; padding: 10px; }\n",
       "    </style>\n",
       "<div class=\"wandb-row\"><div class=\"wandb-col\"><h3>Run history:</h3><br/><table class=\"wandb\"><tr><td>Test Acc </td><td>▄▁▇▆███████▇▇▇▇▇▇▇▆▆</td></tr><tr><td>Test loss</td><td>▁█▁▁▃▁▁▁▁▁▃▁▁▁▁▁▁▁▁▁</td></tr><tr><td>Train Acc:</td><td>▁▃▃▄▄▄▅▅▅▆▆▇▇▇▇█████</td></tr><tr><td>Train loss:</td><td>█▇▆▆▅▅▅▄▄▄▃▃▂▂▂▁▁▁▁▁</td></tr><tr><td>auROC</td><td>▁▄▅▆▆█▆▆▇▇▆▅▅▄▅▅▄▄▄▄</td></tr><tr><td>lr</td><td>▁▁▁▁▁▁▁▁▁▁▁▁▁▁▁▁▁▁▁▁</td></tr></table><br/></div><div class=\"wandb-col\"><h3>Run summary:</h3><br/><table class=\"wandb\"><tr><td>Test Acc </td><td>87.11</td></tr><tr><td>Test loss</td><td>0.00067</td></tr><tr><td>Train Acc:</td><td>90.78667</td></tr><tr><td>Train loss:</td><td>0.10679</td></tr><tr><td>auROC</td><td>0.92147</td></tr><tr><td>lr</td><td>0.0005</td></tr></table><br/></div></div>"
      ],
      "text/plain": [
       "<IPython.core.display.HTML object>"
      ]
     },
     "metadata": {},
     "output_type": "display_data"
    },
    {
     "data": {
      "text/html": [
       "Synced <strong style=\"color:#cdcd00\">WEAKRM8</strong>: <a href=\"https://wandb.ai/fanfanwu9898/02710/runs/36xc26f3\" target=\"_blank\">https://wandb.ai/fanfanwu9898/02710/runs/36xc26f3</a><br/>Synced 6 W&B file(s), 0 media file(s), 0 artifact file(s) and 0 other file(s)"
      ],
      "text/plain": [
       "<IPython.core.display.HTML object>"
      ]
     },
     "metadata": {},
     "output_type": "display_data"
    },
    {
     "data": {
      "text/html": [
       "Find logs at: <code>./wandb/run-20220509_045808-36xc26f3/logs</code>"
      ],
      "text/plain": [
       "<IPython.core.display.HTML object>"
      ]
     },
     "metadata": {},
     "output_type": "display_data"
    },
    {
     "data": {
      "text/html": [
       "Successfully finished last run (ID:36xc26f3). Initializing new run:<br/>"
      ],
      "text/plain": [
       "<IPython.core.display.HTML object>"
      ]
     },
     "metadata": {},
     "output_type": "display_data"
    },
    {
     "data": {
      "text/html": [
       "wandb version 0.12.16 is available!  To upgrade, please run:\n",
       " $ pip install wandb --upgrade"
      ],
      "text/plain": [
       "<IPython.core.display.HTML object>"
      ]
     },
     "metadata": {},
     "output_type": "display_data"
    },
    {
     "data": {
      "text/html": [
       "Tracking run with wandb version 0.12.11"
      ],
      "text/plain": [
       "<IPython.core.display.HTML object>"
      ]
     },
     "metadata": {},
     "output_type": "display_data"
    },
    {
     "data": {
      "text/html": [
       "Run data is saved locally in <code>/home/yifan/Desktop/genomics/projects/model/wandb/run-20220509_052810-bhrle4dq</code>"
      ],
      "text/plain": [
       "<IPython.core.display.HTML object>"
      ]
     },
     "metadata": {},
     "output_type": "display_data"
    },
    {
     "data": {
      "text/html": [
       "Syncing run <strong><a href=\"https://wandb.ai/fanfanwu9898/02710/runs/bhrle4dq\" target=\"_blank\">WEAKRM9</a></strong> to <a href=\"https://wandb.ai/fanfanwu9898/02710\" target=\"_blank\">Weights & Biases</a> (<a href=\"https://wandb.me/run\" target=\"_blank\">docs</a>)<br/>"
      ],
      "text/plain": [
       "<IPython.core.display.HTML object>"
      ]
     },
     "metadata": {},
     "output_type": "display_data"
    },
    {
     "name": "stderr",
     "output_type": "stream",
     "text": [
      "/home/yifan/Desktop/genomics/projects/model/model.py:63: UserWarning: Implicit dimension choice for softmax has been deprecated. Change the call to include dim=X as an argument.\n",
      "  gated_attention = self.softmax(gated_attention)  # torch.Size([1, 13])\n",
      "/home/yifan/Desktop/genomics/projects/model/model.py:63: UserWarning: Implicit dimension choice for softmax has been deprecated. Change the call to include dim=X as an argument.\n",
      "  gated_attention = self.softmax(gated_attention)  # torch.Size([1, 13])\n",
      "/home/yifan/Desktop/genomics/projects/model/model.py:63: UserWarning: Implicit dimension choice for softmax has been deprecated. Change the call to include dim=X as an argument.\n",
      "  gated_attention = self.softmax(gated_attention)  # torch.Size([1, 13])\n",
      "/home/yifan/Desktop/genomics/projects/model/model.py:63: UserWarning: Implicit dimension choice for softmax has been deprecated. Change the call to include dim=X as an argument.\n",
      "  gated_attention = self.softmax(gated_attention)  # torch.Size([1, 13])\n",
      "/home/yifan/Desktop/genomics/projects/model/model.py:63: UserWarning: Implicit dimension choice for softmax has been deprecated. Change the call to include dim=X as an argument.\n",
      "  gated_attention = self.softmax(gated_attention)  # torch.Size([1, 13])\n",
      "/home/yifan/Desktop/genomics/projects/model/model.py:63: UserWarning: Implicit dimension choice for softmax has been deprecated. Change the call to include dim=X as an argument.\n",
      "  gated_attention = self.softmax(gated_attention)  # torch.Size([1, 13])\n",
      "/home/yifan/Desktop/genomics/projects/model/model.py:63: UserWarning: Implicit dimension choice for softmax has been deprecated. Change the call to include dim=X as an argument.\n",
      "  gated_attention = self.softmax(gated_attention)  # torch.Size([1, 13])\n",
      "/home/yifan/Desktop/genomics/projects/model/model.py:63: UserWarning: Implicit dimension choice for softmax has been deprecated. Change the call to include dim=X as an argument.\n",
      "  gated_attention = self.softmax(gated_attention)  # torch.Size([1, 13])\n",
      "/home/yifan/Desktop/genomics/projects/model/model.py:63: UserWarning: Implicit dimension choice for softmax has been deprecated. Change the call to include dim=X as an argument.\n",
      "  gated_attention = self.softmax(gated_attention)  # torch.Size([1, 13])\n",
      "/home/yifan/Desktop/genomics/projects/model/model.py:63: UserWarning: Implicit dimension choice for softmax has been deprecated. Change the call to include dim=X as an argument.\n",
      "  gated_attention = self.softmax(gated_attention)  # torch.Size([1, 13])\n",
      "/home/yifan/Desktop/genomics/projects/model/model.py:63: UserWarning: Implicit dimension choice for softmax has been deprecated. Change the call to include dim=X as an argument.\n",
      "  gated_attention = self.softmax(gated_attention)  # torch.Size([1, 13])\n",
      "/home/yifan/Desktop/genomics/projects/model/model.py:63: UserWarning: Implicit dimension choice for softmax has been deprecated. Change the call to include dim=X as an argument.\n",
      "  gated_attention = self.softmax(gated_attention)  # torch.Size([1, 13])\n",
      "/home/yifan/Desktop/genomics/projects/model/model.py:63: UserWarning: Implicit dimension choice for softmax has been deprecated. Change the call to include dim=X as an argument.\n",
      "  gated_attention = self.softmax(gated_attention)  # torch.Size([1, 13])\n",
      "/home/yifan/Desktop/genomics/projects/model/model.py:63: UserWarning: Implicit dimension choice for softmax has been deprecated. Change the call to include dim=X as an argument.\n",
      "  gated_attention = self.softmax(gated_attention)  # torch.Size([1, 13])\n",
      "/home/yifan/Desktop/genomics/projects/model/model.py:63: UserWarning: Implicit dimension choice for softmax has been deprecated. Change the call to include dim=X as an argument.\n",
      "  gated_attention = self.softmax(gated_attention)  # torch.Size([1, 13])\n",
      "/home/yifan/Desktop/genomics/projects/model/model.py:63: UserWarning: Implicit dimension choice for softmax has been deprecated. Change the call to include dim=X as an argument.\n",
      "  gated_attention = self.softmax(gated_attention)  # torch.Size([1, 13])\n",
      "/home/yifan/Desktop/genomics/projects/model/model.py:63: UserWarning: Implicit dimension choice for softmax has been deprecated. Change the call to include dim=X as an argument.\n",
      "  gated_attention = self.softmax(gated_attention)  # torch.Size([1, 13])\n",
      "/home/yifan/Desktop/genomics/projects/model/model.py:63: UserWarning: Implicit dimension choice for softmax has been deprecated. Change the call to include dim=X as an argument.\n",
      "  gated_attention = self.softmax(gated_attention)  # torch.Size([1, 13])\n",
      "/home/yifan/Desktop/genomics/projects/model/model.py:63: UserWarning: Implicit dimension choice for softmax has been deprecated. Change the call to include dim=X as an argument.\n",
      "  gated_attention = self.softmax(gated_attention)  # torch.Size([1, 13])\n",
      "/home/yifan/Desktop/genomics/projects/model/model.py:63: UserWarning: Implicit dimension choice for softmax has been deprecated. Change the call to include dim=X as an argument.\n",
      "  gated_attention = self.softmax(gated_attention)  # torch.Size([1, 13])\n",
      "wandb: Network error (ReadTimeout), entering retry loop.\n",
      "wandb: Network error (ReadTimeout), entering retry loop.\n"
     ]
    }
   ],
   "source": [
    "for p in paths:\n",
    "    train(p)"
   ]
  },
  {
   "cell_type": "code",
   "execution_count": null,
   "id": "7988286c-2a13-4301-b9a6-359d2638f27f",
   "metadata": {},
   "outputs": [],
   "source": []
  }
 ],
 "metadata": {
  "accelerator": "GPU",
  "colab": {
   "collapsed_sections": [],
   "name": "main_fanfan.ipynb",
   "provenance": []
  },
  "kernelspec": {
   "display_name": "Python 3 (ipykernel)",
   "language": "python",
   "name": "python3"
  },
  "language_info": {
   "codemirror_mode": {
    "name": "ipython",
    "version": 3
   },
   "file_extension": ".py",
   "mimetype": "text/x-python",
   "name": "python",
   "nbconvert_exporter": "python",
   "pygments_lexer": "ipython3",
   "version": "3.9.7"
  }
 },
 "nbformat": 4,
 "nbformat_minor": 5
}

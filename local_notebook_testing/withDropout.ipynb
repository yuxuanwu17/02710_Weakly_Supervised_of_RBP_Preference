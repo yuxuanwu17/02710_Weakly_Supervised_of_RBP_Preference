{
  "cells": [
    {
      "cell_type": "code",
      "source": [
        "!sudo add-apt-repository -y ppa:alessandro-strada/ppa 2>&1 > /dev/null\n",
        "!sudo apt-get update -qq 2>&1 > /dev/null\n",
        "!sudo apt -y install -qq google-drive-ocamlfuse 2>&1 > /dev/null\n",
        "!google-drive-ocamlfuse\n",
        "\n",
        "!sudo apt-get install -qq w3m # to act as web browser \n",
        "!xdg-settings set default-web-browser w3m.desktop # to set default browser\n",
        "%cd /content\n",
        "!mkdir drive\n",
        "%cd drive\n",
        "!mkdir MyDrive\n",
        "%cd ..\n",
        "%cd ..\n",
        "!google-drive-ocamlfuse /content/drive/MyDrive"
      ],
      "metadata": {
        "colab": {
          "base_uri": "https://localhost:8080/"
        },
        "id": "1_ucA9cBr9OW",
        "outputId": "f75d0d7c-0e73-4ec9-e8f7-9d41f704eb17"
      },
      "id": "1_ucA9cBr9OW",
      "execution_count": 1,
      "outputs": [
        {
          "output_type": "stream",
          "name": "stdout",
          "text": [
            "\n",
            "WARNING: apt does not have a stable CLI interface. Use with caution in scripts.\n",
            "\n",
            "debconf: unable to initialize frontend: Dialog\n",
            "debconf: (No usable dialog-like program is installed, so the dialog based frontend cannot be used. at /usr/share/perl5/Debconf/FrontEnd/Dialog.pm line 76, <> line 1.)\n",
            "debconf: falling back to frontend: Readline\n",
            "debconf: unable to initialize frontend: Readline\n",
            "debconf: (This frontend requires a controlling tty.)\n",
            "debconf: falling back to frontend: Teletype\n",
            "dpkg-preconfigure: unable to re-open stdin: \n",
            "/usr/bin/xdg-open: 851: /usr/bin/xdg-open: www-browser: not found\n",
            "/usr/bin/xdg-open: 851: /usr/bin/xdg-open: links2: not found\n",
            "/usr/bin/xdg-open: 851: /usr/bin/xdg-open: elinks: not found\n",
            "/usr/bin/xdg-open: 851: /usr/bin/xdg-open: links: not found\n",
            "/usr/bin/xdg-open: 851: /usr/bin/xdg-open: lynx: not found\n",
            "/usr/bin/xdg-open: 851: /usr/bin/xdg-open: w3m: not found\n",
            "xdg-open: no method available for opening 'https://accounts.google.com/o/oauth2/auth?client_id=564921029129.apps.googleusercontent.com&redirect_uri=https%3A%2F%2Fgd-ocaml-auth.appspot.com%2Foauth2callback&scope=https%3A%2F%2Fwww.googleapis.com%2Fauth%2Fdrive&response_type=code&access_type=offline&approval_prompt=force&state=oaaWmMyHLcC1yoG0iZjUXaKaa2VM8o8sH2lBcC0fis8'\n",
            "/bin/sh: 1: firefox: not found\n",
            "/bin/sh: 1: google-chrome: not found\n",
            "/bin/sh: 1: chromium-browser: not found\n",
            "/bin/sh: 1: open: not found\n",
            "Cannot retrieve auth tokens.\n",
            "Failure(\"Error opening URL:https://accounts.google.com/o/oauth2/auth?client_id=564921029129.apps.googleusercontent.com&redirect_uri=https%3A%2F%2Fgd-ocaml-auth.appspot.com%2Foauth2callback&scope=https%3A%2F%2Fwww.googleapis.com%2Fauth%2Fdrive&response_type=code&access_type=offline&approval_prompt=force&state=oaaWmMyHLcC1yoG0iZjUXaKaa2VM8o8sH2lBcC0fis8\")\n",
            "debconf: unable to initialize frontend: Dialog\n",
            "debconf: (No usable dialog-like program is installed, so the dialog based frontend cannot be used. at /usr/share/perl5/Debconf/FrontEnd/Dialog.pm line 76, <> line 2.)\n",
            "debconf: falling back to frontend: Readline\n",
            "debconf: unable to initialize frontend: Readline\n",
            "debconf: (This frontend requires a controlling tty.)\n",
            "debconf: falling back to frontend: Teletype\n",
            "dpkg-preconfigure: unable to re-open stdin: \n",
            "Selecting previously unselected package libgpm2:amd64.\n",
            "(Reading database ... 155506 files and directories currently installed.)\n",
            "Preparing to unpack .../libgpm2_1.20.7-5_amd64.deb ...\n",
            "Unpacking libgpm2:amd64 (1.20.7-5) ...\n",
            "Selecting previously unselected package w3m.\n",
            "Preparing to unpack .../w3m_0.5.3-36build1_amd64.deb ...\n",
            "Unpacking w3m (0.5.3-36build1) ...\n",
            "Setting up libgpm2:amd64 (1.20.7-5) ...\n",
            "Setting up w3m (0.5.3-36build1) ...\n",
            "Processing triggers for mime-support (3.60ubuntu1) ...\n",
            "Processing triggers for libc-bin (2.27-3ubuntu1.3) ...\n",
            "/sbin/ldconfig.real: /usr/local/lib/python3.7/dist-packages/ideep4py/lib/libmkldnn.so.0 is not a symbolic link\n",
            "\n",
            "Processing triggers for man-db (2.8.3-2ubuntu0.1) ...\n",
            "/content\n",
            "/content/drive\n",
            "/content\n",
            "/\n",
            "Access token retrieved correctly.\n"
          ]
        }
      ]
    },
    {
      "cell_type": "code",
      "source": [
        "!nvidia-smi"
      ],
      "metadata": {
        "colab": {
          "base_uri": "https://localhost:8080/"
        },
        "id": "nKI_ULaqsB_t",
        "outputId": "f988931f-b80b-4658-8bca-95d2297569e1"
      },
      "id": "nKI_ULaqsB_t",
      "execution_count": 1,
      "outputs": [
        {
          "output_type": "stream",
          "name": "stdout",
          "text": [
            "Thu Apr 21 21:50:56 2022       \n",
            "+-----------------------------------------------------------------------------+\n",
            "| NVIDIA-SMI 460.32.03    Driver Version: 460.32.03    CUDA Version: 11.2     |\n",
            "|-------------------------------+----------------------+----------------------+\n",
            "| GPU  Name        Persistence-M| Bus-Id        Disp.A | Volatile Uncorr. ECC |\n",
            "| Fan  Temp  Perf  Pwr:Usage/Cap|         Memory-Usage | GPU-Util  Compute M. |\n",
            "|                               |                      |               MIG M. |\n",
            "|===============================+======================+======================|\n",
            "|   0  A100-SXM4-40GB      Off  | 00000000:00:04.0 Off |                    0 |\n",
            "| N/A   32C    P0    43W / 400W |      0MiB / 40536MiB |      0%      Default |\n",
            "|                               |                      |             Disabled |\n",
            "+-------------------------------+----------------------+----------------------+\n",
            "                                                                               \n",
            "+-----------------------------------------------------------------------------+\n",
            "| Processes:                                                                  |\n",
            "|  GPU   GI   CI        PID   Type   Process name                  GPU Memory |\n",
            "|        ID   ID                                                   Usage      |\n",
            "|=============================================================================|\n",
            "|  No running processes found                                                 |\n",
            "+-----------------------------------------------------------------------------+\n"
          ]
        }
      ]
    },
    {
      "cell_type": "code",
      "execution_count": 3,
      "id": "722178ed-e1c5-4348-ac97-144cf339b538",
      "metadata": {
        "colab": {
          "base_uri": "https://localhost:8080/",
          "height": 659
        },
        "id": "722178ed-e1c5-4348-ac97-144cf339b538",
        "outputId": "2a4847aa-8670-4320-b8c4-a9cd72bdabc5"
      },
      "outputs": [
        {
          "output_type": "stream",
          "name": "stdout",
          "text": [
            "Requirement already satisfied: wandb in /usr/local/lib/python3.7/dist-packages (0.12.15)\n",
            "Requirement already satisfied: docker-pycreds>=0.4.0 in /usr/local/lib/python3.7/dist-packages (from wandb) (0.4.0)\n",
            "Requirement already satisfied: pathtools in /usr/local/lib/python3.7/dist-packages (from wandb) (0.1.2)\n",
            "Requirement already satisfied: Click!=8.0.0,>=7.0 in /usr/local/lib/python3.7/dist-packages (from wandb) (7.1.2)\n",
            "Requirement already satisfied: protobuf>=3.12.0 in /usr/local/lib/python3.7/dist-packages (from wandb) (3.17.3)\n",
            "Requirement already satisfied: requests<3,>=2.0.0 in /usr/local/lib/python3.7/dist-packages (from wandb) (2.23.0)\n",
            "Requirement already satisfied: python-dateutil>=2.6.1 in /usr/local/lib/python3.7/dist-packages (from wandb) (2.8.2)\n",
            "Requirement already satisfied: setproctitle in /usr/local/lib/python3.7/dist-packages (from wandb) (1.2.3)\n",
            "Requirement already satisfied: GitPython>=1.0.0 in /usr/local/lib/python3.7/dist-packages (from wandb) (3.1.27)\n",
            "Requirement already satisfied: sentry-sdk>=1.0.0 in /usr/local/lib/python3.7/dist-packages (from wandb) (1.5.10)\n",
            "Requirement already satisfied: shortuuid>=0.5.0 in /usr/local/lib/python3.7/dist-packages (from wandb) (1.0.8)\n",
            "Requirement already satisfied: promise<3,>=2.0 in /usr/local/lib/python3.7/dist-packages (from wandb) (2.3)\n",
            "Requirement already satisfied: PyYAML in /usr/local/lib/python3.7/dist-packages (from wandb) (3.13)\n",
            "Requirement already satisfied: six>=1.13.0 in /usr/local/lib/python3.7/dist-packages (from wandb) (1.15.0)\n",
            "Requirement already satisfied: psutil>=5.0.0 in /usr/local/lib/python3.7/dist-packages (from wandb) (5.4.8)\n",
            "Requirement already satisfied: gitdb<5,>=4.0.1 in /usr/local/lib/python3.7/dist-packages (from GitPython>=1.0.0->wandb) (4.0.9)\n",
            "Requirement already satisfied: typing-extensions>=3.7.4.3 in /usr/local/lib/python3.7/dist-packages (from GitPython>=1.0.0->wandb) (4.1.1)\n",
            "Requirement already satisfied: smmap<6,>=3.0.1 in /usr/local/lib/python3.7/dist-packages (from gitdb<5,>=4.0.1->GitPython>=1.0.0->wandb) (5.0.0)\n",
            "Requirement already satisfied: urllib3!=1.25.0,!=1.25.1,<1.26,>=1.21.1 in /usr/local/lib/python3.7/dist-packages (from requests<3,>=2.0.0->wandb) (1.24.3)\n",
            "Requirement already satisfied: idna<3,>=2.5 in /usr/local/lib/python3.7/dist-packages (from requests<3,>=2.0.0->wandb) (2.10)\n",
            "Requirement already satisfied: chardet<4,>=3.0.2 in /usr/local/lib/python3.7/dist-packages (from requests<3,>=2.0.0->wandb) (3.0.4)\n",
            "Requirement already satisfied: certifi>=2017.4.17 in /usr/local/lib/python3.7/dist-packages (from requests<3,>=2.0.0->wandb) (2021.10.8)\n",
            "Requirement already satisfied: torchsummaryX in /usr/local/lib/python3.7/dist-packages (1.3.0)\n",
            "Requirement already satisfied: torch in /usr/local/lib/python3.7/dist-packages (from torchsummaryX) (1.10.0+cu111)\n",
            "Requirement already satisfied: pandas in /usr/local/lib/python3.7/dist-packages (from torchsummaryX) (1.3.5)\n",
            "Requirement already satisfied: numpy in /usr/local/lib/python3.7/dist-packages (from torchsummaryX) (1.21.6)\n",
            "Requirement already satisfied: pytz>=2017.3 in /usr/local/lib/python3.7/dist-packages (from pandas->torchsummaryX) (2022.1)\n",
            "Requirement already satisfied: python-dateutil>=2.7.3 in /usr/local/lib/python3.7/dist-packages (from pandas->torchsummaryX) (2.8.2)\n",
            "Requirement already satisfied: six>=1.5 in /usr/local/lib/python3.7/dist-packages (from python-dateutil>=2.7.3->pandas->torchsummaryX) (1.15.0)\n",
            "Requirement already satisfied: typing-extensions in /usr/local/lib/python3.7/dist-packages (from torch->torchsummaryX) (4.1.1)\n",
            "Requirement already satisfied: pytorch_warmup in /usr/local/lib/python3.7/dist-packages (0.1.0)\n",
            "Requirement already satisfied: torch>=1.1 in /usr/local/lib/python3.7/dist-packages (from pytorch_warmup) (1.10.0+cu111)\n",
            "Requirement already satisfied: typing-extensions in /usr/local/lib/python3.7/dist-packages (from torch>=1.1->pytorch_warmup) (4.1.1)\n"
          ]
        },
        {
          "output_type": "display_data",
          "data": {
            "text/plain": [
              "<IPython.core.display.HTML object>"
            ],
            "text/html": [
              "Tracking run with wandb version 0.12.15"
            ]
          },
          "metadata": {}
        },
        {
          "output_type": "display_data",
          "data": {
            "text/plain": [
              "<IPython.core.display.HTML object>"
            ],
            "text/html": [
              "Run data is saved locally in <code>/content/wandb/run-20220421_215121-2z559hxu</code>"
            ]
          },
          "metadata": {}
        },
        {
          "output_type": "display_data",
          "data": {
            "text/plain": [
              "<IPython.core.display.HTML object>"
            ],
            "text/html": [
              "Syncing run <strong><a href=\"https://wandb.ai/saltedfish/02710/runs/2z559hxu\" target=\"_blank\">weakRM_BCE_dropout</a></strong> to <a href=\"https://wandb.ai/saltedfish/02710\" target=\"_blank\">Weights & Biases</a> (<a href=\"https://wandb.me/run\" target=\"_blank\">docs</a>)<br/>"
            ]
          },
          "metadata": {}
        }
      ],
      "source": [
        "import pandas as pd\n",
        "import numpy as np\n",
        "import torch\n",
        "import torch.nn as nn\n",
        "import torch.nn.functional as F\n",
        "import torch.nn.utils.rnn as rnn_utils\n",
        "from torch.utils.data import DataLoader, Dataset\n",
        "import torch.optim as optim\n",
        "from torch.optim import lr_scheduler\n",
        "import torch.nn.utils as utils\n",
        "import gzip\n",
        "!pip install wandb\n",
        "import os\n",
        "import wandb\n",
        "! pip install torchsummaryX\n",
        "from torchsummaryX import summary\n",
        "!pip install pytorch_warmup\n",
        "import pytorch_warmup as warmup\n",
        "def create_folder(folder_path):\n",
        "    if not os.path.exists(folder_path):\n",
        "        os.mkdir(folder_path)\n",
        "\n",
        "checkpoints_store_path = \"/content/drive/MyDrive/02710_proj/store_checkpoints\"\n",
        "create_folder(checkpoints_store_path)\n",
        "\n",
        "batch_size = 1\n",
        "epochs = 20\n",
        "lr = 1e-3\n",
        "\n",
        "model_id = f\"weakRM_BCE_dropout\"\n",
        "data_path = checkpoints_store_path + model_id\n",
        "create_folder(data_path)\n",
        "\n",
        "\n",
        "wandb.init(project=\"02710\", entity=\"saltedfish\",name=model_id)\n",
        "wandb.config = {\n",
        "  \"learning_rate\": lr,\n",
        "  \"epochs\": epochs,\n",
        "  \"batch_size\": batch_size,\n",
        "}\n"
      ]
    },
    {
      "cell_type": "code",
      "execution_count": 4,
      "id": "68abed00-2d14-40d3-bc0d-c5d304648970",
      "metadata": {
        "colab": {
          "base_uri": "https://localhost:8080/"
        },
        "id": "68abed00-2d14-40d3-bc0d-c5d304648970",
        "outputId": "058f3392-d2bb-4e8f-8edb-e4bc7a8a869d"
      },
      "outputs": [
        {
          "output_type": "stream",
          "name": "stdout",
          "text": [
            "b'> chr1,+,866159,866259; class:0\\n'\n",
            "b'GCCTCGGTCCTGTTCTTCCTGATGCGTGTCTGCTGAGGCCAGGAGCTGGCTTTGGCCCAT\\n'\n",
            "b'GGGCCTGTCCTAGTGGGAGGCCCCAGCATGTTGAGCCAGTA\\n'\n",
            "b'> chr1,+,870491,870591; class:0\\n'\n",
            "b'GGATTGGGCTGAATTAGCAAGAAGAGGAGAAATGAGGGAAGAAAAGAGTTAAATGCATGT\\n'\n",
            "b'TGATTCCAAGCCCCCGCCTGCCGGGGGGACAGCGGGAGGTT\\n'\n",
            "b'> chr1,+,949147,949247; class:0\\n'\n",
            "b'AGGTAAAGGGAGGCCACGGGATGGCGGTGGGCAGCTGGCCTTCTAGTAACGAGCCCTCAG\\n'\n",
            "b'TGCCTTCTGTGCCTGGGGTCCCTGCCGGCGGGATGTAGAGG\\n'\n",
            "b'> chr1,+,949360,949460; class:0\\n'\n"
          ]
        }
      ],
      "source": [
        "a_file = gzip.open(\"/content/drive/MyDrive/iDeepS-master/datasets/clip/10_PARCLIP_ELAVL1A_hg19/30000/training_sample_0/sequences.fa.gz\", \"rb\")\n",
        "contents = a_file.readlines()\n",
        "\n",
        "for i in range(10):\n",
        "    print(contents[i])"
      ]
    },
    {
      "cell_type": "code",
      "execution_count": 5,
      "id": "7e43435b-adb0-4177-9482-accc9759e3ae",
      "metadata": {
        "id": "7e43435b-adb0-4177-9482-accc9759e3ae"
      },
      "outputs": [],
      "source": [
        "def read_file_helper(file_path):\n",
        "    res = []\n",
        "    with gzip.open(file_path, \"rb\") as f:\n",
        "        for line in f.readlines():\n",
        "            line = str(line)[2:-3]\n",
        "            \n",
        "            if line.startswith(\">\"):\n",
        "                indicator = 0\n",
        "                tmp = []\n",
        "                loc, y = line.strip().split(\";\")\n",
        "                chr_num, sign, start, end = loc[2:].split(\",\")\n",
        "                tmp.extend([chr_num, sign, int(start), int(end), y[-1]])\n",
        "            \n",
        "            else:\n",
        "                indicator += 1\n",
        "                tmp.append(line)\n",
        "                if indicator == 2:\n",
        "                    res.append(tmp)\n",
        "    df = pd.DataFrame(res, columns = [\"chr_num\", \"sign\", \"start\", \"end\", \"y\", \"seq_part1\", \"seq_part2\"])\n",
        "    df[\"seq\"] = df[\"seq_part1\"] + df[\"seq_part2\"]\n",
        "    df[\"y\"] = df[\"y\"].astype(int)\n",
        "    return df\n",
        "                \n",
        "\n",
        "def embed(sequence, instance_len, instance_stride):\n",
        "    instance_num = int((len(sequence) - instance_len) / instance_stride) + 1\n",
        "    bag = []\n",
        "    for i in range(instance_num):\n",
        "        instance = sequence[i * instance_stride:i * instance_stride + instance_len]\n",
        "        instance = one_hot_encode(instance)\n",
        "        bag.append(instance)\n",
        "    bag = np.stack(bag).astype(float)\n",
        "    return bag\n",
        "\n",
        "def one_hot_encode(seq):\n",
        "    mapping = dict(zip(\"ACGTN\", range(5)))\n",
        "    seq2 = [mapping[i] for i in seq]\n",
        "    return np.eye(5)[seq2]\n",
        "\n",
        "def create_bag(seqs, instance_len=40, instance_stride=5):\n",
        "    bags = []\n",
        "    for seq in seqs:\n",
        "        bags.append(embed(seq, instance_len, instance_stride)) \n",
        "        \n",
        "    return np.array(bags).astype(float)\n",
        "\n",
        "class LibriSamples(torch.utils.data.Dataset):\n",
        "    def __init__(self, data_path):\n",
        "        df = read_file_helper(data_path)\n",
        "        df[\"seq\"] = df[\"seq_part1\"] + df[\"seq_part2\"]\n",
        "        self.X, self.Y = create_bag(df[\"seq\"]), df[\"y\"].to_numpy()\n",
        "        \n",
        "        assert len(self.X) == len(self.Y)\n",
        "        \n",
        "    def __len__(self):\n",
        "        return len(self.X)\n",
        "\n",
        "    def __getitem__(self, item):\n",
        "        return self.X[item], self.Y[item]"
      ]
    },
    {
      "cell_type": "code",
      "execution_count": 6,
      "id": "33c1f01f-2acb-463a-aaf7-1fc4cc489a85",
      "metadata": {
        "id": "33c1f01f-2acb-463a-aaf7-1fc4cc489a85"
      },
      "outputs": [],
      "source": [
        "train_data_path = \"/content/drive/MyDrive/iDeepS-master/datasets/clip/10_PARCLIP_ELAVL1A_hg19/30000/training_sample_0/sequences.fa.gz\"\n",
        "valid_data_path = \"/content/drive/MyDrive/iDeepS-master/datasets/clip/10_PARCLIP_ELAVL1A_hg19/30000/test_sample_0/sequences.fa.gz\"\n",
        "batch_size = 1\n",
        "\n",
        "train_data = LibriSamples(train_data_path)\n",
        "valid_data = LibriSamples(valid_data_path)\n",
        "\n",
        "train_loader = torch.utils.data.DataLoader(train_data, batch_size = batch_size, shuffle=True)\n",
        "valid_loader = torch.utils.data.DataLoader(valid_data, batch_size = batch_size, shuffle=True)\n",
        "\n",
        "y_num_0 = []\n",
        "y_num_1 = []\n",
        "for x, y in train_loader:\n",
        "    # print(x, y)\n",
        "    if y == 0:\n",
        "      y_num_0.append(y)\n",
        "    else:\n",
        "      y_num_1.append(y)"
      ]
    },
    {
      "cell_type": "code",
      "source": [
        "print(len(y_num_0))\n",
        "print(len(y_num_1))"
      ],
      "metadata": {
        "colab": {
          "base_uri": "https://localhost:8080/"
        },
        "id": "Az8K73pH1svf",
        "outputId": "3b93ecb7-c5b1-4d64-b444-40940e95b860"
      },
      "id": "Az8K73pH1svf",
      "execution_count": 7,
      "outputs": [
        {
          "output_type": "stream",
          "name": "stdout",
          "text": [
            "24000\n",
            "6000\n"
          ]
        }
      ]
    },
    {
      "cell_type": "code",
      "execution_count": 8,
      "id": "6545462a-e06a-4cec-8f74-bf0ce062011b",
      "metadata": {
        "id": "6545462a-e06a-4cec-8f74-bf0ce062011b"
      },
      "outputs": [],
      "source": [
        "class WeakRM(nn.Module):\n",
        "    def __init__(self,training= True):\n",
        "        super().__init__()\n",
        "\n",
        "        self.inst_conv1 = nn.Sequential(\n",
        "            nn.Conv1d(40, 32, kernel_size=15, padding=7, stride=1),\n",
        "            nn.ReLU(),\n",
        "            nn.MaxPool1d(2),\n",
        "        )\n",
        "\n",
        "        self.inst_conv2 = nn.Sequential(\n",
        "            nn.Conv1d(32, 16, kernel_size=5, padding=2, stride=1),\n",
        "            nn.ReLU()\n",
        "        )\n",
        "\n",
        "        self.dropout = nn.Dropout(0.2)\n",
        "\n",
        "        self.attention_v = nn.Sequential(\n",
        "            nn.Linear(32, 128),\n",
        "            nn.Tanh()\n",
        "        )\n",
        "\n",
        "        self.attention_u = nn.Sequential(\n",
        "            nn.Linear(32, 128),\n",
        "            nn.Sigmoid()\n",
        "        )\n",
        "\n",
        "        self.attention_weights = nn.Sequential(\n",
        "            nn.Linear(128, 1),\n",
        "            nn.Softmax()\n",
        "        )\n",
        "\n",
        "        self.cls = nn.Sequential(\n",
        "            nn.Linear(32, 1),\n",
        "            nn.Sigmoid()\n",
        "        )\n",
        "        self.softmax = nn.Softmax()\n",
        "\n",
        "    def forward(self, inputs, training=True, mask=None):\n",
        "        inputs = torch.squeeze(inputs, 0)\n",
        "\n",
        "        inst_conv1 = self.inst_conv1(inputs)  # torch.Size([13, 32])\n",
        "        if training:\n",
        "          inst_conv1 = self.dropout(inst_conv1)\n",
        "        \n",
        "        inst_conv2 = self.inst_conv2(inst_conv1)\n",
        "\n",
        "        inst_features = nn.Flatten()(inst_conv2)\n",
        "        # print(embedding.shape)\n",
        "\n",
        "        attention_v = self.attention_v(inst_features)\n",
        "        attention_u = self.attention_v(inst_features)\n",
        "\n",
        "        # print(attention_u.shape, attention_v.shape)\n",
        "        gated_attention = self.attention_weights(attention_u * attention_v).permute((1, 0))\n",
        "\n",
        "        gated_attention = self.softmax(gated_attention)  # torch.Size([1, 13])\n",
        "\n",
        "        bag_features = torch.matmul(gated_attention, inst_features)\n",
        "        # print(embedding.shape, gated_attention.shape)\n",
        "        bag_probability = self.cls(bag_features)\n",
        "\n",
        "        return bag_probability, gated_attention\n"
      ]
    },
    {
      "cell_type": "code",
      "source": [
        "from tqdm import tqdm\n",
        "from sklearn.metrics import accuracy_score, f1_score, matthews_corrcoef\n",
        "from sklearn.metrics import precision_score, recall_score\n",
        "from sklearn.metrics import roc_auc_score, average_precision_score\n",
        "\n",
        "model = WeakRM().cuda()\n",
        "optimizer = optim.Adam(model.parameters(), lr=lr, weight_decay=0.005)\n",
        "# criterion = nn.BCELoss(weight=torch.tensor([0.8,0.2]))\n",
        "criterion = nn.BCELoss()\n",
        "num_steps = len(train_loader) * epochs\n",
        "scheduler = torch.optim.lr_scheduler.CosineAnnealingLR(optimizer, T_max=num_steps)\n",
        "warmup_scheduler = warmup.RAdamWarmup(optimizer)\n",
        "\n",
        "\n",
        "for epoch in range(1, epochs + 1):\n",
        "    batch_bar = tqdm(total=len(train_loader), dynamic_ncols=True, leave=False, position=0, desc='Train')\n",
        "\n",
        "    num_correct = 0\n",
        "    total_loss = 0\n",
        "\n",
        "    # training samples\n",
        "    # model.train()\n",
        "    for i, (x, y) in enumerate(train_loader):\n",
        "        optimizer.zero_grad()\n",
        "\n",
        "        x = x.float().cuda()\n",
        "        y = y.float().cuda()\n",
        "\n",
        "        # Don't be surprised - we just wrap these two lines to make it work for FP16\n",
        "        outputs,_ = model(x)\n",
        "        # outputs_for_loss = torch.tensor([outputs[0],1-outputs[0]],requires_grad=True).cuda()\n",
        "\n",
        "        # print(outputs)\n",
        "        # print(outputs_for_loss)\n",
        "        # print(\"y file is:\",y.dtype)\n",
        "        # loss = criterion(outputs_for_loss, y.tile(2))\n",
        "        loss = criterion(outputs[0], y)\n",
        "\n",
        "        outputs = torch.tensor([0 if outputs[0][0]<0.5 else 1]).cuda()\n",
        "\n",
        "        num_correct += int((outputs == y).sum())\n",
        "        total_loss += float(loss)\n",
        "\n",
        "        train_acc = 100 * num_correct / ((i + 1) * batch_size)\n",
        "        train_loss = float(total_loss / (i + 1))\n",
        "        \n",
        "        # tqdm lets you add some details so you can monitor training as you train.\n",
        "        batch_bar.set_postfix(\n",
        "            acc=\"{:.04f}%\".format(train_acc),\n",
        "            loss=\"{:.04f}\".format(train_loss),\n",
        "            num_correct=num_correct,\n",
        "            lr=\"{:.04f}\".format(float(optimizer.param_groups[0]['lr'])))\n",
        "\n",
        "        # Another couple things you need for FP16.\n",
        "        loss.backward()  # This is a replacement for loss.backward()\n",
        "        optimizer.step()  # This is a replacement for optimizer.step()\n",
        "        with warmup_scheduler.dampening():\n",
        "            scheduler.step()\n",
        "    \n",
        "        batch_bar.update()  # Update tqdm bar\n",
        "    \n",
        "    batch_bar.close()  # You need this to close the tqdm bar\n",
        "\n",
        "    print_content =\"Epoch {}/{}: Train Acc {:.04f}%, Train Loss {:.04f}, Learning Rate {:.04f} \\n\".format(\n",
        "    epoch,\n",
        "    epochs,\n",
        "    100 * num_correct / (len(train_loader) * batch_size),\n",
        "    float(total_loss / len(train_loader)),\n",
        "    float(optimizer.param_groups[0]['lr']))\n",
        "\n",
        "    print(print_content)\n",
        "\n",
        "    batch_bar = tqdm(total=len(train_loader), dynamic_ncols=True, leave=False, position=0, desc='Eval')\n",
        "\n",
        "    num_correct = 0\n",
        "    total_loss = 0\n",
        "\n",
        "    # eval samples\n",
        "    model.eval()\n",
        "    predictions =[]\n",
        "    label = []\n",
        "    for i, (x, y) in enumerate(valid_loader):\n",
        "        x = x.float().cuda()\n",
        "        y = y.float().cuda()\n",
        "\n",
        "        with torch.no_grad():\n",
        "            outputs,_ = model(x,training=False)\n",
        "\n",
        "        outputs = torch.tensor([0 if outputs[0][0]<0.5 else 1]).cuda()\n",
        "        # print(outputs)\n",
        "\n",
        "        num_correct += int((outputs == y).sum())\n",
        "        total_loss += float(loss)\n",
        "        \n",
        "        predictions.append(outputs.detach().cpu().numpy())\n",
        "        label.append(y.detach().cpu().numpy())\n",
        "\n",
        "\n",
        "        dev_acc = 100 * num_correct / ((i + 1) * batch_size)\n",
        "        dev_loss = float(total_loss / (i + 1))\n",
        "        # print(dev_loss)\n",
        "\n",
        "        # tqdm lets you add some details so you can monitor training as you train.\n",
        "        batch_bar.set_postfix(\n",
        "            acc=\"{:.04f}%\".format(dev_acc),\n",
        "            loss=\"{:.04f}\".format(dev_loss),\n",
        "            num_correct=num_correct,\n",
        "            lr=\"{:.04f}\".format(float(optimizer.param_groups[0]['lr'])))\n",
        "\n",
        "        # Another couple things you need for FP16.\n",
        "        batch_bar.update()  # Update tqdm bar\n",
        "\n",
        "    batch_bar.close()  # You need this to close the tqdm bar\n",
        "\n",
        "\n",
        "    auROC = roc_auc_score(y_true=label, y_score=predictions)\n",
        "\n",
        "    wandb.log({\"Train Acc:\":train_acc, \"Train loss:\": train_loss,\"Test Acc \":dev_acc,\"Test loss\":dev_loss,\"auROC\":auROC,\"lr\":lr})\n",
        "    print(auROC)\n",
        "    print_content =\"Epoch {}/{}: Eval Acc {:.04f}%, Eval auROC {:.04f}%\\n\".format(\n",
        "    epoch,\n",
        "    epochs,\n",
        "    dev_acc,\n",
        "    auROC)\n",
        "    print(print_content)\n",
        "\n"
      ],
      "metadata": {
        "colab": {
          "base_uri": "https://localhost:8080/"
        },
        "id": "ZwbrkD9MtjyT",
        "outputId": "add5ace3-5be1-408e-9c89-0460ec17b9e1"
      },
      "id": "ZwbrkD9MtjyT",
      "execution_count": null,
      "outputs": [
        {
          "output_type": "stream",
          "name": "stderr",
          "text": [
            "Train:   0%|          | 0/30000 [00:00<?, ?it/s]/usr/local/lib/python3.7/dist-packages/torch/nn/modules/container.py:141: UserWarning: Implicit dimension choice for softmax has been deprecated. Change the call to include dim=X as an argument.\n",
            "  input = module(input)\n",
            "/usr/local/lib/python3.7/dist-packages/ipykernel_launcher.py:57: UserWarning: Implicit dimension choice for softmax has been deprecated. Change the call to include dim=X as an argument.\n"
          ]
        },
        {
          "output_type": "stream",
          "name": "stdout",
          "text": [
            "Epoch 1/20: Train Acc 82.3800%, Train Loss 0.3767, Learning Rate 0.0010 \n",
            "\n"
          ]
        },
        {
          "output_type": "stream",
          "name": "stderr",
          "text": [
            ""
          ]
        },
        {
          "output_type": "stream",
          "name": "stdout",
          "text": [
            "0.629375\n",
            "Epoch 1/20: Eval Acc 83.0600%, Eval auROC 0.6294%\n",
            "\n"
          ]
        },
        {
          "output_type": "stream",
          "name": "stderr",
          "text": [
            "Train:   0%|          | 0/30000 [00:00<?, ?it/s]/usr/local/lib/python3.7/dist-packages/torch/nn/modules/container.py:141: UserWarning: Implicit dimension choice for softmax has been deprecated. Change the call to include dim=X as an argument.\n",
            "  input = module(input)\n",
            "/usr/local/lib/python3.7/dist-packages/ipykernel_launcher.py:57: UserWarning: Implicit dimension choice for softmax has been deprecated. Change the call to include dim=X as an argument.\n"
          ]
        },
        {
          "output_type": "stream",
          "name": "stdout",
          "text": [
            "Epoch 2/20: Train Acc 82.8967%, Train Loss 0.3665, Learning Rate 0.0010 \n",
            "\n"
          ]
        },
        {
          "output_type": "stream",
          "name": "stderr",
          "text": [
            ""
          ]
        },
        {
          "output_type": "stream",
          "name": "stdout",
          "text": [
            "0.6875625\n",
            "Epoch 2/20: Eval Acc 84.2100%, Eval auROC 0.6876%\n",
            "\n"
          ]
        },
        {
          "output_type": "stream",
          "name": "stderr",
          "text": [
            "Train:   0%|          | 0/30000 [00:00<?, ?it/s]/usr/local/lib/python3.7/dist-packages/torch/nn/modules/container.py:141: UserWarning: Implicit dimension choice for softmax has been deprecated. Change the call to include dim=X as an argument.\n",
            "  input = module(input)\n",
            "/usr/local/lib/python3.7/dist-packages/ipykernel_launcher.py:57: UserWarning: Implicit dimension choice for softmax has been deprecated. Change the call to include dim=X as an argument.\n"
          ]
        },
        {
          "output_type": "stream",
          "name": "stdout",
          "text": [
            "Epoch 3/20: Train Acc 83.2033%, Train Loss 0.3633, Learning Rate 0.0009 \n",
            "\n"
          ]
        },
        {
          "output_type": "stream",
          "name": "stderr",
          "text": [
            ""
          ]
        },
        {
          "output_type": "stream",
          "name": "stdout",
          "text": [
            "0.7669374999999999\n",
            "Epoch 3/20: Eval Acc 83.5600%, Eval auROC 0.7669%\n",
            "\n"
          ]
        },
        {
          "output_type": "stream",
          "name": "stderr",
          "text": [
            "Train:   0%|          | 0/30000 [00:00<?, ?it/s]/usr/local/lib/python3.7/dist-packages/torch/nn/modules/container.py:141: UserWarning: Implicit dimension choice for softmax has been deprecated. Change the call to include dim=X as an argument.\n",
            "  input = module(input)\n",
            "/usr/local/lib/python3.7/dist-packages/ipykernel_launcher.py:57: UserWarning: Implicit dimension choice for softmax has been deprecated. Change the call to include dim=X as an argument.\n"
          ]
        },
        {
          "output_type": "stream",
          "name": "stdout",
          "text": [
            "Epoch 4/20: Train Acc 83.3533%, Train Loss 0.3604, Learning Rate 0.0009 \n",
            "\n"
          ]
        },
        {
          "output_type": "stream",
          "name": "stderr",
          "text": [
            ""
          ]
        },
        {
          "output_type": "stream",
          "name": "stdout",
          "text": [
            "0.618875\n",
            "Epoch 4/20: Eval Acc 83.0000%, Eval auROC 0.6189%\n",
            "\n"
          ]
        },
        {
          "output_type": "stream",
          "name": "stderr",
          "text": [
            "\rTrain:   0%|          | 0/30000 [00:00<?, ?it/s]/usr/local/lib/python3.7/dist-packages/torch/nn/modules/container.py:141: UserWarning: Implicit dimension choice for softmax has been deprecated. Change the call to include dim=X as an argument.\n",
            "  input = module(input)\n",
            "/usr/local/lib/python3.7/dist-packages/ipykernel_launcher.py:57: UserWarning: Implicit dimension choice for softmax has been deprecated. Change the call to include dim=X as an argument.\n",
            "Train:  63%|██████▎   | 18801/30000 [01:43<01:04, 172.42it/s, acc=83.4167%, loss=0.3566, lr=0.0009, num_correct=15684]"
          ]
        }
      ]
    },
    {
      "cell_type": "code",
      "source": [
        "criterion = nn.BCELoss(weight=torch.tensor([0.8,0.2]))\n",
        "criterion(torch.Tensor())"
      ],
      "metadata": {
        "id": "DcxlffzHy6GU"
      },
      "id": "DcxlffzHy6GU",
      "execution_count": null,
      "outputs": []
    },
    {
      "cell_type": "code",
      "source": [
        "m = nn.Sigmoid()\n",
        "loss = nn.BCELoss(weight=torch.tensor([0.8,0.2]))\n",
        "input = torch.randn(1, requires_grad=True)\n",
        "target = torch.empty(1).random_(2)\n",
        "output = loss(m(input), target)\n",
        "print(m(input))\n",
        "print(target)\n",
        "output.backward()"
      ],
      "metadata": {
        "id": "kX6n-c0RzMT_"
      },
      "id": "kX6n-c0RzMT_",
      "execution_count": null,
      "outputs": []
    },
    {
      "cell_type": "code",
      "source": [
        ""
      ],
      "metadata": {
        "id": "BCZNCJStzMbb"
      },
      "id": "BCZNCJStzMbb",
      "execution_count": null,
      "outputs": []
    },
    {
      "cell_type": "code",
      "execution_count": null,
      "id": "0da7d3ab-88ef-41c7-b57b-2212eef0295e",
      "metadata": {
        "id": "0da7d3ab-88ef-41c7-b57b-2212eef0295e"
      },
      "outputs": [],
      "source": [
        "network = WeakRM().cuda()\n",
        "for x, y in train_loader:\n",
        "    # print(x.permute((0, 1, 3, 2)).shape)\n",
        "    x = x.float().cuda()\n",
        "    # print(x)\n",
        "    output = network(x)\n",
        "    print(output[0].shape, output[1].shape)\n",
        "    break"
      ]
    },
    {
      "cell_type": "code",
      "execution_count": null,
      "id": "3697a5f0-29af-42c7-a661-e84e0eeeebec",
      "metadata": {
        "id": "3697a5f0-29af-42c7-a661-e84e0eeeebec"
      },
      "outputs": [],
      "source": [
        "df = read_file(\"../iDeepS/datasets/clip/1_PARCLIP_AGO1234_hg19/30000/training_sample_0/sequences.fa.gz\")\n",
        "df[\"seq\"] = df[\"seq_part1\"] + df[\"seq_part2\"]\n",
        "a, b = create_bag(df[\"seq\"], df[\"y\"])\n"
      ]
    },
    {
      "cell_type": "code",
      "execution_count": null,
      "id": "20288411-86d0-4ea1-adfb-8fcb2b73474f",
      "metadata": {
        "id": "20288411-86d0-4ea1-adfb-8fcb2b73474f"
      },
      "outputs": [],
      "source": [
        "a.shape"
      ]
    },
    {
      "cell_type": "code",
      "execution_count": null,
      "id": "f5427a37-ac29-4245-895d-f88b0cf8d227",
      "metadata": {
        "id": "f5427a37-ac29-4245-895d-f88b0cf8d227",
        "outputId": "3e779d66-6fa1-41c6-c8a4-2673a9c78031"
      },
      "outputs": [
        {
          "data": {
            "text/plain": [
              "390000"
            ]
          },
          "execution_count": 12,
          "metadata": {},
          "output_type": "execute_result"
        }
      ],
      "source": [
        "len(b)"
      ]
    },
    {
      "cell_type": "code",
      "execution_count": null,
      "id": "fb503342-ccf3-449c-a244-eceaf8550ff3",
      "metadata": {
        "id": "fb503342-ccf3-449c-a244-eceaf8550ff3"
      },
      "outputs": [],
      "source": [
        "df= read_file(\"../iDeepS/datasets/clip/1_PARCLIP_AGO1234_hg19/30000/training_sample_0/sequences.fa.gz\")\n"
      ]
    },
    {
      "cell_type": "code",
      "execution_count": null,
      "id": "0515f506-7f66-44d1-9a72-34ea552b2000",
      "metadata": {
        "id": "0515f506-7f66-44d1-9a72-34ea552b2000",
        "outputId": "163dc6df-f72a-467c-9422-480037911548"
      },
      "outputs": [
        {
          "data": {
            "text/plain": [
              "[1, 1, 1, 1]"
            ]
          },
          "execution_count": 8,
          "metadata": {},
          "output_type": "execute_result"
        }
      ],
      "source": [
        "[1]*4"
      ]
    },
    {
      "cell_type": "code",
      "execution_count": null,
      "id": "ac0ff824-5aec-4ce1-a937-4c76d361c061",
      "metadata": {
        "id": "ac0ff824-5aec-4ce1-a937-4c76d361c061",
        "outputId": "b3ab0f98-c702-4a77-84fb-e5dd7bc4a442"
      },
      "outputs": [
        {
          "data": {
            "text/plain": [
              "101"
            ]
          },
          "execution_count": 48,
          "metadata": {},
          "output_type": "execute_result"
        }
      ],
      "source": [
        "len(df[\"seq\"][0])"
      ]
    },
    {
      "cell_type": "code",
      "execution_count": null,
      "id": "b7410a5c-dbc2-4bf7-82a8-3d4c664c9dc7",
      "metadata": {
        "id": "b7410a5c-dbc2-4bf7-82a8-3d4c664c9dc7",
        "outputId": "9a080e1d-0546-4b1b-a8f3-e33005c5d605"
      },
      "outputs": [
        {
          "data": {
            "text/html": [
              "<div>\n",
              "<style scoped>\n",
              "    .dataframe tbody tr th:only-of-type {\n",
              "        vertical-align: middle;\n",
              "    }\n",
              "\n",
              "    .dataframe tbody tr th {\n",
              "        vertical-align: top;\n",
              "    }\n",
              "\n",
              "    .dataframe thead th {\n",
              "        text-align: right;\n",
              "    }\n",
              "</style>\n",
              "<table border=\"1\" class=\"dataframe\">\n",
              "  <thead>\n",
              "    <tr style=\"text-align: right;\">\n",
              "      <th></th>\n",
              "      <th>chr_num</th>\n",
              "      <th>sign</th>\n",
              "      <th>start</th>\n",
              "      <th>end</th>\n",
              "      <th>seq_part1</th>\n",
              "      <th>seq_part2</th>\n",
              "    </tr>\n",
              "    <tr>\n",
              "      <th>y</th>\n",
              "      <th></th>\n",
              "      <th></th>\n",
              "      <th></th>\n",
              "      <th></th>\n",
              "      <th></th>\n",
              "      <th></th>\n",
              "    </tr>\n",
              "  </thead>\n",
              "  <tbody>\n",
              "    <tr>\n",
              "      <th>0</th>\n",
              "      <td>8000</td>\n",
              "      <td>8000</td>\n",
              "      <td>8000</td>\n",
              "      <td>8000</td>\n",
              "      <td>8000</td>\n",
              "      <td>8000</td>\n",
              "    </tr>\n",
              "    <tr>\n",
              "      <th>1</th>\n",
              "      <td>2000</td>\n",
              "      <td>2000</td>\n",
              "      <td>2000</td>\n",
              "      <td>2000</td>\n",
              "      <td>2000</td>\n",
              "      <td>2000</td>\n",
              "    </tr>\n",
              "  </tbody>\n",
              "</table>\n",
              "</div>"
            ],
            "text/plain": [
              "   chr_num  sign  start   end  seq_part1  seq_part2\n",
              "y                                                  \n",
              "0     8000  8000   8000  8000       8000       8000\n",
              "1     2000  2000   2000  2000       2000       2000"
            ]
          },
          "execution_count": 55,
          "metadata": {},
          "output_type": "execute_result"
        }
      ],
      "source": [
        "df = read_file(\"../iDeepS/datasets/clip/9_PARCLIP_ELAVL1MNASE_hg19/30000/test_sample_0/sequences.fa.gz\")\n",
        "df.groupby(\"y\").count()"
      ]
    },
    {
      "cell_type": "code",
      "execution_count": null,
      "id": "3a8c1680-a75f-49c8-a5cd-ae1aac217b58",
      "metadata": {
        "id": "3a8c1680-a75f-49c8-a5cd-ae1aac217b58"
      },
      "outputs": [],
      "source": [
        ""
      ]
    }
  ],
  "metadata": {
    "kernelspec": {
      "display_name": "Python 3 (ipykernel)",
      "language": "python",
      "name": "python3"
    },
    "language_info": {
      "codemirror_mode": {
        "name": "ipython",
        "version": 3
      },
      "file_extension": ".py",
      "mimetype": "text/x-python",
      "name": "python",
      "nbconvert_exporter": "python",
      "pygments_lexer": "ipython3",
      "version": "3.9.7"
    },
    "colab": {
      "name": "main_fanfan.ipynb",
      "provenance": []
    },
    "accelerator": "GPU"
  },
  "nbformat": 4,
  "nbformat_minor": 5
}